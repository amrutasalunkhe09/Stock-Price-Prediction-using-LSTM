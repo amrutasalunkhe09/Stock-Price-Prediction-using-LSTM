{
 "cells": [
  {
   "cell_type": "markdown",
   "metadata": {
    "id": "ox2JO1iuOInd"
   },
   "source": [
    "# **LSTM: Stock Prediction**\n",
    "\n",
    "* **1.) What was the change in price of the stock over time?**\n",
    "* **2.) What was the daily return of the stock on average?**\n",
    "* **3.) What was the moving average of the various stocks?**\n",
    "* **4.) What was the correlation between different stocks'?**\n",
    "* **5.) How much value do we put at risk by investing in a particular stock?**\n",
    "* **6.) How can we attempt to predict future stock behavior? (Predicting the closing price stock price of APPLE inc using LSTM)**"
   ]
  },
  {
   "cell_type": "markdown",
   "metadata": {
    "id": "jZ8n0urJO9Ln"
   },
   "source": [
    "<hr>\n",
    "\n",
    "# **Step 1 - Importing the libraries**"
   ]
  },
  {
   "cell_type": "markdown",
   "metadata": {
    "id": "-G-wqMSuPDy1"
   },
   "source": [
    "**Configuration Libraries**"
   ]
  },
  {
   "cell_type": "code",
   "execution_count": 4,
   "metadata": {
    "id": "VVsGMF95PNI5"
   },
   "outputs": [],
   "source": [
    "import warnings\n",
    "from datetime import datetime\n",
    "warnings.filterwarnings('ignore')"
   ]
  },
  {
   "cell_type": "markdown",
   "metadata": {
    "id": "fenLEGfxPTK0"
   },
   "source": [
    "**Common Libraries**"
   ]
  },
  {
   "cell_type": "code",
   "execution_count": 5,
   "metadata": {
    "id": "q1RmnaPgPR9Z"
   },
   "outputs": [],
   "source": [
    "import numpy as np\n",
    "import pandas as pd\n",
    "import seaborn as sns\n",
    "import plotly.express as px\n",
    "import matplotlib.pyplot as plt"
   ]
  },
  {
   "cell_type": "markdown",
   "metadata": {
    "id": "1o1FEUIMPi5u"
   },
   "source": [
    "**Machine Learning Libraries**"
   ]
  },
  {
   "cell_type": "code",
   "execution_count": 6,
   "metadata": {
    "id": "1xuKvB1_PgAS"
   },
   "outputs": [],
   "source": [
    "from sklearn.metrics import *\n",
    "from keras.models import Sequential\n",
    "from keras.layers import LSTM, Dense\n",
    "from sklearn.preprocessing import MinMaxScaler"
   ]
  },
  {
   "cell_type": "markdown",
   "metadata": {
    "id": "x2domwbHP_hM"
   },
   "source": [
    "<hr>\n",
    "\n",
    "# **Step 2 - Data Gathering Phase**"
   ]
  },
  {
   "cell_type": "markdown",
   "metadata": {
    "id": "WsQ2i75nQFJL"
   },
   "source": [
    "**We need our stock API**"
   ]
  },
  {
   "cell_type": "code",
   "execution_count": 7,
   "metadata": {
    "colab": {
     "base_uri": "https://localhost:8080/"
    },
    "id": "Bu211RmoPzmC",
    "outputId": "e37f8d9f-736f-4e5e-94d7-be7e49773f66"
   },
   "outputs": [
    {
     "name": "stdout",
     "output_type": "stream",
     "text": [
      "Requirement already satisfied: yfinance in /usr/local/lib/python3.10/dist-packages (0.2.49)\n",
      "Requirement already satisfied: pandas>=1.3.0 in /usr/local/lib/python3.10/dist-packages (from yfinance) (2.2.2)\n",
      "Requirement already satisfied: numpy>=1.16.5 in /usr/local/lib/python3.10/dist-packages (from yfinance) (1.26.4)\n",
      "Requirement already satisfied: requests>=2.31 in /usr/local/lib/python3.10/dist-packages (from yfinance) (2.32.3)\n",
      "Requirement already satisfied: multitasking>=0.0.7 in /usr/local/lib/python3.10/dist-packages (from yfinance) (0.0.11)\n",
      "Requirement already satisfied: lxml>=4.9.1 in /usr/local/lib/python3.10/dist-packages (from yfinance) (5.3.0)\n",
      "Requirement already satisfied: platformdirs>=2.0.0 in /usr/local/lib/python3.10/dist-packages (from yfinance) (4.3.6)\n",
      "Requirement already satisfied: pytz>=2022.5 in /usr/local/lib/python3.10/dist-packages (from yfinance) (2024.2)\n",
      "Requirement already satisfied: frozendict>=2.3.4 in /usr/local/lib/python3.10/dist-packages (from yfinance) (2.4.6)\n",
      "Requirement already satisfied: peewee>=3.16.2 in /usr/local/lib/python3.10/dist-packages (from yfinance) (3.17.8)\n",
      "Requirement already satisfied: beautifulsoup4>=4.11.1 in /usr/local/lib/python3.10/dist-packages (from yfinance) (4.12.3)\n",
      "Requirement already satisfied: html5lib>=1.1 in /usr/local/lib/python3.10/dist-packages (from yfinance) (1.1)\n",
      "Requirement already satisfied: soupsieve>1.2 in /usr/local/lib/python3.10/dist-packages (from beautifulsoup4>=4.11.1->yfinance) (2.6)\n",
      "Requirement already satisfied: six>=1.9 in /usr/local/lib/python3.10/dist-packages (from html5lib>=1.1->yfinance) (1.16.0)\n",
      "Requirement already satisfied: webencodings in /usr/local/lib/python3.10/dist-packages (from html5lib>=1.1->yfinance) (0.5.1)\n",
      "Requirement already satisfied: python-dateutil>=2.8.2 in /usr/local/lib/python3.10/dist-packages (from pandas>=1.3.0->yfinance) (2.8.2)\n",
      "Requirement already satisfied: tzdata>=2022.7 in /usr/local/lib/python3.10/dist-packages (from pandas>=1.3.0->yfinance) (2024.2)\n",
      "Requirement already satisfied: charset-normalizer<4,>=2 in /usr/local/lib/python3.10/dist-packages (from requests>=2.31->yfinance) (3.4.0)\n",
      "Requirement already satisfied: idna<4,>=2.5 in /usr/local/lib/python3.10/dist-packages (from requests>=2.31->yfinance) (3.10)\n",
      "Requirement already satisfied: urllib3<3,>=1.21.1 in /usr/local/lib/python3.10/dist-packages (from requests>=2.31->yfinance) (2.2.3)\n",
      "Requirement already satisfied: certifi>=2017.4.17 in /usr/local/lib/python3.10/dist-packages (from requests>=2.31->yfinance) (2024.8.30)\n"
     ]
    }
   ],
   "source": [
    "!pip install yfinance # IN CASE THIS ERROR, TRY UPDATING THE IDE THAT YOU ARE USING"
   ]
  },
  {
   "cell_type": "code",
   "execution_count": 8,
   "metadata": {
    "id": "kC66UGoPQUE6"
   },
   "outputs": [],
   "source": [
    "import yfinance as yf #API An API (Application Programming Interface) is like a messenger between two applications. It allows them to talk to each other and exchange information.\n",
    "#You send a request to an API for specific data or actions.\n",
    "#The API sends back the response—like weather information, social media posts, or predictions from a machine learning model."
   ]
  },
  {
   "cell_type": "markdown",
   "metadata": {
    "id": "LY5F-cdPQfcR"
   },
   "source": [
    "<hr>\n",
    "\n",
    "**Grasp the data from the API**"
   ]
  },
  {
   "cell_type": "code",
   "execution_count": 9,
   "metadata": {
    "id": "xj1ifoZNQYrF"
   },
   "outputs": [],
   "source": [
    "data = yf.Ticker(\"AAPL\") #Ticker access stock market data for a specific company aapl is apple share"
   ]
  },
  {
   "cell_type": "code",
   "execution_count": 10,
   "metadata": {
    "colab": {
     "base_uri": "https://localhost:8080/"
    },
    "id": "3Qis30pYfpwu",
    "outputId": "ec34b492-17e3-40d4-a725-04b882b00f22"
   },
   "outputs": [
    {
     "data": {
      "text/plain": [
       "yfinance.Ticker object <AAPL>"
      ]
     },
     "execution_count": 10,
     "metadata": {},
     "output_type": "execute_result"
    }
   ],
   "source": [
    "data #we can only see object heere not data for that use history"
   ]
  },
  {
   "cell_type": "markdown",
   "metadata": {
    "id": "FYVCbED-Q4ob"
   },
   "source": [
    "**I need to also distribute the data based on a data**"
   ]
  },
  {
   "cell_type": "code",
   "execution_count": 11,
   "metadata": {
    "id": "4Q0eAROXQ24J"
   },
   "outputs": [],
   "source": [
    "hist = data.history(period = \"1mo\") #extract data on a periodic basis  #1month period data history"
   ]
  },
  {
   "cell_type": "code",
   "execution_count": 12,
   "metadata": {
    "colab": {
     "base_uri": "https://localhost:8080/",
     "height": 802
    },
    "id": "8f0aSrpVRJ_K",
    "outputId": "6386d416-cad1-4ce9-ce01-5e06a76f4377"
   },
   "outputs": [
    {
     "data": {
      "application/vnd.google.colaboratory.intrinsic+json": {
       "summary": "{\n  \"name\": \"hist\",\n  \"rows\": 23,\n  \"fields\": [\n    {\n      \"column\": \"Date\",\n      \"properties\": {\n        \"dtype\": \"date\",\n        \"min\": \"2024-10-28 00:00:00-04:00\",\n        \"max\": \"2024-11-27 00:00:00-05:00\",\n        \"num_unique_values\": 23,\n        \"samples\": [\n          \"2024-11-18 00:00:00-05:00\",\n          \"2024-11-08 00:00:00-05:00\",\n          \"2024-10-28 00:00:00-04:00\"\n        ],\n        \"semantic_type\": \"\",\n        \"description\": \"\"\n      }\n    },\n    {\n      \"column\": \"Open\",\n      \"properties\": {\n        \"dtype\": \"number\",\n        \"std\": 4.195368979644784,\n        \"min\": 220.72715344034327,\n        \"max\": 234.47000122070312,\n        \"num_unique_values\": 22,\n        \"samples\": [\n          233.06359498314518,\n          225.02000427246094,\n          224.38313701629485\n        ],\n        \"semantic_type\": \"\",\n        \"description\": \"\"\n      }\n    },\n    {\n      \"column\": \"High\",\n      \"properties\": {\n        \"dtype\": \"number\",\n        \"std\": 3.7791977136661195,\n        \"min\": 222.54514803369162,\n        \"max\": 235.69000244140625,\n        \"num_unique_values\": 22,\n        \"samples\": [\n          234.472033847566,\n          228.8699951171875,\n          227.629565273657\n        ],\n        \"semantic_type\": \"\",\n        \"description\": \"\"\n      }\n    },\n    {\n      \"column\": \"Low\",\n      \"properties\": {\n        \"dtype\": \"number\",\n        \"std\": 4.246162815441183,\n        \"min\": 219.46854635353304,\n        \"max\": 233.80999755859375,\n        \"num_unique_values\": 23,\n        \"samples\": [\n          225.1699981689453,\n          226.41000366210938,\n          232.29443692443334\n        ],\n        \"semantic_type\": \"\",\n        \"description\": \"\"\n      }\n    },\n    {\n      \"column\": \"Close\",\n      \"properties\": {\n        \"dtype\": \"number\",\n        \"std\": 4.0370974277388125,\n        \"min\": 221.76600646972656,\n        \"max\": 235.05999755859375,\n        \"num_unique_values\": 22,\n        \"samples\": [\n          233.14349365234375,\n          225.0,\n          227.22999572753906\n        ],\n        \"semantic_type\": \"\",\n        \"description\": \"\"\n      }\n    },\n    {\n      \"column\": \"Volume\",\n      \"properties\": {\n        \"dtype\": \"number\",\n        \"std\": 13209668,\n        \"min\": 28111300,\n        \"max\": 90152800,\n        \"num_unique_values\": 23,\n        \"samples\": [\n          44686000,\n          38328800,\n          36087100\n        ],\n        \"semantic_type\": \"\",\n        \"description\": \"\"\n      }\n    },\n    {\n      \"column\": \"Dividends\",\n      \"properties\": {\n        \"dtype\": \"number\",\n        \"std\": 0.0521286035142687,\n        \"min\": 0.0,\n        \"max\": 0.25,\n        \"num_unique_values\": 2,\n        \"samples\": [\n          0.25,\n          0.0\n        ],\n        \"semantic_type\": \"\",\n        \"description\": \"\"\n      }\n    },\n    {\n      \"column\": \"Stock Splits\",\n      \"properties\": {\n        \"dtype\": \"number\",\n        \"std\": 0.0,\n        \"min\": 0.0,\n        \"max\": 0.0,\n        \"num_unique_values\": 1,\n        \"samples\": [\n          0.0\n        ],\n        \"semantic_type\": \"\",\n        \"description\": \"\"\n      }\n    }\n  ]\n}",
       "type": "dataframe",
       "variable_name": "hist"
      },
      "text/html": [
       "\n",
       "  <div id=\"df-c397a8f5-2b90-4d8b-8b12-eb11a4f6138d\" class=\"colab-df-container\">\n",
       "    <div>\n",
       "<style scoped>\n",
       "    .dataframe tbody tr th:only-of-type {\n",
       "        vertical-align: middle;\n",
       "    }\n",
       "\n",
       "    .dataframe tbody tr th {\n",
       "        vertical-align: top;\n",
       "    }\n",
       "\n",
       "    .dataframe thead th {\n",
       "        text-align: right;\n",
       "    }\n",
       "</style>\n",
       "<table border=\"1\" class=\"dataframe\">\n",
       "  <thead>\n",
       "    <tr style=\"text-align: right;\">\n",
       "      <th></th>\n",
       "      <th>Open</th>\n",
       "      <th>High</th>\n",
       "      <th>Low</th>\n",
       "      <th>Close</th>\n",
       "      <th>Volume</th>\n",
       "      <th>Dividends</th>\n",
       "      <th>Stock Splits</th>\n",
       "    </tr>\n",
       "    <tr>\n",
       "      <th>Date</th>\n",
       "      <th></th>\n",
       "      <th></th>\n",
       "      <th></th>\n",
       "      <th></th>\n",
       "      <th></th>\n",
       "      <th></th>\n",
       "      <th></th>\n",
       "    </tr>\n",
       "  </thead>\n",
       "  <tbody>\n",
       "    <tr>\n",
       "      <th>2024-10-28 00:00:00-04:00</th>\n",
       "      <td>233.063595</td>\n",
       "      <td>234.472034</td>\n",
       "      <td>232.294437</td>\n",
       "      <td>233.143494</td>\n",
       "      <td>36087100</td>\n",
       "      <td>0.00</td>\n",
       "      <td>0.0</td>\n",
       "    </tr>\n",
       "    <tr>\n",
       "      <th>2024-10-29 00:00:00-04:00</th>\n",
       "      <td>232.843827</td>\n",
       "      <td>234.072471</td>\n",
       "      <td>232.064686</td>\n",
       "      <td>233.413193</td>\n",
       "      <td>35417200</td>\n",
       "      <td>0.00</td>\n",
       "      <td>0.0</td>\n",
       "    </tr>\n",
       "    <tr>\n",
       "      <th>2024-10-30 00:00:00-04:00</th>\n",
       "      <td>232.354358</td>\n",
       "      <td>233.213414</td>\n",
       "      <td>229.297724</td>\n",
       "      <td>229.847122</td>\n",
       "      <td>47070900</td>\n",
       "      <td>0.00</td>\n",
       "      <td>0.0</td>\n",
       "    </tr>\n",
       "    <tr>\n",
       "      <th>2024-10-31 00:00:00-04:00</th>\n",
       "      <td>229.087951</td>\n",
       "      <td>229.577418</td>\n",
       "      <td>225.122313</td>\n",
       "      <td>225.661728</td>\n",
       "      <td>64370100</td>\n",
       "      <td>0.00</td>\n",
       "      <td>0.0</td>\n",
       "    </tr>\n",
       "    <tr>\n",
       "      <th>2024-11-01 00:00:00-04:00</th>\n",
       "      <td>220.727153</td>\n",
       "      <td>225.102345</td>\n",
       "      <td>220.027926</td>\n",
       "      <td>222.665024</td>\n",
       "      <td>65276700</td>\n",
       "      <td>0.00</td>\n",
       "      <td>0.0</td>\n",
       "    </tr>\n",
       "    <tr>\n",
       "      <th>2024-11-04 00:00:00-05:00</th>\n",
       "      <td>220.747138</td>\n",
       "      <td>222.545148</td>\n",
       "      <td>219.468546</td>\n",
       "      <td>221.766006</td>\n",
       "      <td>44944500</td>\n",
       "      <td>0.00</td>\n",
       "      <td>0.0</td>\n",
       "    </tr>\n",
       "    <tr>\n",
       "      <th>2024-11-05 00:00:00-05:00</th>\n",
       "      <td>221.556241</td>\n",
       "      <td>223.703872</td>\n",
       "      <td>220.896963</td>\n",
       "      <td>223.204422</td>\n",
       "      <td>28111300</td>\n",
       "      <td>0.00</td>\n",
       "      <td>0.0</td>\n",
       "    </tr>\n",
       "    <tr>\n",
       "      <th>2024-11-06 00:00:00-05:00</th>\n",
       "      <td>222.365355</td>\n",
       "      <td>225.821559</td>\n",
       "      <td>220.946918</td>\n",
       "      <td>222.475235</td>\n",
       "      <td>54561100</td>\n",
       "      <td>0.00</td>\n",
       "      <td>0.0</td>\n",
       "    </tr>\n",
       "    <tr>\n",
       "      <th>2024-11-07 00:00:00-05:00</th>\n",
       "      <td>224.383137</td>\n",
       "      <td>227.629565</td>\n",
       "      <td>224.323205</td>\n",
       "      <td>227.229996</td>\n",
       "      <td>42137700</td>\n",
       "      <td>0.00</td>\n",
       "      <td>0.0</td>\n",
       "    </tr>\n",
       "    <tr>\n",
       "      <th>2024-11-08 00:00:00-05:00</th>\n",
       "      <td>227.169998</td>\n",
       "      <td>228.660004</td>\n",
       "      <td>226.410004</td>\n",
       "      <td>226.960007</td>\n",
       "      <td>38328800</td>\n",
       "      <td>0.25</td>\n",
       "      <td>0.0</td>\n",
       "    </tr>\n",
       "    <tr>\n",
       "      <th>2024-11-11 00:00:00-05:00</th>\n",
       "      <td>225.000000</td>\n",
       "      <td>225.699997</td>\n",
       "      <td>221.500000</td>\n",
       "      <td>224.229996</td>\n",
       "      <td>42005600</td>\n",
       "      <td>0.00</td>\n",
       "      <td>0.0</td>\n",
       "    </tr>\n",
       "    <tr>\n",
       "      <th>2024-11-12 00:00:00-05:00</th>\n",
       "      <td>224.550003</td>\n",
       "      <td>225.589996</td>\n",
       "      <td>223.360001</td>\n",
       "      <td>224.229996</td>\n",
       "      <td>40398300</td>\n",
       "      <td>0.00</td>\n",
       "      <td>0.0</td>\n",
       "    </tr>\n",
       "    <tr>\n",
       "      <th>2024-11-13 00:00:00-05:00</th>\n",
       "      <td>224.009995</td>\n",
       "      <td>226.649994</td>\n",
       "      <td>222.759995</td>\n",
       "      <td>225.119995</td>\n",
       "      <td>48566200</td>\n",
       "      <td>0.00</td>\n",
       "      <td>0.0</td>\n",
       "    </tr>\n",
       "    <tr>\n",
       "      <th>2024-11-14 00:00:00-05:00</th>\n",
       "      <td>225.020004</td>\n",
       "      <td>228.869995</td>\n",
       "      <td>225.000000</td>\n",
       "      <td>228.220001</td>\n",
       "      <td>44923900</td>\n",
       "      <td>0.00</td>\n",
       "      <td>0.0</td>\n",
       "    </tr>\n",
       "    <tr>\n",
       "      <th>2024-11-15 00:00:00-05:00</th>\n",
       "      <td>226.399994</td>\n",
       "      <td>226.919998</td>\n",
       "      <td>224.270004</td>\n",
       "      <td>225.000000</td>\n",
       "      <td>47923700</td>\n",
       "      <td>0.00</td>\n",
       "      <td>0.0</td>\n",
       "    </tr>\n",
       "    <tr>\n",
       "      <th>2024-11-18 00:00:00-05:00</th>\n",
       "      <td>225.250000</td>\n",
       "      <td>229.740005</td>\n",
       "      <td>225.169998</td>\n",
       "      <td>228.020004</td>\n",
       "      <td>44686000</td>\n",
       "      <td>0.00</td>\n",
       "      <td>0.0</td>\n",
       "    </tr>\n",
       "    <tr>\n",
       "      <th>2024-11-19 00:00:00-05:00</th>\n",
       "      <td>226.979996</td>\n",
       "      <td>230.160004</td>\n",
       "      <td>226.660004</td>\n",
       "      <td>228.279999</td>\n",
       "      <td>36211800</td>\n",
       "      <td>0.00</td>\n",
       "      <td>0.0</td>\n",
       "    </tr>\n",
       "    <tr>\n",
       "      <th>2024-11-20 00:00:00-05:00</th>\n",
       "      <td>228.059998</td>\n",
       "      <td>229.929993</td>\n",
       "      <td>225.889999</td>\n",
       "      <td>229.000000</td>\n",
       "      <td>35169600</td>\n",
       "      <td>0.00</td>\n",
       "      <td>0.0</td>\n",
       "    </tr>\n",
       "    <tr>\n",
       "      <th>2024-11-21 00:00:00-05:00</th>\n",
       "      <td>228.880005</td>\n",
       "      <td>230.160004</td>\n",
       "      <td>225.710007</td>\n",
       "      <td>228.520004</td>\n",
       "      <td>42108300</td>\n",
       "      <td>0.00</td>\n",
       "      <td>0.0</td>\n",
       "    </tr>\n",
       "    <tr>\n",
       "      <th>2024-11-22 00:00:00-05:00</th>\n",
       "      <td>228.059998</td>\n",
       "      <td>230.720001</td>\n",
       "      <td>228.059998</td>\n",
       "      <td>229.869995</td>\n",
       "      <td>38168300</td>\n",
       "      <td>0.00</td>\n",
       "      <td>0.0</td>\n",
       "    </tr>\n",
       "    <tr>\n",
       "      <th>2024-11-25 00:00:00-05:00</th>\n",
       "      <td>231.460007</td>\n",
       "      <td>233.250000</td>\n",
       "      <td>229.740005</td>\n",
       "      <td>232.869995</td>\n",
       "      <td>90152800</td>\n",
       "      <td>0.00</td>\n",
       "      <td>0.0</td>\n",
       "    </tr>\n",
       "    <tr>\n",
       "      <th>2024-11-26 00:00:00-05:00</th>\n",
       "      <td>233.330002</td>\n",
       "      <td>235.570007</td>\n",
       "      <td>233.330002</td>\n",
       "      <td>235.059998</td>\n",
       "      <td>45986200</td>\n",
       "      <td>0.00</td>\n",
       "      <td>0.0</td>\n",
       "    </tr>\n",
       "    <tr>\n",
       "      <th>2024-11-27 00:00:00-05:00</th>\n",
       "      <td>234.470001</td>\n",
       "      <td>235.690002</td>\n",
       "      <td>233.809998</td>\n",
       "      <td>234.929993</td>\n",
       "      <td>33475000</td>\n",
       "      <td>0.00</td>\n",
       "      <td>0.0</td>\n",
       "    </tr>\n",
       "  </tbody>\n",
       "</table>\n",
       "</div>\n",
       "    <div class=\"colab-df-buttons\">\n",
       "\n",
       "  <div class=\"colab-df-container\">\n",
       "    <button class=\"colab-df-convert\" onclick=\"convertToInteractive('df-c397a8f5-2b90-4d8b-8b12-eb11a4f6138d')\"\n",
       "            title=\"Convert this dataframe to an interactive table.\"\n",
       "            style=\"display:none;\">\n",
       "\n",
       "  <svg xmlns=\"http://www.w3.org/2000/svg\" height=\"24px\" viewBox=\"0 -960 960 960\">\n",
       "    <path d=\"M120-120v-720h720v720H120Zm60-500h600v-160H180v160Zm220 220h160v-160H400v160Zm0 220h160v-160H400v160ZM180-400h160v-160H180v160Zm440 0h160v-160H620v160ZM180-180h160v-160H180v160Zm440 0h160v-160H620v160Z\"/>\n",
       "  </svg>\n",
       "    </button>\n",
       "\n",
       "  <style>\n",
       "    .colab-df-container {\n",
       "      display:flex;\n",
       "      gap: 12px;\n",
       "    }\n",
       "\n",
       "    .colab-df-convert {\n",
       "      background-color: #E8F0FE;\n",
       "      border: none;\n",
       "      border-radius: 50%;\n",
       "      cursor: pointer;\n",
       "      display: none;\n",
       "      fill: #1967D2;\n",
       "      height: 32px;\n",
       "      padding: 0 0 0 0;\n",
       "      width: 32px;\n",
       "    }\n",
       "\n",
       "    .colab-df-convert:hover {\n",
       "      background-color: #E2EBFA;\n",
       "      box-shadow: 0px 1px 2px rgba(60, 64, 67, 0.3), 0px 1px 3px 1px rgba(60, 64, 67, 0.15);\n",
       "      fill: #174EA6;\n",
       "    }\n",
       "\n",
       "    .colab-df-buttons div {\n",
       "      margin-bottom: 4px;\n",
       "    }\n",
       "\n",
       "    [theme=dark] .colab-df-convert {\n",
       "      background-color: #3B4455;\n",
       "      fill: #D2E3FC;\n",
       "    }\n",
       "\n",
       "    [theme=dark] .colab-df-convert:hover {\n",
       "      background-color: #434B5C;\n",
       "      box-shadow: 0px 1px 3px 1px rgba(0, 0, 0, 0.15);\n",
       "      filter: drop-shadow(0px 1px 2px rgba(0, 0, 0, 0.3));\n",
       "      fill: #FFFFFF;\n",
       "    }\n",
       "  </style>\n",
       "\n",
       "    <script>\n",
       "      const buttonEl =\n",
       "        document.querySelector('#df-c397a8f5-2b90-4d8b-8b12-eb11a4f6138d button.colab-df-convert');\n",
       "      buttonEl.style.display =\n",
       "        google.colab.kernel.accessAllowed ? 'block' : 'none';\n",
       "\n",
       "      async function convertToInteractive(key) {\n",
       "        const element = document.querySelector('#df-c397a8f5-2b90-4d8b-8b12-eb11a4f6138d');\n",
       "        const dataTable =\n",
       "          await google.colab.kernel.invokeFunction('convertToInteractive',\n",
       "                                                    [key], {});\n",
       "        if (!dataTable) return;\n",
       "\n",
       "        const docLinkHtml = 'Like what you see? Visit the ' +\n",
       "          '<a target=\"_blank\" href=https://colab.research.google.com/notebooks/data_table.ipynb>data table notebook</a>'\n",
       "          + ' to learn more about interactive tables.';\n",
       "        element.innerHTML = '';\n",
       "        dataTable['output_type'] = 'display_data';\n",
       "        await google.colab.output.renderOutput(dataTable, element);\n",
       "        const docLink = document.createElement('div');\n",
       "        docLink.innerHTML = docLinkHtml;\n",
       "        element.appendChild(docLink);\n",
       "      }\n",
       "    </script>\n",
       "  </div>\n",
       "\n",
       "\n",
       "<div id=\"df-9342e532-fcb8-4e91-9c79-b7cf5c95de23\">\n",
       "  <button class=\"colab-df-quickchart\" onclick=\"quickchart('df-9342e532-fcb8-4e91-9c79-b7cf5c95de23')\"\n",
       "            title=\"Suggest charts\"\n",
       "            style=\"display:none;\">\n",
       "\n",
       "<svg xmlns=\"http://www.w3.org/2000/svg\" height=\"24px\"viewBox=\"0 0 24 24\"\n",
       "     width=\"24px\">\n",
       "    <g>\n",
       "        <path d=\"M19 3H5c-1.1 0-2 .9-2 2v14c0 1.1.9 2 2 2h14c1.1 0 2-.9 2-2V5c0-1.1-.9-2-2-2zM9 17H7v-7h2v7zm4 0h-2V7h2v10zm4 0h-2v-4h2v4z\"/>\n",
       "    </g>\n",
       "</svg>\n",
       "  </button>\n",
       "\n",
       "<style>\n",
       "  .colab-df-quickchart {\n",
       "      --bg-color: #E8F0FE;\n",
       "      --fill-color: #1967D2;\n",
       "      --hover-bg-color: #E2EBFA;\n",
       "      --hover-fill-color: #174EA6;\n",
       "      --disabled-fill-color: #AAA;\n",
       "      --disabled-bg-color: #DDD;\n",
       "  }\n",
       "\n",
       "  [theme=dark] .colab-df-quickchart {\n",
       "      --bg-color: #3B4455;\n",
       "      --fill-color: #D2E3FC;\n",
       "      --hover-bg-color: #434B5C;\n",
       "      --hover-fill-color: #FFFFFF;\n",
       "      --disabled-bg-color: #3B4455;\n",
       "      --disabled-fill-color: #666;\n",
       "  }\n",
       "\n",
       "  .colab-df-quickchart {\n",
       "    background-color: var(--bg-color);\n",
       "    border: none;\n",
       "    border-radius: 50%;\n",
       "    cursor: pointer;\n",
       "    display: none;\n",
       "    fill: var(--fill-color);\n",
       "    height: 32px;\n",
       "    padding: 0;\n",
       "    width: 32px;\n",
       "  }\n",
       "\n",
       "  .colab-df-quickchart:hover {\n",
       "    background-color: var(--hover-bg-color);\n",
       "    box-shadow: 0 1px 2px rgba(60, 64, 67, 0.3), 0 1px 3px 1px rgba(60, 64, 67, 0.15);\n",
       "    fill: var(--button-hover-fill-color);\n",
       "  }\n",
       "\n",
       "  .colab-df-quickchart-complete:disabled,\n",
       "  .colab-df-quickchart-complete:disabled:hover {\n",
       "    background-color: var(--disabled-bg-color);\n",
       "    fill: var(--disabled-fill-color);\n",
       "    box-shadow: none;\n",
       "  }\n",
       "\n",
       "  .colab-df-spinner {\n",
       "    border: 2px solid var(--fill-color);\n",
       "    border-color: transparent;\n",
       "    border-bottom-color: var(--fill-color);\n",
       "    animation:\n",
       "      spin 1s steps(1) infinite;\n",
       "  }\n",
       "\n",
       "  @keyframes spin {\n",
       "    0% {\n",
       "      border-color: transparent;\n",
       "      border-bottom-color: var(--fill-color);\n",
       "      border-left-color: var(--fill-color);\n",
       "    }\n",
       "    20% {\n",
       "      border-color: transparent;\n",
       "      border-left-color: var(--fill-color);\n",
       "      border-top-color: var(--fill-color);\n",
       "    }\n",
       "    30% {\n",
       "      border-color: transparent;\n",
       "      border-left-color: var(--fill-color);\n",
       "      border-top-color: var(--fill-color);\n",
       "      border-right-color: var(--fill-color);\n",
       "    }\n",
       "    40% {\n",
       "      border-color: transparent;\n",
       "      border-right-color: var(--fill-color);\n",
       "      border-top-color: var(--fill-color);\n",
       "    }\n",
       "    60% {\n",
       "      border-color: transparent;\n",
       "      border-right-color: var(--fill-color);\n",
       "    }\n",
       "    80% {\n",
       "      border-color: transparent;\n",
       "      border-right-color: var(--fill-color);\n",
       "      border-bottom-color: var(--fill-color);\n",
       "    }\n",
       "    90% {\n",
       "      border-color: transparent;\n",
       "      border-bottom-color: var(--fill-color);\n",
       "    }\n",
       "  }\n",
       "</style>\n",
       "\n",
       "  <script>\n",
       "    async function quickchart(key) {\n",
       "      const quickchartButtonEl =\n",
       "        document.querySelector('#' + key + ' button');\n",
       "      quickchartButtonEl.disabled = true;  // To prevent multiple clicks.\n",
       "      quickchartButtonEl.classList.add('colab-df-spinner');\n",
       "      try {\n",
       "        const charts = await google.colab.kernel.invokeFunction(\n",
       "            'suggestCharts', [key], {});\n",
       "      } catch (error) {\n",
       "        console.error('Error during call to suggestCharts:', error);\n",
       "      }\n",
       "      quickchartButtonEl.classList.remove('colab-df-spinner');\n",
       "      quickchartButtonEl.classList.add('colab-df-quickchart-complete');\n",
       "    }\n",
       "    (() => {\n",
       "      let quickchartButtonEl =\n",
       "        document.querySelector('#df-9342e532-fcb8-4e91-9c79-b7cf5c95de23 button');\n",
       "      quickchartButtonEl.style.display =\n",
       "        google.colab.kernel.accessAllowed ? 'block' : 'none';\n",
       "    })();\n",
       "  </script>\n",
       "</div>\n",
       "\n",
       "  <div id=\"id_66979b7c-de6b-4566-87da-205f63759f8f\">\n",
       "    <style>\n",
       "      .colab-df-generate {\n",
       "        background-color: #E8F0FE;\n",
       "        border: none;\n",
       "        border-radius: 50%;\n",
       "        cursor: pointer;\n",
       "        display: none;\n",
       "        fill: #1967D2;\n",
       "        height: 32px;\n",
       "        padding: 0 0 0 0;\n",
       "        width: 32px;\n",
       "      }\n",
       "\n",
       "      .colab-df-generate:hover {\n",
       "        background-color: #E2EBFA;\n",
       "        box-shadow: 0px 1px 2px rgba(60, 64, 67, 0.3), 0px 1px 3px 1px rgba(60, 64, 67, 0.15);\n",
       "        fill: #174EA6;\n",
       "      }\n",
       "\n",
       "      [theme=dark] .colab-df-generate {\n",
       "        background-color: #3B4455;\n",
       "        fill: #D2E3FC;\n",
       "      }\n",
       "\n",
       "      [theme=dark] .colab-df-generate:hover {\n",
       "        background-color: #434B5C;\n",
       "        box-shadow: 0px 1px 3px 1px rgba(0, 0, 0, 0.15);\n",
       "        filter: drop-shadow(0px 1px 2px rgba(0, 0, 0, 0.3));\n",
       "        fill: #FFFFFF;\n",
       "      }\n",
       "    </style>\n",
       "    <button class=\"colab-df-generate\" onclick=\"generateWithVariable('hist')\"\n",
       "            title=\"Generate code using this dataframe.\"\n",
       "            style=\"display:none;\">\n",
       "\n",
       "  <svg xmlns=\"http://www.w3.org/2000/svg\" height=\"24px\"viewBox=\"0 0 24 24\"\n",
       "       width=\"24px\">\n",
       "    <path d=\"M7,19H8.4L18.45,9,17,7.55,7,17.6ZM5,21V16.75L18.45,3.32a2,2,0,0,1,2.83,0l1.4,1.43a1.91,1.91,0,0,1,.58,1.4,1.91,1.91,0,0,1-.58,1.4L9.25,21ZM18.45,9,17,7.55Zm-12,3A5.31,5.31,0,0,0,4.9,8.1,5.31,5.31,0,0,0,1,6.5,5.31,5.31,0,0,0,4.9,4.9,5.31,5.31,0,0,0,6.5,1,5.31,5.31,0,0,0,8.1,4.9,5.31,5.31,0,0,0,12,6.5,5.46,5.46,0,0,0,6.5,12Z\"/>\n",
       "  </svg>\n",
       "    </button>\n",
       "    <script>\n",
       "      (() => {\n",
       "      const buttonEl =\n",
       "        document.querySelector('#id_66979b7c-de6b-4566-87da-205f63759f8f button.colab-df-generate');\n",
       "      buttonEl.style.display =\n",
       "        google.colab.kernel.accessAllowed ? 'block' : 'none';\n",
       "\n",
       "      buttonEl.onclick = () => {\n",
       "        google.colab.notebook.generateWithVariable('hist');\n",
       "      }\n",
       "      })();\n",
       "    </script>\n",
       "  </div>\n",
       "\n",
       "    </div>\n",
       "  </div>\n"
      ],
      "text/plain": [
       "                                 Open        High         Low       Close  \\\n",
       "Date                                                                        \n",
       "2024-10-28 00:00:00-04:00  233.063595  234.472034  232.294437  233.143494   \n",
       "2024-10-29 00:00:00-04:00  232.843827  234.072471  232.064686  233.413193   \n",
       "2024-10-30 00:00:00-04:00  232.354358  233.213414  229.297724  229.847122   \n",
       "2024-10-31 00:00:00-04:00  229.087951  229.577418  225.122313  225.661728   \n",
       "2024-11-01 00:00:00-04:00  220.727153  225.102345  220.027926  222.665024   \n",
       "2024-11-04 00:00:00-05:00  220.747138  222.545148  219.468546  221.766006   \n",
       "2024-11-05 00:00:00-05:00  221.556241  223.703872  220.896963  223.204422   \n",
       "2024-11-06 00:00:00-05:00  222.365355  225.821559  220.946918  222.475235   \n",
       "2024-11-07 00:00:00-05:00  224.383137  227.629565  224.323205  227.229996   \n",
       "2024-11-08 00:00:00-05:00  227.169998  228.660004  226.410004  226.960007   \n",
       "2024-11-11 00:00:00-05:00  225.000000  225.699997  221.500000  224.229996   \n",
       "2024-11-12 00:00:00-05:00  224.550003  225.589996  223.360001  224.229996   \n",
       "2024-11-13 00:00:00-05:00  224.009995  226.649994  222.759995  225.119995   \n",
       "2024-11-14 00:00:00-05:00  225.020004  228.869995  225.000000  228.220001   \n",
       "2024-11-15 00:00:00-05:00  226.399994  226.919998  224.270004  225.000000   \n",
       "2024-11-18 00:00:00-05:00  225.250000  229.740005  225.169998  228.020004   \n",
       "2024-11-19 00:00:00-05:00  226.979996  230.160004  226.660004  228.279999   \n",
       "2024-11-20 00:00:00-05:00  228.059998  229.929993  225.889999  229.000000   \n",
       "2024-11-21 00:00:00-05:00  228.880005  230.160004  225.710007  228.520004   \n",
       "2024-11-22 00:00:00-05:00  228.059998  230.720001  228.059998  229.869995   \n",
       "2024-11-25 00:00:00-05:00  231.460007  233.250000  229.740005  232.869995   \n",
       "2024-11-26 00:00:00-05:00  233.330002  235.570007  233.330002  235.059998   \n",
       "2024-11-27 00:00:00-05:00  234.470001  235.690002  233.809998  234.929993   \n",
       "\n",
       "                             Volume  Dividends  Stock Splits  \n",
       "Date                                                          \n",
       "2024-10-28 00:00:00-04:00  36087100       0.00           0.0  \n",
       "2024-10-29 00:00:00-04:00  35417200       0.00           0.0  \n",
       "2024-10-30 00:00:00-04:00  47070900       0.00           0.0  \n",
       "2024-10-31 00:00:00-04:00  64370100       0.00           0.0  \n",
       "2024-11-01 00:00:00-04:00  65276700       0.00           0.0  \n",
       "2024-11-04 00:00:00-05:00  44944500       0.00           0.0  \n",
       "2024-11-05 00:00:00-05:00  28111300       0.00           0.0  \n",
       "2024-11-06 00:00:00-05:00  54561100       0.00           0.0  \n",
       "2024-11-07 00:00:00-05:00  42137700       0.00           0.0  \n",
       "2024-11-08 00:00:00-05:00  38328800       0.25           0.0  \n",
       "2024-11-11 00:00:00-05:00  42005600       0.00           0.0  \n",
       "2024-11-12 00:00:00-05:00  40398300       0.00           0.0  \n",
       "2024-11-13 00:00:00-05:00  48566200       0.00           0.0  \n",
       "2024-11-14 00:00:00-05:00  44923900       0.00           0.0  \n",
       "2024-11-15 00:00:00-05:00  47923700       0.00           0.0  \n",
       "2024-11-18 00:00:00-05:00  44686000       0.00           0.0  \n",
       "2024-11-19 00:00:00-05:00  36211800       0.00           0.0  \n",
       "2024-11-20 00:00:00-05:00  35169600       0.00           0.0  \n",
       "2024-11-21 00:00:00-05:00  42108300       0.00           0.0  \n",
       "2024-11-22 00:00:00-05:00  38168300       0.00           0.0  \n",
       "2024-11-25 00:00:00-05:00  90152800       0.00           0.0  \n",
       "2024-11-26 00:00:00-05:00  45986200       0.00           0.0  \n",
       "2024-11-27 00:00:00-05:00  33475000       0.00           0.0  "
      ]
     },
     "execution_count": 12,
     "metadata": {},
     "output_type": "execute_result"
    }
   ],
   "source": [
    "hist"
   ]
  },
  {
   "cell_type": "markdown",
   "metadata": {
    "id": "xBh0BpHHRsf5"
   },
   "source": [
    "**Description of the organization using the stock data**"
   ]
  },
  {
   "cell_type": "code",
   "execution_count": 13,
   "metadata": {
    "colab": {
     "base_uri": "https://localhost:8080/"
    },
    "id": "fJcKMyd2RQ4m",
    "outputId": "51622743-cce8-4b4a-9cdb-7885838e445b"
   },
   "outputs": [
    {
     "data": {
      "text/plain": [
       "{'address1': 'One Apple Park Way',\n",
       " 'city': 'Cupertino',\n",
       " 'state': 'CA',\n",
       " 'zip': '95014',\n",
       " 'country': 'United States',\n",
       " 'phone': '(408) 996-1010',\n",
       " 'website': 'https://www.apple.com',\n",
       " 'industry': 'Consumer Electronics',\n",
       " 'industryKey': 'consumer-electronics',\n",
       " 'industryDisp': 'Consumer Electronics',\n",
       " 'sector': 'Technology',\n",
       " 'sectorKey': 'technology',\n",
       " 'sectorDisp': 'Technology',\n",
       " 'longBusinessSummary': 'Apple Inc. designs, manufactures, and markets smartphones, personal computers, tablets, wearables, and accessories worldwide. The company offers iPhone, a line of smartphones; Mac, a line of personal computers; iPad, a line of multi-purpose tablets; and wearables, home, and accessories comprising AirPods, Apple TV, Apple Watch, Beats products, and HomePod. It also provides AppleCare support and cloud services; and operates various platforms, including the App Store that allow customers to discover and download applications and digital content, such as books, music, video, games, and podcasts, as well as advertising services include third-party licensing arrangements and its own advertising platforms. In addition, the company offers various subscription-based services, such as Apple Arcade, a game subscription service; Apple Fitness+, a personalized fitness service; Apple Music, which offers users a curated listening experience with on-demand radio stations; Apple News+, a subscription news and magazine service; Apple TV+, which offers exclusive original content; Apple Card, a co-branded credit card; and Apple Pay, a cashless payment service, as well as licenses its intellectual property. The company serves consumers, and small and mid-sized businesses; and the education, enterprise, and government markets. It distributes third-party applications for its products through the App Store. The company also sells its products through its retail and online stores, and direct sales force; and third-party cellular network carriers, wholesalers, retailers, and resellers. Apple Inc. was founded in 1976 and is headquartered in Cupertino, California.',\n",
       " 'fullTimeEmployees': 164000,\n",
       " 'companyOfficers': [{'maxAge': 1,\n",
       "   'name': 'Mr. Timothy D. Cook',\n",
       "   'age': 62,\n",
       "   'title': 'CEO & Director',\n",
       "   'yearBorn': 1961,\n",
       "   'fiscalYear': 2023,\n",
       "   'totalPay': 16239562,\n",
       "   'exercisedValue': 0,\n",
       "   'unexercisedValue': 0},\n",
       "  {'maxAge': 1,\n",
       "   'name': 'Mr. Luca  Maestri',\n",
       "   'age': 60,\n",
       "   'title': 'CFO & Senior VP',\n",
       "   'yearBorn': 1963,\n",
       "   'fiscalYear': 2023,\n",
       "   'totalPay': 4612242,\n",
       "   'exercisedValue': 0,\n",
       "   'unexercisedValue': 0},\n",
       "  {'maxAge': 1,\n",
       "   'name': 'Ms. Katherine L. Adams',\n",
       "   'age': 59,\n",
       "   'title': 'Senior VP, General Counsel & Secretary',\n",
       "   'yearBorn': 1964,\n",
       "   'fiscalYear': 2023,\n",
       "   'totalPay': 4618064,\n",
       "   'exercisedValue': 0,\n",
       "   'unexercisedValue': 0},\n",
       "  {'maxAge': 1,\n",
       "   'name': \"Ms. Deirdre  O'Brien\",\n",
       "   'age': 56,\n",
       "   'title': 'Chief People Officer & Senior VP of Retail',\n",
       "   'yearBorn': 1967,\n",
       "   'fiscalYear': 2023,\n",
       "   'totalPay': 4613369,\n",
       "   'exercisedValue': 0,\n",
       "   'unexercisedValue': 0},\n",
       "  {'maxAge': 1,\n",
       "   'name': 'Mr. Chris  Kondo',\n",
       "   'title': 'Senior Director of Corporate Accounting',\n",
       "   'fiscalYear': 2023,\n",
       "   'exercisedValue': 0,\n",
       "   'unexercisedValue': 0},\n",
       "  {'maxAge': 1,\n",
       "   'name': 'Suhasini  Chandramouli',\n",
       "   'title': 'Director of Investor Relations',\n",
       "   'fiscalYear': 2023,\n",
       "   'exercisedValue': 0,\n",
       "   'unexercisedValue': 0},\n",
       "  {'maxAge': 1,\n",
       "   'name': 'Mr. Greg  Joswiak',\n",
       "   'title': 'Senior Vice President of Worldwide Marketing',\n",
       "   'fiscalYear': 2023,\n",
       "   'exercisedValue': 0,\n",
       "   'unexercisedValue': 0},\n",
       "  {'maxAge': 1,\n",
       "   'name': 'Mr. Adrian  Perica',\n",
       "   'age': 49,\n",
       "   'title': 'Head of Corporate Development',\n",
       "   'yearBorn': 1974,\n",
       "   'fiscalYear': 2023,\n",
       "   'exercisedValue': 0,\n",
       "   'unexercisedValue': 0},\n",
       "  {'maxAge': 1,\n",
       "   'name': 'Mr. Michael  Fenger',\n",
       "   'title': 'VP of Worldwide Sales',\n",
       "   'fiscalYear': 2023,\n",
       "   'exercisedValue': 0,\n",
       "   'unexercisedValue': 0},\n",
       "  {'maxAge': 1,\n",
       "   'name': 'Mr. Ron  Okamoto',\n",
       "   'title': 'Head of Developer Relations',\n",
       "   'fiscalYear': 2023,\n",
       "   'exercisedValue': 0,\n",
       "   'unexercisedValue': 0}],\n",
       " 'auditRisk': 6,\n",
       " 'boardRisk': 1,\n",
       " 'compensationRisk': 2,\n",
       " 'shareHolderRightsRisk': 1,\n",
       " 'overallRisk': 1,\n",
       " 'governanceEpochDate': 1730419200,\n",
       " 'compensationAsOfEpochDate': 1703980800,\n",
       " 'irWebsite': 'http://investor.apple.com/',\n",
       " 'maxAge': 86400,\n",
       " 'priceHint': 2,\n",
       " 'previousClose': 235.06,\n",
       " 'open': 234.465,\n",
       " 'dayLow': 233.8101,\n",
       " 'dayHigh': 235.69,\n",
       " 'regularMarketPreviousClose': 235.06,\n",
       " 'regularMarketOpen': 234.465,\n",
       " 'regularMarketDayLow': 233.8101,\n",
       " 'regularMarketDayHigh': 235.69,\n",
       " 'dividendRate': 1.0,\n",
       " 'dividendYield': 0.0043,\n",
       " 'exDividendDate': 1731024000,\n",
       " 'payoutRatio': 0.1612,\n",
       " 'fiveYearAvgDividendYield': 0.63,\n",
       " 'beta': 1.24,\n",
       " 'trailingPE': 38.6398,\n",
       " 'forwardPE': 28.279264,\n",
       " 'volume': 32171077,\n",
       " 'regularMarketVolume': 32171077,\n",
       " 'averageVolume': 48920456,\n",
       " 'averageVolume10days': 45880560,\n",
       " 'averageDailyVolume10Day': 45880560,\n",
       " 'bid': 234.81,\n",
       " 'ask': 235.14,\n",
       " 'bidSize': 400,\n",
       " 'askSize': 400,\n",
       " 'marketCap': 3551154667520,\n",
       " 'fiftyTwoWeekLow': 164.08,\n",
       " 'fiftyTwoWeekHigh': 237.49,\n",
       " 'priceToSalesTrailing12Months': 9.081424,\n",
       " 'fiftyDayAverage': 228.7152,\n",
       " 'twoHundredDayAverage': 205.56055,\n",
       " 'trailingAnnualDividendRate': 0.98,\n",
       " 'trailingAnnualDividendYield': 0.0041691484,\n",
       " 'currency': 'USD',\n",
       " 'enterpriseValue': 3605048328192,\n",
       " 'profitMargins': 0.23971,\n",
       " 'floatShares': 15091184209,\n",
       " 'sharesOutstanding': 15115799552,\n",
       " 'sharesShort': 141037864,\n",
       " 'sharesShortPriorMonth': 140919653,\n",
       " 'sharesShortPreviousMonthDate': 1728950400,\n",
       " 'dateShortInterest': 1731628800,\n",
       " 'sharesPercentSharesOut': 0.0093,\n",
       " 'heldPercentInsiders': 0.02056,\n",
       " 'heldPercentInstitutions': 0.61915,\n",
       " 'shortRatio': 3.21,\n",
       " 'shortPercentOfFloat': 0.0093,\n",
       " 'impliedSharesOutstanding': 15332100096,\n",
       " 'bookValue': 3.767,\n",
       " 'priceToBook': 62.365276,\n",
       " 'lastFiscalYearEnd': 1727481600,\n",
       " 'nextFiscalYearEnd': 1759017600,\n",
       " 'mostRecentQuarter': 1727481600,\n",
       " 'earningsQuarterlyGrowth': -0.358,\n",
       " 'netIncomeToCommon': 93736001536,\n",
       " 'trailingEps': 6.08,\n",
       " 'forwardEps': 8.31,\n",
       " 'lastSplitFactor': '4:1',\n",
       " 'lastSplitDate': 1598832000,\n",
       " 'enterpriseToRevenue': 9.219,\n",
       " 'enterpriseToEbitda': 26.771,\n",
       " '52WeekChange': 0.23679912,\n",
       " 'SandP52WeekChange': 0.31326675,\n",
       " 'lastDividendValue': 0.25,\n",
       " 'lastDividendDate': 1731024000,\n",
       " 'exchange': 'NMS',\n",
       " 'quoteType': 'EQUITY',\n",
       " 'symbol': 'AAPL',\n",
       " 'underlyingSymbol': 'AAPL',\n",
       " 'shortName': 'Apple Inc.',\n",
       " 'longName': 'Apple Inc.',\n",
       " 'firstTradeDateEpochUtc': 345479400,\n",
       " 'timeZoneFullName': 'America/New_York',\n",
       " 'timeZoneShortName': 'EST',\n",
       " 'uuid': '8b10e4ae-9eeb-3684-921a-9ab27e4d87aa',\n",
       " 'messageBoardId': 'finmb_24937',\n",
       " 'gmtOffSetMilliseconds': -18000000,\n",
       " 'currentPrice': 234.93,\n",
       " 'targetHighPrice': 300.0,\n",
       " 'targetLowPrice': 184.0,\n",
       " 'targetMeanPrice': 244.47739,\n",
       " 'targetMedianPrice': 250.0,\n",
       " 'recommendationMean': 1.89362,\n",
       " 'recommendationKey': 'buy',\n",
       " 'numberOfAnalystOpinions': 42,\n",
       " 'totalCash': 65171001344,\n",
       " 'totalCashPerShare': 4.311,\n",
       " 'ebitda': 134660997120,\n",
       " 'totalDebt': 119058997248,\n",
       " 'quickRatio': 0.745,\n",
       " 'currentRatio': 0.867,\n",
       " 'totalRevenue': 391034994688,\n",
       " 'debtToEquity': 209.059,\n",
       " 'revenuePerShare': 25.485,\n",
       " 'returnOnAssets': 0.21464,\n",
       " 'returnOnEquity': 1.5741299,\n",
       " 'freeCashflow': 110846001152,\n",
       " 'operatingCashflow': 118254002176,\n",
       " 'earningsGrowth': -0.341,\n",
       " 'revenueGrowth': 0.061,\n",
       " 'grossMargins': 0.46206,\n",
       " 'ebitdaMargins': 0.34437,\n",
       " 'operatingMargins': 0.31171,\n",
       " 'financialCurrency': 'USD',\n",
       " 'trailingPegRatio': 2.4273}"
      ]
     },
     "execution_count": 13,
     "metadata": {},
     "output_type": "execute_result"
    }
   ],
   "source": [
    "data.info"
   ]
  },
  {
   "cell_type": "markdown",
   "metadata": {
    "id": "MLo7clfjSVrV"
   },
   "source": [
    "**Convert the data into datetime format**"
   ]
  },
  {
   "cell_type": "code",
   "execution_count": 14,
   "metadata": {
    "id": "KTqPhg6zR1_e"
   },
   "outputs": [],
   "source": [
    "current_date = datetime.now()"
   ]
  },
  {
   "cell_type": "code",
   "execution_count": 15,
   "metadata": {
    "colab": {
     "base_uri": "https://localhost:8080/"
    },
    "id": "86jCLorQSoLz",
    "outputId": "fa12efb2-4359-4c6e-fc82-9fd9ed7dfb04"
   },
   "outputs": [
    {
     "data": {
      "text/plain": [
       "datetime.datetime(2024, 11, 28, 12, 37, 58, 150113)"
      ]
     },
     "execution_count": 15,
     "metadata": {},
     "output_type": "execute_result"
    }
   ],
   "source": [
    "current_date"
   ]
  },
  {
   "cell_type": "markdown",
   "metadata": {
    "id": "w3ZIHJ2sUHBW"
   },
   "source": [
    "* **Start Date = Current_Date (Year = 2024) - 1 = 2023**\n",
    "* **Current_Date.month = Nov**\n",
    "* **Current_Data.day - 1 = 20 - 1 = 19**\n",
    "* **Start_Date = 19th Nov 2023**"
   ]
  },
  {
   "cell_type": "code",
   "execution_count": 16,
   "metadata": {
    "id": "Qi9th-k2SeCM"
   },
   "outputs": [],
   "source": [
    "start_date = datetime(current_date.year - 1, current_date.month, current_date.day - 1)"
   ]
  },
  {
   "cell_type": "code",
   "execution_count": 17,
   "metadata": {
    "colab": {
     "base_uri": "https://localhost:8080/"
    },
    "id": "W5FJ77PySqa1",
    "outputId": "94094a90-ab79-425c-f9fb-dce2181684a4"
   },
   "outputs": [
    {
     "data": {
      "text/plain": [
       "datetime.datetime(2023, 11, 27, 0, 0)"
      ]
     },
     "execution_count": 17,
     "metadata": {},
     "output_type": "execute_result"
    }
   ],
   "source": [
    "start_date"
   ]
  },
  {
   "cell_type": "markdown",
   "metadata": {
    "id": "cwGEtMAdSu1F"
   },
   "source": [
    "**Now, I will be working on the data of 1 complete year. We are firstly specified our date range, in which we want to work and then we have got the data of that particular time-frame, done using yfinance**"
   ]
  },
  {
   "cell_type": "code",
   "execution_count": 18,
   "metadata": {
    "colab": {
     "base_uri": "https://localhost:8080/"
    },
    "id": "Z8zq2H3RSrYK",
    "outputId": "abd737d7-374e-4992-803d-49facfef84fe"
   },
   "outputs": [
    {
     "name": "stderr",
     "output_type": "stream",
     "text": [
      "\r",
      "[*********************100%***********************]  1 of 1 completed\n"
     ]
    }
   ],
   "source": [
    "data = yf.download(\"AAPL\", start_date, current_date)"
   ]
  },
  {
   "cell_type": "code",
   "execution_count": 19,
   "metadata": {
    "colab": {
     "base_uri": "https://localhost:8080/",
     "height": 269
    },
    "id": "B3gfW6R2TCmC",
    "outputId": "a4237760-93d9-46ca-d04f-3b67799d0181"
   },
   "outputs": [
    {
     "data": {
      "application/vnd.google.colaboratory.intrinsic+json": {
       "summary": "{\n  \"name\": \"data\",\n  \"rows\": 254,\n  \"fields\": [\n    {\n      \"column\": [\n        \"Date\",\n        \"\"\n      ],\n      \"properties\": {\n        \"dtype\": \"date\",\n        \"min\": \"2023-11-27 00:00:00+00:00\",\n        \"max\": \"2024-11-27 00:00:00+00:00\",\n        \"num_unique_values\": 254,\n        \"samples\": [\n          \"2024-08-29 00:00:00+00:00\",\n          \"2023-12-05 00:00:00+00:00\",\n          \"2024-03-21 00:00:00+00:00\"\n        ],\n        \"semantic_type\": \"\",\n        \"description\": \"\"\n      }\n    },\n    {\n      \"column\": [\n        \"Adj Close\",\n        \"AAPL\"\n      ],\n      \"properties\": {\n        \"dtype\": \"number\",\n        \"std\": 22.23763795789103,\n        \"min\": 164.40512084960938,\n        \"max\": 236.22010803222656,\n        \"num_unique_values\": 251,\n        \"samples\": [\n          230.0203857421875,\n          192.47705078125,\n          216.99981689453125\n        ],\n        \"semantic_type\": \"\",\n        \"description\": \"\"\n      }\n    },\n    {\n      \"column\": [\n        \"Close\",\n        \"AAPL\"\n      ],\n      \"properties\": {\n        \"dtype\": \"number\",\n        \"std\": 22.054553943797416,\n        \"min\": 165.0,\n        \"max\": 236.47999572753906,\n        \"num_unique_values\": 250,\n        \"samples\": [\n          208.13999938964844,\n          193.4199981689453,\n          168.0\n        ],\n        \"semantic_type\": \"\",\n        \"description\": \"\"\n      }\n    },\n    {\n      \"column\": [\n        \"High\",\n        \"AAPL\"\n      ],\n      \"properties\": {\n        \"dtype\": \"number\",\n        \"std\": 22.21502941741982,\n        \"min\": 166.39999389648438,\n        \"max\": 237.49000549316406,\n        \"num_unique_values\": 248,\n        \"samples\": [\n          182.92999267578125,\n          194.39999389648438,\n          228.22000122070312\n        ],\n        \"semantic_type\": \"\",\n        \"description\": \"\"\n      }\n    },\n    {\n      \"column\": [\n        \"Low\",\n        \"AAPL\"\n      ],\n      \"properties\": {\n        \"dtype\": \"number\",\n        \"std\": 21.69752551157813,\n        \"min\": 164.0800018310547,\n        \"max\": 234.4499969482422,\n        \"num_unique_values\": 251,\n        \"samples\": [\n          228.67999267578125,\n          190.17999267578125,\n          214.6199951171875\n        ],\n        \"semantic_type\": \"\",\n        \"description\": \"\"\n      }\n    },\n    {\n      \"column\": [\n        \"Open\",\n        \"AAPL\"\n      ],\n      \"properties\": {\n        \"dtype\": \"number\",\n        \"std\": 21.989153614314873,\n        \"min\": 165.35000610351562,\n        \"max\": 236.47999572753906,\n        \"num_unique_values\": 247,\n        \"samples\": [\n          182.16000366210938,\n          190.2100067138672,\n          225.66000366210938\n        ],\n        \"semantic_type\": \"\",\n        \"description\": \"\"\n      }\n    },\n    {\n      \"column\": [\n        \"Volume\",\n        \"AAPL\"\n      ],\n      \"properties\": {\n        \"dtype\": \"number\",\n        \"std\": 30315271,\n        \"min\": 28111300,\n        \"max\": 318679900,\n        \"num_unique_values\": 254,\n        \"samples\": [\n          51906300,\n          66628400,\n          106181300\n        ],\n        \"semantic_type\": \"\",\n        \"description\": \"\"\n      }\n    }\n  ]\n}",
       "type": "dataframe",
       "variable_name": "data"
      },
      "text/html": [
       "\n",
       "  <div id=\"df-5acb82bd-0666-44ee-a4a6-92111adde1bf\" class=\"colab-df-container\">\n",
       "    <div>\n",
       "<style scoped>\n",
       "    .dataframe tbody tr th:only-of-type {\n",
       "        vertical-align: middle;\n",
       "    }\n",
       "\n",
       "    .dataframe tbody tr th {\n",
       "        vertical-align: top;\n",
       "    }\n",
       "\n",
       "    .dataframe thead tr th {\n",
       "        text-align: left;\n",
       "    }\n",
       "\n",
       "    .dataframe thead tr:last-of-type th {\n",
       "        text-align: right;\n",
       "    }\n",
       "</style>\n",
       "<table border=\"1\" class=\"dataframe\">\n",
       "  <thead>\n",
       "    <tr>\n",
       "      <th>Price</th>\n",
       "      <th>Adj Close</th>\n",
       "      <th>Close</th>\n",
       "      <th>High</th>\n",
       "      <th>Low</th>\n",
       "      <th>Open</th>\n",
       "      <th>Volume</th>\n",
       "    </tr>\n",
       "    <tr>\n",
       "      <th>Ticker</th>\n",
       "      <th>AAPL</th>\n",
       "      <th>AAPL</th>\n",
       "      <th>AAPL</th>\n",
       "      <th>AAPL</th>\n",
       "      <th>AAPL</th>\n",
       "      <th>AAPL</th>\n",
       "    </tr>\n",
       "    <tr>\n",
       "      <th>Date</th>\n",
       "      <th></th>\n",
       "      <th></th>\n",
       "      <th></th>\n",
       "      <th></th>\n",
       "      <th></th>\n",
       "      <th></th>\n",
       "    </tr>\n",
       "  </thead>\n",
       "  <tbody>\n",
       "    <tr>\n",
       "      <th>2023-11-27 00:00:00+00:00</th>\n",
       "      <td>188.864731</td>\n",
       "      <td>189.789993</td>\n",
       "      <td>190.669998</td>\n",
       "      <td>188.899994</td>\n",
       "      <td>189.919998</td>\n",
       "      <td>40552600</td>\n",
       "    </tr>\n",
       "    <tr>\n",
       "      <th>2023-11-28 00:00:00+00:00</th>\n",
       "      <td>189.471771</td>\n",
       "      <td>190.399994</td>\n",
       "      <td>191.080002</td>\n",
       "      <td>189.399994</td>\n",
       "      <td>189.779999</td>\n",
       "      <td>38415400</td>\n",
       "    </tr>\n",
       "    <tr>\n",
       "      <th>2023-11-29 00:00:00+00:00</th>\n",
       "      <td>188.446777</td>\n",
       "      <td>189.369995</td>\n",
       "      <td>192.089996</td>\n",
       "      <td>188.970001</td>\n",
       "      <td>190.899994</td>\n",
       "      <td>43014200</td>\n",
       "    </tr>\n",
       "    <tr>\n",
       "      <th>2023-11-30 00:00:00+00:00</th>\n",
       "      <td>189.023956</td>\n",
       "      <td>189.949997</td>\n",
       "      <td>190.320007</td>\n",
       "      <td>188.190002</td>\n",
       "      <td>189.839996</td>\n",
       "      <td>48794400</td>\n",
       "    </tr>\n",
       "    <tr>\n",
       "      <th>2023-12-01 00:00:00+00:00</th>\n",
       "      <td>190.307678</td>\n",
       "      <td>191.240005</td>\n",
       "      <td>191.559998</td>\n",
       "      <td>189.229996</td>\n",
       "      <td>190.330002</td>\n",
       "      <td>45679300</td>\n",
       "    </tr>\n",
       "  </tbody>\n",
       "</table>\n",
       "</div>\n",
       "    <div class=\"colab-df-buttons\">\n",
       "\n",
       "  <div class=\"colab-df-container\">\n",
       "    <button class=\"colab-df-convert\" onclick=\"convertToInteractive('df-5acb82bd-0666-44ee-a4a6-92111adde1bf')\"\n",
       "            title=\"Convert this dataframe to an interactive table.\"\n",
       "            style=\"display:none;\">\n",
       "\n",
       "  <svg xmlns=\"http://www.w3.org/2000/svg\" height=\"24px\" viewBox=\"0 -960 960 960\">\n",
       "    <path d=\"M120-120v-720h720v720H120Zm60-500h600v-160H180v160Zm220 220h160v-160H400v160Zm0 220h160v-160H400v160ZM180-400h160v-160H180v160Zm440 0h160v-160H620v160ZM180-180h160v-160H180v160Zm440 0h160v-160H620v160Z\"/>\n",
       "  </svg>\n",
       "    </button>\n",
       "\n",
       "  <style>\n",
       "    .colab-df-container {\n",
       "      display:flex;\n",
       "      gap: 12px;\n",
       "    }\n",
       "\n",
       "    .colab-df-convert {\n",
       "      background-color: #E8F0FE;\n",
       "      border: none;\n",
       "      border-radius: 50%;\n",
       "      cursor: pointer;\n",
       "      display: none;\n",
       "      fill: #1967D2;\n",
       "      height: 32px;\n",
       "      padding: 0 0 0 0;\n",
       "      width: 32px;\n",
       "    }\n",
       "\n",
       "    .colab-df-convert:hover {\n",
       "      background-color: #E2EBFA;\n",
       "      box-shadow: 0px 1px 2px rgba(60, 64, 67, 0.3), 0px 1px 3px 1px rgba(60, 64, 67, 0.15);\n",
       "      fill: #174EA6;\n",
       "    }\n",
       "\n",
       "    .colab-df-buttons div {\n",
       "      margin-bottom: 4px;\n",
       "    }\n",
       "\n",
       "    [theme=dark] .colab-df-convert {\n",
       "      background-color: #3B4455;\n",
       "      fill: #D2E3FC;\n",
       "    }\n",
       "\n",
       "    [theme=dark] .colab-df-convert:hover {\n",
       "      background-color: #434B5C;\n",
       "      box-shadow: 0px 1px 3px 1px rgba(0, 0, 0, 0.15);\n",
       "      filter: drop-shadow(0px 1px 2px rgba(0, 0, 0, 0.3));\n",
       "      fill: #FFFFFF;\n",
       "    }\n",
       "  </style>\n",
       "\n",
       "    <script>\n",
       "      const buttonEl =\n",
       "        document.querySelector('#df-5acb82bd-0666-44ee-a4a6-92111adde1bf button.colab-df-convert');\n",
       "      buttonEl.style.display =\n",
       "        google.colab.kernel.accessAllowed ? 'block' : 'none';\n",
       "\n",
       "      async function convertToInteractive(key) {\n",
       "        const element = document.querySelector('#df-5acb82bd-0666-44ee-a4a6-92111adde1bf');\n",
       "        const dataTable =\n",
       "          await google.colab.kernel.invokeFunction('convertToInteractive',\n",
       "                                                    [key], {});\n",
       "        if (!dataTable) return;\n",
       "\n",
       "        const docLinkHtml = 'Like what you see? Visit the ' +\n",
       "          '<a target=\"_blank\" href=https://colab.research.google.com/notebooks/data_table.ipynb>data table notebook</a>'\n",
       "          + ' to learn more about interactive tables.';\n",
       "        element.innerHTML = '';\n",
       "        dataTable['output_type'] = 'display_data';\n",
       "        await google.colab.output.renderOutput(dataTable, element);\n",
       "        const docLink = document.createElement('div');\n",
       "        docLink.innerHTML = docLinkHtml;\n",
       "        element.appendChild(docLink);\n",
       "      }\n",
       "    </script>\n",
       "  </div>\n",
       "\n",
       "\n",
       "<div id=\"df-d6d7939c-f5b5-47a2-875b-fce4ff806471\">\n",
       "  <button class=\"colab-df-quickchart\" onclick=\"quickchart('df-d6d7939c-f5b5-47a2-875b-fce4ff806471')\"\n",
       "            title=\"Suggest charts\"\n",
       "            style=\"display:none;\">\n",
       "\n",
       "<svg xmlns=\"http://www.w3.org/2000/svg\" height=\"24px\"viewBox=\"0 0 24 24\"\n",
       "     width=\"24px\">\n",
       "    <g>\n",
       "        <path d=\"M19 3H5c-1.1 0-2 .9-2 2v14c0 1.1.9 2 2 2h14c1.1 0 2-.9 2-2V5c0-1.1-.9-2-2-2zM9 17H7v-7h2v7zm4 0h-2V7h2v10zm4 0h-2v-4h2v4z\"/>\n",
       "    </g>\n",
       "</svg>\n",
       "  </button>\n",
       "\n",
       "<style>\n",
       "  .colab-df-quickchart {\n",
       "      --bg-color: #E8F0FE;\n",
       "      --fill-color: #1967D2;\n",
       "      --hover-bg-color: #E2EBFA;\n",
       "      --hover-fill-color: #174EA6;\n",
       "      --disabled-fill-color: #AAA;\n",
       "      --disabled-bg-color: #DDD;\n",
       "  }\n",
       "\n",
       "  [theme=dark] .colab-df-quickchart {\n",
       "      --bg-color: #3B4455;\n",
       "      --fill-color: #D2E3FC;\n",
       "      --hover-bg-color: #434B5C;\n",
       "      --hover-fill-color: #FFFFFF;\n",
       "      --disabled-bg-color: #3B4455;\n",
       "      --disabled-fill-color: #666;\n",
       "  }\n",
       "\n",
       "  .colab-df-quickchart {\n",
       "    background-color: var(--bg-color);\n",
       "    border: none;\n",
       "    border-radius: 50%;\n",
       "    cursor: pointer;\n",
       "    display: none;\n",
       "    fill: var(--fill-color);\n",
       "    height: 32px;\n",
       "    padding: 0;\n",
       "    width: 32px;\n",
       "  }\n",
       "\n",
       "  .colab-df-quickchart:hover {\n",
       "    background-color: var(--hover-bg-color);\n",
       "    box-shadow: 0 1px 2px rgba(60, 64, 67, 0.3), 0 1px 3px 1px rgba(60, 64, 67, 0.15);\n",
       "    fill: var(--button-hover-fill-color);\n",
       "  }\n",
       "\n",
       "  .colab-df-quickchart-complete:disabled,\n",
       "  .colab-df-quickchart-complete:disabled:hover {\n",
       "    background-color: var(--disabled-bg-color);\n",
       "    fill: var(--disabled-fill-color);\n",
       "    box-shadow: none;\n",
       "  }\n",
       "\n",
       "  .colab-df-spinner {\n",
       "    border: 2px solid var(--fill-color);\n",
       "    border-color: transparent;\n",
       "    border-bottom-color: var(--fill-color);\n",
       "    animation:\n",
       "      spin 1s steps(1) infinite;\n",
       "  }\n",
       "\n",
       "  @keyframes spin {\n",
       "    0% {\n",
       "      border-color: transparent;\n",
       "      border-bottom-color: var(--fill-color);\n",
       "      border-left-color: var(--fill-color);\n",
       "    }\n",
       "    20% {\n",
       "      border-color: transparent;\n",
       "      border-left-color: var(--fill-color);\n",
       "      border-top-color: var(--fill-color);\n",
       "    }\n",
       "    30% {\n",
       "      border-color: transparent;\n",
       "      border-left-color: var(--fill-color);\n",
       "      border-top-color: var(--fill-color);\n",
       "      border-right-color: var(--fill-color);\n",
       "    }\n",
       "    40% {\n",
       "      border-color: transparent;\n",
       "      border-right-color: var(--fill-color);\n",
       "      border-top-color: var(--fill-color);\n",
       "    }\n",
       "    60% {\n",
       "      border-color: transparent;\n",
       "      border-right-color: var(--fill-color);\n",
       "    }\n",
       "    80% {\n",
       "      border-color: transparent;\n",
       "      border-right-color: var(--fill-color);\n",
       "      border-bottom-color: var(--fill-color);\n",
       "    }\n",
       "    90% {\n",
       "      border-color: transparent;\n",
       "      border-bottom-color: var(--fill-color);\n",
       "    }\n",
       "  }\n",
       "</style>\n",
       "\n",
       "  <script>\n",
       "    async function quickchart(key) {\n",
       "      const quickchartButtonEl =\n",
       "        document.querySelector('#' + key + ' button');\n",
       "      quickchartButtonEl.disabled = true;  // To prevent multiple clicks.\n",
       "      quickchartButtonEl.classList.add('colab-df-spinner');\n",
       "      try {\n",
       "        const charts = await google.colab.kernel.invokeFunction(\n",
       "            'suggestCharts', [key], {});\n",
       "      } catch (error) {\n",
       "        console.error('Error during call to suggestCharts:', error);\n",
       "      }\n",
       "      quickchartButtonEl.classList.remove('colab-df-spinner');\n",
       "      quickchartButtonEl.classList.add('colab-df-quickchart-complete');\n",
       "    }\n",
       "    (() => {\n",
       "      let quickchartButtonEl =\n",
       "        document.querySelector('#df-d6d7939c-f5b5-47a2-875b-fce4ff806471 button');\n",
       "      quickchartButtonEl.style.display =\n",
       "        google.colab.kernel.accessAllowed ? 'block' : 'none';\n",
       "    })();\n",
       "  </script>\n",
       "</div>\n",
       "\n",
       "    </div>\n",
       "  </div>\n"
      ],
      "text/plain": [
       "Price                       Adj Close       Close        High         Low  \\\n",
       "Ticker                           AAPL        AAPL        AAPL        AAPL   \n",
       "Date                                                                        \n",
       "2023-11-27 00:00:00+00:00  188.864731  189.789993  190.669998  188.899994   \n",
       "2023-11-28 00:00:00+00:00  189.471771  190.399994  191.080002  189.399994   \n",
       "2023-11-29 00:00:00+00:00  188.446777  189.369995  192.089996  188.970001   \n",
       "2023-11-30 00:00:00+00:00  189.023956  189.949997  190.320007  188.190002   \n",
       "2023-12-01 00:00:00+00:00  190.307678  191.240005  191.559998  189.229996   \n",
       "\n",
       "Price                            Open    Volume  \n",
       "Ticker                           AAPL      AAPL  \n",
       "Date                                             \n",
       "2023-11-27 00:00:00+00:00  189.919998  40552600  \n",
       "2023-11-28 00:00:00+00:00  189.779999  38415400  \n",
       "2023-11-29 00:00:00+00:00  190.899994  43014200  \n",
       "2023-11-30 00:00:00+00:00  189.839996  48794400  \n",
       "2023-12-01 00:00:00+00:00  190.330002  45679300  "
      ]
     },
     "execution_count": 19,
     "metadata": {},
     "output_type": "execute_result"
    }
   ],
   "source": [
    "data.head()"
   ]
  },
  {
   "cell_type": "code",
   "execution_count": 20,
   "metadata": {
    "colab": {
     "base_uri": "https://localhost:8080/"
    },
    "id": "yBAcEhBUTGLh",
    "outputId": "2ae4acdb-7ded-4806-99da-f48fb800fcc0"
   },
   "outputs": [
    {
     "name": "stdout",
     "output_type": "stream",
     "text": [
      "<class 'pandas.core.frame.DataFrame'>\n",
      "DatetimeIndex: 254 entries, 2023-11-27 00:00:00+00:00 to 2024-11-27 00:00:00+00:00\n",
      "Data columns (total 6 columns):\n",
      " #   Column             Non-Null Count  Dtype  \n",
      "---  ------             --------------  -----  \n",
      " 0   (Adj Close, AAPL)  254 non-null    float64\n",
      " 1   (Close, AAPL)      254 non-null    float64\n",
      " 2   (High, AAPL)       254 non-null    float64\n",
      " 3   (Low, AAPL)        254 non-null    float64\n",
      " 4   (Open, AAPL)       254 non-null    float64\n",
      " 5   (Volume, AAPL)     254 non-null    int64  \n",
      "dtypes: float64(5), int64(1)\n",
      "memory usage: 13.9 KB\n"
     ]
    }
   ],
   "source": [
    "data.info()"
   ]
  },
  {
   "cell_type": "markdown",
   "metadata": {
    "id": "3gQb7Dz5Wct7"
   },
   "source": [
    "**Column header preprocessing**"
   ]
  },
  {
   "cell_type": "code",
   "execution_count": 21,
   "metadata": {
    "id": "Ad7Y5EL4Tgx4"
   },
   "outputs": [],
   "source": [
    "data.columns = [f\"{col[0]}\" for col in data.columns] #(Adj Close, AAPL) using list cpmprehension we kept pnly one name you can keep both as well\n",
    "#\"{col[0]}_{col[1]}\""
   ]
  },
  {
   "cell_type": "code",
   "execution_count": 22,
   "metadata": {
    "colab": {
     "base_uri": "https://localhost:8080/",
     "height": 237
    },
    "id": "Qhgb6jPeWSl8",
    "outputId": "867bbd76-03c4-4b24-90e9-03b5dd00c33f"
   },
   "outputs": [
    {
     "data": {
      "application/vnd.google.colaboratory.intrinsic+json": {
       "summary": "{\n  \"name\": \"data\",\n  \"rows\": 254,\n  \"fields\": [\n    {\n      \"column\": \"Date\",\n      \"properties\": {\n        \"dtype\": \"date\",\n        \"min\": \"2023-11-27 00:00:00+00:00\",\n        \"max\": \"2024-11-27 00:00:00+00:00\",\n        \"num_unique_values\": 254,\n        \"samples\": [\n          \"2024-08-29 00:00:00+00:00\",\n          \"2023-12-05 00:00:00+00:00\",\n          \"2024-03-21 00:00:00+00:00\"\n        ],\n        \"semantic_type\": \"\",\n        \"description\": \"\"\n      }\n    },\n    {\n      \"column\": \"Adj Close\",\n      \"properties\": {\n        \"dtype\": \"number\",\n        \"std\": 22.23763795789103,\n        \"min\": 164.40512084960938,\n        \"max\": 236.22010803222656,\n        \"num_unique_values\": 251,\n        \"samples\": [\n          230.0203857421875,\n          192.47705078125,\n          216.99981689453125\n        ],\n        \"semantic_type\": \"\",\n        \"description\": \"\"\n      }\n    },\n    {\n      \"column\": \"Close\",\n      \"properties\": {\n        \"dtype\": \"number\",\n        \"std\": 22.054553943797416,\n        \"min\": 165.0,\n        \"max\": 236.47999572753906,\n        \"num_unique_values\": 250,\n        \"samples\": [\n          208.13999938964844,\n          193.4199981689453,\n          168.0\n        ],\n        \"semantic_type\": \"\",\n        \"description\": \"\"\n      }\n    },\n    {\n      \"column\": \"High\",\n      \"properties\": {\n        \"dtype\": \"number\",\n        \"std\": 22.21502941741982,\n        \"min\": 166.39999389648438,\n        \"max\": 237.49000549316406,\n        \"num_unique_values\": 248,\n        \"samples\": [\n          182.92999267578125,\n          194.39999389648438,\n          228.22000122070312\n        ],\n        \"semantic_type\": \"\",\n        \"description\": \"\"\n      }\n    },\n    {\n      \"column\": \"Low\",\n      \"properties\": {\n        \"dtype\": \"number\",\n        \"std\": 21.69752551157813,\n        \"min\": 164.0800018310547,\n        \"max\": 234.4499969482422,\n        \"num_unique_values\": 251,\n        \"samples\": [\n          228.67999267578125,\n          190.17999267578125,\n          214.6199951171875\n        ],\n        \"semantic_type\": \"\",\n        \"description\": \"\"\n      }\n    },\n    {\n      \"column\": \"Open\",\n      \"properties\": {\n        \"dtype\": \"number\",\n        \"std\": 21.989153614314873,\n        \"min\": 165.35000610351562,\n        \"max\": 236.47999572753906,\n        \"num_unique_values\": 247,\n        \"samples\": [\n          182.16000366210938,\n          190.2100067138672,\n          225.66000366210938\n        ],\n        \"semantic_type\": \"\",\n        \"description\": \"\"\n      }\n    },\n    {\n      \"column\": \"Volume\",\n      \"properties\": {\n        \"dtype\": \"number\",\n        \"std\": 30315271,\n        \"min\": 28111300,\n        \"max\": 318679900,\n        \"num_unique_values\": 254,\n        \"samples\": [\n          51906300,\n          66628400,\n          106181300\n        ],\n        \"semantic_type\": \"\",\n        \"description\": \"\"\n      }\n    }\n  ]\n}",
       "type": "dataframe",
       "variable_name": "data"
      },
      "text/html": [
       "\n",
       "  <div id=\"df-27e6d4e2-4ee2-4e1c-8d16-0d6d9fe8c0be\" class=\"colab-df-container\">\n",
       "    <div>\n",
       "<style scoped>\n",
       "    .dataframe tbody tr th:only-of-type {\n",
       "        vertical-align: middle;\n",
       "    }\n",
       "\n",
       "    .dataframe tbody tr th {\n",
       "        vertical-align: top;\n",
       "    }\n",
       "\n",
       "    .dataframe thead th {\n",
       "        text-align: right;\n",
       "    }\n",
       "</style>\n",
       "<table border=\"1\" class=\"dataframe\">\n",
       "  <thead>\n",
       "    <tr style=\"text-align: right;\">\n",
       "      <th></th>\n",
       "      <th>Adj Close</th>\n",
       "      <th>Close</th>\n",
       "      <th>High</th>\n",
       "      <th>Low</th>\n",
       "      <th>Open</th>\n",
       "      <th>Volume</th>\n",
       "    </tr>\n",
       "    <tr>\n",
       "      <th>Date</th>\n",
       "      <th></th>\n",
       "      <th></th>\n",
       "      <th></th>\n",
       "      <th></th>\n",
       "      <th></th>\n",
       "      <th></th>\n",
       "    </tr>\n",
       "  </thead>\n",
       "  <tbody>\n",
       "    <tr>\n",
       "      <th>2023-11-27 00:00:00+00:00</th>\n",
       "      <td>188.864731</td>\n",
       "      <td>189.789993</td>\n",
       "      <td>190.669998</td>\n",
       "      <td>188.899994</td>\n",
       "      <td>189.919998</td>\n",
       "      <td>40552600</td>\n",
       "    </tr>\n",
       "    <tr>\n",
       "      <th>2023-11-28 00:00:00+00:00</th>\n",
       "      <td>189.471771</td>\n",
       "      <td>190.399994</td>\n",
       "      <td>191.080002</td>\n",
       "      <td>189.399994</td>\n",
       "      <td>189.779999</td>\n",
       "      <td>38415400</td>\n",
       "    </tr>\n",
       "    <tr>\n",
       "      <th>2023-11-29 00:00:00+00:00</th>\n",
       "      <td>188.446777</td>\n",
       "      <td>189.369995</td>\n",
       "      <td>192.089996</td>\n",
       "      <td>188.970001</td>\n",
       "      <td>190.899994</td>\n",
       "      <td>43014200</td>\n",
       "    </tr>\n",
       "    <tr>\n",
       "      <th>2023-11-30 00:00:00+00:00</th>\n",
       "      <td>189.023956</td>\n",
       "      <td>189.949997</td>\n",
       "      <td>190.320007</td>\n",
       "      <td>188.190002</td>\n",
       "      <td>189.839996</td>\n",
       "      <td>48794400</td>\n",
       "    </tr>\n",
       "    <tr>\n",
       "      <th>2023-12-01 00:00:00+00:00</th>\n",
       "      <td>190.307678</td>\n",
       "      <td>191.240005</td>\n",
       "      <td>191.559998</td>\n",
       "      <td>189.229996</td>\n",
       "      <td>190.330002</td>\n",
       "      <td>45679300</td>\n",
       "    </tr>\n",
       "  </tbody>\n",
       "</table>\n",
       "</div>\n",
       "    <div class=\"colab-df-buttons\">\n",
       "\n",
       "  <div class=\"colab-df-container\">\n",
       "    <button class=\"colab-df-convert\" onclick=\"convertToInteractive('df-27e6d4e2-4ee2-4e1c-8d16-0d6d9fe8c0be')\"\n",
       "            title=\"Convert this dataframe to an interactive table.\"\n",
       "            style=\"display:none;\">\n",
       "\n",
       "  <svg xmlns=\"http://www.w3.org/2000/svg\" height=\"24px\" viewBox=\"0 -960 960 960\">\n",
       "    <path d=\"M120-120v-720h720v720H120Zm60-500h600v-160H180v160Zm220 220h160v-160H400v160Zm0 220h160v-160H400v160ZM180-400h160v-160H180v160Zm440 0h160v-160H620v160ZM180-180h160v-160H180v160Zm440 0h160v-160H620v160Z\"/>\n",
       "  </svg>\n",
       "    </button>\n",
       "\n",
       "  <style>\n",
       "    .colab-df-container {\n",
       "      display:flex;\n",
       "      gap: 12px;\n",
       "    }\n",
       "\n",
       "    .colab-df-convert {\n",
       "      background-color: #E8F0FE;\n",
       "      border: none;\n",
       "      border-radius: 50%;\n",
       "      cursor: pointer;\n",
       "      display: none;\n",
       "      fill: #1967D2;\n",
       "      height: 32px;\n",
       "      padding: 0 0 0 0;\n",
       "      width: 32px;\n",
       "    }\n",
       "\n",
       "    .colab-df-convert:hover {\n",
       "      background-color: #E2EBFA;\n",
       "      box-shadow: 0px 1px 2px rgba(60, 64, 67, 0.3), 0px 1px 3px 1px rgba(60, 64, 67, 0.15);\n",
       "      fill: #174EA6;\n",
       "    }\n",
       "\n",
       "    .colab-df-buttons div {\n",
       "      margin-bottom: 4px;\n",
       "    }\n",
       "\n",
       "    [theme=dark] .colab-df-convert {\n",
       "      background-color: #3B4455;\n",
       "      fill: #D2E3FC;\n",
       "    }\n",
       "\n",
       "    [theme=dark] .colab-df-convert:hover {\n",
       "      background-color: #434B5C;\n",
       "      box-shadow: 0px 1px 3px 1px rgba(0, 0, 0, 0.15);\n",
       "      filter: drop-shadow(0px 1px 2px rgba(0, 0, 0, 0.3));\n",
       "      fill: #FFFFFF;\n",
       "    }\n",
       "  </style>\n",
       "\n",
       "    <script>\n",
       "      const buttonEl =\n",
       "        document.querySelector('#df-27e6d4e2-4ee2-4e1c-8d16-0d6d9fe8c0be button.colab-df-convert');\n",
       "      buttonEl.style.display =\n",
       "        google.colab.kernel.accessAllowed ? 'block' : 'none';\n",
       "\n",
       "      async function convertToInteractive(key) {\n",
       "        const element = document.querySelector('#df-27e6d4e2-4ee2-4e1c-8d16-0d6d9fe8c0be');\n",
       "        const dataTable =\n",
       "          await google.colab.kernel.invokeFunction('convertToInteractive',\n",
       "                                                    [key], {});\n",
       "        if (!dataTable) return;\n",
       "\n",
       "        const docLinkHtml = 'Like what you see? Visit the ' +\n",
       "          '<a target=\"_blank\" href=https://colab.research.google.com/notebooks/data_table.ipynb>data table notebook</a>'\n",
       "          + ' to learn more about interactive tables.';\n",
       "        element.innerHTML = '';\n",
       "        dataTable['output_type'] = 'display_data';\n",
       "        await google.colab.output.renderOutput(dataTable, element);\n",
       "        const docLink = document.createElement('div');\n",
       "        docLink.innerHTML = docLinkHtml;\n",
       "        element.appendChild(docLink);\n",
       "      }\n",
       "    </script>\n",
       "  </div>\n",
       "\n",
       "\n",
       "<div id=\"df-292d8fad-d672-4cd4-b94c-3655cc4d46cd\">\n",
       "  <button class=\"colab-df-quickchart\" onclick=\"quickchart('df-292d8fad-d672-4cd4-b94c-3655cc4d46cd')\"\n",
       "            title=\"Suggest charts\"\n",
       "            style=\"display:none;\">\n",
       "\n",
       "<svg xmlns=\"http://www.w3.org/2000/svg\" height=\"24px\"viewBox=\"0 0 24 24\"\n",
       "     width=\"24px\">\n",
       "    <g>\n",
       "        <path d=\"M19 3H5c-1.1 0-2 .9-2 2v14c0 1.1.9 2 2 2h14c1.1 0 2-.9 2-2V5c0-1.1-.9-2-2-2zM9 17H7v-7h2v7zm4 0h-2V7h2v10zm4 0h-2v-4h2v4z\"/>\n",
       "    </g>\n",
       "</svg>\n",
       "  </button>\n",
       "\n",
       "<style>\n",
       "  .colab-df-quickchart {\n",
       "      --bg-color: #E8F0FE;\n",
       "      --fill-color: #1967D2;\n",
       "      --hover-bg-color: #E2EBFA;\n",
       "      --hover-fill-color: #174EA6;\n",
       "      --disabled-fill-color: #AAA;\n",
       "      --disabled-bg-color: #DDD;\n",
       "  }\n",
       "\n",
       "  [theme=dark] .colab-df-quickchart {\n",
       "      --bg-color: #3B4455;\n",
       "      --fill-color: #D2E3FC;\n",
       "      --hover-bg-color: #434B5C;\n",
       "      --hover-fill-color: #FFFFFF;\n",
       "      --disabled-bg-color: #3B4455;\n",
       "      --disabled-fill-color: #666;\n",
       "  }\n",
       "\n",
       "  .colab-df-quickchart {\n",
       "    background-color: var(--bg-color);\n",
       "    border: none;\n",
       "    border-radius: 50%;\n",
       "    cursor: pointer;\n",
       "    display: none;\n",
       "    fill: var(--fill-color);\n",
       "    height: 32px;\n",
       "    padding: 0;\n",
       "    width: 32px;\n",
       "  }\n",
       "\n",
       "  .colab-df-quickchart:hover {\n",
       "    background-color: var(--hover-bg-color);\n",
       "    box-shadow: 0 1px 2px rgba(60, 64, 67, 0.3), 0 1px 3px 1px rgba(60, 64, 67, 0.15);\n",
       "    fill: var(--button-hover-fill-color);\n",
       "  }\n",
       "\n",
       "  .colab-df-quickchart-complete:disabled,\n",
       "  .colab-df-quickchart-complete:disabled:hover {\n",
       "    background-color: var(--disabled-bg-color);\n",
       "    fill: var(--disabled-fill-color);\n",
       "    box-shadow: none;\n",
       "  }\n",
       "\n",
       "  .colab-df-spinner {\n",
       "    border: 2px solid var(--fill-color);\n",
       "    border-color: transparent;\n",
       "    border-bottom-color: var(--fill-color);\n",
       "    animation:\n",
       "      spin 1s steps(1) infinite;\n",
       "  }\n",
       "\n",
       "  @keyframes spin {\n",
       "    0% {\n",
       "      border-color: transparent;\n",
       "      border-bottom-color: var(--fill-color);\n",
       "      border-left-color: var(--fill-color);\n",
       "    }\n",
       "    20% {\n",
       "      border-color: transparent;\n",
       "      border-left-color: var(--fill-color);\n",
       "      border-top-color: var(--fill-color);\n",
       "    }\n",
       "    30% {\n",
       "      border-color: transparent;\n",
       "      border-left-color: var(--fill-color);\n",
       "      border-top-color: var(--fill-color);\n",
       "      border-right-color: var(--fill-color);\n",
       "    }\n",
       "    40% {\n",
       "      border-color: transparent;\n",
       "      border-right-color: var(--fill-color);\n",
       "      border-top-color: var(--fill-color);\n",
       "    }\n",
       "    60% {\n",
       "      border-color: transparent;\n",
       "      border-right-color: var(--fill-color);\n",
       "    }\n",
       "    80% {\n",
       "      border-color: transparent;\n",
       "      border-right-color: var(--fill-color);\n",
       "      border-bottom-color: var(--fill-color);\n",
       "    }\n",
       "    90% {\n",
       "      border-color: transparent;\n",
       "      border-bottom-color: var(--fill-color);\n",
       "    }\n",
       "  }\n",
       "</style>\n",
       "\n",
       "  <script>\n",
       "    async function quickchart(key) {\n",
       "      const quickchartButtonEl =\n",
       "        document.querySelector('#' + key + ' button');\n",
       "      quickchartButtonEl.disabled = true;  // To prevent multiple clicks.\n",
       "      quickchartButtonEl.classList.add('colab-df-spinner');\n",
       "      try {\n",
       "        const charts = await google.colab.kernel.invokeFunction(\n",
       "            'suggestCharts', [key], {});\n",
       "      } catch (error) {\n",
       "        console.error('Error during call to suggestCharts:', error);\n",
       "      }\n",
       "      quickchartButtonEl.classList.remove('colab-df-spinner');\n",
       "      quickchartButtonEl.classList.add('colab-df-quickchart-complete');\n",
       "    }\n",
       "    (() => {\n",
       "      let quickchartButtonEl =\n",
       "        document.querySelector('#df-292d8fad-d672-4cd4-b94c-3655cc4d46cd button');\n",
       "      quickchartButtonEl.style.display =\n",
       "        google.colab.kernel.accessAllowed ? 'block' : 'none';\n",
       "    })();\n",
       "  </script>\n",
       "</div>\n",
       "\n",
       "    </div>\n",
       "  </div>\n"
      ],
      "text/plain": [
       "                            Adj Close       Close        High         Low  \\\n",
       "Date                                                                        \n",
       "2023-11-27 00:00:00+00:00  188.864731  189.789993  190.669998  188.899994   \n",
       "2023-11-28 00:00:00+00:00  189.471771  190.399994  191.080002  189.399994   \n",
       "2023-11-29 00:00:00+00:00  188.446777  189.369995  192.089996  188.970001   \n",
       "2023-11-30 00:00:00+00:00  189.023956  189.949997  190.320007  188.190002   \n",
       "2023-12-01 00:00:00+00:00  190.307678  191.240005  191.559998  189.229996   \n",
       "\n",
       "                                 Open    Volume  \n",
       "Date                                             \n",
       "2023-11-27 00:00:00+00:00  189.919998  40552600  \n",
       "2023-11-28 00:00:00+00:00  189.779999  38415400  \n",
       "2023-11-29 00:00:00+00:00  190.899994  43014200  \n",
       "2023-11-30 00:00:00+00:00  189.839996  48794400  \n",
       "2023-12-01 00:00:00+00:00  190.330002  45679300  "
      ]
     },
     "execution_count": 22,
     "metadata": {},
     "output_type": "execute_result"
    }
   ],
   "source": [
    "data.head()"
   ]
  },
  {
   "cell_type": "markdown",
   "metadata": {
    "id": "_XRyHTwhUwRJ"
   },
   "source": [
    "**Visualize the data**"
   ]
  },
  {
   "cell_type": "code",
   "execution_count": 23,
   "metadata": {
    "colab": {
     "base_uri": "https://localhost:8080/",
     "height": 542
    },
    "id": "uDjyyVD4Vr8H",
    "outputId": "e5437783-f941-4a11-b5c2-dc01193584ec"
   },
   "outputs": [
    {
     "data": {
      "text/html": [
       "<html>\n",
       "<head><meta charset=\"utf-8\" /></head>\n",
       "<body>\n",
       "    <div>            <script src=\"https://cdnjs.cloudflare.com/ajax/libs/mathjax/2.7.5/MathJax.js?config=TeX-AMS-MML_SVG\"></script><script type=\"text/javascript\">if (window.MathJax && window.MathJax.Hub && window.MathJax.Hub.Config) {window.MathJax.Hub.Config({SVG: {font: \"STIX-Web\"}});}</script>                <script type=\"text/javascript\">window.PlotlyConfig = {MathJaxConfig: 'local'};</script>\n",
       "        <script charset=\"utf-8\" src=\"https://cdn.plot.ly/plotly-2.35.2.min.js\"></script>                <div id=\"e8aaa0aa-529a-42a6-9abb-5bd1d5ca5e16\" class=\"plotly-graph-div\" style=\"height:525px; width:100%;\"></div>            <script type=\"text/javascript\">                                    window.PLOTLYENV=window.PLOTLYENV || {};                                    if (document.getElementById(\"e8aaa0aa-529a-42a6-9abb-5bd1d5ca5e16\")) {                    Plotly.newPlot(                        \"e8aaa0aa-529a-42a6-9abb-5bd1d5ca5e16\",                        [{\"hovertemplate\":\"Date=%{x}\\u003cbr\\u003eAdj Close=%{y}\\u003cextra\\u003e\\u003c\\u002fextra\\u003e\",\"legendgroup\":\"\",\"line\":{\"color\":\"#636efa\",\"dash\":\"solid\"},\"marker\":{\"symbol\":\"circle\"},\"mode\":\"lines\",\"name\":\"\",\"orientation\":\"v\",\"showlegend\":false,\"x\":[\"2023-11-27T00:00:00+00:00\",\"2023-11-28T00:00:00+00:00\",\"2023-11-29T00:00:00+00:00\",\"2023-11-30T00:00:00+00:00\",\"2023-12-01T00:00:00+00:00\",\"2023-12-04T00:00:00+00:00\",\"2023-12-05T00:00:00+00:00\",\"2023-12-06T00:00:00+00:00\",\"2023-12-07T00:00:00+00:00\",\"2023-12-08T00:00:00+00:00\",\"2023-12-11T00:00:00+00:00\",\"2023-12-12T00:00:00+00:00\",\"2023-12-13T00:00:00+00:00\",\"2023-12-14T00:00:00+00:00\",\"2023-12-15T00:00:00+00:00\",\"2023-12-18T00:00:00+00:00\",\"2023-12-19T00:00:00+00:00\",\"2023-12-20T00:00:00+00:00\",\"2023-12-21T00:00:00+00:00\",\"2023-12-22T00:00:00+00:00\",\"2023-12-26T00:00:00+00:00\",\"2023-12-27T00:00:00+00:00\",\"2023-12-28T00:00:00+00:00\",\"2023-12-29T00:00:00+00:00\",\"2024-01-02T00:00:00+00:00\",\"2024-01-03T00:00:00+00:00\",\"2024-01-04T00:00:00+00:00\",\"2024-01-05T00:00:00+00:00\",\"2024-01-08T00:00:00+00:00\",\"2024-01-09T00:00:00+00:00\",\"2024-01-10T00:00:00+00:00\",\"2024-01-11T00:00:00+00:00\",\"2024-01-12T00:00:00+00:00\",\"2024-01-16T00:00:00+00:00\",\"2024-01-17T00:00:00+00:00\",\"2024-01-18T00:00:00+00:00\",\"2024-01-19T00:00:00+00:00\",\"2024-01-22T00:00:00+00:00\",\"2024-01-23T00:00:00+00:00\",\"2024-01-24T00:00:00+00:00\",\"2024-01-25T00:00:00+00:00\",\"2024-01-26T00:00:00+00:00\",\"2024-01-29T00:00:00+00:00\",\"2024-01-30T00:00:00+00:00\",\"2024-01-31T00:00:00+00:00\",\"2024-02-01T00:00:00+00:00\",\"2024-02-02T00:00:00+00:00\",\"2024-02-05T00:00:00+00:00\",\"2024-02-06T00:00:00+00:00\",\"2024-02-07T00:00:00+00:00\",\"2024-02-08T00:00:00+00:00\",\"2024-02-09T00:00:00+00:00\",\"2024-02-12T00:00:00+00:00\",\"2024-02-13T00:00:00+00:00\",\"2024-02-14T00:00:00+00:00\",\"2024-02-15T00:00:00+00:00\",\"2024-02-16T00:00:00+00:00\",\"2024-02-20T00:00:00+00:00\",\"2024-02-21T00:00:00+00:00\",\"2024-02-22T00:00:00+00:00\",\"2024-02-23T00:00:00+00:00\",\"2024-02-26T00:00:00+00:00\",\"2024-02-27T00:00:00+00:00\",\"2024-02-28T00:00:00+00:00\",\"2024-02-29T00:00:00+00:00\",\"2024-03-01T00:00:00+00:00\",\"2024-03-04T00:00:00+00:00\",\"2024-03-05T00:00:00+00:00\",\"2024-03-06T00:00:00+00:00\",\"2024-03-07T00:00:00+00:00\",\"2024-03-08T00:00:00+00:00\",\"2024-03-11T00:00:00+00:00\",\"2024-03-12T00:00:00+00:00\",\"2024-03-13T00:00:00+00:00\",\"2024-03-14T00:00:00+00:00\",\"2024-03-15T00:00:00+00:00\",\"2024-03-18T00:00:00+00:00\",\"2024-03-19T00:00:00+00:00\",\"2024-03-20T00:00:00+00:00\",\"2024-03-21T00:00:00+00:00\",\"2024-03-22T00:00:00+00:00\",\"2024-03-25T00:00:00+00:00\",\"2024-03-26T00:00:00+00:00\",\"2024-03-27T00:00:00+00:00\",\"2024-03-28T00:00:00+00:00\",\"2024-04-01T00:00:00+00:00\",\"2024-04-02T00:00:00+00:00\",\"2024-04-03T00:00:00+00:00\",\"2024-04-04T00:00:00+00:00\",\"2024-04-05T00:00:00+00:00\",\"2024-04-08T00:00:00+00:00\",\"2024-04-09T00:00:00+00:00\",\"2024-04-10T00:00:00+00:00\",\"2024-04-11T00:00:00+00:00\",\"2024-04-12T00:00:00+00:00\",\"2024-04-15T00:00:00+00:00\",\"2024-04-16T00:00:00+00:00\",\"2024-04-17T00:00:00+00:00\",\"2024-04-18T00:00:00+00:00\",\"2024-04-19T00:00:00+00:00\",\"2024-04-22T00:00:00+00:00\",\"2024-04-23T00:00:00+00:00\",\"2024-04-24T00:00:00+00:00\",\"2024-04-25T00:00:00+00:00\",\"2024-04-26T00:00:00+00:00\",\"2024-04-29T00:00:00+00:00\",\"2024-04-30T00:00:00+00:00\",\"2024-05-01T00:00:00+00:00\",\"2024-05-02T00:00:00+00:00\",\"2024-05-03T00:00:00+00:00\",\"2024-05-06T00:00:00+00:00\",\"2024-05-07T00:00:00+00:00\",\"2024-05-08T00:00:00+00:00\",\"2024-05-09T00:00:00+00:00\",\"2024-05-10T00:00:00+00:00\",\"2024-05-13T00:00:00+00:00\",\"2024-05-14T00:00:00+00:00\",\"2024-05-15T00:00:00+00:00\",\"2024-05-16T00:00:00+00:00\",\"2024-05-17T00:00:00+00:00\",\"2024-05-20T00:00:00+00:00\",\"2024-05-21T00:00:00+00:00\",\"2024-05-22T00:00:00+00:00\",\"2024-05-23T00:00:00+00:00\",\"2024-05-24T00:00:00+00:00\",\"2024-05-28T00:00:00+00:00\",\"2024-05-29T00:00:00+00:00\",\"2024-05-30T00:00:00+00:00\",\"2024-05-31T00:00:00+00:00\",\"2024-06-03T00:00:00+00:00\",\"2024-06-04T00:00:00+00:00\",\"2024-06-05T00:00:00+00:00\",\"2024-06-06T00:00:00+00:00\",\"2024-06-07T00:00:00+00:00\",\"2024-06-10T00:00:00+00:00\",\"2024-06-11T00:00:00+00:00\",\"2024-06-12T00:00:00+00:00\",\"2024-06-13T00:00:00+00:00\",\"2024-06-14T00:00:00+00:00\",\"2024-06-17T00:00:00+00:00\",\"2024-06-18T00:00:00+00:00\",\"2024-06-20T00:00:00+00:00\",\"2024-06-21T00:00:00+00:00\",\"2024-06-24T00:00:00+00:00\",\"2024-06-25T00:00:00+00:00\",\"2024-06-26T00:00:00+00:00\",\"2024-06-27T00:00:00+00:00\",\"2024-06-28T00:00:00+00:00\",\"2024-07-01T00:00:00+00:00\",\"2024-07-02T00:00:00+00:00\",\"2024-07-03T00:00:00+00:00\",\"2024-07-05T00:00:00+00:00\",\"2024-07-08T00:00:00+00:00\",\"2024-07-09T00:00:00+00:00\",\"2024-07-10T00:00:00+00:00\",\"2024-07-11T00:00:00+00:00\",\"2024-07-12T00:00:00+00:00\",\"2024-07-15T00:00:00+00:00\",\"2024-07-16T00:00:00+00:00\",\"2024-07-17T00:00:00+00:00\",\"2024-07-18T00:00:00+00:00\",\"2024-07-19T00:00:00+00:00\",\"2024-07-22T00:00:00+00:00\",\"2024-07-23T00:00:00+00:00\",\"2024-07-24T00:00:00+00:00\",\"2024-07-25T00:00:00+00:00\",\"2024-07-26T00:00:00+00:00\",\"2024-07-29T00:00:00+00:00\",\"2024-07-30T00:00:00+00:00\",\"2024-07-31T00:00:00+00:00\",\"2024-08-01T00:00:00+00:00\",\"2024-08-02T00:00:00+00:00\",\"2024-08-05T00:00:00+00:00\",\"2024-08-06T00:00:00+00:00\",\"2024-08-07T00:00:00+00:00\",\"2024-08-08T00:00:00+00:00\",\"2024-08-09T00:00:00+00:00\",\"2024-08-12T00:00:00+00:00\",\"2024-08-13T00:00:00+00:00\",\"2024-08-14T00:00:00+00:00\",\"2024-08-15T00:00:00+00:00\",\"2024-08-16T00:00:00+00:00\",\"2024-08-19T00:00:00+00:00\",\"2024-08-20T00:00:00+00:00\",\"2024-08-21T00:00:00+00:00\",\"2024-08-22T00:00:00+00:00\",\"2024-08-23T00:00:00+00:00\",\"2024-08-26T00:00:00+00:00\",\"2024-08-27T00:00:00+00:00\",\"2024-08-28T00:00:00+00:00\",\"2024-08-29T00:00:00+00:00\",\"2024-08-30T00:00:00+00:00\",\"2024-09-03T00:00:00+00:00\",\"2024-09-04T00:00:00+00:00\",\"2024-09-05T00:00:00+00:00\",\"2024-09-06T00:00:00+00:00\",\"2024-09-09T00:00:00+00:00\",\"2024-09-10T00:00:00+00:00\",\"2024-09-11T00:00:00+00:00\",\"2024-09-12T00:00:00+00:00\",\"2024-09-13T00:00:00+00:00\",\"2024-09-16T00:00:00+00:00\",\"2024-09-17T00:00:00+00:00\",\"2024-09-18T00:00:00+00:00\",\"2024-09-19T00:00:00+00:00\",\"2024-09-20T00:00:00+00:00\",\"2024-09-23T00:00:00+00:00\",\"2024-09-24T00:00:00+00:00\",\"2024-09-25T00:00:00+00:00\",\"2024-09-26T00:00:00+00:00\",\"2024-09-27T00:00:00+00:00\",\"2024-09-30T00:00:00+00:00\",\"2024-10-01T00:00:00+00:00\",\"2024-10-02T00:00:00+00:00\",\"2024-10-03T00:00:00+00:00\",\"2024-10-04T00:00:00+00:00\",\"2024-10-07T00:00:00+00:00\",\"2024-10-08T00:00:00+00:00\",\"2024-10-09T00:00:00+00:00\",\"2024-10-10T00:00:00+00:00\",\"2024-10-11T00:00:00+00:00\",\"2024-10-14T00:00:00+00:00\",\"2024-10-15T00:00:00+00:00\",\"2024-10-16T00:00:00+00:00\",\"2024-10-17T00:00:00+00:00\",\"2024-10-18T00:00:00+00:00\",\"2024-10-21T00:00:00+00:00\",\"2024-10-22T00:00:00+00:00\",\"2024-10-23T00:00:00+00:00\",\"2024-10-24T00:00:00+00:00\",\"2024-10-25T00:00:00+00:00\",\"2024-10-28T00:00:00+00:00\",\"2024-10-29T00:00:00+00:00\",\"2024-10-30T00:00:00+00:00\",\"2024-10-31T00:00:00+00:00\",\"2024-11-01T00:00:00+00:00\",\"2024-11-04T00:00:00+00:00\",\"2024-11-05T00:00:00+00:00\",\"2024-11-06T00:00:00+00:00\",\"2024-11-07T00:00:00+00:00\",\"2024-11-08T00:00:00+00:00\",\"2024-11-11T00:00:00+00:00\",\"2024-11-12T00:00:00+00:00\",\"2024-11-13T00:00:00+00:00\",\"2024-11-14T00:00:00+00:00\",\"2024-11-15T00:00:00+00:00\",\"2024-11-18T00:00:00+00:00\",\"2024-11-19T00:00:00+00:00\",\"2024-11-20T00:00:00+00:00\",\"2024-11-21T00:00:00+00:00\",\"2024-11-22T00:00:00+00:00\",\"2024-11-25T00:00:00+00:00\",\"2024-11-26T00:00:00+00:00\",\"2024-11-27T00:00:00+00:00\"],\"xaxis\":\"x\",\"y\":[188.86473083496094,189.47177124023438,188.44677734375,189.02395629882812,190.30767822265625,188.50650024414062,192.47705078125,191.38243103027344,193.3229217529297,194.75588989257812,192.2382049560547,193.76077270507812,196.9949188232422,197.14418029785156,196.60682678222656,194.9350128173828,195.97988891601562,193.88018798828125,193.7308807373047,192.65618896484375,192.10885620117188,192.20835876464844,192.63626098632812,191.5913848876953,184.73497009277344,183.3517608642578,181.02317810058594,180.2967071533203,184.65536499023438,184.23741149902344,185.2823028564453,184.6852264404297,185.01361083984375,182.73477172851562,181.78939819335938,187.71041870117188,190.62611389160156,192.9447479248047,194.2284698486328,193.55177307128906,193.223388671875,191.48193359375,190.7952880859375,187.12327575683594,183.5010223388672,185.9490509033203,184.94395446777344,186.76502990722656,188.3771514892578,188.4866180419922,187.4019317626953,188.1691436767578,186.4752655029297,184.37286376953125,183.48606872558594,183.19712829589844,181.65269470214844,180.90541076660156,181.66268920898438,183.7052764892578,181.86195373535156,180.50686645507812,181.9715576171875,180.7659149169922,180.09832763671875,179.0122833251953,174.4687042236328,169.5066680908203,168.51025390625,168.3907012939453,170.11444091796875,172.12718200683594,172.60543823242188,170.51303100585938,172.37628173828125,171.99765014648438,173.0936737060547,175.44517517089844,178.02584838867188,170.7521514892578,171.65887451171875,170.23403930664062,169.09815979003906,172.68515014648438,170.86175537109375,169.4169921875,168.23126220703125,169.03834533691406,168.21136474609375,168.96859741210938,167.84268188476562,169.0582733154297,167.1750946044922,174.40892028808594,175.91348266601562,172.0673828125,168.7693328857422,167.39430236816406,166.43775939941406,164.40512084960938,165.24208068847656,166.29824829101562,168.41062927246094,169.27749633789062,168.6896209716797,172.8744659423828,169.71591186523438,168.6896209716797,172.40615844726562,182.71884155273438,181.0548858642578,181.74237060546875,182.08116149902344,183.90457153320312,182.63742065429688,185.8601531982422,187.00755310058594,189.2924041748047,189.41212463378906,189.4420623779297,190.6094207763672,191.91647338867188,190.46974182128906,186.45880126953125,189.5518035888672,189.56179809570312,189.86111450195312,190.85885620117188,191.8166961669922,193.59266662597656,193.91195678710938,195.42852783203125,194.04165649414062,196.4462432861328,192.68472290039062,206.68310546875,212.58978271484375,213.75714111328125,212.01107788085938,216.18165588378906,213.8070068359375,209.20741271972656,207.02235412597656,207.67086791992188,208.59878540039062,212.7693634033203,213.61746215820312,210.14527893066406,216.261474609375,219.77354431152344,221.0506591796875,225.82984924316406,227.30653381347656,228.16458129882812,232.4548797607422,227.05709838867188,230.0203857421875,233.87168884277344,234.29075622558594,228.3641357421875,223.67471313476562,223.80442810058594,223.45523071289062,224.5028533935547,218.04742431640625,216.99981689453125,217.46875,217.7481231689453,218.30685424804688,221.5794677734375,217.8678436279297,219.3644561767578,208.79833984375,206.76292419433594,209.34710693359375,212.8292236328125,215.7526397705078,217.2909393310547,221.02682495117188,221.47633361816406,224.47303771972656,225.80157470703125,225.64175415039062,226.2610626220703,226.15118408203125,224.2832489013672,226.5906982421875,226.93032836914062,227.77938842773438,226.2410888671875,229.53746032714844,228.7483367919922,222.52517700195312,220.6072998046875,222.13560485839844,220.57733154296875,220.66722106933594,219.86810302734375,222.41529846191406,222.52517700195312,222.25547790527344,216.082275390625,216.55174255371094,220.4474639892578,228.61846923828125,227.94920349121094,226.2211151123047,227.1201171875,226.1212158203125,227.26995849609375,227.53965759277344,232.7439422607422,225.96141052246094,226.53077697753906,225.42198181152344,226.55075073242188,221.4463653564453,225.52188110351562,229.28773498535156,228.7882843017578,227.2999267578125,231.04580688476562,233.59300231933594,231.5252685546875,231.89486694335938,234.74172973632812,236.22010803222656,235.60079956054688,230.5063934326172,230.31661987304688,231.1556854248047,233.14349365234375,233.41319274902344,229.8471221923828,225.66172790527344,222.66502380371094,221.76600646972656,223.2044219970703,222.47523498535156,227.22999572753906,226.9600067138672,224.22999572753906,224.22999572753906,225.1199951171875,228.22000122070312,225.0,228.02000427246094,228.27999877929688,229.0,228.52000427246094,229.8699951171875,232.8699951171875,235.05999755859375,234.92999267578125],\"yaxis\":\"y\",\"type\":\"scatter\"}],                        {\"template\":{\"data\":{\"histogram2dcontour\":[{\"type\":\"histogram2dcontour\",\"colorbar\":{\"outlinewidth\":0,\"ticks\":\"\"},\"colorscale\":[[0.0,\"#0d0887\"],[0.1111111111111111,\"#46039f\"],[0.2222222222222222,\"#7201a8\"],[0.3333333333333333,\"#9c179e\"],[0.4444444444444444,\"#bd3786\"],[0.5555555555555556,\"#d8576b\"],[0.6666666666666666,\"#ed7953\"],[0.7777777777777778,\"#fb9f3a\"],[0.8888888888888888,\"#fdca26\"],[1.0,\"#f0f921\"]]}],\"choropleth\":[{\"type\":\"choropleth\",\"colorbar\":{\"outlinewidth\":0,\"ticks\":\"\"}}],\"histogram2d\":[{\"type\":\"histogram2d\",\"colorbar\":{\"outlinewidth\":0,\"ticks\":\"\"},\"colorscale\":[[0.0,\"#0d0887\"],[0.1111111111111111,\"#46039f\"],[0.2222222222222222,\"#7201a8\"],[0.3333333333333333,\"#9c179e\"],[0.4444444444444444,\"#bd3786\"],[0.5555555555555556,\"#d8576b\"],[0.6666666666666666,\"#ed7953\"],[0.7777777777777778,\"#fb9f3a\"],[0.8888888888888888,\"#fdca26\"],[1.0,\"#f0f921\"]]}],\"heatmap\":[{\"type\":\"heatmap\",\"colorbar\":{\"outlinewidth\":0,\"ticks\":\"\"},\"colorscale\":[[0.0,\"#0d0887\"],[0.1111111111111111,\"#46039f\"],[0.2222222222222222,\"#7201a8\"],[0.3333333333333333,\"#9c179e\"],[0.4444444444444444,\"#bd3786\"],[0.5555555555555556,\"#d8576b\"],[0.6666666666666666,\"#ed7953\"],[0.7777777777777778,\"#fb9f3a\"],[0.8888888888888888,\"#fdca26\"],[1.0,\"#f0f921\"]]}],\"heatmapgl\":[{\"type\":\"heatmapgl\",\"colorbar\":{\"outlinewidth\":0,\"ticks\":\"\"},\"colorscale\":[[0.0,\"#0d0887\"],[0.1111111111111111,\"#46039f\"],[0.2222222222222222,\"#7201a8\"],[0.3333333333333333,\"#9c179e\"],[0.4444444444444444,\"#bd3786\"],[0.5555555555555556,\"#d8576b\"],[0.6666666666666666,\"#ed7953\"],[0.7777777777777778,\"#fb9f3a\"],[0.8888888888888888,\"#fdca26\"],[1.0,\"#f0f921\"]]}],\"contourcarpet\":[{\"type\":\"contourcarpet\",\"colorbar\":{\"outlinewidth\":0,\"ticks\":\"\"}}],\"contour\":[{\"type\":\"contour\",\"colorbar\":{\"outlinewidth\":0,\"ticks\":\"\"},\"colorscale\":[[0.0,\"#0d0887\"],[0.1111111111111111,\"#46039f\"],[0.2222222222222222,\"#7201a8\"],[0.3333333333333333,\"#9c179e\"],[0.4444444444444444,\"#bd3786\"],[0.5555555555555556,\"#d8576b\"],[0.6666666666666666,\"#ed7953\"],[0.7777777777777778,\"#fb9f3a\"],[0.8888888888888888,\"#fdca26\"],[1.0,\"#f0f921\"]]}],\"surface\":[{\"type\":\"surface\",\"colorbar\":{\"outlinewidth\":0,\"ticks\":\"\"},\"colorscale\":[[0.0,\"#0d0887\"],[0.1111111111111111,\"#46039f\"],[0.2222222222222222,\"#7201a8\"],[0.3333333333333333,\"#9c179e\"],[0.4444444444444444,\"#bd3786\"],[0.5555555555555556,\"#d8576b\"],[0.6666666666666666,\"#ed7953\"],[0.7777777777777778,\"#fb9f3a\"],[0.8888888888888888,\"#fdca26\"],[1.0,\"#f0f921\"]]}],\"mesh3d\":[{\"type\":\"mesh3d\",\"colorbar\":{\"outlinewidth\":0,\"ticks\":\"\"}}],\"scatter\":[{\"fillpattern\":{\"fillmode\":\"overlay\",\"size\":10,\"solidity\":0.2},\"type\":\"scatter\"}],\"parcoords\":[{\"type\":\"parcoords\",\"line\":{\"colorbar\":{\"outlinewidth\":0,\"ticks\":\"\"}}}],\"scatterpolargl\":[{\"type\":\"scatterpolargl\",\"marker\":{\"colorbar\":{\"outlinewidth\":0,\"ticks\":\"\"}}}],\"bar\":[{\"error_x\":{\"color\":\"#2a3f5f\"},\"error_y\":{\"color\":\"#2a3f5f\"},\"marker\":{\"line\":{\"color\":\"#E5ECF6\",\"width\":0.5},\"pattern\":{\"fillmode\":\"overlay\",\"size\":10,\"solidity\":0.2}},\"type\":\"bar\"}],\"scattergeo\":[{\"type\":\"scattergeo\",\"marker\":{\"colorbar\":{\"outlinewidth\":0,\"ticks\":\"\"}}}],\"scatterpolar\":[{\"type\":\"scatterpolar\",\"marker\":{\"colorbar\":{\"outlinewidth\":0,\"ticks\":\"\"}}}],\"histogram\":[{\"marker\":{\"pattern\":{\"fillmode\":\"overlay\",\"size\":10,\"solidity\":0.2}},\"type\":\"histogram\"}],\"scattergl\":[{\"type\":\"scattergl\",\"marker\":{\"colorbar\":{\"outlinewidth\":0,\"ticks\":\"\"}}}],\"scatter3d\":[{\"type\":\"scatter3d\",\"line\":{\"colorbar\":{\"outlinewidth\":0,\"ticks\":\"\"}},\"marker\":{\"colorbar\":{\"outlinewidth\":0,\"ticks\":\"\"}}}],\"scattermapbox\":[{\"type\":\"scattermapbox\",\"marker\":{\"colorbar\":{\"outlinewidth\":0,\"ticks\":\"\"}}}],\"scatterternary\":[{\"type\":\"scatterternary\",\"marker\":{\"colorbar\":{\"outlinewidth\":0,\"ticks\":\"\"}}}],\"scattercarpet\":[{\"type\":\"scattercarpet\",\"marker\":{\"colorbar\":{\"outlinewidth\":0,\"ticks\":\"\"}}}],\"carpet\":[{\"aaxis\":{\"endlinecolor\":\"#2a3f5f\",\"gridcolor\":\"white\",\"linecolor\":\"white\",\"minorgridcolor\":\"white\",\"startlinecolor\":\"#2a3f5f\"},\"baxis\":{\"endlinecolor\":\"#2a3f5f\",\"gridcolor\":\"white\",\"linecolor\":\"white\",\"minorgridcolor\":\"white\",\"startlinecolor\":\"#2a3f5f\"},\"type\":\"carpet\"}],\"table\":[{\"cells\":{\"fill\":{\"color\":\"#EBF0F8\"},\"line\":{\"color\":\"white\"}},\"header\":{\"fill\":{\"color\":\"#C8D4E3\"},\"line\":{\"color\":\"white\"}},\"type\":\"table\"}],\"barpolar\":[{\"marker\":{\"line\":{\"color\":\"#E5ECF6\",\"width\":0.5},\"pattern\":{\"fillmode\":\"overlay\",\"size\":10,\"solidity\":0.2}},\"type\":\"barpolar\"}],\"pie\":[{\"automargin\":true,\"type\":\"pie\"}]},\"layout\":{\"autotypenumbers\":\"strict\",\"colorway\":[\"#636efa\",\"#EF553B\",\"#00cc96\",\"#ab63fa\",\"#FFA15A\",\"#19d3f3\",\"#FF6692\",\"#B6E880\",\"#FF97FF\",\"#FECB52\"],\"font\":{\"color\":\"#2a3f5f\"},\"hovermode\":\"closest\",\"hoverlabel\":{\"align\":\"left\"},\"paper_bgcolor\":\"white\",\"plot_bgcolor\":\"#E5ECF6\",\"polar\":{\"bgcolor\":\"#E5ECF6\",\"angularaxis\":{\"gridcolor\":\"white\",\"linecolor\":\"white\",\"ticks\":\"\"},\"radialaxis\":{\"gridcolor\":\"white\",\"linecolor\":\"white\",\"ticks\":\"\"}},\"ternary\":{\"bgcolor\":\"#E5ECF6\",\"aaxis\":{\"gridcolor\":\"white\",\"linecolor\":\"white\",\"ticks\":\"\"},\"baxis\":{\"gridcolor\":\"white\",\"linecolor\":\"white\",\"ticks\":\"\"},\"caxis\":{\"gridcolor\":\"white\",\"linecolor\":\"white\",\"ticks\":\"\"}},\"coloraxis\":{\"colorbar\":{\"outlinewidth\":0,\"ticks\":\"\"}},\"colorscale\":{\"sequential\":[[0.0,\"#0d0887\"],[0.1111111111111111,\"#46039f\"],[0.2222222222222222,\"#7201a8\"],[0.3333333333333333,\"#9c179e\"],[0.4444444444444444,\"#bd3786\"],[0.5555555555555556,\"#d8576b\"],[0.6666666666666666,\"#ed7953\"],[0.7777777777777778,\"#fb9f3a\"],[0.8888888888888888,\"#fdca26\"],[1.0,\"#f0f921\"]],\"sequentialminus\":[[0.0,\"#0d0887\"],[0.1111111111111111,\"#46039f\"],[0.2222222222222222,\"#7201a8\"],[0.3333333333333333,\"#9c179e\"],[0.4444444444444444,\"#bd3786\"],[0.5555555555555556,\"#d8576b\"],[0.6666666666666666,\"#ed7953\"],[0.7777777777777778,\"#fb9f3a\"],[0.8888888888888888,\"#fdca26\"],[1.0,\"#f0f921\"]],\"diverging\":[[0,\"#8e0152\"],[0.1,\"#c51b7d\"],[0.2,\"#de77ae\"],[0.3,\"#f1b6da\"],[0.4,\"#fde0ef\"],[0.5,\"#f7f7f7\"],[0.6,\"#e6f5d0\"],[0.7,\"#b8e186\"],[0.8,\"#7fbc41\"],[0.9,\"#4d9221\"],[1,\"#276419\"]]},\"xaxis\":{\"gridcolor\":\"white\",\"linecolor\":\"white\",\"ticks\":\"\",\"title\":{\"standoff\":15},\"zerolinecolor\":\"white\",\"automargin\":true,\"zerolinewidth\":2},\"yaxis\":{\"gridcolor\":\"white\",\"linecolor\":\"white\",\"ticks\":\"\",\"title\":{\"standoff\":15},\"zerolinecolor\":\"white\",\"automargin\":true,\"zerolinewidth\":2},\"scene\":{\"xaxis\":{\"backgroundcolor\":\"#E5ECF6\",\"gridcolor\":\"white\",\"linecolor\":\"white\",\"showbackground\":true,\"ticks\":\"\",\"zerolinecolor\":\"white\",\"gridwidth\":2},\"yaxis\":{\"backgroundcolor\":\"#E5ECF6\",\"gridcolor\":\"white\",\"linecolor\":\"white\",\"showbackground\":true,\"ticks\":\"\",\"zerolinecolor\":\"white\",\"gridwidth\":2},\"zaxis\":{\"backgroundcolor\":\"#E5ECF6\",\"gridcolor\":\"white\",\"linecolor\":\"white\",\"showbackground\":true,\"ticks\":\"\",\"zerolinecolor\":\"white\",\"gridwidth\":2}},\"shapedefaults\":{\"line\":{\"color\":\"#2a3f5f\"}},\"annotationdefaults\":{\"arrowcolor\":\"#2a3f5f\",\"arrowhead\":0,\"arrowwidth\":1},\"geo\":{\"bgcolor\":\"white\",\"landcolor\":\"#E5ECF6\",\"subunitcolor\":\"white\",\"showland\":true,\"showlakes\":true,\"lakecolor\":\"white\"},\"title\":{\"x\":0.05},\"mapbox\":{\"style\":\"light\"}}},\"xaxis\":{\"anchor\":\"y\",\"domain\":[0.0,1.0],\"title\":{\"text\":\"Date\"}},\"yaxis\":{\"anchor\":\"x\",\"domain\":[0.0,1.0],\"title\":{\"text\":\"Adj Close\"}},\"legend\":{\"tracegroupgap\":0},\"title\":{\"text\":\"Apple Stock Price\"}},                        {\"responsive\": true}                    ).then(function(){\n",
       "                            \n",
       "var gd = document.getElementById('e8aaa0aa-529a-42a6-9abb-5bd1d5ca5e16');\n",
       "var x = new MutationObserver(function (mutations, observer) {{\n",
       "        var display = window.getComputedStyle(gd).display;\n",
       "        if (!display || display === 'none') {{\n",
       "            console.log([gd, 'removed!']);\n",
       "            Plotly.purge(gd);\n",
       "            observer.disconnect();\n",
       "        }}\n",
       "}});\n",
       "\n",
       "// Listen for the removal of the full notebook cells\n",
       "var notebookContainer = gd.closest('#notebook-container');\n",
       "if (notebookContainer) {{\n",
       "    x.observe(notebookContainer, {childList: true});\n",
       "}}\n",
       "\n",
       "// Listen for the clearing of the current output cell\n",
       "var outputEl = gd.closest('.output');\n",
       "if (outputEl) {{\n",
       "    x.observe(outputEl, {childList: true});\n",
       "}}\n",
       "\n",
       "                        })                };                            </script>        </div>\n",
       "</body>\n",
       "</html>"
      ]
     },
     "metadata": {},
     "output_type": "display_data"
    }
   ],
   "source": [
    "fig = px.line(data, x = data.index, y = \"Adj Close\", title = \"Apple Stock Price\")\n",
    "fig.show()"
   ]
  },
  {
   "cell_type": "markdown",
   "metadata": {
    "id": "aeMvMb8eW6g0"
   },
   "source": [
    "**This data shows the upwards trend, there is no seasonality**"
   ]
  },
  {
   "cell_type": "markdown",
   "metadata": {
    "id": "d_HgoY99XH_y"
   },
   "source": [
    "<hr>\n",
    "\n",
    "**Data Description**"
   ]
  },
  {
   "cell_type": "code",
   "execution_count": 24,
   "metadata": {
    "colab": {
     "base_uri": "https://localhost:8080/",
     "height": 300
    },
    "id": "NH6M9LuYWtO_",
    "outputId": "b63f092d-6f0e-42fc-c601-98e946e85d35"
   },
   "outputs": [
    {
     "data": {
      "application/vnd.google.colaboratory.intrinsic+json": {
       "summary": "{\n  \"name\": \"data\",\n  \"rows\": 8,\n  \"fields\": [\n    {\n      \"column\": \"Adj Close\",\n      \"properties\": {\n        \"dtype\": \"number\",\n        \"std\": 71.9413759946716,\n        \"min\": 22.23763795789103,\n        \"max\": 254.0,\n        \"num_unique_values\": 8,\n        \"samples\": [\n          201.79519719401682,\n          194.49217987060547,\n          254.0\n        ],\n        \"semantic_type\": \"\",\n        \"description\": \"\"\n      }\n    },\n    {\n      \"column\": \"Close\",\n      \"properties\": {\n        \"dtype\": \"number\",\n        \"std\": 72.05508417830912,\n        \"min\": 22.054553943797416,\n        \"max\": 254.0,\n        \"num_unique_values\": 8,\n        \"samples\": [\n          202.31677149975394,\n          195.44499969482422,\n          254.0\n        ],\n        \"semantic_type\": \"\",\n        \"description\": \"\"\n      }\n    },\n    {\n      \"column\": \"High\",\n      \"properties\": {\n        \"dtype\": \"number\",\n        \"std\": 72.29545762852611,\n        \"min\": 22.21502941741982,\n        \"max\": 254.0,\n        \"num_unique_values\": 8,\n        \"samples\": [\n          203.9799214761088,\n          196.9199981689453,\n          254.0\n        ],\n        \"semantic_type\": \"\",\n        \"description\": \"\"\n      }\n    },\n    {\n      \"column\": \"Low\",\n      \"properties\": {\n        \"dtype\": \"number\",\n        \"std\": 71.79048670703162,\n        \"min\": 21.69752551157813,\n        \"max\": 254.0,\n        \"num_unique_values\": 8,\n        \"samples\": [\n          200.4309449683963,\n          194.15499877929688,\n          254.0\n        ],\n        \"semantic_type\": \"\",\n        \"description\": \"\"\n      }\n    },\n    {\n      \"column\": \"Open\",\n      \"properties\": {\n        \"dtype\": \"number\",\n        \"std\": 72.05312589674638,\n        \"min\": 21.989153614314873,\n        \"max\": 254.0,\n        \"num_unique_values\": 8,\n        \"samples\": [\n          202.15299176794338,\n          195.40999603271484,\n          254.0\n        ],\n        \"semantic_type\": \"\",\n        \"description\": \"\"\n      }\n    },\n    {\n      \"column\": \"Volume\",\n      \"properties\": {\n        \"dtype\": \"number\",\n        \"std\": 100930478.56678402,\n        \"min\": 254.0,\n        \"max\": 318679900.0,\n        \"num_unique_values\": 8,\n        \"samples\": [\n          57571648.03149606,\n          50135550.0,\n          254.0\n        ],\n        \"semantic_type\": \"\",\n        \"description\": \"\"\n      }\n    }\n  ]\n}",
       "type": "dataframe"
      },
      "text/html": [
       "\n",
       "  <div id=\"df-fa745444-3c7e-4841-8dae-0fcdb5dba4bd\" class=\"colab-df-container\">\n",
       "    <div>\n",
       "<style scoped>\n",
       "    .dataframe tbody tr th:only-of-type {\n",
       "        vertical-align: middle;\n",
       "    }\n",
       "\n",
       "    .dataframe tbody tr th {\n",
       "        vertical-align: top;\n",
       "    }\n",
       "\n",
       "    .dataframe thead th {\n",
       "        text-align: right;\n",
       "    }\n",
       "</style>\n",
       "<table border=\"1\" class=\"dataframe\">\n",
       "  <thead>\n",
       "    <tr style=\"text-align: right;\">\n",
       "      <th></th>\n",
       "      <th>Adj Close</th>\n",
       "      <th>Close</th>\n",
       "      <th>High</th>\n",
       "      <th>Low</th>\n",
       "      <th>Open</th>\n",
       "      <th>Volume</th>\n",
       "    </tr>\n",
       "  </thead>\n",
       "  <tbody>\n",
       "    <tr>\n",
       "      <th>count</th>\n",
       "      <td>254.000000</td>\n",
       "      <td>254.000000</td>\n",
       "      <td>254.000000</td>\n",
       "      <td>254.000000</td>\n",
       "      <td>254.000000</td>\n",
       "      <td>2.540000e+02</td>\n",
       "    </tr>\n",
       "    <tr>\n",
       "      <th>mean</th>\n",
       "      <td>201.795197</td>\n",
       "      <td>202.316771</td>\n",
       "      <td>203.979921</td>\n",
       "      <td>200.430945</td>\n",
       "      <td>202.152992</td>\n",
       "      <td>5.757165e+07</td>\n",
       "    </tr>\n",
       "    <tr>\n",
       "      <th>std</th>\n",
       "      <td>22.237638</td>\n",
       "      <td>22.054554</td>\n",
       "      <td>22.215029</td>\n",
       "      <td>21.697526</td>\n",
       "      <td>21.989154</td>\n",
       "      <td>3.031527e+07</td>\n",
       "    </tr>\n",
       "    <tr>\n",
       "      <th>min</th>\n",
       "      <td>164.405121</td>\n",
       "      <td>165.000000</td>\n",
       "      <td>166.399994</td>\n",
       "      <td>164.080002</td>\n",
       "      <td>165.350006</td>\n",
       "      <td>2.811130e+07</td>\n",
       "    </tr>\n",
       "    <tr>\n",
       "      <th>25%</th>\n",
       "      <td>183.489807</td>\n",
       "      <td>184.279999</td>\n",
       "      <td>185.244995</td>\n",
       "      <td>182.282497</td>\n",
       "      <td>183.937500</td>\n",
       "      <td>4.215368e+07</td>\n",
       "    </tr>\n",
       "    <tr>\n",
       "      <th>50%</th>\n",
       "      <td>194.492180</td>\n",
       "      <td>195.445000</td>\n",
       "      <td>196.919998</td>\n",
       "      <td>194.154999</td>\n",
       "      <td>195.409996</td>\n",
       "      <td>5.013555e+07</td>\n",
       "    </tr>\n",
       "    <tr>\n",
       "      <th>75%</th>\n",
       "      <td>224.425591</td>\n",
       "      <td>224.672501</td>\n",
       "      <td>226.762501</td>\n",
       "      <td>222.955002</td>\n",
       "      <td>224.622505</td>\n",
       "      <td>6.415668e+07</td>\n",
       "    </tr>\n",
       "    <tr>\n",
       "      <th>max</th>\n",
       "      <td>236.220108</td>\n",
       "      <td>236.479996</td>\n",
       "      <td>237.490005</td>\n",
       "      <td>234.449997</td>\n",
       "      <td>236.479996</td>\n",
       "      <td>3.186799e+08</td>\n",
       "    </tr>\n",
       "  </tbody>\n",
       "</table>\n",
       "</div>\n",
       "    <div class=\"colab-df-buttons\">\n",
       "\n",
       "  <div class=\"colab-df-container\">\n",
       "    <button class=\"colab-df-convert\" onclick=\"convertToInteractive('df-fa745444-3c7e-4841-8dae-0fcdb5dba4bd')\"\n",
       "            title=\"Convert this dataframe to an interactive table.\"\n",
       "            style=\"display:none;\">\n",
       "\n",
       "  <svg xmlns=\"http://www.w3.org/2000/svg\" height=\"24px\" viewBox=\"0 -960 960 960\">\n",
       "    <path d=\"M120-120v-720h720v720H120Zm60-500h600v-160H180v160Zm220 220h160v-160H400v160Zm0 220h160v-160H400v160ZM180-400h160v-160H180v160Zm440 0h160v-160H620v160ZM180-180h160v-160H180v160Zm440 0h160v-160H620v160Z\"/>\n",
       "  </svg>\n",
       "    </button>\n",
       "\n",
       "  <style>\n",
       "    .colab-df-container {\n",
       "      display:flex;\n",
       "      gap: 12px;\n",
       "    }\n",
       "\n",
       "    .colab-df-convert {\n",
       "      background-color: #E8F0FE;\n",
       "      border: none;\n",
       "      border-radius: 50%;\n",
       "      cursor: pointer;\n",
       "      display: none;\n",
       "      fill: #1967D2;\n",
       "      height: 32px;\n",
       "      padding: 0 0 0 0;\n",
       "      width: 32px;\n",
       "    }\n",
       "\n",
       "    .colab-df-convert:hover {\n",
       "      background-color: #E2EBFA;\n",
       "      box-shadow: 0px 1px 2px rgba(60, 64, 67, 0.3), 0px 1px 3px 1px rgba(60, 64, 67, 0.15);\n",
       "      fill: #174EA6;\n",
       "    }\n",
       "\n",
       "    .colab-df-buttons div {\n",
       "      margin-bottom: 4px;\n",
       "    }\n",
       "\n",
       "    [theme=dark] .colab-df-convert {\n",
       "      background-color: #3B4455;\n",
       "      fill: #D2E3FC;\n",
       "    }\n",
       "\n",
       "    [theme=dark] .colab-df-convert:hover {\n",
       "      background-color: #434B5C;\n",
       "      box-shadow: 0px 1px 3px 1px rgba(0, 0, 0, 0.15);\n",
       "      filter: drop-shadow(0px 1px 2px rgba(0, 0, 0, 0.3));\n",
       "      fill: #FFFFFF;\n",
       "    }\n",
       "  </style>\n",
       "\n",
       "    <script>\n",
       "      const buttonEl =\n",
       "        document.querySelector('#df-fa745444-3c7e-4841-8dae-0fcdb5dba4bd button.colab-df-convert');\n",
       "      buttonEl.style.display =\n",
       "        google.colab.kernel.accessAllowed ? 'block' : 'none';\n",
       "\n",
       "      async function convertToInteractive(key) {\n",
       "        const element = document.querySelector('#df-fa745444-3c7e-4841-8dae-0fcdb5dba4bd');\n",
       "        const dataTable =\n",
       "          await google.colab.kernel.invokeFunction('convertToInteractive',\n",
       "                                                    [key], {});\n",
       "        if (!dataTable) return;\n",
       "\n",
       "        const docLinkHtml = 'Like what you see? Visit the ' +\n",
       "          '<a target=\"_blank\" href=https://colab.research.google.com/notebooks/data_table.ipynb>data table notebook</a>'\n",
       "          + ' to learn more about interactive tables.';\n",
       "        element.innerHTML = '';\n",
       "        dataTable['output_type'] = 'display_data';\n",
       "        await google.colab.output.renderOutput(dataTable, element);\n",
       "        const docLink = document.createElement('div');\n",
       "        docLink.innerHTML = docLinkHtml;\n",
       "        element.appendChild(docLink);\n",
       "      }\n",
       "    </script>\n",
       "  </div>\n",
       "\n",
       "\n",
       "<div id=\"df-670fade5-cf92-4c08-97d4-5b7939fbabcd\">\n",
       "  <button class=\"colab-df-quickchart\" onclick=\"quickchart('df-670fade5-cf92-4c08-97d4-5b7939fbabcd')\"\n",
       "            title=\"Suggest charts\"\n",
       "            style=\"display:none;\">\n",
       "\n",
       "<svg xmlns=\"http://www.w3.org/2000/svg\" height=\"24px\"viewBox=\"0 0 24 24\"\n",
       "     width=\"24px\">\n",
       "    <g>\n",
       "        <path d=\"M19 3H5c-1.1 0-2 .9-2 2v14c0 1.1.9 2 2 2h14c1.1 0 2-.9 2-2V5c0-1.1-.9-2-2-2zM9 17H7v-7h2v7zm4 0h-2V7h2v10zm4 0h-2v-4h2v4z\"/>\n",
       "    </g>\n",
       "</svg>\n",
       "  </button>\n",
       "\n",
       "<style>\n",
       "  .colab-df-quickchart {\n",
       "      --bg-color: #E8F0FE;\n",
       "      --fill-color: #1967D2;\n",
       "      --hover-bg-color: #E2EBFA;\n",
       "      --hover-fill-color: #174EA6;\n",
       "      --disabled-fill-color: #AAA;\n",
       "      --disabled-bg-color: #DDD;\n",
       "  }\n",
       "\n",
       "  [theme=dark] .colab-df-quickchart {\n",
       "      --bg-color: #3B4455;\n",
       "      --fill-color: #D2E3FC;\n",
       "      --hover-bg-color: #434B5C;\n",
       "      --hover-fill-color: #FFFFFF;\n",
       "      --disabled-bg-color: #3B4455;\n",
       "      --disabled-fill-color: #666;\n",
       "  }\n",
       "\n",
       "  .colab-df-quickchart {\n",
       "    background-color: var(--bg-color);\n",
       "    border: none;\n",
       "    border-radius: 50%;\n",
       "    cursor: pointer;\n",
       "    display: none;\n",
       "    fill: var(--fill-color);\n",
       "    height: 32px;\n",
       "    padding: 0;\n",
       "    width: 32px;\n",
       "  }\n",
       "\n",
       "  .colab-df-quickchart:hover {\n",
       "    background-color: var(--hover-bg-color);\n",
       "    box-shadow: 0 1px 2px rgba(60, 64, 67, 0.3), 0 1px 3px 1px rgba(60, 64, 67, 0.15);\n",
       "    fill: var(--button-hover-fill-color);\n",
       "  }\n",
       "\n",
       "  .colab-df-quickchart-complete:disabled,\n",
       "  .colab-df-quickchart-complete:disabled:hover {\n",
       "    background-color: var(--disabled-bg-color);\n",
       "    fill: var(--disabled-fill-color);\n",
       "    box-shadow: none;\n",
       "  }\n",
       "\n",
       "  .colab-df-spinner {\n",
       "    border: 2px solid var(--fill-color);\n",
       "    border-color: transparent;\n",
       "    border-bottom-color: var(--fill-color);\n",
       "    animation:\n",
       "      spin 1s steps(1) infinite;\n",
       "  }\n",
       "\n",
       "  @keyframes spin {\n",
       "    0% {\n",
       "      border-color: transparent;\n",
       "      border-bottom-color: var(--fill-color);\n",
       "      border-left-color: var(--fill-color);\n",
       "    }\n",
       "    20% {\n",
       "      border-color: transparent;\n",
       "      border-left-color: var(--fill-color);\n",
       "      border-top-color: var(--fill-color);\n",
       "    }\n",
       "    30% {\n",
       "      border-color: transparent;\n",
       "      border-left-color: var(--fill-color);\n",
       "      border-top-color: var(--fill-color);\n",
       "      border-right-color: var(--fill-color);\n",
       "    }\n",
       "    40% {\n",
       "      border-color: transparent;\n",
       "      border-right-color: var(--fill-color);\n",
       "      border-top-color: var(--fill-color);\n",
       "    }\n",
       "    60% {\n",
       "      border-color: transparent;\n",
       "      border-right-color: var(--fill-color);\n",
       "    }\n",
       "    80% {\n",
       "      border-color: transparent;\n",
       "      border-right-color: var(--fill-color);\n",
       "      border-bottom-color: var(--fill-color);\n",
       "    }\n",
       "    90% {\n",
       "      border-color: transparent;\n",
       "      border-bottom-color: var(--fill-color);\n",
       "    }\n",
       "  }\n",
       "</style>\n",
       "\n",
       "  <script>\n",
       "    async function quickchart(key) {\n",
       "      const quickchartButtonEl =\n",
       "        document.querySelector('#' + key + ' button');\n",
       "      quickchartButtonEl.disabled = true;  // To prevent multiple clicks.\n",
       "      quickchartButtonEl.classList.add('colab-df-spinner');\n",
       "      try {\n",
       "        const charts = await google.colab.kernel.invokeFunction(\n",
       "            'suggestCharts', [key], {});\n",
       "      } catch (error) {\n",
       "        console.error('Error during call to suggestCharts:', error);\n",
       "      }\n",
       "      quickchartButtonEl.classList.remove('colab-df-spinner');\n",
       "      quickchartButtonEl.classList.add('colab-df-quickchart-complete');\n",
       "    }\n",
       "    (() => {\n",
       "      let quickchartButtonEl =\n",
       "        document.querySelector('#df-670fade5-cf92-4c08-97d4-5b7939fbabcd button');\n",
       "      quickchartButtonEl.style.display =\n",
       "        google.colab.kernel.accessAllowed ? 'block' : 'none';\n",
       "    })();\n",
       "  </script>\n",
       "</div>\n",
       "\n",
       "    </div>\n",
       "  </div>\n"
      ],
      "text/plain": [
       "        Adj Close       Close        High         Low        Open  \\\n",
       "count  254.000000  254.000000  254.000000  254.000000  254.000000   \n",
       "mean   201.795197  202.316771  203.979921  200.430945  202.152992   \n",
       "std     22.237638   22.054554   22.215029   21.697526   21.989154   \n",
       "min    164.405121  165.000000  166.399994  164.080002  165.350006   \n",
       "25%    183.489807  184.279999  185.244995  182.282497  183.937500   \n",
       "50%    194.492180  195.445000  196.919998  194.154999  195.409996   \n",
       "75%    224.425591  224.672501  226.762501  222.955002  224.622505   \n",
       "max    236.220108  236.479996  237.490005  234.449997  236.479996   \n",
       "\n",
       "             Volume  \n",
       "count  2.540000e+02  \n",
       "mean   5.757165e+07  \n",
       "std    3.031527e+07  \n",
       "min    2.811130e+07  \n",
       "25%    4.215368e+07  \n",
       "50%    5.013555e+07  \n",
       "75%    6.415668e+07  \n",
       "max    3.186799e+08  "
      ]
     },
     "execution_count": 24,
     "metadata": {},
     "output_type": "execute_result"
    }
   ],
   "source": [
    "data.describe()"
   ]
  },
  {
   "cell_type": "markdown",
   "metadata": {
    "id": "SCUKWSLFXoAf"
   },
   "source": [
    "**As this is a stock data, so markets are closed on weekends and national holiday. Hence whenever you are going to work with the stock data, there would be difference due to the above mentioned**"
   ]
  },
  {
   "cell_type": "code",
   "execution_count": 25,
   "metadata": {
    "colab": {
     "base_uri": "https://localhost:8080/"
    },
    "id": "1Yi30v5IXNEs",
    "outputId": "56c6354a-c659-4540-bf0c-f4d3616d308a"
   },
   "outputs": [
    {
     "data": {
      "text/plain": [
       "261"
      ]
     },
     "execution_count": 25,
     "metadata": {},
     "output_type": "execute_result"
    }
   ],
   "source": [
    "365 - 104"
   ]
  },
  {
   "cell_type": "code",
   "execution_count": 26,
   "metadata": {
    "colab": {
     "base_uri": "https://localhost:8080/",
     "height": 466
    },
    "id": "dfSXd-ufXTs-",
    "outputId": "f506c77d-ffc8-4cc5-8857-0f03a8301bf3"
   },
   "outputs": [
    {
     "data": {
      "text/plain": [
       "<Axes: xlabel='Adj Close', ylabel='Density'>"
      ]
     },
     "execution_count": 26,
     "metadata": {},
     "output_type": "execute_result"
    },
    {
     "data": {
      "image/png": "[encoded data removed]",
      "text/plain": [
       "<Figure size 640x480 with 1 Axes>"
      ]
     },
     "metadata": {},
     "output_type": "display_data"
    }
   ],
   "source": [
    "sns.distplot(data[\"Adj Close\"])\n",
    "#below distrubution is known as bimodel distribution means two separate grps within the same data"
   ]
  },
  {
   "cell_type": "markdown",
   "metadata": {
    "id": "BDDlD0u5YhdZ"
   },
   "source": [
    "# **Step 3 - Information on Close Price**"
   ]
  },
  {
   "cell_type": "code",
   "execution_count": 27,
   "metadata": {
    "colab": {
     "base_uri": "https://localhost:8080/",
     "height": 524
    },
    "id": "HhqnLiEjYQzK",
    "outputId": "5fa5cc0d-801a-447b-9857-2bdb8b161c1e"
   },
   "outputs": [
    {
     "data": {
      "image/png": "[encoded data removed]",
      "text/plain": [
       "<Figure size 1500x600 with 1 Axes>"
      ]
     },
     "metadata": {},
     "output_type": "display_data"
    }
   ],
   "source": [
    "plt.figure(figsize = (15, 6))\n",
    "plt.plot(data.Close, color = \"red\")\n",
    "plt.title(\"Closing Price\")\n",
    "plt.xlabel(\"Date of Stock\")\n",
    "plt.ylabel(\"Closing Price\")\n",
    "plt.show()"
   ]
  },
  {
   "cell_type": "markdown",
   "metadata": {
    "id": "pe4QU0anZj14"
   },
   "source": [
    "# **Step 4 - Information on the volumn of assests sold**"
   ]
  },
  {
   "cell_type": "code",
   "execution_count": 28,
   "metadata": {
    "colab": {
     "base_uri": "https://localhost:8080/",
     "height": 526
    },
    "id": "PCYSk70ZZL28",
    "outputId": "f3f391b8-32ae-4940-a7c1-8116fe1123a1"
   },
   "outputs": [
    {
     "data": {
      "image/png": "[encoded data removed]",
      "text/plain": [
       "<Figure size 1500x600 with 1 Axes>"
      ]
     },
     "metadata": {},
     "output_type": "display_data"
    }
   ],
   "source": [
    "plt.figure(figsize = (15, 6))\n",
    "plt.plot(data.Volume, color = \"blue\")\n",
    "plt.title(\"Volumne of the stock\")\n",
    "plt.xlabel(\"Date of stock\")\n",
    "plt.ylabel(\"Volumne\")\n",
    "plt.show()"
   ]
  },
  {
   "cell_type": "markdown",
   "metadata": {
    "id": "kEn1UJQaZ-VM"
   },
   "source": [
    "**Using this graph, we can conclude that the trade of assests was normal in the intial phase. But as soon as we touched the mid-year, we can see a huge inflation in the volume of stock being traded**\n",
    "  * **In May to October, there has been a lot of trading**"
   ]
  },
  {
   "cell_type": "markdown",
   "metadata": {
    "id": "mDGW7lH9aWGp"
   },
   "source": [
    "<hr>\n",
    "\n",
    "# **Step 5 - Working with Moving Average**"
   ]
  },
  {
   "cell_type": "code",
   "execution_count": 29,
   "metadata": {
    "id": "hhDKE0AkZp7x"
   },
   "outputs": [],
   "source": [
    "moving_average = [10, 20, 50]\n",
    "\n",
    "for x in moving_average:\n",
    "  column_name = f\"MA for {x} days\"\n",
    "  data[column_name] = data[\"Close\"].rolling(window = x).mean()"
   ]
  },
  {
   "cell_type": "code",
   "execution_count": 30,
   "metadata": {
    "colab": {
     "base_uri": "https://localhost:8080/",
     "height": 542
    },
    "id": "29qXpFTZax8c",
    "outputId": "28cef6b0-1b55-4987-ac11-cca02c4c2bb4"
   },
   "outputs": [
    {
     "data": {
      "text/html": [
       "<html>\n",
       "<head><meta charset=\"utf-8\" /></head>\n",
       "<body>\n",
       "    <div>            <script src=\"https://cdnjs.cloudflare.com/ajax/libs/mathjax/2.7.5/MathJax.js?config=TeX-AMS-MML_SVG\"></script><script type=\"text/javascript\">if (window.MathJax && window.MathJax.Hub && window.MathJax.Hub.Config) {window.MathJax.Hub.Config({SVG: {font: \"STIX-Web\"}});}</script>                <script type=\"text/javascript\">window.PlotlyConfig = {MathJaxConfig: 'local'};</script>\n",
       "        <script charset=\"utf-8\" src=\"https://cdn.plot.ly/plotly-2.35.2.min.js\"></script>                <div id=\"9bb16736-0ca7-4fe1-9d21-2b7d8975821d\" class=\"plotly-graph-div\" style=\"height:525px; width:100%;\"></div>            <script type=\"text/javascript\">                                    window.PLOTLYENV=window.PLOTLYENV || {};                                    if (document.getElementById(\"9bb16736-0ca7-4fe1-9d21-2b7d8975821d\")) {                    Plotly.newPlot(                        \"9bb16736-0ca7-4fe1-9d21-2b7d8975821d\",                        [{\"hovertemplate\":\"variable=MA for 10 days\\u003cbr\\u003eDate=%{x}\\u003cbr\\u003evalue=%{y}\\u003cextra\\u003e\\u003c\\u002fextra\\u003e\",\"legendgroup\":\"MA for 10 days\",\"line\":{\"color\":\"#636efa\",\"dash\":\"solid\"},\"marker\":{\"symbol\":\"circle\"},\"mode\":\"lines\",\"name\":\"MA for 10 days\",\"orientation\":\"v\",\"showlegend\":true,\"x\":[\"2023-11-27T00:00:00+00:00\",\"2023-11-28T00:00:00+00:00\",\"2023-11-29T00:00:00+00:00\",\"2023-11-30T00:00:00+00:00\",\"2023-12-01T00:00:00+00:00\",\"2023-12-04T00:00:00+00:00\",\"2023-12-05T00:00:00+00:00\",\"2023-12-06T00:00:00+00:00\",\"2023-12-07T00:00:00+00:00\",\"2023-12-08T00:00:00+00:00\",\"2023-12-11T00:00:00+00:00\",\"2023-12-12T00:00:00+00:00\",\"2023-12-13T00:00:00+00:00\",\"2023-12-14T00:00:00+00:00\",\"2023-12-15T00:00:00+00:00\",\"2023-12-18T00:00:00+00:00\",\"2023-12-19T00:00:00+00:00\",\"2023-12-20T00:00:00+00:00\",\"2023-12-21T00:00:00+00:00\",\"2023-12-22T00:00:00+00:00\",\"2023-12-26T00:00:00+00:00\",\"2023-12-27T00:00:00+00:00\",\"2023-12-28T00:00:00+00:00\",\"2023-12-29T00:00:00+00:00\",\"2024-01-02T00:00:00+00:00\",\"2024-01-03T00:00:00+00:00\",\"2024-01-04T00:00:00+00:00\",\"2024-01-05T00:00:00+00:00\",\"2024-01-08T00:00:00+00:00\",\"2024-01-09T00:00:00+00:00\",\"2024-01-10T00:00:00+00:00\",\"2024-01-11T00:00:00+00:00\",\"2024-01-12T00:00:00+00:00\",\"2024-01-16T00:00:00+00:00\",\"2024-01-17T00:00:00+00:00\",\"2024-01-18T00:00:00+00:00\",\"2024-01-19T00:00:00+00:00\",\"2024-01-22T00:00:00+00:00\",\"2024-01-23T00:00:00+00:00\",\"2024-01-24T00:00:00+00:00\",\"2024-01-25T00:00:00+00:00\",\"2024-01-26T00:00:00+00:00\",\"2024-01-29T00:00:00+00:00\",\"2024-01-30T00:00:00+00:00\",\"2024-01-31T00:00:00+00:00\",\"2024-02-01T00:00:00+00:00\",\"2024-02-02T00:00:00+00:00\",\"2024-02-05T00:00:00+00:00\",\"2024-02-06T00:00:00+00:00\",\"2024-02-07T00:00:00+00:00\",\"2024-02-08T00:00:00+00:00\",\"2024-02-09T00:00:00+00:00\",\"2024-02-12T00:00:00+00:00\",\"2024-02-13T00:00:00+00:00\",\"2024-02-14T00:00:00+00:00\",\"2024-02-15T00:00:00+00:00\",\"2024-02-16T00:00:00+00:00\",\"2024-02-20T00:00:00+00:00\",\"2024-02-21T00:00:00+00:00\",\"2024-02-22T00:00:00+00:00\",\"2024-02-23T00:00:00+00:00\",\"2024-02-26T00:00:00+00:00\",\"2024-02-27T00:00:00+00:00\",\"2024-02-28T00:00:00+00:00\",\"2024-02-29T00:00:00+00:00\",\"2024-03-01T00:00:00+00:00\",\"2024-03-04T00:00:00+00:00\",\"2024-03-05T00:00:00+00:00\",\"2024-03-06T00:00:00+00:00\",\"2024-03-07T00:00:00+00:00\",\"2024-03-08T00:00:00+00:00\",\"2024-03-11T00:00:00+00:00\",\"2024-03-12T00:00:00+00:00\",\"2024-03-13T00:00:00+00:00\",\"2024-03-14T00:00:00+00:00\",\"2024-03-15T00:00:00+00:00\",\"2024-03-18T00:00:00+00:00\",\"2024-03-19T00:00:00+00:00\",\"2024-03-20T00:00:00+00:00\",\"2024-03-21T00:00:00+00:00\",\"2024-03-22T00:00:00+00:00\",\"2024-03-25T00:00:00+00:00\",\"2024-03-26T00:00:00+00:00\",\"2024-03-27T00:00:00+00:00\",\"2024-03-28T00:00:00+00:00\",\"2024-04-01T00:00:00+00:00\",\"2024-04-02T00:00:00+00:00\",\"2024-04-03T00:00:00+00:00\",\"2024-04-04T00:00:00+00:00\",\"2024-04-05T00:00:00+00:00\",\"2024-04-08T00:00:00+00:00\",\"2024-04-09T00:00:00+00:00\",\"2024-04-10T00:00:00+00:00\",\"2024-04-11T00:00:00+00:00\",\"2024-04-12T00:00:00+00:00\",\"2024-04-15T00:00:00+00:00\",\"2024-04-16T00:00:00+00:00\",\"2024-04-17T00:00:00+00:00\",\"2024-04-18T00:00:00+00:00\",\"2024-04-19T00:00:00+00:00\",\"2024-04-22T00:00:00+00:00\",\"2024-04-23T00:00:00+00:00\",\"2024-04-24T00:00:00+00:00\",\"2024-04-25T00:00:00+00:00\",\"2024-04-26T00:00:00+00:00\",\"2024-04-29T00:00:00+00:00\",\"2024-04-30T00:00:00+00:00\",\"2024-05-01T00:00:00+00:00\",\"2024-05-02T00:00:00+00:00\",\"2024-05-03T00:00:00+00:00\",\"2024-05-06T00:00:00+00:00\",\"2024-05-07T00:00:00+00:00\",\"2024-05-08T00:00:00+00:00\",\"2024-05-09T00:00:00+00:00\",\"2024-05-10T00:00:00+00:00\",\"2024-05-13T00:00:00+00:00\",\"2024-05-14T00:00:00+00:00\",\"2024-05-15T00:00:00+00:00\",\"2024-05-16T00:00:00+00:00\",\"2024-05-17T00:00:00+00:00\",\"2024-05-20T00:00:00+00:00\",\"2024-05-21T00:00:00+00:00\",\"2024-05-22T00:00:00+00:00\",\"2024-05-23T00:00:00+00:00\",\"2024-05-24T00:00:00+00:00\",\"2024-05-28T00:00:00+00:00\",\"2024-05-29T00:00:00+00:00\",\"2024-05-30T00:00:00+00:00\",\"2024-05-31T00:00:00+00:00\",\"2024-06-03T00:00:00+00:00\",\"2024-06-04T00:00:00+00:00\",\"2024-06-05T00:00:00+00:00\",\"2024-06-06T00:00:00+00:00\",\"2024-06-07T00:00:00+00:00\",\"2024-06-10T00:00:00+00:00\",\"2024-06-11T00:00:00+00:00\",\"2024-06-12T00:00:00+00:00\",\"2024-06-13T00:00:00+00:00\",\"2024-06-14T00:00:00+00:00\",\"2024-06-17T00:00:00+00:00\",\"2024-06-18T00:00:00+00:00\",\"2024-06-20T00:00:00+00:00\",\"2024-06-21T00:00:00+00:00\",\"2024-06-24T00:00:00+00:00\",\"2024-06-25T00:00:00+00:00\",\"2024-06-26T00:00:00+00:00\",\"2024-06-27T00:00:00+00:00\",\"2024-06-28T00:00:00+00:00\",\"2024-07-01T00:00:00+00:00\",\"2024-07-02T00:00:00+00:00\",\"2024-07-03T00:00:00+00:00\",\"2024-07-05T00:00:00+00:00\",\"2024-07-08T00:00:00+00:00\",\"2024-07-09T00:00:00+00:00\",\"2024-07-10T00:00:00+00:00\",\"2024-07-11T00:00:00+00:00\",\"2024-07-12T00:00:00+00:00\",\"2024-07-15T00:00:00+00:00\",\"2024-07-16T00:00:00+00:00\",\"2024-07-17T00:00:00+00:00\",\"2024-07-18T00:00:00+00:00\",\"2024-07-19T00:00:00+00:00\",\"2024-07-22T00:00:00+00:00\",\"2024-07-23T00:00:00+00:00\",\"2024-07-24T00:00:00+00:00\",\"2024-07-25T00:00:00+00:00\",\"2024-07-26T00:00:00+00:00\",\"2024-07-29T00:00:00+00:00\",\"2024-07-30T00:00:00+00:00\",\"2024-07-31T00:00:00+00:00\",\"2024-08-01T00:00:00+00:00\",\"2024-08-02T00:00:00+00:00\",\"2024-08-05T00:00:00+00:00\",\"2024-08-06T00:00:00+00:00\",\"2024-08-07T00:00:00+00:00\",\"2024-08-08T00:00:00+00:00\",\"2024-08-09T00:00:00+00:00\",\"2024-08-12T00:00:00+00:00\",\"2024-08-13T00:00:00+00:00\",\"2024-08-14T00:00:00+00:00\",\"2024-08-15T00:00:00+00:00\",\"2024-08-16T00:00:00+00:00\",\"2024-08-19T00:00:00+00:00\",\"2024-08-20T00:00:00+00:00\",\"2024-08-21T00:00:00+00:00\",\"2024-08-22T00:00:00+00:00\",\"2024-08-23T00:00:00+00:00\",\"2024-08-26T00:00:00+00:00\",\"2024-08-27T00:00:00+00:00\",\"2024-08-28T00:00:00+00:00\",\"2024-08-29T00:00:00+00:00\",\"2024-08-30T00:00:00+00:00\",\"2024-09-03T00:00:00+00:00\",\"2024-09-04T00:00:00+00:00\",\"2024-09-05T00:00:00+00:00\",\"2024-09-06T00:00:00+00:00\",\"2024-09-09T00:00:00+00:00\",\"2024-09-10T00:00:00+00:00\",\"2024-09-11T00:00:00+00:00\",\"2024-09-12T00:00:00+00:00\",\"2024-09-13T00:00:00+00:00\",\"2024-09-16T00:00:00+00:00\",\"2024-09-17T00:00:00+00:00\",\"2024-09-18T00:00:00+00:00\",\"2024-09-19T00:00:00+00:00\",\"2024-09-20T00:00:00+00:00\",\"2024-09-23T00:00:00+00:00\",\"2024-09-24T00:00:00+00:00\",\"2024-09-25T00:00:00+00:00\",\"2024-09-26T00:00:00+00:00\",\"2024-09-27T00:00:00+00:00\",\"2024-09-30T00:00:00+00:00\",\"2024-10-01T00:00:00+00:00\",\"2024-10-02T00:00:00+00:00\",\"2024-10-03T00:00:00+00:00\",\"2024-10-04T00:00:00+00:00\",\"2024-10-07T00:00:00+00:00\",\"2024-10-08T00:00:00+00:00\",\"2024-10-09T00:00:00+00:00\",\"2024-10-10T00:00:00+00:00\",\"2024-10-11T00:00:00+00:00\",\"2024-10-14T00:00:00+00:00\",\"2024-10-15T00:00:00+00:00\",\"2024-10-16T00:00:00+00:00\",\"2024-10-17T00:00:00+00:00\",\"2024-10-18T00:00:00+00:00\",\"2024-10-21T00:00:00+00:00\",\"2024-10-22T00:00:00+00:00\",\"2024-10-23T00:00:00+00:00\",\"2024-10-24T00:00:00+00:00\",\"2024-10-25T00:00:00+00:00\",\"2024-10-28T00:00:00+00:00\",\"2024-10-29T00:00:00+00:00\",\"2024-10-30T00:00:00+00:00\",\"2024-10-31T00:00:00+00:00\",\"2024-11-01T00:00:00+00:00\",\"2024-11-04T00:00:00+00:00\",\"2024-11-05T00:00:00+00:00\",\"2024-11-06T00:00:00+00:00\",\"2024-11-07T00:00:00+00:00\",\"2024-11-08T00:00:00+00:00\",\"2024-11-11T00:00:00+00:00\",\"2024-11-12T00:00:00+00:00\",\"2024-11-13T00:00:00+00:00\",\"2024-11-14T00:00:00+00:00\",\"2024-11-15T00:00:00+00:00\",\"2024-11-18T00:00:00+00:00\",\"2024-11-19T00:00:00+00:00\",\"2024-11-20T00:00:00+00:00\",\"2024-11-21T00:00:00+00:00\",\"2024-11-22T00:00:00+00:00\",\"2024-11-25T00:00:00+00:00\",\"2024-11-26T00:00:00+00:00\",\"2024-11-27T00:00:00+00:00\"],\"xaxis\":\"x\",\"y\":[null,null,null,null,null,null,null,null,null,191.58999938964843,191.9289993286133,192.36000061035156,193.21900177001953,194.03500213623047,194.66800231933593,195.31400299072266,195.66600341796874,195.91700286865233,195.95800170898437,195.74700164794922,195.73400268554687,195.5780014038086,195.14000091552734,194.58200073242188,193.38899993896484,192.225,190.7220001220703,189.35699920654298,188.44499969482422,187.5989990234375,186.91299896240236,186.15699920654296,185.39099884033203,184.5009994506836,184.2049987792969,184.64299926757812,185.60799865722657,186.87899932861328,187.84099884033202,188.7769989013672,189.5749984741211,190.25799865722655,190.83899841308593,191.27999725341797,191.45199737548828,191.27499694824218,190.70399780273436,190.08299713134767,189.4949981689453,188.98599853515626,188.4009994506836,188.04400024414062,187.58600006103515,187.28600006103517,187.26100006103516,186.96100006103515,186.60699920654298,185.99499969482423,185.2970001220703,184.79299926757812,184.21299896240234,183.44399871826172,182.99199981689452,182.63000030517577,182.29000091552734,181.87000122070313,181.1490020751953,180.0050018310547,178.68500061035155,177.14800109863282,175.96900024414063,175.12799987792968,174.18799896240233,173.15899963378905,172.38399963378907,171.67999877929688,171.54199829101563,172.13799896240235,173.09299926757814,173.3299987792969,173.48499908447266,173.2949996948242,172.94300079345703,173.16100006103517,173.00899963378907,172.75,172.26199951171876,171.6189987182617,170.63399963378907,170.4550003051758,170.0720001220703,169.9539993286133,169.76099853515626,169.93399810791016,170.44099884033204,170.70699920654297,170.76100006103516,170.59600067138672,170.41799926757812,169.95999908447266,169.6989990234375,169.4219985961914,169.5459991455078,169.03099975585937,168.30599975585938,168.38699951171876,168.48199920654298,168.61199951171875,169.21100006103515,171.04900054931642,172.63600158691406,174.18600158691407,175.55800170898436,177.0260025024414,178.4010025024414,179.6790023803711,181.38900146484374,183.43100128173828,185.11200103759765,185.76100006103516,186.69399871826172,187.68899993896486,188.50499877929687,188.73599853515626,189.4289978027344,189.79999847412108,190.08599853515625,190.2429977416992,190.48399810791017,190.8999984741211,191.2309997558594,191.58299865722657,191.94099884033204,192.94199829101564,193.25599822998046,194.9719970703125,197.2499984741211,199.5449996948242,201.56900024414062,203.83300018310547,205.82699890136718,207.20799865722657,208.50899963378907,209.63399963378907,211.2290008544922,211.83900146484376,211.94200134277344,211.5800003051758,212.00599975585936,212.36600036621093,213.09200134277344,214.75800170898438,216.79100189208984,218.84500122070312,221.23600006103516,222.66800079345703,224.31199951171874,226.68999938964845,228.49700012207032,229.35800018310547,229.62099914550782,229.41799926757812,229.03199920654296,228.66499938964844,227.22099914550782,226.21299896240234,224.9550003051758,223.33900146484376,221.73700103759765,221.05700073242187,220.4750015258789,220.03000183105468,218.56100158691407,216.7830017089844,215.91100311279297,215.49300231933594,215.3210021972656,215.2500015258789,215.49700164794922,215.46100158691405,216.0970016479492,216.71600189208985,218.37800140380858,220.30600128173828,221.96399993896483,223.08600006103515,224.1459991455078,225.11099853515626,225.78699798583983,226.26399841308594,226.7709976196289,227.0659973144531,226.75399780273438,226.18799896240233,225.78600006103517,225.41500091552734,224.8220016479492,224.11500244140626,223.5780029296875,223.20600280761718,222.4770034790039,221.2090042114258,220.61100311279296,220.59500274658203,221.24400177001954,221.98200073242188,222.53800048828126,223.26399993896484,223.63499908447267,224.10999908447266,224.63899841308594,226.30699768066407,227.2489990234375,227.85799865722657,227.53799896240236,227.39799957275392,226.9199996948242,226.76000061035157,227.0770004272461,227.22899932861327,227.2050003051758,227.03500061035157,227.79900054931642,228.29900054931642,228.9470001220703,229.76699981689453,231.24599914550782,232.25499877929687,232.3769989013672,232.53000030517578,232.91600036621094,233.1259994506836,233.10799865722657,232.93999938964845,232.31600036621094,231.10700073242188,229.66000061035157,228.41900024414062,227.61500091552733,227.30599975585938,226.86100006103516,225.94400024414062,225.0,224.5019989013672,224.73299865722657,224.94199829101564,225.54299926757812,226.0259994506836,226.65399932861328,226.75800018310548,227.0489990234375,227.91299896240236,228.99599914550782,229.97699890136718],\"yaxis\":\"y\",\"type\":\"scatter\"},{\"hovertemplate\":\"variable=MA for 20 days\\u003cbr\\u003eDate=%{x}\\u003cbr\\u003evalue=%{y}\\u003cextra\\u003e\\u003c\\u002fextra\\u003e\",\"legendgroup\":\"MA for 20 days\",\"line\":{\"color\":\"#EF553B\",\"dash\":\"solid\"},\"marker\":{\"symbol\":\"circle\"},\"mode\":\"lines\",\"name\":\"MA for 20 days\",\"orientation\":\"v\",\"showlegend\":true,\"x\":[\"2023-11-27T00:00:00+00:00\",\"2023-11-28T00:00:00+00:00\",\"2023-11-29T00:00:00+00:00\",\"2023-11-30T00:00:00+00:00\",\"2023-12-01T00:00:00+00:00\",\"2023-12-04T00:00:00+00:00\",\"2023-12-05T00:00:00+00:00\",\"2023-12-06T00:00:00+00:00\",\"2023-12-07T00:00:00+00:00\",\"2023-12-08T00:00:00+00:00\",\"2023-12-11T00:00:00+00:00\",\"2023-12-12T00:00:00+00:00\",\"2023-12-13T00:00:00+00:00\",\"2023-12-14T00:00:00+00:00\",\"2023-12-15T00:00:00+00:00\",\"2023-12-18T00:00:00+00:00\",\"2023-12-19T00:00:00+00:00\",\"2023-12-20T00:00:00+00:00\",\"2023-12-21T00:00:00+00:00\",\"2023-12-22T00:00:00+00:00\",\"2023-12-26T00:00:00+00:00\",\"2023-12-27T00:00:00+00:00\",\"2023-12-28T00:00:00+00:00\",\"2023-12-29T00:00:00+00:00\",\"2024-01-02T00:00:00+00:00\",\"2024-01-03T00:00:00+00:00\",\"2024-01-04T00:00:00+00:00\",\"2024-01-05T00:00:00+00:00\",\"2024-01-08T00:00:00+00:00\",\"2024-01-09T00:00:00+00:00\",\"2024-01-10T00:00:00+00:00\",\"2024-01-11T00:00:00+00:00\",\"2024-01-12T00:00:00+00:00\",\"2024-01-16T00:00:00+00:00\",\"2024-01-17T00:00:00+00:00\",\"2024-01-18T00:00:00+00:00\",\"2024-01-19T00:00:00+00:00\",\"2024-01-22T00:00:00+00:00\",\"2024-01-23T00:00:00+00:00\",\"2024-01-24T00:00:00+00:00\",\"2024-01-25T00:00:00+00:00\",\"2024-01-26T00:00:00+00:00\",\"2024-01-29T00:00:00+00:00\",\"2024-01-30T00:00:00+00:00\",\"2024-01-31T00:00:00+00:00\",\"2024-02-01T00:00:00+00:00\",\"2024-02-02T00:00:00+00:00\",\"2024-02-05T00:00:00+00:00\",\"2024-02-06T00:00:00+00:00\",\"2024-02-07T00:00:00+00:00\",\"2024-02-08T00:00:00+00:00\",\"2024-02-09T00:00:00+00:00\",\"2024-02-12T00:00:00+00:00\",\"2024-02-13T00:00:00+00:00\",\"2024-02-14T00:00:00+00:00\",\"2024-02-15T00:00:00+00:00\",\"2024-02-16T00:00:00+00:00\",\"2024-02-20T00:00:00+00:00\",\"2024-02-21T00:00:00+00:00\",\"2024-02-22T00:00:00+00:00\",\"2024-02-23T00:00:00+00:00\",\"2024-02-26T00:00:00+00:00\",\"2024-02-27T00:00:00+00:00\",\"2024-02-28T00:00:00+00:00\",\"2024-02-29T00:00:00+00:00\",\"2024-03-01T00:00:00+00:00\",\"2024-03-04T00:00:00+00:00\",\"2024-03-05T00:00:00+00:00\",\"2024-03-06T00:00:00+00:00\",\"2024-03-07T00:00:00+00:00\",\"2024-03-08T00:00:00+00:00\",\"2024-03-11T00:00:00+00:00\",\"2024-03-12T00:00:00+00:00\",\"2024-03-13T00:00:00+00:00\",\"2024-03-14T00:00:00+00:00\",\"2024-03-15T00:00:00+00:00\",\"2024-03-18T00:00:00+00:00\",\"2024-03-19T00:00:00+00:00\",\"2024-03-20T00:00:00+00:00\",\"2024-03-21T00:00:00+00:00\",\"2024-03-22T00:00:00+00:00\",\"2024-03-25T00:00:00+00:00\",\"2024-03-26T00:00:00+00:00\",\"2024-03-27T00:00:00+00:00\",\"2024-03-28T00:00:00+00:00\",\"2024-04-01T00:00:00+00:00\",\"2024-04-02T00:00:00+00:00\",\"2024-04-03T00:00:00+00:00\",\"2024-04-04T00:00:00+00:00\",\"2024-04-05T00:00:00+00:00\",\"2024-04-08T00:00:00+00:00\",\"2024-04-09T00:00:00+00:00\",\"2024-04-10T00:00:00+00:00\",\"2024-04-11T00:00:00+00:00\",\"2024-04-12T00:00:00+00:00\",\"2024-04-15T00:00:00+00:00\",\"2024-04-16T00:00:00+00:00\",\"2024-04-17T00:00:00+00:00\",\"2024-04-18T00:00:00+00:00\",\"2024-04-19T00:00:00+00:00\",\"2024-04-22T00:00:00+00:00\",\"2024-04-23T00:00:00+00:00\",\"2024-04-24T00:00:00+00:00\",\"2024-04-25T00:00:00+00:00\",\"2024-04-26T00:00:00+00:00\",\"2024-04-29T00:00:00+00:00\",\"2024-04-30T00:00:00+00:00\",\"2024-05-01T00:00:00+00:00\",\"2024-05-02T00:00:00+00:00\",\"2024-05-03T00:00:00+00:00\",\"2024-05-06T00:00:00+00:00\",\"2024-05-07T00:00:00+00:00\",\"2024-05-08T00:00:00+00:00\",\"2024-05-09T00:00:00+00:00\",\"2024-05-10T00:00:00+00:00\",\"2024-05-13T00:00:00+00:00\",\"2024-05-14T00:00:00+00:00\",\"2024-05-15T00:00:00+00:00\",\"2024-05-16T00:00:00+00:00\",\"2024-05-17T00:00:00+00:00\",\"2024-05-20T00:00:00+00:00\",\"2024-05-21T00:00:00+00:00\",\"2024-05-22T00:00:00+00:00\",\"2024-05-23T00:00:00+00:00\",\"2024-05-24T00:00:00+00:00\",\"2024-05-28T00:00:00+00:00\",\"2024-05-29T00:00:00+00:00\",\"2024-05-30T00:00:00+00:00\",\"2024-05-31T00:00:00+00:00\",\"2024-06-03T00:00:00+00:00\",\"2024-06-04T00:00:00+00:00\",\"2024-06-05T00:00:00+00:00\",\"2024-06-06T00:00:00+00:00\",\"2024-06-07T00:00:00+00:00\",\"2024-06-10T00:00:00+00:00\",\"2024-06-11T00:00:00+00:00\",\"2024-06-12T00:00:00+00:00\",\"2024-06-13T00:00:00+00:00\",\"2024-06-14T00:00:00+00:00\",\"2024-06-17T00:00:00+00:00\",\"2024-06-18T00:00:00+00:00\",\"2024-06-20T00:00:00+00:00\",\"2024-06-21T00:00:00+00:00\",\"2024-06-24T00:00:00+00:00\",\"2024-06-25T00:00:00+00:00\",\"2024-06-26T00:00:00+00:00\",\"2024-06-27T00:00:00+00:00\",\"2024-06-28T00:00:00+00:00\",\"2024-07-01T00:00:00+00:00\",\"2024-07-02T00:00:00+00:00\",\"2024-07-03T00:00:00+00:00\",\"2024-07-05T00:00:00+00:00\",\"2024-07-08T00:00:00+00:00\",\"2024-07-09T00:00:00+00:00\",\"2024-07-10T00:00:00+00:00\",\"2024-07-11T00:00:00+00:00\",\"2024-07-12T00:00:00+00:00\",\"2024-07-15T00:00:00+00:00\",\"2024-07-16T00:00:00+00:00\",\"2024-07-17T00:00:00+00:00\",\"2024-07-18T00:00:00+00:00\",\"2024-07-19T00:00:00+00:00\",\"2024-07-22T00:00:00+00:00\",\"2024-07-23T00:00:00+00:00\",\"2024-07-24T00:00:00+00:00\",\"2024-07-25T00:00:00+00:00\",\"2024-07-26T00:00:00+00:00\",\"2024-07-29T00:00:00+00:00\",\"2024-07-30T00:00:00+00:00\",\"2024-07-31T00:00:00+00:00\",\"2024-08-01T00:00:00+00:00\",\"2024-08-02T00:00:00+00:00\",\"2024-08-05T00:00:00+00:00\",\"2024-08-06T00:00:00+00:00\",\"2024-08-07T00:00:00+00:00\",\"2024-08-08T00:00:00+00:00\",\"2024-08-09T00:00:00+00:00\",\"2024-08-12T00:00:00+00:00\",\"2024-08-13T00:00:00+00:00\",\"2024-08-14T00:00:00+00:00\",\"2024-08-15T00:00:00+00:00\",\"2024-08-16T00:00:00+00:00\",\"2024-08-19T00:00:00+00:00\",\"2024-08-20T00:00:00+00:00\",\"2024-08-21T00:00:00+00:00\",\"2024-08-22T00:00:00+00:00\",\"2024-08-23T00:00:00+00:00\",\"2024-08-26T00:00:00+00:00\",\"2024-08-27T00:00:00+00:00\",\"2024-08-28T00:00:00+00:00\",\"2024-08-29T00:00:00+00:00\",\"2024-08-30T00:00:00+00:00\",\"2024-09-03T00:00:00+00:00\",\"2024-09-04T00:00:00+00:00\",\"2024-09-05T00:00:00+00:00\",\"2024-09-06T00:00:00+00:00\",\"2024-09-09T00:00:00+00:00\",\"2024-09-10T00:00:00+00:00\",\"2024-09-11T00:00:00+00:00\",\"2024-09-12T00:00:00+00:00\",\"2024-09-13T00:00:00+00:00\",\"2024-09-16T00:00:00+00:00\",\"2024-09-17T00:00:00+00:00\",\"2024-09-18T00:00:00+00:00\",\"2024-09-19T00:00:00+00:00\",\"2024-09-20T00:00:00+00:00\",\"2024-09-23T00:00:00+00:00\",\"2024-09-24T00:00:00+00:00\",\"2024-09-25T00:00:00+00:00\",\"2024-09-26T00:00:00+00:00\",\"2024-09-27T00:00:00+00:00\",\"2024-09-30T00:00:00+00:00\",\"2024-10-01T00:00:00+00:00\",\"2024-10-02T00:00:00+00:00\",\"2024-10-03T00:00:00+00:00\",\"2024-10-04T00:00:00+00:00\",\"2024-10-07T00:00:00+00:00\",\"2024-10-08T00:00:00+00:00\",\"2024-10-09T00:00:00+00:00\",\"2024-10-10T00:00:00+00:00\",\"2024-10-11T00:00:00+00:00\",\"2024-10-14T00:00:00+00:00\",\"2024-10-15T00:00:00+00:00\",\"2024-10-16T00:00:00+00:00\",\"2024-10-17T00:00:00+00:00\",\"2024-10-18T00:00:00+00:00\",\"2024-10-21T00:00:00+00:00\",\"2024-10-22T00:00:00+00:00\",\"2024-10-23T00:00:00+00:00\",\"2024-10-24T00:00:00+00:00\",\"2024-10-25T00:00:00+00:00\",\"2024-10-28T00:00:00+00:00\",\"2024-10-29T00:00:00+00:00\",\"2024-10-30T00:00:00+00:00\",\"2024-10-31T00:00:00+00:00\",\"2024-11-01T00:00:00+00:00\",\"2024-11-04T00:00:00+00:00\",\"2024-11-05T00:00:00+00:00\",\"2024-11-06T00:00:00+00:00\",\"2024-11-07T00:00:00+00:00\",\"2024-11-08T00:00:00+00:00\",\"2024-11-11T00:00:00+00:00\",\"2024-11-12T00:00:00+00:00\",\"2024-11-13T00:00:00+00:00\",\"2024-11-14T00:00:00+00:00\",\"2024-11-15T00:00:00+00:00\",\"2024-11-18T00:00:00+00:00\",\"2024-11-19T00:00:00+00:00\",\"2024-11-20T00:00:00+00:00\",\"2024-11-21T00:00:00+00:00\",\"2024-11-22T00:00:00+00:00\",\"2024-11-25T00:00:00+00:00\",\"2024-11-26T00:00:00+00:00\",\"2024-11-27T00:00:00+00:00\"],\"xaxis\":\"x\",\"y\":[null,null,null,null,null,null,null,null,null,null,null,null,null,null,null,null,null,null,null,193.66850051879882,193.83150100708008,193.96900100708007,194.17950134277345,194.30850143432616,194.02850112915038,193.76950149536134,193.19400177001953,192.63700103759766,192.2015007019043,191.67300033569336,191.3235008239746,190.86750030517578,190.2654998779297,189.54150009155273,188.79699935913087,188.43399963378906,188.16499938964844,188.1179992675781,188.14299926757812,188.18799896240233,188.2439987182617,188.20749893188477,188.114998626709,187.89049835205077,187.82849807739257,187.95899810791016,188.15599822998047,188.48099822998046,188.66799850463866,188.88149871826172,188.98799896240234,189.1509994506836,189.21249923706054,189.28299865722656,189.35649871826172,189.11799850463868,188.65549850463867,188.03899841308595,187.3959991455078,186.88949890136718,186.30699920654297,185.74399948120117,185.28899993896485,184.95800018310547,184.77550048828124,184.41550064086914,183.87800064086915,183.00000076293946,181.99100036621093,180.97050018310546,180.09099960327148,179.2859992980957,178.58999938964843,177.8944999694824,177.3370002746582,176.775,176.34550018310546,176.0715003967285,175.88899993896484,175.23899993896484,174.72699966430665,174.21149978637695,173.56549987792968,173.1599998474121,172.69649963378907,172.21499938964843,171.9019989013672,171.87849884033204,171.8634994506836,171.89249954223632,171.77849960327148,171.62449951171874,171.35199966430665,171.54749908447266,171.72499923706056,171.72849960327147,171.51149978637696,171.1074996948242,170.5259994506836,170.2074996948242,169.8854995727539,169.68799896240233,169.65349884033202,169.48249893188478,169.3734992980957,169.54699935913087,169.62149963378906,169.60400009155273,169.81449966430665,170.50449981689454,171.1675003051758,171.80400009155272,172.5520004272461,173.02850112915038,173.3535011291504,174.03300094604492,174.93550033569335,176.02150039672853,177.1615005493164,178.40500030517578,179.66500015258788,180.93750076293946,182.03150024414063,182.88100051879883,183.91500015258788,184.7395004272461,185.7375,186.83699951171874,187.7979995727539,188.33049926757812,188.96249923706054,189.6359992980957,190.22299880981444,190.83899841308593,191.3424980163574,192.3859977722168,193.66799850463866,194.8939987182617,196.0264991760254,197.3664993286133,198.52899932861328,199.39549865722657,200.22499923706056,201.28799896240236,202.24249954223632,203.40549926757814,204.59599990844725,205.5625,206.7875,208.0995002746582,209.45950012207032,210.98300018310547,212.65000076293944,214.2395004272461,216.23250045776368,217.25350112915038,218.1270004272461,219.1349998474121,220.25149993896486,220.86200027465821,221.35650024414062,222.08800048828124,222.9115005493164,223.75500030517577,224.22849960327147,224.44049987792968,224.63349990844728,225.0145004272461,225.11700057983398,225.20750045776367,225.04800033569336,224.7240005493164,223.7965003967285,222.7240005493164,221.56600112915038,220.85300064086914,220.13800125122071,219.29450149536132,218.61700134277345,218.25900115966797,218.28600158691407,218.37300186157228,218.46950149536133,218.54450149536132,218.9375015258789,219.28950119018555,219.7335006713867,220.18050003051758,220.64199981689453,220.8625,221.43399963378906,221.8909996032715,222.56599960327148,223.24700012207032,223.875,224.25050048828126,224.4840003967285,224.61300048828124,224.68250045776367,224.73500061035156,224.6240005493164,224.13750076293945,223.68250045776367,223.3915008544922,223.51500091552734,223.6985008239746,223.68000106811525,223.68950119018555,223.60650100708008,223.65800094604492,223.55800094604493,223.75800094604492,223.93000106811525,224.22650070190429,224.39100036621093,224.69000015258788,224.72900009155273,225.0120002746582,225.3559997558594,225.66949920654298,225.92199935913087,226.6709991455078,227.52399978637695,228.0784996032715,228.24249954223632,228.5824996948242,229.082999420166,229.50749969482422,229.72699966430665,229.87949981689454,230.06050033569335,230.08050003051758,230.4534996032715,230.61949996948243,230.63150024414062,230.4370002746582,230.4529998779297,230.33699951171874,229.99599990844726,229.9180000305176,229.88850021362305,229.5349998474121,229.0539993286133,228.72099914550782,228.52449951171874,228.02449951171874,227.60149993896485,227.2224998474121,227.1345001220703,227.03199996948243,226.95499954223632,226.9284996032715,226.9979995727539,227.2394989013672],\"yaxis\":\"y\",\"type\":\"scatter\"},{\"hovertemplate\":\"variable=MA for 50 days\\u003cbr\\u003eDate=%{x}\\u003cbr\\u003evalue=%{y}\\u003cextra\\u003e\\u003c\\u002fextra\\u003e\",\"legendgroup\":\"MA for 50 days\",\"line\":{\"color\":\"#00cc96\",\"dash\":\"solid\"},\"marker\":{\"symbol\":\"circle\"},\"mode\":\"lines\",\"name\":\"MA for 50 days\",\"orientation\":\"v\",\"showlegend\":true,\"x\":[\"2023-11-27T00:00:00+00:00\",\"2023-11-28T00:00:00+00:00\",\"2023-11-29T00:00:00+00:00\",\"2023-11-30T00:00:00+00:00\",\"2023-12-01T00:00:00+00:00\",\"2023-12-04T00:00:00+00:00\",\"2023-12-05T00:00:00+00:00\",\"2023-12-06T00:00:00+00:00\",\"2023-12-07T00:00:00+00:00\",\"2023-12-08T00:00:00+00:00\",\"2023-12-11T00:00:00+00:00\",\"2023-12-12T00:00:00+00:00\",\"2023-12-13T00:00:00+00:00\",\"2023-12-14T00:00:00+00:00\",\"2023-12-15T00:00:00+00:00\",\"2023-12-18T00:00:00+00:00\",\"2023-12-19T00:00:00+00:00\",\"2023-12-20T00:00:00+00:00\",\"2023-12-21T00:00:00+00:00\",\"2023-12-22T00:00:00+00:00\",\"2023-12-26T00:00:00+00:00\",\"2023-12-27T00:00:00+00:00\",\"2023-12-28T00:00:00+00:00\",\"2023-12-29T00:00:00+00:00\",\"2024-01-02T00:00:00+00:00\",\"2024-01-03T00:00:00+00:00\",\"2024-01-04T00:00:00+00:00\",\"2024-01-05T00:00:00+00:00\",\"2024-01-08T00:00:00+00:00\",\"2024-01-09T00:00:00+00:00\",\"2024-01-10T00:00:00+00:00\",\"2024-01-11T00:00:00+00:00\",\"2024-01-12T00:00:00+00:00\",\"2024-01-16T00:00:00+00:00\",\"2024-01-17T00:00:00+00:00\",\"2024-01-18T00:00:00+00:00\",\"2024-01-19T00:00:00+00:00\",\"2024-01-22T00:00:00+00:00\",\"2024-01-23T00:00:00+00:00\",\"2024-01-24T00:00:00+00:00\",\"2024-01-25T00:00:00+00:00\",\"2024-01-26T00:00:00+00:00\",\"2024-01-29T00:00:00+00:00\",\"2024-01-30T00:00:00+00:00\",\"2024-01-31T00:00:00+00:00\",\"2024-02-01T00:00:00+00:00\",\"2024-02-02T00:00:00+00:00\",\"2024-02-05T00:00:00+00:00\",\"2024-02-06T00:00:00+00:00\",\"2024-02-07T00:00:00+00:00\",\"2024-02-08T00:00:00+00:00\",\"2024-02-09T00:00:00+00:00\",\"2024-02-12T00:00:00+00:00\",\"2024-02-13T00:00:00+00:00\",\"2024-02-14T00:00:00+00:00\",\"2024-02-15T00:00:00+00:00\",\"2024-02-16T00:00:00+00:00\",\"2024-02-20T00:00:00+00:00\",\"2024-02-21T00:00:00+00:00\",\"2024-02-22T00:00:00+00:00\",\"2024-02-23T00:00:00+00:00\",\"2024-02-26T00:00:00+00:00\",\"2024-02-27T00:00:00+00:00\",\"2024-02-28T00:00:00+00:00\",\"2024-02-29T00:00:00+00:00\",\"2024-03-01T00:00:00+00:00\",\"2024-03-04T00:00:00+00:00\",\"2024-03-05T00:00:00+00:00\",\"2024-03-06T00:00:00+00:00\",\"2024-03-07T00:00:00+00:00\",\"2024-03-08T00:00:00+00:00\",\"2024-03-11T00:00:00+00:00\",\"2024-03-12T00:00:00+00:00\",\"2024-03-13T00:00:00+00:00\",\"2024-03-14T00:00:00+00:00\",\"2024-03-15T00:00:00+00:00\",\"2024-03-18T00:00:00+00:00\",\"2024-03-19T00:00:00+00:00\",\"2024-03-20T00:00:00+00:00\",\"2024-03-21T00:00:00+00:00\",\"2024-03-22T00:00:00+00:00\",\"2024-03-25T00:00:00+00:00\",\"2024-03-26T00:00:00+00:00\",\"2024-03-27T00:00:00+00:00\",\"2024-03-28T00:00:00+00:00\",\"2024-04-01T00:00:00+00:00\",\"2024-04-02T00:00:00+00:00\",\"2024-04-03T00:00:00+00:00\",\"2024-04-04T00:00:00+00:00\",\"2024-04-05T00:00:00+00:00\",\"2024-04-08T00:00:00+00:00\",\"2024-04-09T00:00:00+00:00\",\"2024-04-10T00:00:00+00:00\",\"2024-04-11T00:00:00+00:00\",\"2024-04-12T00:00:00+00:00\",\"2024-04-15T00:00:00+00:00\",\"2024-04-16T00:00:00+00:00\",\"2024-04-17T00:00:00+00:00\",\"2024-04-18T00:00:00+00:00\",\"2024-04-19T00:00:00+00:00\",\"2024-04-22T00:00:00+00:00\",\"2024-04-23T00:00:00+00:00\",\"2024-04-24T00:00:00+00:00\",\"2024-04-25T00:00:00+00:00\",\"2024-04-26T00:00:00+00:00\",\"2024-04-29T00:00:00+00:00\",\"2024-04-30T00:00:00+00:00\",\"2024-05-01T00:00:00+00:00\",\"2024-05-02T00:00:00+00:00\",\"2024-05-03T00:00:00+00:00\",\"2024-05-06T00:00:00+00:00\",\"2024-05-07T00:00:00+00:00\",\"2024-05-08T00:00:00+00:00\",\"2024-05-09T00:00:00+00:00\",\"2024-05-10T00:00:00+00:00\",\"2024-05-13T00:00:00+00:00\",\"2024-05-14T00:00:00+00:00\",\"2024-05-15T00:00:00+00:00\",\"2024-05-16T00:00:00+00:00\",\"2024-05-17T00:00:00+00:00\",\"2024-05-20T00:00:00+00:00\",\"2024-05-21T00:00:00+00:00\",\"2024-05-22T00:00:00+00:00\",\"2024-05-23T00:00:00+00:00\",\"2024-05-24T00:00:00+00:00\",\"2024-05-28T00:00:00+00:00\",\"2024-05-29T00:00:00+00:00\",\"2024-05-30T00:00:00+00:00\",\"2024-05-31T00:00:00+00:00\",\"2024-06-03T00:00:00+00:00\",\"2024-06-04T00:00:00+00:00\",\"2024-06-05T00:00:00+00:00\",\"2024-06-06T00:00:00+00:00\",\"2024-06-07T00:00:00+00:00\",\"2024-06-10T00:00:00+00:00\",\"2024-06-11T00:00:00+00:00\",\"2024-06-12T00:00:00+00:00\",\"2024-06-13T00:00:00+00:00\",\"2024-06-14T00:00:00+00:00\",\"2024-06-17T00:00:00+00:00\",\"2024-06-18T00:00:00+00:00\",\"2024-06-20T00:00:00+00:00\",\"2024-06-21T00:00:00+00:00\",\"2024-06-24T00:00:00+00:00\",\"2024-06-25T00:00:00+00:00\",\"2024-06-26T00:00:00+00:00\",\"2024-06-27T00:00:00+00:00\",\"2024-06-28T00:00:00+00:00\",\"2024-07-01T00:00:00+00:00\",\"2024-07-02T00:00:00+00:00\",\"2024-07-03T00:00:00+00:00\",\"2024-07-05T00:00:00+00:00\",\"2024-07-08T00:00:00+00:00\",\"2024-07-09T00:00:00+00:00\",\"2024-07-10T00:00:00+00:00\",\"2024-07-11T00:00:00+00:00\",\"2024-07-12T00:00:00+00:00\",\"2024-07-15T00:00:00+00:00\",\"2024-07-16T00:00:00+00:00\",\"2024-07-17T00:00:00+00:00\",\"2024-07-18T00:00:00+00:00\",\"2024-07-19T00:00:00+00:00\",\"2024-07-22T00:00:00+00:00\",\"2024-07-23T00:00:00+00:00\",\"2024-07-24T00:00:00+00:00\",\"2024-07-25T00:00:00+00:00\",\"2024-07-26T00:00:00+00:00\",\"2024-07-29T00:00:00+00:00\",\"2024-07-30T00:00:00+00:00\",\"2024-07-31T00:00:00+00:00\",\"2024-08-01T00:00:00+00:00\",\"2024-08-02T00:00:00+00:00\",\"2024-08-05T00:00:00+00:00\",\"2024-08-06T00:00:00+00:00\",\"2024-08-07T00:00:00+00:00\",\"2024-08-08T00:00:00+00:00\",\"2024-08-09T00:00:00+00:00\",\"2024-08-12T00:00:00+00:00\",\"2024-08-13T00:00:00+00:00\",\"2024-08-14T00:00:00+00:00\",\"2024-08-15T00:00:00+00:00\",\"2024-08-16T00:00:00+00:00\",\"2024-08-19T00:00:00+00:00\",\"2024-08-20T00:00:00+00:00\",\"2024-08-21T00:00:00+00:00\",\"2024-08-22T00:00:00+00:00\",\"2024-08-23T00:00:00+00:00\",\"2024-08-26T00:00:00+00:00\",\"2024-08-27T00:00:00+00:00\",\"2024-08-28T00:00:00+00:00\",\"2024-08-29T00:00:00+00:00\",\"2024-08-30T00:00:00+00:00\",\"2024-09-03T00:00:00+00:00\",\"2024-09-04T00:00:00+00:00\",\"2024-09-05T00:00:00+00:00\",\"2024-09-06T00:00:00+00:00\",\"2024-09-09T00:00:00+00:00\",\"2024-09-10T00:00:00+00:00\",\"2024-09-11T00:00:00+00:00\",\"2024-09-12T00:00:00+00:00\",\"2024-09-13T00:00:00+00:00\",\"2024-09-16T00:00:00+00:00\",\"2024-09-17T00:00:00+00:00\",\"2024-09-18T00:00:00+00:00\",\"2024-09-19T00:00:00+00:00\",\"2024-09-20T00:00:00+00:00\",\"2024-09-23T00:00:00+00:00\",\"2024-09-24T00:00:00+00:00\",\"2024-09-25T00:00:00+00:00\",\"2024-09-26T00:00:00+00:00\",\"2024-09-27T00:00:00+00:00\",\"2024-09-30T00:00:00+00:00\",\"2024-10-01T00:00:00+00:00\",\"2024-10-02T00:00:00+00:00\",\"2024-10-03T00:00:00+00:00\",\"2024-10-04T00:00:00+00:00\",\"2024-10-07T00:00:00+00:00\",\"2024-10-08T00:00:00+00:00\",\"2024-10-09T00:00:00+00:00\",\"2024-10-10T00:00:00+00:00\",\"2024-10-11T00:00:00+00:00\",\"2024-10-14T00:00:00+00:00\",\"2024-10-15T00:00:00+00:00\",\"2024-10-16T00:00:00+00:00\",\"2024-10-17T00:00:00+00:00\",\"2024-10-18T00:00:00+00:00\",\"2024-10-21T00:00:00+00:00\",\"2024-10-22T00:00:00+00:00\",\"2024-10-23T00:00:00+00:00\",\"2024-10-24T00:00:00+00:00\",\"2024-10-25T00:00:00+00:00\",\"2024-10-28T00:00:00+00:00\",\"2024-10-29T00:00:00+00:00\",\"2024-10-30T00:00:00+00:00\",\"2024-10-31T00:00:00+00:00\",\"2024-11-01T00:00:00+00:00\",\"2024-11-04T00:00:00+00:00\",\"2024-11-05T00:00:00+00:00\",\"2024-11-06T00:00:00+00:00\",\"2024-11-07T00:00:00+00:00\",\"2024-11-08T00:00:00+00:00\",\"2024-11-11T00:00:00+00:00\",\"2024-11-12T00:00:00+00:00\",\"2024-11-13T00:00:00+00:00\",\"2024-11-14T00:00:00+00:00\",\"2024-11-15T00:00:00+00:00\",\"2024-11-18T00:00:00+00:00\",\"2024-11-19T00:00:00+00:00\",\"2024-11-20T00:00:00+00:00\",\"2024-11-21T00:00:00+00:00\",\"2024-11-22T00:00:00+00:00\",\"2024-11-25T00:00:00+00:00\",\"2024-11-26T00:00:00+00:00\",\"2024-11-27T00:00:00+00:00\"],\"xaxis\":\"x\",\"y\":[null,null,null,null,null,null,null,null,null,null,null,null,null,null,null,null,null,null,null,null,null,null,null,null,null,null,null,null,null,null,null,null,null,null,null,null,null,null,null,null,null,null,null,null,null,null,null,null,null,190.53979949951173,190.51039978027345,190.47940002441408,190.435,190.3367999267578,190.19499969482422,190.08359985351564,189.86139984130858,189.6461996459961,189.40719970703125,189.18039947509766,188.96719970703126,188.6961996459961,188.389599609375,188.0557995605469,187.7193994140625,187.39479949951172,186.95799957275392,186.46379943847657,185.9525994873047,185.46059936523437,185.01419921875,184.60619934082033,184.19919921875,183.77119934082032,183.51839935302735,183.2857992553711,183.12199920654297,183.01999938964843,182.88219940185547,182.60679931640624,182.32859924316406,182.03379943847656,181.709599609375,181.50319946289062,181.27919952392577,180.90719940185548,180.4527993774414,179.96799926757814,179.44079956054688,178.94239959716796,178.42799957275392,177.9729995727539,177.49399963378906,177.23399963378907,177.07699981689453,176.79359985351562,176.46419982910157,176.07059997558594,175.62539978027343,175.13719970703124,174.68759948730468,174.24859924316405,173.88599945068358,173.58299957275392,173.28599975585936,173.07879974365235,172.83919982910157,172.59399993896486,172.4081997680664,172.3883999633789,172.37220001220703,172.39699981689452,172.39919982910158,172.46220001220703,172.5082000732422,172.64059997558593,172.88719970703124,173.27919982910157,173.69359985351562,174.11099975585938,174.51719970703124,174.90919982910157,175.26259979248047,175.57759979248047,175.91719970703124,176.2645999145508,176.59599975585937,176.90019958496094,177.17179962158204,177.62499969482423,178.0663998413086,178.56679962158202,179.06219940185548,179.53379943847656,179.96659942626954,180.7089993286133,181.59359954833985,182.48539978027344,183.35879974365236,184.30059967041015,185.21739959716797,186.0175994873047,186.81179962158203,187.47379974365234,188.12419982910157,188.93539978027343,189.8297998046875,190.68219970703126,191.67639984130858,192.7817999267578,193.89600006103515,195.0848001098633,196.26080017089845,197.4366000366211,198.71019989013672,199.7916000366211,200.99579986572266,202.29779968261718,203.53359985351562,204.44359985351562,205.2929995727539,206.1311996459961,206.95559967041015,207.7643994140625,208.47419921875,209.09839935302733,209.70899963378906,210.27939971923828,210.8585998535156,211.50279998779297,212.04920013427736,212.59940002441405,212.9668002319336,213.37380004882812,213.77060028076173,214.2370001220703,214.75600036621094,215.2808004760742,215.86120056152345,216.41500061035157,217.0224005126953,217.62600067138672,218.25420074462892,218.84660064697266,219.5122006225586,219.85980072021485,220.13520050048828,220.3940002441406,220.70480010986327,220.90120025634766,221.21120025634767,221.59760040283203,221.90320037841798,222.15740051269532,222.4236004638672,222.57500061035157,222.71120056152344,222.90100067138673,223.0192007446289,223.06920074462892,223.08820068359375,222.8878009033203,222.6672006225586,222.5074008178711,222.42520080566408,222.43780059814452,222.35640075683594,222.21580078125,222.04680053710936,222.01960052490233,222.09180053710938,222.2656005859375,222.3106005859375,222.34600067138672,222.48860076904296,222.67480072021485,222.74940063476564,222.90000061035155,223.11480041503907,223.25400024414063,223.43780029296875,223.66660034179688,224.15820037841797,224.64920043945312,225.09580017089843,225.52960021972658,225.93440002441406,226.30100006103515,226.49079986572266,226.66779998779296,226.8016000366211,226.94859985351562,227.10419982910156,227.17600006103515,227.16620025634765,227.1338003540039,227.03720031738283,226.96260040283204,226.85640045166016,226.87620025634766,226.81960052490234,226.7242004394531,226.75340026855469,226.83880004882812,226.95559997558593,227.03919982910156,227.1813998413086,227.3447998046875,227.4715997314453,227.58659973144532,227.73399963378907,228.06499938964845,228.43039947509766,228.71519927978517],\"yaxis\":\"y\",\"type\":\"scatter\"}],                        {\"template\":{\"data\":{\"histogram2dcontour\":[{\"type\":\"histogram2dcontour\",\"colorbar\":{\"outlinewidth\":0,\"ticks\":\"\"},\"colorscale\":[[0.0,\"#0d0887\"],[0.1111111111111111,\"#46039f\"],[0.2222222222222222,\"#7201a8\"],[0.3333333333333333,\"#9c179e\"],[0.4444444444444444,\"#bd3786\"],[0.5555555555555556,\"#d8576b\"],[0.6666666666666666,\"#ed7953\"],[0.7777777777777778,\"#fb9f3a\"],[0.8888888888888888,\"#fdca26\"],[1.0,\"#f0f921\"]]}],\"choropleth\":[{\"type\":\"choropleth\",\"colorbar\":{\"outlinewidth\":0,\"ticks\":\"\"}}],\"histogram2d\":[{\"type\":\"histogram2d\",\"colorbar\":{\"outlinewidth\":0,\"ticks\":\"\"},\"colorscale\":[[0.0,\"#0d0887\"],[0.1111111111111111,\"#46039f\"],[0.2222222222222222,\"#7201a8\"],[0.3333333333333333,\"#9c179e\"],[0.4444444444444444,\"#bd3786\"],[0.5555555555555556,\"#d8576b\"],[0.6666666666666666,\"#ed7953\"],[0.7777777777777778,\"#fb9f3a\"],[0.8888888888888888,\"#fdca26\"],[1.0,\"#f0f921\"]]}],\"heatmap\":[{\"type\":\"heatmap\",\"colorbar\":{\"outlinewidth\":0,\"ticks\":\"\"},\"colorscale\":[[0.0,\"#0d0887\"],[0.1111111111111111,\"#46039f\"],[0.2222222222222222,\"#7201a8\"],[0.3333333333333333,\"#9c179e\"],[0.4444444444444444,\"#bd3786\"],[0.5555555555555556,\"#d8576b\"],[0.6666666666666666,\"#ed7953\"],[0.7777777777777778,\"#fb9f3a\"],[0.8888888888888888,\"#fdca26\"],[1.0,\"#f0f921\"]]}],\"heatmapgl\":[{\"type\":\"heatmapgl\",\"colorbar\":{\"outlinewidth\":0,\"ticks\":\"\"},\"colorscale\":[[0.0,\"#0d0887\"],[0.1111111111111111,\"#46039f\"],[0.2222222222222222,\"#7201a8\"],[0.3333333333333333,\"#9c179e\"],[0.4444444444444444,\"#bd3786\"],[0.5555555555555556,\"#d8576b\"],[0.6666666666666666,\"#ed7953\"],[0.7777777777777778,\"#fb9f3a\"],[0.8888888888888888,\"#fdca26\"],[1.0,\"#f0f921\"]]}],\"contourcarpet\":[{\"type\":\"contourcarpet\",\"colorbar\":{\"outlinewidth\":0,\"ticks\":\"\"}}],\"contour\":[{\"type\":\"contour\",\"colorbar\":{\"outlinewidth\":0,\"ticks\":\"\"},\"colorscale\":[[0.0,\"#0d0887\"],[0.1111111111111111,\"#46039f\"],[0.2222222222222222,\"#7201a8\"],[0.3333333333333333,\"#9c179e\"],[0.4444444444444444,\"#bd3786\"],[0.5555555555555556,\"#d8576b\"],[0.6666666666666666,\"#ed7953\"],[0.7777777777777778,\"#fb9f3a\"],[0.8888888888888888,\"#fdca26\"],[1.0,\"#f0f921\"]]}],\"surface\":[{\"type\":\"surface\",\"colorbar\":{\"outlinewidth\":0,\"ticks\":\"\"},\"colorscale\":[[0.0,\"#0d0887\"],[0.1111111111111111,\"#46039f\"],[0.2222222222222222,\"#7201a8\"],[0.3333333333333333,\"#9c179e\"],[0.4444444444444444,\"#bd3786\"],[0.5555555555555556,\"#d8576b\"],[0.6666666666666666,\"#ed7953\"],[0.7777777777777778,\"#fb9f3a\"],[0.8888888888888888,\"#fdca26\"],[1.0,\"#f0f921\"]]}],\"mesh3d\":[{\"type\":\"mesh3d\",\"colorbar\":{\"outlinewidth\":0,\"ticks\":\"\"}}],\"scatter\":[{\"fillpattern\":{\"fillmode\":\"overlay\",\"size\":10,\"solidity\":0.2},\"type\":\"scatter\"}],\"parcoords\":[{\"type\":\"parcoords\",\"line\":{\"colorbar\":{\"outlinewidth\":0,\"ticks\":\"\"}}}],\"scatterpolargl\":[{\"type\":\"scatterpolargl\",\"marker\":{\"colorbar\":{\"outlinewidth\":0,\"ticks\":\"\"}}}],\"bar\":[{\"error_x\":{\"color\":\"#2a3f5f\"},\"error_y\":{\"color\":\"#2a3f5f\"},\"marker\":{\"line\":{\"color\":\"#E5ECF6\",\"width\":0.5},\"pattern\":{\"fillmode\":\"overlay\",\"size\":10,\"solidity\":0.2}},\"type\":\"bar\"}],\"scattergeo\":[{\"type\":\"scattergeo\",\"marker\":{\"colorbar\":{\"outlinewidth\":0,\"ticks\":\"\"}}}],\"scatterpolar\":[{\"type\":\"scatterpolar\",\"marker\":{\"colorbar\":{\"outlinewidth\":0,\"ticks\":\"\"}}}],\"histogram\":[{\"marker\":{\"pattern\":{\"fillmode\":\"overlay\",\"size\":10,\"solidity\":0.2}},\"type\":\"histogram\"}],\"scattergl\":[{\"type\":\"scattergl\",\"marker\":{\"colorbar\":{\"outlinewidth\":0,\"ticks\":\"\"}}}],\"scatter3d\":[{\"type\":\"scatter3d\",\"line\":{\"colorbar\":{\"outlinewidth\":0,\"ticks\":\"\"}},\"marker\":{\"colorbar\":{\"outlinewidth\":0,\"ticks\":\"\"}}}],\"scattermapbox\":[{\"type\":\"scattermapbox\",\"marker\":{\"colorbar\":{\"outlinewidth\":0,\"ticks\":\"\"}}}],\"scatterternary\":[{\"type\":\"scatterternary\",\"marker\":{\"colorbar\":{\"outlinewidth\":0,\"ticks\":\"\"}}}],\"scattercarpet\":[{\"type\":\"scattercarpet\",\"marker\":{\"colorbar\":{\"outlinewidth\":0,\"ticks\":\"\"}}}],\"carpet\":[{\"aaxis\":{\"endlinecolor\":\"#2a3f5f\",\"gridcolor\":\"white\",\"linecolor\":\"white\",\"minorgridcolor\":\"white\",\"startlinecolor\":\"#2a3f5f\"},\"baxis\":{\"endlinecolor\":\"#2a3f5f\",\"gridcolor\":\"white\",\"linecolor\":\"white\",\"minorgridcolor\":\"white\",\"startlinecolor\":\"#2a3f5f\"},\"type\":\"carpet\"}],\"table\":[{\"cells\":{\"fill\":{\"color\":\"#EBF0F8\"},\"line\":{\"color\":\"white\"}},\"header\":{\"fill\":{\"color\":\"#C8D4E3\"},\"line\":{\"color\":\"white\"}},\"type\":\"table\"}],\"barpolar\":[{\"marker\":{\"line\":{\"color\":\"#E5ECF6\",\"width\":0.5},\"pattern\":{\"fillmode\":\"overlay\",\"size\":10,\"solidity\":0.2}},\"type\":\"barpolar\"}],\"pie\":[{\"automargin\":true,\"type\":\"pie\"}]},\"layout\":{\"autotypenumbers\":\"strict\",\"colorway\":[\"#636efa\",\"#EF553B\",\"#00cc96\",\"#ab63fa\",\"#FFA15A\",\"#19d3f3\",\"#FF6692\",\"#B6E880\",\"#FF97FF\",\"#FECB52\"],\"font\":{\"color\":\"#2a3f5f\"},\"hovermode\":\"closest\",\"hoverlabel\":{\"align\":\"left\"},\"paper_bgcolor\":\"white\",\"plot_bgcolor\":\"#E5ECF6\",\"polar\":{\"bgcolor\":\"#E5ECF6\",\"angularaxis\":{\"gridcolor\":\"white\",\"linecolor\":\"white\",\"ticks\":\"\"},\"radialaxis\":{\"gridcolor\":\"white\",\"linecolor\":\"white\",\"ticks\":\"\"}},\"ternary\":{\"bgcolor\":\"#E5ECF6\",\"aaxis\":{\"gridcolor\":\"white\",\"linecolor\":\"white\",\"ticks\":\"\"},\"baxis\":{\"gridcolor\":\"white\",\"linecolor\":\"white\",\"ticks\":\"\"},\"caxis\":{\"gridcolor\":\"white\",\"linecolor\":\"white\",\"ticks\":\"\"}},\"coloraxis\":{\"colorbar\":{\"outlinewidth\":0,\"ticks\":\"\"}},\"colorscale\":{\"sequential\":[[0.0,\"#0d0887\"],[0.1111111111111111,\"#46039f\"],[0.2222222222222222,\"#7201a8\"],[0.3333333333333333,\"#9c179e\"],[0.4444444444444444,\"#bd3786\"],[0.5555555555555556,\"#d8576b\"],[0.6666666666666666,\"#ed7953\"],[0.7777777777777778,\"#fb9f3a\"],[0.8888888888888888,\"#fdca26\"],[1.0,\"#f0f921\"]],\"sequentialminus\":[[0.0,\"#0d0887\"],[0.1111111111111111,\"#46039f\"],[0.2222222222222222,\"#7201a8\"],[0.3333333333333333,\"#9c179e\"],[0.4444444444444444,\"#bd3786\"],[0.5555555555555556,\"#d8576b\"],[0.6666666666666666,\"#ed7953\"],[0.7777777777777778,\"#fb9f3a\"],[0.8888888888888888,\"#fdca26\"],[1.0,\"#f0f921\"]],\"diverging\":[[0,\"#8e0152\"],[0.1,\"#c51b7d\"],[0.2,\"#de77ae\"],[0.3,\"#f1b6da\"],[0.4,\"#fde0ef\"],[0.5,\"#f7f7f7\"],[0.6,\"#e6f5d0\"],[0.7,\"#b8e186\"],[0.8,\"#7fbc41\"],[0.9,\"#4d9221\"],[1,\"#276419\"]]},\"xaxis\":{\"gridcolor\":\"white\",\"linecolor\":\"white\",\"ticks\":\"\",\"title\":{\"standoff\":15},\"zerolinecolor\":\"white\",\"automargin\":true,\"zerolinewidth\":2},\"yaxis\":{\"gridcolor\":\"white\",\"linecolor\":\"white\",\"ticks\":\"\",\"title\":{\"standoff\":15},\"zerolinecolor\":\"white\",\"automargin\":true,\"zerolinewidth\":2},\"scene\":{\"xaxis\":{\"backgroundcolor\":\"#E5ECF6\",\"gridcolor\":\"white\",\"linecolor\":\"white\",\"showbackground\":true,\"ticks\":\"\",\"zerolinecolor\":\"white\",\"gridwidth\":2},\"yaxis\":{\"backgroundcolor\":\"#E5ECF6\",\"gridcolor\":\"white\",\"linecolor\":\"white\",\"showbackground\":true,\"ticks\":\"\",\"zerolinecolor\":\"white\",\"gridwidth\":2},\"zaxis\":{\"backgroundcolor\":\"#E5ECF6\",\"gridcolor\":\"white\",\"linecolor\":\"white\",\"showbackground\":true,\"ticks\":\"\",\"zerolinecolor\":\"white\",\"gridwidth\":2}},\"shapedefaults\":{\"line\":{\"color\":\"#2a3f5f\"}},\"annotationdefaults\":{\"arrowcolor\":\"#2a3f5f\",\"arrowhead\":0,\"arrowwidth\":1},\"geo\":{\"bgcolor\":\"white\",\"landcolor\":\"#E5ECF6\",\"subunitcolor\":\"white\",\"showland\":true,\"showlakes\":true,\"lakecolor\":\"white\"},\"title\":{\"x\":0.05},\"mapbox\":{\"style\":\"light\"}}},\"xaxis\":{\"anchor\":\"y\",\"domain\":[0.0,1.0],\"title\":{\"text\":\"Date\"}},\"yaxis\":{\"anchor\":\"x\",\"domain\":[0.0,1.0],\"title\":{\"text\":\"value\"}},\"legend\":{\"title\":{\"text\":\"variable\"},\"tracegroupgap\":0},\"margin\":{\"t\":60}},                        {\"responsive\": true}                    ).then(function(){\n",
       "                            \n",
       "var gd = document.getElementById('9bb16736-0ca7-4fe1-9d21-2b7d8975821d');\n",
       "var x = new MutationObserver(function (mutations, observer) {{\n",
       "        var display = window.getComputedStyle(gd).display;\n",
       "        if (!display || display === 'none') {{\n",
       "            console.log([gd, 'removed!']);\n",
       "            Plotly.purge(gd);\n",
       "            observer.disconnect();\n",
       "        }}\n",
       "}});\n",
       "\n",
       "// Listen for the removal of the full notebook cells\n",
       "var notebookContainer = gd.closest('#notebook-container');\n",
       "if (notebookContainer) {{\n",
       "    x.observe(notebookContainer, {childList: true});\n",
       "}}\n",
       "\n",
       "// Listen for the clearing of the current output cell\n",
       "var outputEl = gd.closest('.output');\n",
       "if (outputEl) {{\n",
       "    x.observe(outputEl, {childList: true});\n",
       "}}\n",
       "\n",
       "                        })                };                            </script>        </div>\n",
       "</body>\n",
       "</html>"
      ]
     },
     "metadata": {},
     "output_type": "display_data"
    }
   ],
   "source": [
    "fig = px.line(data, x = data.index, y = [\"MA for 10 days\", \"MA for 20 days\", \"MA for 50 days\"])\n",
    "fig.show()"
   ]
  },
  {
   "cell_type": "markdown",
   "metadata": {
    "id": "nCUtT9fSb3Hg"
   },
   "source": [
    "**Based on the graph:**\n",
    "  * **The MA taken for 50 days, is not able to give us the complete information about the trends, it's too smooth with respect to data**\n",
    "  * **If we talk about 10 days or 20 days, it seems more promising as it is able to capture more information about the data**\n",
    "  * **`We can move forward with the MA data having average rolled between 10 or 20 days`**"
   ]
  },
  {
   "cell_type": "markdown",
   "metadata": {
    "id": "8H6AqX0peSc2"
   },
   "source": [
    "<hr>\n",
    "\n",
    "# **Step 6 - Daily Returns of the stock on based on Average**\n",
    "  * **This will help us understand the risk associated with investment in a particular stock. So, to judge that we to look on the daily changes**"
   ]
  },
  {
   "cell_type": "code",
   "execution_count": 31,
   "metadata": {
    "id": "5GGdUmbaa0mu"
   },
   "outputs": [],
   "source": [
    "data[\"Daily Return\"] = data[\"Close\"].pct_change()"
   ]
  },
  {
   "cell_type": "code",
   "execution_count": 32,
   "metadata": {
    "colab": {
     "base_uri": "https://localhost:8080/",
     "height": 272
    },
    "id": "2fx9bSpZersO",
    "outputId": "d5cc3293-f3ea-405f-b973-f23b51642ea3"
   },
   "outputs": [
    {
     "data": {
      "text/html": [
       "<div>\n",
       "<style scoped>\n",
       "    .dataframe tbody tr th:only-of-type {\n",
       "        vertical-align: middle;\n",
       "    }\n",
       "\n",
       "    .dataframe tbody tr th {\n",
       "        vertical-align: top;\n",
       "    }\n",
       "\n",
       "    .dataframe thead th {\n",
       "        text-align: right;\n",
       "    }\n",
       "</style>\n",
       "<table border=\"1\" class=\"dataframe\">\n",
       "  <thead>\n",
       "    <tr style=\"text-align: right;\">\n",
       "      <th></th>\n",
       "      <th>Daily Return</th>\n",
       "    </tr>\n",
       "    <tr>\n",
       "      <th>Date</th>\n",
       "      <th></th>\n",
       "    </tr>\n",
       "  </thead>\n",
       "  <tbody>\n",
       "    <tr>\n",
       "      <th>2023-11-27 00:00:00+00:00</th>\n",
       "      <td>NaN</td>\n",
       "    </tr>\n",
       "    <tr>\n",
       "      <th>2023-11-28 00:00:00+00:00</th>\n",
       "      <td>0.003214</td>\n",
       "    </tr>\n",
       "    <tr>\n",
       "      <th>2023-11-29 00:00:00+00:00</th>\n",
       "      <td>-0.005410</td>\n",
       "    </tr>\n",
       "    <tr>\n",
       "      <th>2023-11-30 00:00:00+00:00</th>\n",
       "      <td>0.003063</td>\n",
       "    </tr>\n",
       "    <tr>\n",
       "      <th>2023-12-01 00:00:00+00:00</th>\n",
       "      <td>0.006791</td>\n",
       "    </tr>\n",
       "  </tbody>\n",
       "</table>\n",
       "</div><br><label><b>dtype:</b> float64</label>"
      ],
      "text/plain": [
       "Date\n",
       "2023-11-27 00:00:00+00:00         NaN\n",
       "2023-11-28 00:00:00+00:00    0.003214\n",
       "2023-11-29 00:00:00+00:00   -0.005410\n",
       "2023-11-30 00:00:00+00:00    0.003063\n",
       "2023-12-01 00:00:00+00:00    0.006791\n",
       "Name: Daily Return, dtype: float64"
      ]
     },
     "execution_count": 32,
     "metadata": {},
     "output_type": "execute_result"
    }
   ],
   "source": [
    "data[\"Daily Return\"].head()"
   ]
  },
  {
   "cell_type": "code",
   "execution_count": 33,
   "metadata": {
    "id": "Kcixr5L3qke1"
   },
   "outputs": [],
   "source": [
    "#formula for percentage change\n",
    "#1-(today's price/yesterday's price)"
   ]
  },
  {
   "cell_type": "markdown",
   "metadata": {
    "id": "jjxdWintfGEJ"
   },
   "source": [
    "**Visualize the percentage that has been changed from the last year**"
   ]
  },
  {
   "cell_type": "code",
   "execution_count": 34,
   "metadata": {
    "colab": {
     "base_uri": "https://localhost:8080/",
     "height": 542
    },
    "id": "ANH_ez5het3W",
    "outputId": "b36fa3f7-e6e7-4ead-b67f-bb4e59f713ac"
   },
   "outputs": [
    {
     "data": {
      "text/html": [
       "<html>\n",
       "<head><meta charset=\"utf-8\" /></head>\n",
       "<body>\n",
       "    <div>            <script src=\"https://cdnjs.cloudflare.com/ajax/libs/mathjax/2.7.5/MathJax.js?config=TeX-AMS-MML_SVG\"></script><script type=\"text/javascript\">if (window.MathJax && window.MathJax.Hub && window.MathJax.Hub.Config) {window.MathJax.Hub.Config({SVG: {font: \"STIX-Web\"}});}</script>                <script type=\"text/javascript\">window.PlotlyConfig = {MathJaxConfig: 'local'};</script>\n",
       "        <script charset=\"utf-8\" src=\"https://cdn.plot.ly/plotly-2.35.2.min.js\"></script>                <div id=\"d508f4d1-338a-4cc7-b0f3-eff2ed06b197\" class=\"plotly-graph-div\" style=\"height:525px; width:100%;\"></div>            <script type=\"text/javascript\">                                    window.PLOTLYENV=window.PLOTLYENV || {};                                    if (document.getElementById(\"d508f4d1-338a-4cc7-b0f3-eff2ed06b197\")) {                    Plotly.newPlot(                        \"d508f4d1-338a-4cc7-b0f3-eff2ed06b197\",                        [{\"hovertemplate\":\"Daily Return=%{x}\\u003cbr\\u003eDate=%{y}\\u003cextra\\u003e\\u003c\\u002fextra\\u003e\",\"legendgroup\":\"\",\"line\":{\"color\":\"#636efa\",\"dash\":\"solid\"},\"marker\":{\"symbol\":\"circle\"},\"mode\":\"lines\",\"name\":\"\",\"orientation\":\"h\",\"showlegend\":false,\"x\":[null,0.003214082048213829,-0.0054096576277038455,0.0030627968844576525,0.006791305952341675,-0.00946461391650355,0.02106321938149014,-0.0056870585003612195,0.010139334827264257,0.00741237663940475,-0.012927361664163084,0.007920147510585007,0.016691489332522957,0.000757697976345284,-0.002725724519050843,-0.008503355126233125,0.005360166700849378,-0.010713925988598105,-0.0007699489496669765,-0.005547496470601487,-0.0028409247645567737,0.0005179530854488856,0.002226290179438317,-0.005424129774904141,-0.03578662771169838,-0.007487607165581278,-0.012700115809447077,-0.004013033761925966,0.024174881663950876,-0.002263409002323802,0.005671400319862574,-0.0032225473744458277,0.0017781229460982484,-0.012317089655153213,-0.005173512943255187,0.032570683411353496,0.015533014896551123,0.01216330058858972,0.006653222395139657,-0.0034839261261312426,-0.0016966675118492702,-0.009012720896651283,-0.003585918553020817,-0.01924582758897042,-0.01935758093816564,0.013340600842146166,-0.0054050867148502935,0.009846577950857638,0.0086317691773099,0.0005810914346444651,-0.005754692554861496,0.0028143519471321987,-0.009001917670574011,-0.011274382469489308,-0.004809767736384418,-0.0015747667431138535,-0.008430343993322875,-0.004113872031395016,0.004185997884141424,0.011243899246467626,-0.010034121026855192,-0.007451241390074692,0.008114380608232441,-0.006625454095802064,-0.003693077806788292,-0.00603040850838521,-0.025381261636673647,-0.028440952671264008,-0.005878203789690617,-0.0007095264939214196,0.010236661109698675,0.01183157220764297,0.002778557033511264,-0.012122559005482425,0.010927336316434166,-0.002196560016257232,0.006372414173507979,0.013585082856137465,0.014709202129471022,-0.04085746418856029,0.005310169154682409,-0.0083003986876804,-0.006672515943357493,0.021212602099510702,-0.010559124440792766,-0.008455779008450959,-0.006998779332762939,0.004797427008780275,-0.00489234660846527,0.004501803541427263,-0.0066635503633162285,0.007242512572309456,-0.01113926687125033,0.04327091762818491,0.00862665575607413,-0.021863497839872292,-0.019167279586534414,-0.008147389556206863,-0.0057143256777808515,-0.012212603975853775,0.005090886896306879,0.006391688265803275,0.012702279529689164,0.005147290824730311,-0.003472813820767917,0.024808014604454476,-0.01827088281812861,-0.006047077838456816,0.02203187040935095,0.05981625253732603,-0.009106762593950823,0.0037971886914498487,0.0018640987283840005,0.01001423758369735,-0.008235380680192916,0.017645428427694565,0.006173469529849429,0.012217940748059153,0.000632485327932919,0.00015802138577525326,0.006162101432736655,0.006857270013722827,-0.0075384047882530725,-0.021058088749084547,0.016588135507972,0.00005268852431883353,0.0015789661787211084,0.005255137081729533,0.005018593484036549,0.009258771283728873,0.0016492672588364066,0.007820884826019947,-0.007096540686677422,0.012392038847459208,-0.019147769232301326,0.07264912559045644,0.02857839054869915,0.005491144359726752,-0.008168409051202308,0.019671478976528656,-0.010984469021671939,-0.021512906597537684,-0.010444426073609514,0.00313265159417897,0.004468184574312861,0.01999326794540668,0.003985960626099017,-0.016254137725925877,0.029104572333703782,0.016239927439266166,0.0058110444203451905,0.021620371113304726,0.006538884025246272,0.00377484559702701,0.018803582252402418,-0.023220827978926883,0.013050867277438316,0.01674330147811176,0.0017918662059346335,-0.025295980990260425,-0.020534830945314275,0.0005799129586043783,-0.0015602998017738567,0.004688282557118395,-0.02875428371474653,-0.004804556718339459,0.002161024455525684,0.0012846337432190769,0.0025659711533103646,0.014990853444005525,-0.016750725819666967,0.006869389978967133,-0.0481669985831521,-0.009748212850733573,0.01249824663455068,0.016633257613904107,0.013735914716165532,0.005965562584919537,0.017193056195245138,0.002033700635211577,0.01353057903429189,0.0059184844421056315,-0.0007078241979617816,0.0027446771387078517,-0.00048563247988708813,-0.008259695969967673,0.010288146667049025,0.0014988376978466444,0.0037415535298863656,-0.006753467940081581,0.014570125448949867,-0.0034378924636161434,-0.027205221517637823,-0.00861874638471094,0.006927773316790065,-0.007015008203708928,0.00040755518026269755,-0.0036213980285901837,0.011585130365211915,0.0004940295003250661,-0.001212031545013148,-0.027775247981039364,0.0021726421320320544,0.017989802463465043,0.03706553348719566,-0.002927418111763669,-0.007581050616453089,0.0039740093241191765,-0.004398117700115112,0.005080219022305155,0.0011866605511687833,0.02287197360475246,-0.029141602086406926,0.002519747352073054,-0.004894614235498862,0.005007333238716605,-0.022530866585506182,0.01840408582309916,0.016698360908574017,-0.0021782696463562568,-0.006505371454991304,0.01647989430765695,0.011024656368842312,-0.008851859184055066,0.001596320300009113,0.01227657195109133,0.006297854159740712,-0.002621765597043635,-0.021623022514703605,-0.0008233107433687215,0.0036431292501519774,0.008599413175243154,0.0011568306749001334,-0.015277922255336196,-0.01820948426885871,-0.013279624414008095,-0.004037544930633463,0.006486205472888695,-0.0032669310248778505,0.02137210165565251,-0.0022858669924307184,-0.01202859933719469,0.0,0.003969136184303723,0.013770460957508002,-0.014109198157391867,0.013422241210937491,0.0011402267431117608,0.0031540267415159917,-0.002096051211960992,0.005907539031537068,0.013050855108212911,0.009404399395912533,-0.000553071063399857],\"xaxis\":\"x\",\"y\":[\"2023-11-27T00:00:00+00:00\",\"2023-11-28T00:00:00+00:00\",\"2023-11-29T00:00:00+00:00\",\"2023-11-30T00:00:00+00:00\",\"2023-12-01T00:00:00+00:00\",\"2023-12-04T00:00:00+00:00\",\"2023-12-05T00:00:00+00:00\",\"2023-12-06T00:00:00+00:00\",\"2023-12-07T00:00:00+00:00\",\"2023-12-08T00:00:00+00:00\",\"2023-12-11T00:00:00+00:00\",\"2023-12-12T00:00:00+00:00\",\"2023-12-13T00:00:00+00:00\",\"2023-12-14T00:00:00+00:00\",\"2023-12-15T00:00:00+00:00\",\"2023-12-18T00:00:00+00:00\",\"2023-12-19T00:00:00+00:00\",\"2023-12-20T00:00:00+00:00\",\"2023-12-21T00:00:00+00:00\",\"2023-12-22T00:00:00+00:00\",\"2023-12-26T00:00:00+00:00\",\"2023-12-27T00:00:00+00:00\",\"2023-12-28T00:00:00+00:00\",\"2023-12-29T00:00:00+00:00\",\"2024-01-02T00:00:00+00:00\",\"2024-01-03T00:00:00+00:00\",\"2024-01-04T00:00:00+00:00\",\"2024-01-05T00:00:00+00:00\",\"2024-01-08T00:00:00+00:00\",\"2024-01-09T00:00:00+00:00\",\"2024-01-10T00:00:00+00:00\",\"2024-01-11T00:00:00+00:00\",\"2024-01-12T00:00:00+00:00\",\"2024-01-16T00:00:00+00:00\",\"2024-01-17T00:00:00+00:00\",\"2024-01-18T00:00:00+00:00\",\"2024-01-19T00:00:00+00:00\",\"2024-01-22T00:00:00+00:00\",\"2024-01-23T00:00:00+00:00\",\"2024-01-24T00:00:00+00:00\",\"2024-01-25T00:00:00+00:00\",\"2024-01-26T00:00:00+00:00\",\"2024-01-29T00:00:00+00:00\",\"2024-01-30T00:00:00+00:00\",\"2024-01-31T00:00:00+00:00\",\"2024-02-01T00:00:00+00:00\",\"2024-02-02T00:00:00+00:00\",\"2024-02-05T00:00:00+00:00\",\"2024-02-06T00:00:00+00:00\",\"2024-02-07T00:00:00+00:00\",\"2024-02-08T00:00:00+00:00\",\"2024-02-09T00:00:00+00:00\",\"2024-02-12T00:00:00+00:00\",\"2024-02-13T00:00:00+00:00\",\"2024-02-14T00:00:00+00:00\",\"2024-02-15T00:00:00+00:00\",\"2024-02-16T00:00:00+00:00\",\"2024-02-20T00:00:00+00:00\",\"2024-02-21T00:00:00+00:00\",\"2024-02-22T00:00:00+00:00\",\"2024-02-23T00:00:00+00:00\",\"2024-02-26T00:00:00+00:00\",\"2024-02-27T00:00:00+00:00\",\"2024-02-28T00:00:00+00:00\",\"2024-02-29T00:00:00+00:00\",\"2024-03-01T00:00:00+00:00\",\"2024-03-04T00:00:00+00:00\",\"2024-03-05T00:00:00+00:00\",\"2024-03-06T00:00:00+00:00\",\"2024-03-07T00:00:00+00:00\",\"2024-03-08T00:00:00+00:00\",\"2024-03-11T00:00:00+00:00\",\"2024-03-12T00:00:00+00:00\",\"2024-03-13T00:00:00+00:00\",\"2024-03-14T00:00:00+00:00\",\"2024-03-15T00:00:00+00:00\",\"2024-03-18T00:00:00+00:00\",\"2024-03-19T00:00:00+00:00\",\"2024-03-20T00:00:00+00:00\",\"2024-03-21T00:00:00+00:00\",\"2024-03-22T00:00:00+00:00\",\"2024-03-25T00:00:00+00:00\",\"2024-03-26T00:00:00+00:00\",\"2024-03-27T00:00:00+00:00\",\"2024-03-28T00:00:00+00:00\",\"2024-04-01T00:00:00+00:00\",\"2024-04-02T00:00:00+00:00\",\"2024-04-03T00:00:00+00:00\",\"2024-04-04T00:00:00+00:00\",\"2024-04-05T00:00:00+00:00\",\"2024-04-08T00:00:00+00:00\",\"2024-04-09T00:00:00+00:00\",\"2024-04-10T00:00:00+00:00\",\"2024-04-11T00:00:00+00:00\",\"2024-04-12T00:00:00+00:00\",\"2024-04-15T00:00:00+00:00\",\"2024-04-16T00:00:00+00:00\",\"2024-04-17T00:00:00+00:00\",\"2024-04-18T00:00:00+00:00\",\"2024-04-19T00:00:00+00:00\",\"2024-04-22T00:00:00+00:00\",\"2024-04-23T00:00:00+00:00\",\"2024-04-24T00:00:00+00:00\",\"2024-04-25T00:00:00+00:00\",\"2024-04-26T00:00:00+00:00\",\"2024-04-29T00:00:00+00:00\",\"2024-04-30T00:00:00+00:00\",\"2024-05-01T00:00:00+00:00\",\"2024-05-02T00:00:00+00:00\",\"2024-05-03T00:00:00+00:00\",\"2024-05-06T00:00:00+00:00\",\"2024-05-07T00:00:00+00:00\",\"2024-05-08T00:00:00+00:00\",\"2024-05-09T00:00:00+00:00\",\"2024-05-10T00:00:00+00:00\",\"2024-05-13T00:00:00+00:00\",\"2024-05-14T00:00:00+00:00\",\"2024-05-15T00:00:00+00:00\",\"2024-05-16T00:00:00+00:00\",\"2024-05-17T00:00:00+00:00\",\"2024-05-20T00:00:00+00:00\",\"2024-05-21T00:00:00+00:00\",\"2024-05-22T00:00:00+00:00\",\"2024-05-23T00:00:00+00:00\",\"2024-05-24T00:00:00+00:00\",\"2024-05-28T00:00:00+00:00\",\"2024-05-29T00:00:00+00:00\",\"2024-05-30T00:00:00+00:00\",\"2024-05-31T00:00:00+00:00\",\"2024-06-03T00:00:00+00:00\",\"2024-06-04T00:00:00+00:00\",\"2024-06-05T00:00:00+00:00\",\"2024-06-06T00:00:00+00:00\",\"2024-06-07T00:00:00+00:00\",\"2024-06-10T00:00:00+00:00\",\"2024-06-11T00:00:00+00:00\",\"2024-06-12T00:00:00+00:00\",\"2024-06-13T00:00:00+00:00\",\"2024-06-14T00:00:00+00:00\",\"2024-06-17T00:00:00+00:00\",\"2024-06-18T00:00:00+00:00\",\"2024-06-20T00:00:00+00:00\",\"2024-06-21T00:00:00+00:00\",\"2024-06-24T00:00:00+00:00\",\"2024-06-25T00:00:00+00:00\",\"2024-06-26T00:00:00+00:00\",\"2024-06-27T00:00:00+00:00\",\"2024-06-28T00:00:00+00:00\",\"2024-07-01T00:00:00+00:00\",\"2024-07-02T00:00:00+00:00\",\"2024-07-03T00:00:00+00:00\",\"2024-07-05T00:00:00+00:00\",\"2024-07-08T00:00:00+00:00\",\"2024-07-09T00:00:00+00:00\",\"2024-07-10T00:00:00+00:00\",\"2024-07-11T00:00:00+00:00\",\"2024-07-12T00:00:00+00:00\",\"2024-07-15T00:00:00+00:00\",\"2024-07-16T00:00:00+00:00\",\"2024-07-17T00:00:00+00:00\",\"2024-07-18T00:00:00+00:00\",\"2024-07-19T00:00:00+00:00\",\"2024-07-22T00:00:00+00:00\",\"2024-07-23T00:00:00+00:00\",\"2024-07-24T00:00:00+00:00\",\"2024-07-25T00:00:00+00:00\",\"2024-07-26T00:00:00+00:00\",\"2024-07-29T00:00:00+00:00\",\"2024-07-30T00:00:00+00:00\",\"2024-07-31T00:00:00+00:00\",\"2024-08-01T00:00:00+00:00\",\"2024-08-02T00:00:00+00:00\",\"2024-08-05T00:00:00+00:00\",\"2024-08-06T00:00:00+00:00\",\"2024-08-07T00:00:00+00:00\",\"2024-08-08T00:00:00+00:00\",\"2024-08-09T00:00:00+00:00\",\"2024-08-12T00:00:00+00:00\",\"2024-08-13T00:00:00+00:00\",\"2024-08-14T00:00:00+00:00\",\"2024-08-15T00:00:00+00:00\",\"2024-08-16T00:00:00+00:00\",\"2024-08-19T00:00:00+00:00\",\"2024-08-20T00:00:00+00:00\",\"2024-08-21T00:00:00+00:00\",\"2024-08-22T00:00:00+00:00\",\"2024-08-23T00:00:00+00:00\",\"2024-08-26T00:00:00+00:00\",\"2024-08-27T00:00:00+00:00\",\"2024-08-28T00:00:00+00:00\",\"2024-08-29T00:00:00+00:00\",\"2024-08-30T00:00:00+00:00\",\"2024-09-03T00:00:00+00:00\",\"2024-09-04T00:00:00+00:00\",\"2024-09-05T00:00:00+00:00\",\"2024-09-06T00:00:00+00:00\",\"2024-09-09T00:00:00+00:00\",\"2024-09-10T00:00:00+00:00\",\"2024-09-11T00:00:00+00:00\",\"2024-09-12T00:00:00+00:00\",\"2024-09-13T00:00:00+00:00\",\"2024-09-16T00:00:00+00:00\",\"2024-09-17T00:00:00+00:00\",\"2024-09-18T00:00:00+00:00\",\"2024-09-19T00:00:00+00:00\",\"2024-09-20T00:00:00+00:00\",\"2024-09-23T00:00:00+00:00\",\"2024-09-24T00:00:00+00:00\",\"2024-09-25T00:00:00+00:00\",\"2024-09-26T00:00:00+00:00\",\"2024-09-27T00:00:00+00:00\",\"2024-09-30T00:00:00+00:00\",\"2024-10-01T00:00:00+00:00\",\"2024-10-02T00:00:00+00:00\",\"2024-10-03T00:00:00+00:00\",\"2024-10-04T00:00:00+00:00\",\"2024-10-07T00:00:00+00:00\",\"2024-10-08T00:00:00+00:00\",\"2024-10-09T00:00:00+00:00\",\"2024-10-10T00:00:00+00:00\",\"2024-10-11T00:00:00+00:00\",\"2024-10-14T00:00:00+00:00\",\"2024-10-15T00:00:00+00:00\",\"2024-10-16T00:00:00+00:00\",\"2024-10-17T00:00:00+00:00\",\"2024-10-18T00:00:00+00:00\",\"2024-10-21T00:00:00+00:00\",\"2024-10-22T00:00:00+00:00\",\"2024-10-23T00:00:00+00:00\",\"2024-10-24T00:00:00+00:00\",\"2024-10-25T00:00:00+00:00\",\"2024-10-28T00:00:00+00:00\",\"2024-10-29T00:00:00+00:00\",\"2024-10-30T00:00:00+00:00\",\"2024-10-31T00:00:00+00:00\",\"2024-11-01T00:00:00+00:00\",\"2024-11-04T00:00:00+00:00\",\"2024-11-05T00:00:00+00:00\",\"2024-11-06T00:00:00+00:00\",\"2024-11-07T00:00:00+00:00\",\"2024-11-08T00:00:00+00:00\",\"2024-11-11T00:00:00+00:00\",\"2024-11-12T00:00:00+00:00\",\"2024-11-13T00:00:00+00:00\",\"2024-11-14T00:00:00+00:00\",\"2024-11-15T00:00:00+00:00\",\"2024-11-18T00:00:00+00:00\",\"2024-11-19T00:00:00+00:00\",\"2024-11-20T00:00:00+00:00\",\"2024-11-21T00:00:00+00:00\",\"2024-11-22T00:00:00+00:00\",\"2024-11-25T00:00:00+00:00\",\"2024-11-26T00:00:00+00:00\",\"2024-11-27T00:00:00+00:00\"],\"yaxis\":\"y\",\"type\":\"scatter\"}],                        {\"template\":{\"data\":{\"histogram2dcontour\":[{\"type\":\"histogram2dcontour\",\"colorbar\":{\"outlinewidth\":0,\"ticks\":\"\"},\"colorscale\":[[0.0,\"#0d0887\"],[0.1111111111111111,\"#46039f\"],[0.2222222222222222,\"#7201a8\"],[0.3333333333333333,\"#9c179e\"],[0.4444444444444444,\"#bd3786\"],[0.5555555555555556,\"#d8576b\"],[0.6666666666666666,\"#ed7953\"],[0.7777777777777778,\"#fb9f3a\"],[0.8888888888888888,\"#fdca26\"],[1.0,\"#f0f921\"]]}],\"choropleth\":[{\"type\":\"choropleth\",\"colorbar\":{\"outlinewidth\":0,\"ticks\":\"\"}}],\"histogram2d\":[{\"type\":\"histogram2d\",\"colorbar\":{\"outlinewidth\":0,\"ticks\":\"\"},\"colorscale\":[[0.0,\"#0d0887\"],[0.1111111111111111,\"#46039f\"],[0.2222222222222222,\"#7201a8\"],[0.3333333333333333,\"#9c179e\"],[0.4444444444444444,\"#bd3786\"],[0.5555555555555556,\"#d8576b\"],[0.6666666666666666,\"#ed7953\"],[0.7777777777777778,\"#fb9f3a\"],[0.8888888888888888,\"#fdca26\"],[1.0,\"#f0f921\"]]}],\"heatmap\":[{\"type\":\"heatmap\",\"colorbar\":{\"outlinewidth\":0,\"ticks\":\"\"},\"colorscale\":[[0.0,\"#0d0887\"],[0.1111111111111111,\"#46039f\"],[0.2222222222222222,\"#7201a8\"],[0.3333333333333333,\"#9c179e\"],[0.4444444444444444,\"#bd3786\"],[0.5555555555555556,\"#d8576b\"],[0.6666666666666666,\"#ed7953\"],[0.7777777777777778,\"#fb9f3a\"],[0.8888888888888888,\"#fdca26\"],[1.0,\"#f0f921\"]]}],\"heatmapgl\":[{\"type\":\"heatmapgl\",\"colorbar\":{\"outlinewidth\":0,\"ticks\":\"\"},\"colorscale\":[[0.0,\"#0d0887\"],[0.1111111111111111,\"#46039f\"],[0.2222222222222222,\"#7201a8\"],[0.3333333333333333,\"#9c179e\"],[0.4444444444444444,\"#bd3786\"],[0.5555555555555556,\"#d8576b\"],[0.6666666666666666,\"#ed7953\"],[0.7777777777777778,\"#fb9f3a\"],[0.8888888888888888,\"#fdca26\"],[1.0,\"#f0f921\"]]}],\"contourcarpet\":[{\"type\":\"contourcarpet\",\"colorbar\":{\"outlinewidth\":0,\"ticks\":\"\"}}],\"contour\":[{\"type\":\"contour\",\"colorbar\":{\"outlinewidth\":0,\"ticks\":\"\"},\"colorscale\":[[0.0,\"#0d0887\"],[0.1111111111111111,\"#46039f\"],[0.2222222222222222,\"#7201a8\"],[0.3333333333333333,\"#9c179e\"],[0.4444444444444444,\"#bd3786\"],[0.5555555555555556,\"#d8576b\"],[0.6666666666666666,\"#ed7953\"],[0.7777777777777778,\"#fb9f3a\"],[0.8888888888888888,\"#fdca26\"],[1.0,\"#f0f921\"]]}],\"surface\":[{\"type\":\"surface\",\"colorbar\":{\"outlinewidth\":0,\"ticks\":\"\"},\"colorscale\":[[0.0,\"#0d0887\"],[0.1111111111111111,\"#46039f\"],[0.2222222222222222,\"#7201a8\"],[0.3333333333333333,\"#9c179e\"],[0.4444444444444444,\"#bd3786\"],[0.5555555555555556,\"#d8576b\"],[0.6666666666666666,\"#ed7953\"],[0.7777777777777778,\"#fb9f3a\"],[0.8888888888888888,\"#fdca26\"],[1.0,\"#f0f921\"]]}],\"mesh3d\":[{\"type\":\"mesh3d\",\"colorbar\":{\"outlinewidth\":0,\"ticks\":\"\"}}],\"scatter\":[{\"fillpattern\":{\"fillmode\":\"overlay\",\"size\":10,\"solidity\":0.2},\"type\":\"scatter\"}],\"parcoords\":[{\"type\":\"parcoords\",\"line\":{\"colorbar\":{\"outlinewidth\":0,\"ticks\":\"\"}}}],\"scatterpolargl\":[{\"type\":\"scatterpolargl\",\"marker\":{\"colorbar\":{\"outlinewidth\":0,\"ticks\":\"\"}}}],\"bar\":[{\"error_x\":{\"color\":\"#2a3f5f\"},\"error_y\":{\"color\":\"#2a3f5f\"},\"marker\":{\"line\":{\"color\":\"#E5ECF6\",\"width\":0.5},\"pattern\":{\"fillmode\":\"overlay\",\"size\":10,\"solidity\":0.2}},\"type\":\"bar\"}],\"scattergeo\":[{\"type\":\"scattergeo\",\"marker\":{\"colorbar\":{\"outlinewidth\":0,\"ticks\":\"\"}}}],\"scatterpolar\":[{\"type\":\"scatterpolar\",\"marker\":{\"colorbar\":{\"outlinewidth\":0,\"ticks\":\"\"}}}],\"histogram\":[{\"marker\":{\"pattern\":{\"fillmode\":\"overlay\",\"size\":10,\"solidity\":0.2}},\"type\":\"histogram\"}],\"scattergl\":[{\"type\":\"scattergl\",\"marker\":{\"colorbar\":{\"outlinewidth\":0,\"ticks\":\"\"}}}],\"scatter3d\":[{\"type\":\"scatter3d\",\"line\":{\"colorbar\":{\"outlinewidth\":0,\"ticks\":\"\"}},\"marker\":{\"colorbar\":{\"outlinewidth\":0,\"ticks\":\"\"}}}],\"scattermapbox\":[{\"type\":\"scattermapbox\",\"marker\":{\"colorbar\":{\"outlinewidth\":0,\"ticks\":\"\"}}}],\"scatterternary\":[{\"type\":\"scatterternary\",\"marker\":{\"colorbar\":{\"outlinewidth\":0,\"ticks\":\"\"}}}],\"scattercarpet\":[{\"type\":\"scattercarpet\",\"marker\":{\"colorbar\":{\"outlinewidth\":0,\"ticks\":\"\"}}}],\"carpet\":[{\"aaxis\":{\"endlinecolor\":\"#2a3f5f\",\"gridcolor\":\"white\",\"linecolor\":\"white\",\"minorgridcolor\":\"white\",\"startlinecolor\":\"#2a3f5f\"},\"baxis\":{\"endlinecolor\":\"#2a3f5f\",\"gridcolor\":\"white\",\"linecolor\":\"white\",\"minorgridcolor\":\"white\",\"startlinecolor\":\"#2a3f5f\"},\"type\":\"carpet\"}],\"table\":[{\"cells\":{\"fill\":{\"color\":\"#EBF0F8\"},\"line\":{\"color\":\"white\"}},\"header\":{\"fill\":{\"color\":\"#C8D4E3\"},\"line\":{\"color\":\"white\"}},\"type\":\"table\"}],\"barpolar\":[{\"marker\":{\"line\":{\"color\":\"#E5ECF6\",\"width\":0.5},\"pattern\":{\"fillmode\":\"overlay\",\"size\":10,\"solidity\":0.2}},\"type\":\"barpolar\"}],\"pie\":[{\"automargin\":true,\"type\":\"pie\"}]},\"layout\":{\"autotypenumbers\":\"strict\",\"colorway\":[\"#636efa\",\"#EF553B\",\"#00cc96\",\"#ab63fa\",\"#FFA15A\",\"#19d3f3\",\"#FF6692\",\"#B6E880\",\"#FF97FF\",\"#FECB52\"],\"font\":{\"color\":\"#2a3f5f\"},\"hovermode\":\"closest\",\"hoverlabel\":{\"align\":\"left\"},\"paper_bgcolor\":\"white\",\"plot_bgcolor\":\"#E5ECF6\",\"polar\":{\"bgcolor\":\"#E5ECF6\",\"angularaxis\":{\"gridcolor\":\"white\",\"linecolor\":\"white\",\"ticks\":\"\"},\"radialaxis\":{\"gridcolor\":\"white\",\"linecolor\":\"white\",\"ticks\":\"\"}},\"ternary\":{\"bgcolor\":\"#E5ECF6\",\"aaxis\":{\"gridcolor\":\"white\",\"linecolor\":\"white\",\"ticks\":\"\"},\"baxis\":{\"gridcolor\":\"white\",\"linecolor\":\"white\",\"ticks\":\"\"},\"caxis\":{\"gridcolor\":\"white\",\"linecolor\":\"white\",\"ticks\":\"\"}},\"coloraxis\":{\"colorbar\":{\"outlinewidth\":0,\"ticks\":\"\"}},\"colorscale\":{\"sequential\":[[0.0,\"#0d0887\"],[0.1111111111111111,\"#46039f\"],[0.2222222222222222,\"#7201a8\"],[0.3333333333333333,\"#9c179e\"],[0.4444444444444444,\"#bd3786\"],[0.5555555555555556,\"#d8576b\"],[0.6666666666666666,\"#ed7953\"],[0.7777777777777778,\"#fb9f3a\"],[0.8888888888888888,\"#fdca26\"],[1.0,\"#f0f921\"]],\"sequentialminus\":[[0.0,\"#0d0887\"],[0.1111111111111111,\"#46039f\"],[0.2222222222222222,\"#7201a8\"],[0.3333333333333333,\"#9c179e\"],[0.4444444444444444,\"#bd3786\"],[0.5555555555555556,\"#d8576b\"],[0.6666666666666666,\"#ed7953\"],[0.7777777777777778,\"#fb9f3a\"],[0.8888888888888888,\"#fdca26\"],[1.0,\"#f0f921\"]],\"diverging\":[[0,\"#8e0152\"],[0.1,\"#c51b7d\"],[0.2,\"#de77ae\"],[0.3,\"#f1b6da\"],[0.4,\"#fde0ef\"],[0.5,\"#f7f7f7\"],[0.6,\"#e6f5d0\"],[0.7,\"#b8e186\"],[0.8,\"#7fbc41\"],[0.9,\"#4d9221\"],[1,\"#276419\"]]},\"xaxis\":{\"gridcolor\":\"white\",\"linecolor\":\"white\",\"ticks\":\"\",\"title\":{\"standoff\":15},\"zerolinecolor\":\"white\",\"automargin\":true,\"zerolinewidth\":2},\"yaxis\":{\"gridcolor\":\"white\",\"linecolor\":\"white\",\"ticks\":\"\",\"title\":{\"standoff\":15},\"zerolinecolor\":\"white\",\"automargin\":true,\"zerolinewidth\":2},\"scene\":{\"xaxis\":{\"backgroundcolor\":\"#E5ECF6\",\"gridcolor\":\"white\",\"linecolor\":\"white\",\"showbackground\":true,\"ticks\":\"\",\"zerolinecolor\":\"white\",\"gridwidth\":2},\"yaxis\":{\"backgroundcolor\":\"#E5ECF6\",\"gridcolor\":\"white\",\"linecolor\":\"white\",\"showbackground\":true,\"ticks\":\"\",\"zerolinecolor\":\"white\",\"gridwidth\":2},\"zaxis\":{\"backgroundcolor\":\"#E5ECF6\",\"gridcolor\":\"white\",\"linecolor\":\"white\",\"showbackground\":true,\"ticks\":\"\",\"zerolinecolor\":\"white\",\"gridwidth\":2}},\"shapedefaults\":{\"line\":{\"color\":\"#2a3f5f\"}},\"annotationdefaults\":{\"arrowcolor\":\"#2a3f5f\",\"arrowhead\":0,\"arrowwidth\":1},\"geo\":{\"bgcolor\":\"white\",\"landcolor\":\"#E5ECF6\",\"subunitcolor\":\"white\",\"showland\":true,\"showlakes\":true,\"lakecolor\":\"white\"},\"title\":{\"x\":0.05},\"mapbox\":{\"style\":\"light\"}}},\"xaxis\":{\"anchor\":\"y\",\"domain\":[0.0,1.0],\"title\":{\"text\":\"Daily Return\"}},\"yaxis\":{\"anchor\":\"x\",\"domain\":[0.0,1.0],\"title\":{\"text\":\"Date\"}},\"legend\":{\"tracegroupgap\":0},\"title\":{\"text\":\"Change in the stock on the daily basis\"}},                        {\"responsive\": true}                    ).then(function(){\n",
       "                            \n",
       "var gd = document.getElementById('d508f4d1-338a-4cc7-b0f3-eff2ed06b197');\n",
       "var x = new MutationObserver(function (mutations, observer) {{\n",
       "        var display = window.getComputedStyle(gd).display;\n",
       "        if (!display || display === 'none') {{\n",
       "            console.log([gd, 'removed!']);\n",
       "            Plotly.purge(gd);\n",
       "            observer.disconnect();\n",
       "        }}\n",
       "}});\n",
       "\n",
       "// Listen for the removal of the full notebook cells\n",
       "var notebookContainer = gd.closest('#notebook-container');\n",
       "if (notebookContainer) {{\n",
       "    x.observe(notebookContainer, {childList: true});\n",
       "}}\n",
       "\n",
       "// Listen for the clearing of the current output cell\n",
       "var outputEl = gd.closest('.output');\n",
       "if (outputEl) {{\n",
       "    x.observe(outputEl, {childList: true});\n",
       "}}\n",
       "\n",
       "                        })                };                            </script>        </div>\n",
       "</body>\n",
       "</html>"
      ]
     },
     "metadata": {},
     "output_type": "display_data"
    }
   ],
   "source": [
    "fig = px.line(data, x = \"Daily Return\", title = \"Change in the stock on the daily basis\")\n",
    "fig.show()"
   ]
  },
  {
   "cell_type": "markdown",
   "metadata": {
    "id": "cxf0q0tWfhs0"
   },
   "source": [
    "**If we are investing in this stock, there exists a fair amount of chance that changest will be between -0.03 to 0.03**\n",
    "\n",
    "* **Link to Ticket data: https://www.nasdaq.com/market-activity/stocks/screener**"
   ]
  },
  {
   "cell_type": "markdown",
   "metadata": {
    "id": "7dSgEknvf1Rm"
   },
   "source": [
    "<hr>\n",
    "\n",
    "# **Step 7 - Training and Testing data**"
   ]
  },
  {
   "cell_type": "code",
   "execution_count": 35,
   "metadata": {
    "colab": {
     "base_uri": "https://localhost:8080/"
    },
    "id": "smtrO3bvgPg2",
    "outputId": "ba3da02e-b777-4c2d-f210-413db9be1d73"
   },
   "outputs": [
    {
     "name": "stderr",
     "output_type": "stream",
     "text": [
      "\r",
      "[*********************100%***********************]  1 of 1 completed\n"
     ]
    }
   ],
   "source": [
    "data = yf.download(\"AAPL\", start = \"2014-01-01\", end = datetime.now())"
   ]
  },
  {
   "cell_type": "code",
   "execution_count": 36,
   "metadata": {
    "colab": {
     "base_uri": "https://localhost:8080/",
     "height": 486
    },
    "id": "yQxJq7YHg4Xt",
    "outputId": "efcd6cb8-08e2-49df-cd35-c4e3c532f6eb"
   },
   "outputs": [
    {
     "data": {
      "application/vnd.google.colaboratory.intrinsic+json": {
       "summary": "{\n  \"name\": \"data\",\n  \"rows\": 2746,\n  \"fields\": [\n    {\n      \"column\": [\n        \"Date\",\n        \"\"\n      ],\n      \"properties\": {\n        \"dtype\": \"date\",\n        \"min\": \"2014-01-02 00:00:00+00:00\",\n        \"max\": \"2024-11-27 00:00:00+00:00\",\n        \"num_unique_values\": 2746,\n        \"samples\": [\n          \"2019-01-10 00:00:00+00:00\",\n          \"2023-05-17 00:00:00+00:00\",\n          \"2021-01-26 00:00:00+00:00\"\n        ],\n        \"semantic_type\": \"\",\n        \"description\": \"\"\n      }\n    },\n    {\n      \"column\": [\n        \"Adj Close\",\n        \"AAPL\"\n      ],\n      \"properties\": {\n        \"dtype\": \"number\",\n        \"std\": 64.85131689634763,\n        \"min\": 15.572029113769531,\n        \"max\": 236.22010803222656,\n        \"num_unique_values\": 2704,\n        \"samples\": [\n          36.89822769165039,\n          25.633989334106445,\n          172.89410400390625\n        ],\n        \"semantic_type\": \"\",\n        \"description\": \"\"\n      }\n    },\n    {\n      \"column\": [\n        \"Close\",\n        \"AAPL\"\n      ],\n      \"properties\": {\n        \"dtype\": \"number\",\n        \"std\": 64.38993693543271,\n        \"min\": 17.849285125732422,\n        \"max\": 236.47999572753906,\n        \"num_unique_values\": 2585,\n        \"samples\": [\n          23.434999465942383,\n          218.5399932861328,\n          23.469999313354492\n        ],\n        \"semantic_type\": \"\",\n        \"description\": \"\"\n      }\n    },\n    {\n      \"column\": [\n        \"High\",\n        \"AAPL\"\n      ],\n      \"properties\": {\n        \"dtype\": \"number\",\n        \"std\": 65.0012814176391,\n        \"min\": 17.911785125732422,\n        \"max\": 237.49000549316406,\n        \"num_unique_values\": 2588,\n        \"samples\": [\n          39.84000015258789,\n          43.622501373291016,\n          227.8800048828125\n        ],\n        \"semantic_type\": \"\",\n        \"description\": \"\"\n      }\n    },\n    {\n      \"column\": [\n        \"Low\",\n        \"AAPL\"\n      ],\n      \"properties\": {\n        \"dtype\": \"number\",\n        \"std\": 63.7018451802756,\n        \"min\": 17.626785278320312,\n        \"max\": 234.4499969482422,\n        \"num_unique_values\": 2608,\n        \"samples\": [\n          60.65250015258789,\n          153.08999633789062,\n          27.137500762939453\n        ],\n        \"semantic_type\": \"\",\n        \"description\": \"\"\n      }\n    },\n    {\n      \"column\": [\n        \"Open\",\n        \"AAPL\"\n      ],\n      \"properties\": {\n        \"dtype\": \"number\",\n        \"std\": 64.32734196782401,\n        \"min\": 17.684999465942383,\n        \"max\": 236.47999572753906,\n        \"num_unique_values\": 2592,\n        \"samples\": [\n          174.5500030517578,\n          152.3800048828125,\n          35.8125\n        ],\n        \"semantic_type\": \"\",\n        \"description\": \"\"\n      }\n    },\n    {\n      \"column\": [\n        \"Volume\",\n        \"AAPL\"\n      ],\n      \"properties\": {\n        \"dtype\": \"number\",\n        \"std\": 83808781,\n        \"min\": 24048300,\n        \"max\": 1065523200,\n        \"num_unique_values\": 2738,\n        \"samples\": [\n          131672400,\n          134472400,\n          111341600\n        ],\n        \"semantic_type\": \"\",\n        \"description\": \"\"\n      }\n    }\n  ]\n}",
       "type": "dataframe",
       "variable_name": "data"
      },
      "text/html": [
       "\n",
       "  <div id=\"df-ada53934-cd63-4943-a1ea-beb2abd428dd\" class=\"colab-df-container\">\n",
       "    <div>\n",
       "<style scoped>\n",
       "    .dataframe tbody tr th:only-of-type {\n",
       "        vertical-align: middle;\n",
       "    }\n",
       "\n",
       "    .dataframe tbody tr th {\n",
       "        vertical-align: top;\n",
       "    }\n",
       "\n",
       "    .dataframe thead tr th {\n",
       "        text-align: left;\n",
       "    }\n",
       "\n",
       "    .dataframe thead tr:last-of-type th {\n",
       "        text-align: right;\n",
       "    }\n",
       "</style>\n",
       "<table border=\"1\" class=\"dataframe\">\n",
       "  <thead>\n",
       "    <tr>\n",
       "      <th>Price</th>\n",
       "      <th>Adj Close</th>\n",
       "      <th>Close</th>\n",
       "      <th>High</th>\n",
       "      <th>Low</th>\n",
       "      <th>Open</th>\n",
       "      <th>Volume</th>\n",
       "    </tr>\n",
       "    <tr>\n",
       "      <th>Ticker</th>\n",
       "      <th>AAPL</th>\n",
       "      <th>AAPL</th>\n",
       "      <th>AAPL</th>\n",
       "      <th>AAPL</th>\n",
       "      <th>AAPL</th>\n",
       "      <th>AAPL</th>\n",
       "    </tr>\n",
       "    <tr>\n",
       "      <th>Date</th>\n",
       "      <th></th>\n",
       "      <th></th>\n",
       "      <th></th>\n",
       "      <th></th>\n",
       "      <th></th>\n",
       "      <th></th>\n",
       "    </tr>\n",
       "  </thead>\n",
       "  <tbody>\n",
       "    <tr>\n",
       "      <th>2014-01-02 00:00:00+00:00</th>\n",
       "      <td>17.234295</td>\n",
       "      <td>19.754642</td>\n",
       "      <td>19.893929</td>\n",
       "      <td>19.715000</td>\n",
       "      <td>19.845715</td>\n",
       "      <td>234684800</td>\n",
       "    </tr>\n",
       "    <tr>\n",
       "      <th>2014-01-03 00:00:00+00:00</th>\n",
       "      <td>16.855734</td>\n",
       "      <td>19.320715</td>\n",
       "      <td>19.775000</td>\n",
       "      <td>19.301071</td>\n",
       "      <td>19.745001</td>\n",
       "      <td>392467600</td>\n",
       "    </tr>\n",
       "    <tr>\n",
       "      <th>2014-01-06 00:00:00+00:00</th>\n",
       "      <td>16.947649</td>\n",
       "      <td>19.426071</td>\n",
       "      <td>19.528570</td>\n",
       "      <td>19.057142</td>\n",
       "      <td>19.194643</td>\n",
       "      <td>412610800</td>\n",
       "    </tr>\n",
       "    <tr>\n",
       "      <th>2014-01-07 00:00:00+00:00</th>\n",
       "      <td>16.826441</td>\n",
       "      <td>19.287144</td>\n",
       "      <td>19.498571</td>\n",
       "      <td>19.211430</td>\n",
       "      <td>19.440001</td>\n",
       "      <td>317209200</td>\n",
       "    </tr>\n",
       "    <tr>\n",
       "      <th>2014-01-08 00:00:00+00:00</th>\n",
       "      <td>16.933006</td>\n",
       "      <td>19.409286</td>\n",
       "      <td>19.484285</td>\n",
       "      <td>19.238930</td>\n",
       "      <td>19.243214</td>\n",
       "      <td>258529600</td>\n",
       "    </tr>\n",
       "    <tr>\n",
       "      <th>...</th>\n",
       "      <td>...</td>\n",
       "      <td>...</td>\n",
       "      <td>...</td>\n",
       "      <td>...</td>\n",
       "      <td>...</td>\n",
       "      <td>...</td>\n",
       "    </tr>\n",
       "    <tr>\n",
       "      <th>2024-11-21 00:00:00+00:00</th>\n",
       "      <td>228.520004</td>\n",
       "      <td>228.520004</td>\n",
       "      <td>230.160004</td>\n",
       "      <td>225.710007</td>\n",
       "      <td>228.880005</td>\n",
       "      <td>42108300</td>\n",
       "    </tr>\n",
       "    <tr>\n",
       "      <th>2024-11-22 00:00:00+00:00</th>\n",
       "      <td>229.869995</td>\n",
       "      <td>229.869995</td>\n",
       "      <td>230.720001</td>\n",
       "      <td>228.059998</td>\n",
       "      <td>228.059998</td>\n",
       "      <td>38168300</td>\n",
       "    </tr>\n",
       "    <tr>\n",
       "      <th>2024-11-25 00:00:00+00:00</th>\n",
       "      <td>232.869995</td>\n",
       "      <td>232.869995</td>\n",
       "      <td>233.250000</td>\n",
       "      <td>229.740005</td>\n",
       "      <td>231.460007</td>\n",
       "      <td>90152800</td>\n",
       "    </tr>\n",
       "    <tr>\n",
       "      <th>2024-11-26 00:00:00+00:00</th>\n",
       "      <td>235.059998</td>\n",
       "      <td>235.059998</td>\n",
       "      <td>235.570007</td>\n",
       "      <td>233.330002</td>\n",
       "      <td>233.330002</td>\n",
       "      <td>45986200</td>\n",
       "    </tr>\n",
       "    <tr>\n",
       "      <th>2024-11-27 00:00:00+00:00</th>\n",
       "      <td>234.929993</td>\n",
       "      <td>234.929993</td>\n",
       "      <td>235.690002</td>\n",
       "      <td>233.809998</td>\n",
       "      <td>234.470001</td>\n",
       "      <td>33475000</td>\n",
       "    </tr>\n",
       "  </tbody>\n",
       "</table>\n",
       "<p>2746 rows × 6 columns</p>\n",
       "</div>\n",
       "    <div class=\"colab-df-buttons\">\n",
       "\n",
       "  <div class=\"colab-df-container\">\n",
       "    <button class=\"colab-df-convert\" onclick=\"convertToInteractive('df-ada53934-cd63-4943-a1ea-beb2abd428dd')\"\n",
       "            title=\"Convert this dataframe to an interactive table.\"\n",
       "            style=\"display:none;\">\n",
       "\n",
       "  <svg xmlns=\"http://www.w3.org/2000/svg\" height=\"24px\" viewBox=\"0 -960 960 960\">\n",
       "    <path d=\"M120-120v-720h720v720H120Zm60-500h600v-160H180v160Zm220 220h160v-160H400v160Zm0 220h160v-160H400v160ZM180-400h160v-160H180v160Zm440 0h160v-160H620v160ZM180-180h160v-160H180v160Zm440 0h160v-160H620v160Z\"/>\n",
       "  </svg>\n",
       "    </button>\n",
       "\n",
       "  <style>\n",
       "    .colab-df-container {\n",
       "      display:flex;\n",
       "      gap: 12px;\n",
       "    }\n",
       "\n",
       "    .colab-df-convert {\n",
       "      background-color: #E8F0FE;\n",
       "      border: none;\n",
       "      border-radius: 50%;\n",
       "      cursor: pointer;\n",
       "      display: none;\n",
       "      fill: #1967D2;\n",
       "      height: 32px;\n",
       "      padding: 0 0 0 0;\n",
       "      width: 32px;\n",
       "    }\n",
       "\n",
       "    .colab-df-convert:hover {\n",
       "      background-color: #E2EBFA;\n",
       "      box-shadow: 0px 1px 2px rgba(60, 64, 67, 0.3), 0px 1px 3px 1px rgba(60, 64, 67, 0.15);\n",
       "      fill: #174EA6;\n",
       "    }\n",
       "\n",
       "    .colab-df-buttons div {\n",
       "      margin-bottom: 4px;\n",
       "    }\n",
       "\n",
       "    [theme=dark] .colab-df-convert {\n",
       "      background-color: #3B4455;\n",
       "      fill: #D2E3FC;\n",
       "    }\n",
       "\n",
       "    [theme=dark] .colab-df-convert:hover {\n",
       "      background-color: #434B5C;\n",
       "      box-shadow: 0px 1px 3px 1px rgba(0, 0, 0, 0.15);\n",
       "      filter: drop-shadow(0px 1px 2px rgba(0, 0, 0, 0.3));\n",
       "      fill: #FFFFFF;\n",
       "    }\n",
       "  </style>\n",
       "\n",
       "    <script>\n",
       "      const buttonEl =\n",
       "        document.querySelector('#df-ada53934-cd63-4943-a1ea-beb2abd428dd button.colab-df-convert');\n",
       "      buttonEl.style.display =\n",
       "        google.colab.kernel.accessAllowed ? 'block' : 'none';\n",
       "\n",
       "      async function convertToInteractive(key) {\n",
       "        const element = document.querySelector('#df-ada53934-cd63-4943-a1ea-beb2abd428dd');\n",
       "        const dataTable =\n",
       "          await google.colab.kernel.invokeFunction('convertToInteractive',\n",
       "                                                    [key], {});\n",
       "        if (!dataTable) return;\n",
       "\n",
       "        const docLinkHtml = 'Like what you see? Visit the ' +\n",
       "          '<a target=\"_blank\" href=https://colab.research.google.com/notebooks/data_table.ipynb>data table notebook</a>'\n",
       "          + ' to learn more about interactive tables.';\n",
       "        element.innerHTML = '';\n",
       "        dataTable['output_type'] = 'display_data';\n",
       "        await google.colab.output.renderOutput(dataTable, element);\n",
       "        const docLink = document.createElement('div');\n",
       "        docLink.innerHTML = docLinkHtml;\n",
       "        element.appendChild(docLink);\n",
       "      }\n",
       "    </script>\n",
       "  </div>\n",
       "\n",
       "\n",
       "<div id=\"df-a41e749c-d412-4c91-b557-3c9d7d11ff9d\">\n",
       "  <button class=\"colab-df-quickchart\" onclick=\"quickchart('df-a41e749c-d412-4c91-b557-3c9d7d11ff9d')\"\n",
       "            title=\"Suggest charts\"\n",
       "            style=\"display:none;\">\n",
       "\n",
       "<svg xmlns=\"http://www.w3.org/2000/svg\" height=\"24px\"viewBox=\"0 0 24 24\"\n",
       "     width=\"24px\">\n",
       "    <g>\n",
       "        <path d=\"M19 3H5c-1.1 0-2 .9-2 2v14c0 1.1.9 2 2 2h14c1.1 0 2-.9 2-2V5c0-1.1-.9-2-2-2zM9 17H7v-7h2v7zm4 0h-2V7h2v10zm4 0h-2v-4h2v4z\"/>\n",
       "    </g>\n",
       "</svg>\n",
       "  </button>\n",
       "\n",
       "<style>\n",
       "  .colab-df-quickchart {\n",
       "      --bg-color: #E8F0FE;\n",
       "      --fill-color: #1967D2;\n",
       "      --hover-bg-color: #E2EBFA;\n",
       "      --hover-fill-color: #174EA6;\n",
       "      --disabled-fill-color: #AAA;\n",
       "      --disabled-bg-color: #DDD;\n",
       "  }\n",
       "\n",
       "  [theme=dark] .colab-df-quickchart {\n",
       "      --bg-color: #3B4455;\n",
       "      --fill-color: #D2E3FC;\n",
       "      --hover-bg-color: #434B5C;\n",
       "      --hover-fill-color: #FFFFFF;\n",
       "      --disabled-bg-color: #3B4455;\n",
       "      --disabled-fill-color: #666;\n",
       "  }\n",
       "\n",
       "  .colab-df-quickchart {\n",
       "    background-color: var(--bg-color);\n",
       "    border: none;\n",
       "    border-radius: 50%;\n",
       "    cursor: pointer;\n",
       "    display: none;\n",
       "    fill: var(--fill-color);\n",
       "    height: 32px;\n",
       "    padding: 0;\n",
       "    width: 32px;\n",
       "  }\n",
       "\n",
       "  .colab-df-quickchart:hover {\n",
       "    background-color: var(--hover-bg-color);\n",
       "    box-shadow: 0 1px 2px rgba(60, 64, 67, 0.3), 0 1px 3px 1px rgba(60, 64, 67, 0.15);\n",
       "    fill: var(--button-hover-fill-color);\n",
       "  }\n",
       "\n",
       "  .colab-df-quickchart-complete:disabled,\n",
       "  .colab-df-quickchart-complete:disabled:hover {\n",
       "    background-color: var(--disabled-bg-color);\n",
       "    fill: var(--disabled-fill-color);\n",
       "    box-shadow: none;\n",
       "  }\n",
       "\n",
       "  .colab-df-spinner {\n",
       "    border: 2px solid var(--fill-color);\n",
       "    border-color: transparent;\n",
       "    border-bottom-color: var(--fill-color);\n",
       "    animation:\n",
       "      spin 1s steps(1) infinite;\n",
       "  }\n",
       "\n",
       "  @keyframes spin {\n",
       "    0% {\n",
       "      border-color: transparent;\n",
       "      border-bottom-color: var(--fill-color);\n",
       "      border-left-color: var(--fill-color);\n",
       "    }\n",
       "    20% {\n",
       "      border-color: transparent;\n",
       "      border-left-color: var(--fill-color);\n",
       "      border-top-color: var(--fill-color);\n",
       "    }\n",
       "    30% {\n",
       "      border-color: transparent;\n",
       "      border-left-color: var(--fill-color);\n",
       "      border-top-color: var(--fill-color);\n",
       "      border-right-color: var(--fill-color);\n",
       "    }\n",
       "    40% {\n",
       "      border-color: transparent;\n",
       "      border-right-color: var(--fill-color);\n",
       "      border-top-color: var(--fill-color);\n",
       "    }\n",
       "    60% {\n",
       "      border-color: transparent;\n",
       "      border-right-color: var(--fill-color);\n",
       "    }\n",
       "    80% {\n",
       "      border-color: transparent;\n",
       "      border-right-color: var(--fill-color);\n",
       "      border-bottom-color: var(--fill-color);\n",
       "    }\n",
       "    90% {\n",
       "      border-color: transparent;\n",
       "      border-bottom-color: var(--fill-color);\n",
       "    }\n",
       "  }\n",
       "</style>\n",
       "\n",
       "  <script>\n",
       "    async function quickchart(key) {\n",
       "      const quickchartButtonEl =\n",
       "        document.querySelector('#' + key + ' button');\n",
       "      quickchartButtonEl.disabled = true;  // To prevent multiple clicks.\n",
       "      quickchartButtonEl.classList.add('colab-df-spinner');\n",
       "      try {\n",
       "        const charts = await google.colab.kernel.invokeFunction(\n",
       "            'suggestCharts', [key], {});\n",
       "      } catch (error) {\n",
       "        console.error('Error during call to suggestCharts:', error);\n",
       "      }\n",
       "      quickchartButtonEl.classList.remove('colab-df-spinner');\n",
       "      quickchartButtonEl.classList.add('colab-df-quickchart-complete');\n",
       "    }\n",
       "    (() => {\n",
       "      let quickchartButtonEl =\n",
       "        document.querySelector('#df-a41e749c-d412-4c91-b557-3c9d7d11ff9d button');\n",
       "      quickchartButtonEl.style.display =\n",
       "        google.colab.kernel.accessAllowed ? 'block' : 'none';\n",
       "    })();\n",
       "  </script>\n",
       "</div>\n",
       "\n",
       "  <div id=\"id_b41b926d-b1fe-4b81-9b9a-cee2fcc65ad6\">\n",
       "    <style>\n",
       "      .colab-df-generate {\n",
       "        background-color: #E8F0FE;\n",
       "        border: none;\n",
       "        border-radius: 50%;\n",
       "        cursor: pointer;\n",
       "        display: none;\n",
       "        fill: #1967D2;\n",
       "        height: 32px;\n",
       "        padding: 0 0 0 0;\n",
       "        width: 32px;\n",
       "      }\n",
       "\n",
       "      .colab-df-generate:hover {\n",
       "        background-color: #E2EBFA;\n",
       "        box-shadow: 0px 1px 2px rgba(60, 64, 67, 0.3), 0px 1px 3px 1px rgba(60, 64, 67, 0.15);\n",
       "        fill: #174EA6;\n",
       "      }\n",
       "\n",
       "      [theme=dark] .colab-df-generate {\n",
       "        background-color: #3B4455;\n",
       "        fill: #D2E3FC;\n",
       "      }\n",
       "\n",
       "      [theme=dark] .colab-df-generate:hover {\n",
       "        background-color: #434B5C;\n",
       "        box-shadow: 0px 1px 3px 1px rgba(0, 0, 0, 0.15);\n",
       "        filter: drop-shadow(0px 1px 2px rgba(0, 0, 0, 0.3));\n",
       "        fill: #FFFFFF;\n",
       "      }\n",
       "    </style>\n",
       "    <button class=\"colab-df-generate\" onclick=\"generateWithVariable('data')\"\n",
       "            title=\"Generate code using this dataframe.\"\n",
       "            style=\"display:none;\">\n",
       "\n",
       "  <svg xmlns=\"http://www.w3.org/2000/svg\" height=\"24px\"viewBox=\"0 0 24 24\"\n",
       "       width=\"24px\">\n",
       "    <path d=\"M7,19H8.4L18.45,9,17,7.55,7,17.6ZM5,21V16.75L18.45,3.32a2,2,0,0,1,2.83,0l1.4,1.43a1.91,1.91,0,0,1,.58,1.4,1.91,1.91,0,0,1-.58,1.4L9.25,21ZM18.45,9,17,7.55Zm-12,3A5.31,5.31,0,0,0,4.9,8.1,5.31,5.31,0,0,0,1,6.5,5.31,5.31,0,0,0,4.9,4.9,5.31,5.31,0,0,0,6.5,1,5.31,5.31,0,0,0,8.1,4.9,5.31,5.31,0,0,0,12,6.5,5.46,5.46,0,0,0,6.5,12Z\"/>\n",
       "  </svg>\n",
       "    </button>\n",
       "    <script>\n",
       "      (() => {\n",
       "      const buttonEl =\n",
       "        document.querySelector('#id_b41b926d-b1fe-4b81-9b9a-cee2fcc65ad6 button.colab-df-generate');\n",
       "      buttonEl.style.display =\n",
       "        google.colab.kernel.accessAllowed ? 'block' : 'none';\n",
       "\n",
       "      buttonEl.onclick = () => {\n",
       "        google.colab.notebook.generateWithVariable('data');\n",
       "      }\n",
       "      })();\n",
       "    </script>\n",
       "  </div>\n",
       "\n",
       "    </div>\n",
       "  </div>\n"
      ],
      "text/plain": [
       "Price                       Adj Close       Close        High         Low  \\\n",
       "Ticker                           AAPL        AAPL        AAPL        AAPL   \n",
       "Date                                                                        \n",
       "2014-01-02 00:00:00+00:00   17.234295   19.754642   19.893929   19.715000   \n",
       "2014-01-03 00:00:00+00:00   16.855734   19.320715   19.775000   19.301071   \n",
       "2014-01-06 00:00:00+00:00   16.947649   19.426071   19.528570   19.057142   \n",
       "2014-01-07 00:00:00+00:00   16.826441   19.287144   19.498571   19.211430   \n",
       "2014-01-08 00:00:00+00:00   16.933006   19.409286   19.484285   19.238930   \n",
       "...                               ...         ...         ...         ...   \n",
       "2024-11-21 00:00:00+00:00  228.520004  228.520004  230.160004  225.710007   \n",
       "2024-11-22 00:00:00+00:00  229.869995  229.869995  230.720001  228.059998   \n",
       "2024-11-25 00:00:00+00:00  232.869995  232.869995  233.250000  229.740005   \n",
       "2024-11-26 00:00:00+00:00  235.059998  235.059998  235.570007  233.330002   \n",
       "2024-11-27 00:00:00+00:00  234.929993  234.929993  235.690002  233.809998   \n",
       "\n",
       "Price                            Open     Volume  \n",
       "Ticker                           AAPL       AAPL  \n",
       "Date                                              \n",
       "2014-01-02 00:00:00+00:00   19.845715  234684800  \n",
       "2014-01-03 00:00:00+00:00   19.745001  392467600  \n",
       "2014-01-06 00:00:00+00:00   19.194643  412610800  \n",
       "2014-01-07 00:00:00+00:00   19.440001  317209200  \n",
       "2014-01-08 00:00:00+00:00   19.243214  258529600  \n",
       "...                               ...        ...  \n",
       "2024-11-21 00:00:00+00:00  228.880005   42108300  \n",
       "2024-11-22 00:00:00+00:00  228.059998   38168300  \n",
       "2024-11-25 00:00:00+00:00  231.460007   90152800  \n",
       "2024-11-26 00:00:00+00:00  233.330002   45986200  \n",
       "2024-11-27 00:00:00+00:00  234.470001   33475000  \n",
       "\n",
       "[2746 rows x 6 columns]"
      ]
     },
     "execution_count": 36,
     "metadata": {},
     "output_type": "execute_result"
    }
   ],
   "source": [
    "data"
   ]
  },
  {
   "cell_type": "code",
   "execution_count": 37,
   "metadata": {
    "id": "-2m1DIDwhIf0"
   },
   "outputs": [],
   "source": [
    "data.columns = [f\"{col[0]}\" for col in data.columns]"
   ]
  },
  {
   "cell_type": "code",
   "execution_count": 38,
   "metadata": {
    "colab": {
     "base_uri": "https://localhost:8080/",
     "height": 455
    },
    "id": "3XTvVSMPhSjx",
    "outputId": "fa885f61-d406-4488-d176-b996c75f94d2"
   },
   "outputs": [
    {
     "data": {
      "application/vnd.google.colaboratory.intrinsic+json": {
       "summary": "{\n  \"name\": \"data\",\n  \"rows\": 2746,\n  \"fields\": [\n    {\n      \"column\": \"Date\",\n      \"properties\": {\n        \"dtype\": \"date\",\n        \"min\": \"2014-01-02 00:00:00+00:00\",\n        \"max\": \"2024-11-27 00:00:00+00:00\",\n        \"num_unique_values\": 2746,\n        \"samples\": [\n          \"2019-01-10 00:00:00+00:00\",\n          \"2023-05-17 00:00:00+00:00\",\n          \"2021-01-26 00:00:00+00:00\"\n        ],\n        \"semantic_type\": \"\",\n        \"description\": \"\"\n      }\n    },\n    {\n      \"column\": \"Adj Close\",\n      \"properties\": {\n        \"dtype\": \"number\",\n        \"std\": 64.85131689634763,\n        \"min\": 15.572029113769531,\n        \"max\": 236.22010803222656,\n        \"num_unique_values\": 2704,\n        \"samples\": [\n          36.89822769165039,\n          25.633989334106445,\n          172.89410400390625\n        ],\n        \"semantic_type\": \"\",\n        \"description\": \"\"\n      }\n    },\n    {\n      \"column\": \"Close\",\n      \"properties\": {\n        \"dtype\": \"number\",\n        \"std\": 64.38993693543271,\n        \"min\": 17.849285125732422,\n        \"max\": 236.47999572753906,\n        \"num_unique_values\": 2585,\n        \"samples\": [\n          23.434999465942383,\n          218.5399932861328,\n          23.469999313354492\n        ],\n        \"semantic_type\": \"\",\n        \"description\": \"\"\n      }\n    },\n    {\n      \"column\": \"High\",\n      \"properties\": {\n        \"dtype\": \"number\",\n        \"std\": 65.0012814176391,\n        \"min\": 17.911785125732422,\n        \"max\": 237.49000549316406,\n        \"num_unique_values\": 2588,\n        \"samples\": [\n          39.84000015258789,\n          43.622501373291016,\n          227.8800048828125\n        ],\n        \"semantic_type\": \"\",\n        \"description\": \"\"\n      }\n    },\n    {\n      \"column\": \"Low\",\n      \"properties\": {\n        \"dtype\": \"number\",\n        \"std\": 63.7018451802756,\n        \"min\": 17.626785278320312,\n        \"max\": 234.4499969482422,\n        \"num_unique_values\": 2608,\n        \"samples\": [\n          60.65250015258789,\n          153.08999633789062,\n          27.137500762939453\n        ],\n        \"semantic_type\": \"\",\n        \"description\": \"\"\n      }\n    },\n    {\n      \"column\": \"Open\",\n      \"properties\": {\n        \"dtype\": \"number\",\n        \"std\": 64.32734196782401,\n        \"min\": 17.684999465942383,\n        \"max\": 236.47999572753906,\n        \"num_unique_values\": 2592,\n        \"samples\": [\n          174.5500030517578,\n          152.3800048828125,\n          35.8125\n        ],\n        \"semantic_type\": \"\",\n        \"description\": \"\"\n      }\n    },\n    {\n      \"column\": \"Volume\",\n      \"properties\": {\n        \"dtype\": \"number\",\n        \"std\": 83808781,\n        \"min\": 24048300,\n        \"max\": 1065523200,\n        \"num_unique_values\": 2738,\n        \"samples\": [\n          131672400,\n          134472400,\n          111341600\n        ],\n        \"semantic_type\": \"\",\n        \"description\": \"\"\n      }\n    }\n  ]\n}",
       "type": "dataframe",
       "variable_name": "data"
      },
      "text/html": [
       "\n",
       "  <div id=\"df-0b8aa647-1d45-4e8e-a798-5131bef47aab\" class=\"colab-df-container\">\n",
       "    <div>\n",
       "<style scoped>\n",
       "    .dataframe tbody tr th:only-of-type {\n",
       "        vertical-align: middle;\n",
       "    }\n",
       "\n",
       "    .dataframe tbody tr th {\n",
       "        vertical-align: top;\n",
       "    }\n",
       "\n",
       "    .dataframe thead th {\n",
       "        text-align: right;\n",
       "    }\n",
       "</style>\n",
       "<table border=\"1\" class=\"dataframe\">\n",
       "  <thead>\n",
       "    <tr style=\"text-align: right;\">\n",
       "      <th></th>\n",
       "      <th>Adj Close</th>\n",
       "      <th>Close</th>\n",
       "      <th>High</th>\n",
       "      <th>Low</th>\n",
       "      <th>Open</th>\n",
       "      <th>Volume</th>\n",
       "    </tr>\n",
       "    <tr>\n",
       "      <th>Date</th>\n",
       "      <th></th>\n",
       "      <th></th>\n",
       "      <th></th>\n",
       "      <th></th>\n",
       "      <th></th>\n",
       "      <th></th>\n",
       "    </tr>\n",
       "  </thead>\n",
       "  <tbody>\n",
       "    <tr>\n",
       "      <th>2014-01-02 00:00:00+00:00</th>\n",
       "      <td>17.234295</td>\n",
       "      <td>19.754642</td>\n",
       "      <td>19.893929</td>\n",
       "      <td>19.715000</td>\n",
       "      <td>19.845715</td>\n",
       "      <td>234684800</td>\n",
       "    </tr>\n",
       "    <tr>\n",
       "      <th>2014-01-03 00:00:00+00:00</th>\n",
       "      <td>16.855734</td>\n",
       "      <td>19.320715</td>\n",
       "      <td>19.775000</td>\n",
       "      <td>19.301071</td>\n",
       "      <td>19.745001</td>\n",
       "      <td>392467600</td>\n",
       "    </tr>\n",
       "    <tr>\n",
       "      <th>2014-01-06 00:00:00+00:00</th>\n",
       "      <td>16.947649</td>\n",
       "      <td>19.426071</td>\n",
       "      <td>19.528570</td>\n",
       "      <td>19.057142</td>\n",
       "      <td>19.194643</td>\n",
       "      <td>412610800</td>\n",
       "    </tr>\n",
       "    <tr>\n",
       "      <th>2014-01-07 00:00:00+00:00</th>\n",
       "      <td>16.826441</td>\n",
       "      <td>19.287144</td>\n",
       "      <td>19.498571</td>\n",
       "      <td>19.211430</td>\n",
       "      <td>19.440001</td>\n",
       "      <td>317209200</td>\n",
       "    </tr>\n",
       "    <tr>\n",
       "      <th>2014-01-08 00:00:00+00:00</th>\n",
       "      <td>16.933006</td>\n",
       "      <td>19.409286</td>\n",
       "      <td>19.484285</td>\n",
       "      <td>19.238930</td>\n",
       "      <td>19.243214</td>\n",
       "      <td>258529600</td>\n",
       "    </tr>\n",
       "    <tr>\n",
       "      <th>...</th>\n",
       "      <td>...</td>\n",
       "      <td>...</td>\n",
       "      <td>...</td>\n",
       "      <td>...</td>\n",
       "      <td>...</td>\n",
       "      <td>...</td>\n",
       "    </tr>\n",
       "    <tr>\n",
       "      <th>2024-11-21 00:00:00+00:00</th>\n",
       "      <td>228.520004</td>\n",
       "      <td>228.520004</td>\n",
       "      <td>230.160004</td>\n",
       "      <td>225.710007</td>\n",
       "      <td>228.880005</td>\n",
       "      <td>42108300</td>\n",
       "    </tr>\n",
       "    <tr>\n",
       "      <th>2024-11-22 00:00:00+00:00</th>\n",
       "      <td>229.869995</td>\n",
       "      <td>229.869995</td>\n",
       "      <td>230.720001</td>\n",
       "      <td>228.059998</td>\n",
       "      <td>228.059998</td>\n",
       "      <td>38168300</td>\n",
       "    </tr>\n",
       "    <tr>\n",
       "      <th>2024-11-25 00:00:00+00:00</th>\n",
       "      <td>232.869995</td>\n",
       "      <td>232.869995</td>\n",
       "      <td>233.250000</td>\n",
       "      <td>229.740005</td>\n",
       "      <td>231.460007</td>\n",
       "      <td>90152800</td>\n",
       "    </tr>\n",
       "    <tr>\n",
       "      <th>2024-11-26 00:00:00+00:00</th>\n",
       "      <td>235.059998</td>\n",
       "      <td>235.059998</td>\n",
       "      <td>235.570007</td>\n",
       "      <td>233.330002</td>\n",
       "      <td>233.330002</td>\n",
       "      <td>45986200</td>\n",
       "    </tr>\n",
       "    <tr>\n",
       "      <th>2024-11-27 00:00:00+00:00</th>\n",
       "      <td>234.929993</td>\n",
       "      <td>234.929993</td>\n",
       "      <td>235.690002</td>\n",
       "      <td>233.809998</td>\n",
       "      <td>234.470001</td>\n",
       "      <td>33475000</td>\n",
       "    </tr>\n",
       "  </tbody>\n",
       "</table>\n",
       "<p>2746 rows × 6 columns</p>\n",
       "</div>\n",
       "    <div class=\"colab-df-buttons\">\n",
       "\n",
       "  <div class=\"colab-df-container\">\n",
       "    <button class=\"colab-df-convert\" onclick=\"convertToInteractive('df-0b8aa647-1d45-4e8e-a798-5131bef47aab')\"\n",
       "            title=\"Convert this dataframe to an interactive table.\"\n",
       "            style=\"display:none;\">\n",
       "\n",
       "  <svg xmlns=\"http://www.w3.org/2000/svg\" height=\"24px\" viewBox=\"0 -960 960 960\">\n",
       "    <path d=\"M120-120v-720h720v720H120Zm60-500h600v-160H180v160Zm220 220h160v-160H400v160Zm0 220h160v-160H400v160ZM180-400h160v-160H180v160Zm440 0h160v-160H620v160ZM180-180h160v-160H180v160Zm440 0h160v-160H620v160Z\"/>\n",
       "  </svg>\n",
       "    </button>\n",
       "\n",
       "  <style>\n",
       "    .colab-df-container {\n",
       "      display:flex;\n",
       "      gap: 12px;\n",
       "    }\n",
       "\n",
       "    .colab-df-convert {\n",
       "      background-color: #E8F0FE;\n",
       "      border: none;\n",
       "      border-radius: 50%;\n",
       "      cursor: pointer;\n",
       "      display: none;\n",
       "      fill: #1967D2;\n",
       "      height: 32px;\n",
       "      padding: 0 0 0 0;\n",
       "      width: 32px;\n",
       "    }\n",
       "\n",
       "    .colab-df-convert:hover {\n",
       "      background-color: #E2EBFA;\n",
       "      box-shadow: 0px 1px 2px rgba(60, 64, 67, 0.3), 0px 1px 3px 1px rgba(60, 64, 67, 0.15);\n",
       "      fill: #174EA6;\n",
       "    }\n",
       "\n",
       "    .colab-df-buttons div {\n",
       "      margin-bottom: 4px;\n",
       "    }\n",
       "\n",
       "    [theme=dark] .colab-df-convert {\n",
       "      background-color: #3B4455;\n",
       "      fill: #D2E3FC;\n",
       "    }\n",
       "\n",
       "    [theme=dark] .colab-df-convert:hover {\n",
       "      background-color: #434B5C;\n",
       "      box-shadow: 0px 1px 3px 1px rgba(0, 0, 0, 0.15);\n",
       "      filter: drop-shadow(0px 1px 2px rgba(0, 0, 0, 0.3));\n",
       "      fill: #FFFFFF;\n",
       "    }\n",
       "  </style>\n",
       "\n",
       "    <script>\n",
       "      const buttonEl =\n",
       "        document.querySelector('#df-0b8aa647-1d45-4e8e-a798-5131bef47aab button.colab-df-convert');\n",
       "      buttonEl.style.display =\n",
       "        google.colab.kernel.accessAllowed ? 'block' : 'none';\n",
       "\n",
       "      async function convertToInteractive(key) {\n",
       "        const element = document.querySelector('#df-0b8aa647-1d45-4e8e-a798-5131bef47aab');\n",
       "        const dataTable =\n",
       "          await google.colab.kernel.invokeFunction('convertToInteractive',\n",
       "                                                    [key], {});\n",
       "        if (!dataTable) return;\n",
       "\n",
       "        const docLinkHtml = 'Like what you see? Visit the ' +\n",
       "          '<a target=\"_blank\" href=https://colab.research.google.com/notebooks/data_table.ipynb>data table notebook</a>'\n",
       "          + ' to learn more about interactive tables.';\n",
       "        element.innerHTML = '';\n",
       "        dataTable['output_type'] = 'display_data';\n",
       "        await google.colab.output.renderOutput(dataTable, element);\n",
       "        const docLink = document.createElement('div');\n",
       "        docLink.innerHTML = docLinkHtml;\n",
       "        element.appendChild(docLink);\n",
       "      }\n",
       "    </script>\n",
       "  </div>\n",
       "\n",
       "\n",
       "<div id=\"df-8254d42c-cdca-40b4-bafc-4222849d9d3f\">\n",
       "  <button class=\"colab-df-quickchart\" onclick=\"quickchart('df-8254d42c-cdca-40b4-bafc-4222849d9d3f')\"\n",
       "            title=\"Suggest charts\"\n",
       "            style=\"display:none;\">\n",
       "\n",
       "<svg xmlns=\"http://www.w3.org/2000/svg\" height=\"24px\"viewBox=\"0 0 24 24\"\n",
       "     width=\"24px\">\n",
       "    <g>\n",
       "        <path d=\"M19 3H5c-1.1 0-2 .9-2 2v14c0 1.1.9 2 2 2h14c1.1 0 2-.9 2-2V5c0-1.1-.9-2-2-2zM9 17H7v-7h2v7zm4 0h-2V7h2v10zm4 0h-2v-4h2v4z\"/>\n",
       "    </g>\n",
       "</svg>\n",
       "  </button>\n",
       "\n",
       "<style>\n",
       "  .colab-df-quickchart {\n",
       "      --bg-color: #E8F0FE;\n",
       "      --fill-color: #1967D2;\n",
       "      --hover-bg-color: #E2EBFA;\n",
       "      --hover-fill-color: #174EA6;\n",
       "      --disabled-fill-color: #AAA;\n",
       "      --disabled-bg-color: #DDD;\n",
       "  }\n",
       "\n",
       "  [theme=dark] .colab-df-quickchart {\n",
       "      --bg-color: #3B4455;\n",
       "      --fill-color: #D2E3FC;\n",
       "      --hover-bg-color: #434B5C;\n",
       "      --hover-fill-color: #FFFFFF;\n",
       "      --disabled-bg-color: #3B4455;\n",
       "      --disabled-fill-color: #666;\n",
       "  }\n",
       "\n",
       "  .colab-df-quickchart {\n",
       "    background-color: var(--bg-color);\n",
       "    border: none;\n",
       "    border-radius: 50%;\n",
       "    cursor: pointer;\n",
       "    display: none;\n",
       "    fill: var(--fill-color);\n",
       "    height: 32px;\n",
       "    padding: 0;\n",
       "    width: 32px;\n",
       "  }\n",
       "\n",
       "  .colab-df-quickchart:hover {\n",
       "    background-color: var(--hover-bg-color);\n",
       "    box-shadow: 0 1px 2px rgba(60, 64, 67, 0.3), 0 1px 3px 1px rgba(60, 64, 67, 0.15);\n",
       "    fill: var(--button-hover-fill-color);\n",
       "  }\n",
       "\n",
       "  .colab-df-quickchart-complete:disabled,\n",
       "  .colab-df-quickchart-complete:disabled:hover {\n",
       "    background-color: var(--disabled-bg-color);\n",
       "    fill: var(--disabled-fill-color);\n",
       "    box-shadow: none;\n",
       "  }\n",
       "\n",
       "  .colab-df-spinner {\n",
       "    border: 2px solid var(--fill-color);\n",
       "    border-color: transparent;\n",
       "    border-bottom-color: var(--fill-color);\n",
       "    animation:\n",
       "      spin 1s steps(1) infinite;\n",
       "  }\n",
       "\n",
       "  @keyframes spin {\n",
       "    0% {\n",
       "      border-color: transparent;\n",
       "      border-bottom-color: var(--fill-color);\n",
       "      border-left-color: var(--fill-color);\n",
       "    }\n",
       "    20% {\n",
       "      border-color: transparent;\n",
       "      border-left-color: var(--fill-color);\n",
       "      border-top-color: var(--fill-color);\n",
       "    }\n",
       "    30% {\n",
       "      border-color: transparent;\n",
       "      border-left-color: var(--fill-color);\n",
       "      border-top-color: var(--fill-color);\n",
       "      border-right-color: var(--fill-color);\n",
       "    }\n",
       "    40% {\n",
       "      border-color: transparent;\n",
       "      border-right-color: var(--fill-color);\n",
       "      border-top-color: var(--fill-color);\n",
       "    }\n",
       "    60% {\n",
       "      border-color: transparent;\n",
       "      border-right-color: var(--fill-color);\n",
       "    }\n",
       "    80% {\n",
       "      border-color: transparent;\n",
       "      border-right-color: var(--fill-color);\n",
       "      border-bottom-color: var(--fill-color);\n",
       "    }\n",
       "    90% {\n",
       "      border-color: transparent;\n",
       "      border-bottom-color: var(--fill-color);\n",
       "    }\n",
       "  }\n",
       "</style>\n",
       "\n",
       "  <script>\n",
       "    async function quickchart(key) {\n",
       "      const quickchartButtonEl =\n",
       "        document.querySelector('#' + key + ' button');\n",
       "      quickchartButtonEl.disabled = true;  // To prevent multiple clicks.\n",
       "      quickchartButtonEl.classList.add('colab-df-spinner');\n",
       "      try {\n",
       "        const charts = await google.colab.kernel.invokeFunction(\n",
       "            'suggestCharts', [key], {});\n",
       "      } catch (error) {\n",
       "        console.error('Error during call to suggestCharts:', error);\n",
       "      }\n",
       "      quickchartButtonEl.classList.remove('colab-df-spinner');\n",
       "      quickchartButtonEl.classList.add('colab-df-quickchart-complete');\n",
       "    }\n",
       "    (() => {\n",
       "      let quickchartButtonEl =\n",
       "        document.querySelector('#df-8254d42c-cdca-40b4-bafc-4222849d9d3f button');\n",
       "      quickchartButtonEl.style.display =\n",
       "        google.colab.kernel.accessAllowed ? 'block' : 'none';\n",
       "    })();\n",
       "  </script>\n",
       "</div>\n",
       "\n",
       "  <div id=\"id_0a605c39-04c7-49af-91de-0ebcfb29c433\">\n",
       "    <style>\n",
       "      .colab-df-generate {\n",
       "        background-color: #E8F0FE;\n",
       "        border: none;\n",
       "        border-radius: 50%;\n",
       "        cursor: pointer;\n",
       "        display: none;\n",
       "        fill: #1967D2;\n",
       "        height: 32px;\n",
       "        padding: 0 0 0 0;\n",
       "        width: 32px;\n",
       "      }\n",
       "\n",
       "      .colab-df-generate:hover {\n",
       "        background-color: #E2EBFA;\n",
       "        box-shadow: 0px 1px 2px rgba(60, 64, 67, 0.3), 0px 1px 3px 1px rgba(60, 64, 67, 0.15);\n",
       "        fill: #174EA6;\n",
       "      }\n",
       "\n",
       "      [theme=dark] .colab-df-generate {\n",
       "        background-color: #3B4455;\n",
       "        fill: #D2E3FC;\n",
       "      }\n",
       "\n",
       "      [theme=dark] .colab-df-generate:hover {\n",
       "        background-color: #434B5C;\n",
       "        box-shadow: 0px 1px 3px 1px rgba(0, 0, 0, 0.15);\n",
       "        filter: drop-shadow(0px 1px 2px rgba(0, 0, 0, 0.3));\n",
       "        fill: #FFFFFF;\n",
       "      }\n",
       "    </style>\n",
       "    <button class=\"colab-df-generate\" onclick=\"generateWithVariable('data')\"\n",
       "            title=\"Generate code using this dataframe.\"\n",
       "            style=\"display:none;\">\n",
       "\n",
       "  <svg xmlns=\"http://www.w3.org/2000/svg\" height=\"24px\"viewBox=\"0 0 24 24\"\n",
       "       width=\"24px\">\n",
       "    <path d=\"M7,19H8.4L18.45,9,17,7.55,7,17.6ZM5,21V16.75L18.45,3.32a2,2,0,0,1,2.83,0l1.4,1.43a1.91,1.91,0,0,1,.58,1.4,1.91,1.91,0,0,1-.58,1.4L9.25,21ZM18.45,9,17,7.55Zm-12,3A5.31,5.31,0,0,0,4.9,8.1,5.31,5.31,0,0,0,1,6.5,5.31,5.31,0,0,0,4.9,4.9,5.31,5.31,0,0,0,6.5,1,5.31,5.31,0,0,0,8.1,4.9,5.31,5.31,0,0,0,12,6.5,5.46,5.46,0,0,0,6.5,12Z\"/>\n",
       "  </svg>\n",
       "    </button>\n",
       "    <script>\n",
       "      (() => {\n",
       "      const buttonEl =\n",
       "        document.querySelector('#id_0a605c39-04c7-49af-91de-0ebcfb29c433 button.colab-df-generate');\n",
       "      buttonEl.style.display =\n",
       "        google.colab.kernel.accessAllowed ? 'block' : 'none';\n",
       "\n",
       "      buttonEl.onclick = () => {\n",
       "        google.colab.notebook.generateWithVariable('data');\n",
       "      }\n",
       "      })();\n",
       "    </script>\n",
       "  </div>\n",
       "\n",
       "    </div>\n",
       "  </div>\n"
      ],
      "text/plain": [
       "                            Adj Close       Close        High         Low  \\\n",
       "Date                                                                        \n",
       "2014-01-02 00:00:00+00:00   17.234295   19.754642   19.893929   19.715000   \n",
       "2014-01-03 00:00:00+00:00   16.855734   19.320715   19.775000   19.301071   \n",
       "2014-01-06 00:00:00+00:00   16.947649   19.426071   19.528570   19.057142   \n",
       "2014-01-07 00:00:00+00:00   16.826441   19.287144   19.498571   19.211430   \n",
       "2014-01-08 00:00:00+00:00   16.933006   19.409286   19.484285   19.238930   \n",
       "...                               ...         ...         ...         ...   \n",
       "2024-11-21 00:00:00+00:00  228.520004  228.520004  230.160004  225.710007   \n",
       "2024-11-22 00:00:00+00:00  229.869995  229.869995  230.720001  228.059998   \n",
       "2024-11-25 00:00:00+00:00  232.869995  232.869995  233.250000  229.740005   \n",
       "2024-11-26 00:00:00+00:00  235.059998  235.059998  235.570007  233.330002   \n",
       "2024-11-27 00:00:00+00:00  234.929993  234.929993  235.690002  233.809998   \n",
       "\n",
       "                                 Open     Volume  \n",
       "Date                                              \n",
       "2014-01-02 00:00:00+00:00   19.845715  234684800  \n",
       "2014-01-03 00:00:00+00:00   19.745001  392467600  \n",
       "2014-01-06 00:00:00+00:00   19.194643  412610800  \n",
       "2014-01-07 00:00:00+00:00   19.440001  317209200  \n",
       "2014-01-08 00:00:00+00:00   19.243214  258529600  \n",
       "...                               ...        ...  \n",
       "2024-11-21 00:00:00+00:00  228.880005   42108300  \n",
       "2024-11-22 00:00:00+00:00  228.059998   38168300  \n",
       "2024-11-25 00:00:00+00:00  231.460007   90152800  \n",
       "2024-11-26 00:00:00+00:00  233.330002   45986200  \n",
       "2024-11-27 00:00:00+00:00  234.470001   33475000  \n",
       "\n",
       "[2746 rows x 6 columns]"
      ]
     },
     "execution_count": 38,
     "metadata": {},
     "output_type": "execute_result"
    }
   ],
   "source": [
    "data"
   ]
  },
  {
   "cell_type": "markdown",
   "metadata": {
    "id": "dazEzszlYWKa"
   },
   "source": [
    "**Visualize**"
   ]
  },
  {
   "cell_type": "code",
   "execution_count": 39,
   "metadata": {
    "colab": {
     "base_uri": "https://localhost:8080/",
     "height": 542
    },
    "id": "XOqtwRQ8hTAS",
    "outputId": "5125d0d1-1c2d-4adc-d08a-c9180d078793"
   },
   "outputs": [
    {
     "data": {
      "text/html": [
       "<html>\n",
       "<head><meta charset=\"utf-8\" /></head>\n",
       "<body>\n",
       "    <div>            <script src=\"https://cdnjs.cloudflare.com/ajax/libs/mathjax/2.7.5/MathJax.js?config=TeX-AMS-MML_SVG\"></script><script type=\"text/javascript\">if (window.MathJax && window.MathJax.Hub && window.MathJax.Hub.Config) {window.MathJax.Hub.Config({SVG: {font: \"STIX-Web\"}});}</script>                <script type=\"text/javascript\">window.PlotlyConfig = {MathJaxConfig: 'local'};</script>\n",
       "        <script charset=\"utf-8\" src=\"https://cdn.plot.ly/plotly-2.35.2.min.js\"></script>                <div id=\"5f38bf15-ad56-41e1-80db-768457fbb3d7\" class=\"plotly-graph-div\" style=\"height:525px; width:100%;\"></div>            <script type=\"text/javascript\">                                    window.PLOTLYENV=window.PLOTLYENV || {};                                    if (document.getElementById(\"5f38bf15-ad56-41e1-80db-768457fbb3d7\")) {                    Plotly.newPlot(                        \"5f38bf15-ad56-41e1-80db-768457fbb3d7\",                        [{\"hovertemplate\":\"Date=%{x}\\u003cbr\\u003eClose=%{y}\\u003cextra\\u003e\\u003c\\u002fextra\\u003e\",\"legendgroup\":\"\",\"line\":{\"color\":\"#636efa\",\"dash\":\"solid\"},\"marker\":{\"symbol\":\"circle\"},\"mode\":\"lines\",\"name\":\"\",\"showlegend\":false,\"x\":[\"2014-01-02T00:00:00+00:00\",\"2014-01-03T00:00:00+00:00\",\"2014-01-06T00:00:00+00:00\",\"2014-01-07T00:00:00+00:00\",\"2014-01-08T00:00:00+00:00\",\"2014-01-09T00:00:00+00:00\",\"2014-01-10T00:00:00+00:00\",\"2014-01-13T00:00:00+00:00\",\"2014-01-14T00:00:00+00:00\",\"2014-01-15T00:00:00+00:00\",\"2014-01-16T00:00:00+00:00\",\"2014-01-17T00:00:00+00:00\",\"2014-01-21T00:00:00+00:00\",\"2014-01-22T00:00:00+00:00\",\"2014-01-23T00:00:00+00:00\",\"2014-01-24T00:00:00+00:00\",\"2014-01-27T00:00:00+00:00\",\"2014-01-28T00:00:00+00:00\",\"2014-01-29T00:00:00+00:00\",\"2014-01-30T00:00:00+00:00\",\"2014-01-31T00:00:00+00:00\",\"2014-02-03T00:00:00+00:00\",\"2014-02-04T00:00:00+00:00\",\"2014-02-05T00:00:00+00:00\",\"2014-02-06T00:00:00+00:00\",\"2014-02-07T00:00:00+00:00\",\"2014-02-10T00:00:00+00:00\",\"2014-02-11T00:00:00+00:00\",\"2014-02-12T00:00:00+00:00\",\"2014-02-13T00:00:00+00:00\",\"2014-02-14T00:00:00+00:00\",\"2014-02-18T00:00:00+00:00\",\"2014-02-19T00:00:00+00:00\",\"2014-02-20T00:00:00+00:00\",\"2014-02-21T00:00:00+00:00\",\"2014-02-24T00:00:00+00:00\",\"2014-02-25T00:00:00+00:00\",\"2014-02-26T00:00:00+00:00\",\"2014-02-27T00:00:00+00:00\",\"2014-02-28T00:00:00+00:00\",\"2014-03-03T00:00:00+00:00\",\"2014-03-04T00:00:00+00:00\",\"2014-03-05T00:00:00+00:00\",\"2014-03-06T00:00:00+00:00\",\"2014-03-07T00:00:00+00:00\",\"2014-03-10T00:00:00+00:00\",\"2014-03-11T00:00:00+00:00\",\"2014-03-12T00:00:00+00:00\",\"2014-03-13T00:00:00+00:00\",\"2014-03-14T00:00:00+00:00\",\"2014-03-17T00:00:00+00:00\",\"2014-03-18T00:00:00+00:00\",\"2014-03-19T00:00:00+00:00\",\"2014-03-20T00:00:00+00:00\",\"2014-03-21T00:00:00+00:00\",\"2014-03-24T00:00:00+00:00\",\"2014-03-25T00:00:00+00:00\",\"2014-03-26T00:00:00+00:00\",\"2014-03-27T00:00:00+00:00\",\"2014-03-28T00:00:00+00:00\",\"2014-03-31T00:00:00+00:00\",\"2014-04-01T00:00:00+00:00\",\"2014-04-02T00:00:00+00:00\",\"2014-04-03T00:00:00+00:00\",\"2014-04-04T00:00:00+00:00\",\"2014-04-07T00:00:00+00:00\",\"2014-04-08T00:00:00+00:00\",\"2014-04-09T00:00:00+00:00\",\"2014-04-10T00:00:00+00:00\",\"2014-04-11T00:00:00+00:00\",\"2014-04-14T00:00:00+00:00\",\"2014-04-15T00:00:00+00:00\",\"2014-04-16T00:00:00+00:00\",\"2014-04-17T00:00:00+00:00\",\"2014-04-21T00:00:00+00:00\",\"2014-04-22T00:00:00+00:00\",\"2014-04-23T00:00:00+00:00\",\"2014-04-24T00:00:00+00:00\",\"2014-04-25T00:00:00+00:00\",\"2014-04-28T00:00:00+00:00\",\"2014-04-29T00:00:00+00:00\",\"2014-04-30T00:00:00+00:00\",\"2014-05-01T00:00:00+00:00\",\"2014-05-02T00:00:00+00:00\",\"2014-05-05T00:00:00+00:00\",\"2014-05-06T00:00:00+00:00\",\"2014-05-07T00:00:00+00:00\",\"2014-05-08T00:00:00+00:00\",\"2014-05-09T00:00:00+00:00\",\"2014-05-12T00:00:00+00:00\",\"2014-05-13T00:00:00+00:00\",\"2014-05-14T00:00:00+00:00\",\"2014-05-15T00:00:00+00:00\",\"2014-05-16T00:00:00+00:00\",\"2014-05-19T00:00:00+00:00\",\"2014-05-20T00:00:00+00:00\",\"2014-05-21T00:00:00+00:00\",\"2014-05-22T00:00:00+00:00\",\"2014-05-23T00:00:00+00:00\",\"2014-05-27T00:00:00+00:00\",\"2014-05-28T00:00:00+00:00\",\"2014-05-29T00:00:00+00:00\",\"2014-05-30T00:00:00+00:00\",\"2014-06-02T00:00:00+00:00\",\"2014-06-03T00:00:00+00:00\",\"2014-06-04T00:00:00+00:00\",\"2014-06-05T00:00:00+00:00\",\"2014-06-06T00:00:00+00:00\",\"2014-06-09T00:00:00+00:00\",\"2014-06-10T00:00:00+00:00\",\"2014-06-11T00:00:00+00:00\",\"2014-06-12T00:00:00+00:00\",\"2014-06-13T00:00:00+00:00\",\"2014-06-16T00:00:00+00:00\",\"2014-06-17T00:00:00+00:00\",\"2014-06-18T00:00:00+00:00\",\"2014-06-19T00:00:00+00:00\",\"2014-06-20T00:00:00+00:00\",\"2014-06-23T00:00:00+00:00\",\"2014-06-24T00:00:00+00:00\",\"2014-06-25T00:00:00+00:00\",\"2014-06-26T00:00:00+00:00\",\"2014-06-27T00:00:00+00:00\",\"2014-06-30T00:00:00+00:00\",\"2014-07-01T00:00:00+00:00\",\"2014-07-02T00:00:00+00:00\",\"2014-07-03T00:00:00+00:00\",\"2014-07-07T00:00:00+00:00\",\"2014-07-08T00:00:00+00:00\",\"2014-07-09T00:00:00+00:00\",\"2014-07-10T00:00:00+00:00\",\"2014-07-11T00:00:00+00:00\",\"2014-07-14T00:00:00+00:00\",\"2014-07-15T00:00:00+00:00\",\"2014-07-16T00:00:00+00:00\",\"2014-07-17T00:00:00+00:00\",\"2014-07-18T00:00:00+00:00\",\"2014-07-21T00:00:00+00:00\",\"2014-07-22T00:00:00+00:00\",\"2014-07-23T00:00:00+00:00\",\"2014-07-24T00:00:00+00:00\",\"2014-07-25T00:00:00+00:00\",\"2014-07-28T00:00:00+00:00\",\"2014-07-29T00:00:00+00:00\",\"2014-07-30T00:00:00+00:00\",\"2014-07-31T00:00:00+00:00\",\"2014-08-01T00:00:00+00:00\",\"2014-08-04T00:00:00+00:00\",\"2014-08-05T00:00:00+00:00\",\"2014-08-06T00:00:00+00:00\",\"2014-08-07T00:00:00+00:00\",\"2014-08-08T00:00:00+00:00\",\"2014-08-11T00:00:00+00:00\",\"2014-08-12T00:00:00+00:00\",\"2014-08-13T00:00:00+00:00\",\"2014-08-14T00:00:00+00:00\",\"2014-08-15T00:00:00+00:00\",\"2014-08-18T00:00:00+00:00\",\"2014-08-19T00:00:00+00:00\",\"2014-08-20T00:00:00+00:00\",\"2014-08-21T00:00:00+00:00\",\"2014-08-22T00:00:00+00:00\",\"2014-08-25T00:00:00+00:00\",\"2014-08-26T00:00:00+00:00\",\"2014-08-27T00:00:00+00:00\",\"2014-08-28T00:00:00+00:00\",\"2014-08-29T00:00:00+00:00\",\"2014-09-02T00:00:00+00:00\",\"2014-09-03T00:00:00+00:00\",\"2014-09-04T00:00:00+00:00\",\"2014-09-05T00:00:00+00:00\",\"2014-09-08T00:00:00+00:00\",\"2014-09-09T00:00:00+00:00\",\"2014-09-10T00:00:00+00:00\",\"2014-09-11T00:00:00+00:00\",\"2014-09-12T00:00:00+00:00\",\"2014-09-15T00:00:00+00:00\",\"2014-09-16T00:00:00+00:00\",\"2014-09-17T00:00:00+00:00\",\"2014-09-18T00:00:00+00:00\",\"2014-09-19T00:00:00+00:00\",\"2014-09-22T00:00:00+00:00\",\"2014-09-23T00:00:00+00:00\",\"2014-09-24T00:00:00+00:00\",\"2014-09-25T00:00:00+00:00\",\"2014-09-26T00:00:00+00:00\",\"2014-09-29T00:00:00+00:00\",\"2014-09-30T00:00:00+00:00\",\"2014-10-01T00:00:00+00:00\",\"2014-10-02T00:00:00+00:00\",\"2014-10-03T00:00:00+00:00\",\"2014-10-06T00:00:00+00:00\",\"2014-10-07T00:00:00+00:00\",\"2014-10-08T00:00:00+00:00\",\"2014-10-09T00:00:00+00:00\",\"2014-10-10T00:00:00+00:00\",\"2014-10-13T00:00:00+00:00\",\"2014-10-14T00:00:00+00:00\",\"2014-10-15T00:00:00+00:00\",\"2014-10-16T00:00:00+00:00\",\"2014-10-17T00:00:00+00:00\",\"2014-10-20T00:00:00+00:00\",\"2014-10-21T00:00:00+00:00\",\"2014-10-22T00:00:00+00:00\",\"2014-10-23T00:00:00+00:00\",\"2014-10-24T00:00:00+00:00\",\"2014-10-27T00:00:00+00:00\",\"2014-10-28T00:00:00+00:00\",\"2014-10-29T00:00:00+00:00\",\"2014-10-30T00:00:00+00:00\",\"2014-10-31T00:00:00+00:00\",\"2014-11-03T00:00:00+00:00\",\"2014-11-04T00:00:00+00:00\",\"2014-11-05T00:00:00+00:00\",\"2014-11-06T00:00:00+00:00\",\"2014-11-07T00:00:00+00:00\",\"2014-11-10T00:00:00+00:00\",\"2014-11-11T00:00:00+00:00\",\"2014-11-12T00:00:00+00:00\",\"2014-11-13T00:00:00+00:00\",\"2014-11-14T00:00:00+00:00\",\"2014-11-17T00:00:00+00:00\",\"2014-11-18T00:00:00+00:00\",\"2014-11-19T00:00:00+00:00\",\"2014-11-20T00:00:00+00:00\",\"2014-11-21T00:00:00+00:00\",\"2014-11-24T00:00:00+00:00\",\"2014-11-25T00:00:00+00:00\",\"2014-11-26T00:00:00+00:00\",\"2014-11-28T00:00:00+00:00\",\"2014-12-01T00:00:00+00:00\",\"2014-12-02T00:00:00+00:00\",\"2014-12-03T00:00:00+00:00\",\"2014-12-04T00:00:00+00:00\",\"2014-12-05T00:00:00+00:00\",\"2014-12-08T00:00:00+00:00\",\"2014-12-09T00:00:00+00:00\",\"2014-12-10T00:00:00+00:00\",\"2014-12-11T00:00:00+00:00\",\"2014-12-12T00:00:00+00:00\",\"2014-12-15T00:00:00+00:00\",\"2014-12-16T00:00:00+00:00\",\"2014-12-17T00:00:00+00:00\",\"2014-12-18T00:00:00+00:00\",\"2014-12-19T00:00:00+00:00\",\"2014-12-22T00:00:00+00:00\",\"2014-12-23T00:00:00+00:00\",\"2014-12-24T00:00:00+00:00\",\"2014-12-26T00:00:00+00:00\",\"2014-12-29T00:00:00+00:00\",\"2014-12-30T00:00:00+00:00\",\"2014-12-31T00:00:00+00:00\",\"2015-01-02T00:00:00+00:00\",\"2015-01-05T00:00:00+00:00\",\"2015-01-06T00:00:00+00:00\",\"2015-01-07T00:00:00+00:00\",\"2015-01-08T00:00:00+00:00\",\"2015-01-09T00:00:00+00:00\",\"2015-01-12T00:00:00+00:00\",\"2015-01-13T00:00:00+00:00\",\"2015-01-14T00:00:00+00:00\",\"2015-01-15T00:00:00+00:00\",\"2015-01-16T00:00:00+00:00\",\"2015-01-20T00:00:00+00:00\",\"2015-01-21T00:00:00+00:00\",\"2015-01-22T00:00:00+00:00\",\"2015-01-23T00:00:00+00:00\",\"2015-01-26T00:00:00+00:00\",\"2015-01-27T00:00:00+00:00\",\"2015-01-28T00:00:00+00:00\",\"2015-01-29T00:00:00+00:00\",\"2015-01-30T00:00:00+00:00\",\"2015-02-02T00:00:00+00:00\",\"2015-02-03T00:00:00+00:00\",\"2015-02-04T00:00:00+00:00\",\"2015-02-05T00:00:00+00:00\",\"2015-02-06T00:00:00+00:00\",\"2015-02-09T00:00:00+00:00\",\"2015-02-10T00:00:00+00:00\",\"2015-02-11T00:00:00+00:00\",\"2015-02-12T00:00:00+00:00\",\"2015-02-13T00:00:00+00:00\",\"2015-02-17T00:00:00+00:00\",\"2015-02-18T00:00:00+00:00\",\"2015-02-19T00:00:00+00:00\",\"2015-02-20T00:00:00+00:00\",\"2015-02-23T00:00:00+00:00\",\"2015-02-24T00:00:00+00:00\",\"2015-02-25T00:00:00+00:00\",\"2015-02-26T00:00:00+00:00\",\"2015-02-27T00:00:00+00:00\",\"2015-03-02T00:00:00+00:00\",\"2015-03-03T00:00:00+00:00\",\"2015-03-04T00:00:00+00:00\",\"2015-03-05T00:00:00+00:00\",\"2015-03-06T00:00:00+00:00\",\"2015-03-09T00:00:00+00:00\",\"2015-03-10T00:00:00+00:00\",\"2015-03-11T00:00:00+00:00\",\"2015-03-12T00:00:00+00:00\",\"2015-03-13T00:00:00+00:00\",\"2015-03-16T00:00:00+00:00\",\"2015-03-17T00:00:00+00:00\",\"2015-03-18T00:00:00+00:00\",\"2015-03-19T00:00:00+00:00\",\"2015-03-20T00:00:00+00:00\",\"2015-03-23T00:00:00+00:00\",\"2015-03-24T00:00:00+00:00\",\"2015-03-25T00:00:00+00:00\",\"2015-03-26T00:00:00+00:00\",\"2015-03-27T00:00:00+00:00\",\"2015-03-30T00:00:00+00:00\",\"2015-03-31T00:00:00+00:00\",\"2015-04-01T00:00:00+00:00\",\"2015-04-02T00:00:00+00:00\",\"2015-04-06T00:00:00+00:00\",\"2015-04-07T00:00:00+00:00\",\"2015-04-08T00:00:00+00:00\",\"2015-04-09T00:00:00+00:00\",\"2015-04-10T00:00:00+00:00\",\"2015-04-13T00:00:00+00:00\",\"2015-04-14T00:00:00+00:00\",\"2015-04-15T00:00:00+00:00\",\"2015-04-16T00:00:00+00:00\",\"2015-04-17T00:00:00+00:00\",\"2015-04-20T00:00:00+00:00\",\"2015-04-21T00:00:00+00:00\",\"2015-04-22T00:00:00+00:00\",\"2015-04-23T00:00:00+00:00\",\"2015-04-24T00:00:00+00:00\",\"2015-04-27T00:00:00+00:00\",\"2015-04-28T00:00:00+00:00\",\"2015-04-29T00:00:00+00:00\",\"2015-04-30T00:00:00+00:00\",\"2015-05-01T00:00:00+00:00\",\"2015-05-04T00:00:00+00:00\",\"2015-05-05T00:00:00+00:00\",\"2015-05-06T00:00:00+00:00\",\"2015-05-07T00:00:00+00:00\",\"2015-05-08T00:00:00+00:00\",\"2015-05-11T00:00:00+00:00\",\"2015-05-12T00:00:00+00:00\",\"2015-05-13T00:00:00+00:00\",\"2015-05-14T00:00:00+00:00\",\"2015-05-15T00:00:00+00:00\",\"2015-05-18T00:00:00+00:00\",\"2015-05-19T00:00:00+00:00\",\"2015-05-20T00:00:00+00:00\",\"2015-05-21T00:00:00+00:00\",\"2015-05-22T00:00:00+00:00\",\"2015-05-26T00:00:00+00:00\",\"2015-05-27T00:00:00+00:00\",\"2015-05-28T00:00:00+00:00\",\"2015-05-29T00:00:00+00:00\",\"2015-06-01T00:00:00+00:00\",\"2015-06-02T00:00:00+00:00\",\"2015-06-03T00:00:00+00:00\",\"2015-06-04T00:00:00+00:00\",\"2015-06-05T00:00:00+00:00\",\"2015-06-08T00:00:00+00:00\",\"2015-06-09T00:00:00+00:00\",\"2015-06-10T00:00:00+00:00\",\"2015-06-11T00:00:00+00:00\",\"2015-06-12T00:00:00+00:00\",\"2015-06-15T00:00:00+00:00\",\"2015-06-16T00:00:00+00:00\",\"2015-06-17T00:00:00+00:00\",\"2015-06-18T00:00:00+00:00\",\"2015-06-19T00:00:00+00:00\",\"2015-06-22T00:00:00+00:00\",\"2015-06-23T00:00:00+00:00\",\"2015-06-24T00:00:00+00:00\",\"2015-06-25T00:00:00+00:00\",\"2015-06-26T00:00:00+00:00\",\"2015-06-29T00:00:00+00:00\",\"2015-06-30T00:00:00+00:00\",\"2015-07-01T00:00:00+00:00\",\"2015-07-02T00:00:00+00:00\",\"2015-07-06T00:00:00+00:00\",\"2015-07-07T00:00:00+00:00\",\"2015-07-08T00:00:00+00:00\",\"2015-07-09T00:00:00+00:00\",\"2015-07-10T00:00:00+00:00\",\"2015-07-13T00:00:00+00:00\",\"2015-07-14T00:00:00+00:00\",\"2015-07-15T00:00:00+00:00\",\"2015-07-16T00:00:00+00:00\",\"2015-07-17T00:00:00+00:00\",\"2015-07-20T00:00:00+00:00\",\"2015-07-21T00:00:00+00:00\",\"2015-07-22T00:00:00+00:00\",\"2015-07-23T00:00:00+00:00\",\"2015-07-24T00:00:00+00:00\",\"2015-07-27T00:00:00+00:00\",\"2015-07-28T00:00:00+00:00\",\"2015-07-29T00:00:00+00:00\",\"2015-07-30T00:00:00+00:00\",\"2015-07-31T00:00:00+00:00\",\"2015-08-03T00:00:00+00:00\",\"2015-08-04T00:00:00+00:00\",\"2015-08-05T00:00:00+00:00\",\"2015-08-06T00:00:00+00:00\",\"2015-08-07T00:00:00+00:00\",\"2015-08-10T00:00:00+00:00\",\"2015-08-11T00:00:00+00:00\",\"2015-08-12T00:00:00+00:00\",\"2015-08-13T00:00:00+00:00\",\"2015-08-14T00:00:00+00:00\",\"2015-08-17T00:00:00+00:00\",\"2015-08-18T00:00:00+00:00\",\"2015-08-19T00:00:00+00:00\",\"2015-08-20T00:00:00+00:00\",\"2015-08-21T00:00:00+00:00\",\"2015-08-24T00:00:00+00:00\",\"2015-08-25T00:00:00+00:00\",\"2015-08-26T00:00:00+00:00\",\"2015-08-27T00:00:00+00:00\",\"2015-08-28T00:00:00+00:00\",\"2015-08-31T00:00:00+00:00\",\"2015-09-01T00:00:00+00:00\",\"2015-09-02T00:00:00+00:00\",\"2015-09-03T00:00:00+00:00\",\"2015-09-04T00:00:00+00:00\",\"2015-09-08T00:00:00+00:00\",\"2015-09-09T00:00:00+00:00\",\"2015-09-10T00:00:00+00:00\",\"2015-09-11T00:00:00+00:00\",\"2015-09-14T00:00:00+00:00\",\"2015-09-15T00:00:00+00:00\",\"2015-09-16T00:00:00+00:00\",\"2015-09-17T00:00:00+00:00\",\"2015-09-18T00:00:00+00:00\",\"2015-09-21T00:00:00+00:00\",\"2015-09-22T00:00:00+00:00\",\"2015-09-23T00:00:00+00:00\",\"2015-09-24T00:00:00+00:00\",\"2015-09-25T00:00:00+00:00\",\"2015-09-28T00:00:00+00:00\",\"2015-09-29T00:00:00+00:00\",\"2015-09-30T00:00:00+00:00\",\"2015-10-01T00:00:00+00:00\",\"2015-10-02T00:00:00+00:00\",\"2015-10-05T00:00:00+00:00\",\"2015-10-06T00:00:00+00:00\",\"2015-10-07T00:00:00+00:00\",\"2015-10-08T00:00:00+00:00\",\"2015-10-09T00:00:00+00:00\",\"2015-10-12T00:00:00+00:00\",\"2015-10-13T00:00:00+00:00\",\"2015-10-14T00:00:00+00:00\",\"2015-10-15T00:00:00+00:00\",\"2015-10-16T00:00:00+00:00\",\"2015-10-19T00:00:00+00:00\",\"2015-10-20T00:00:00+00:00\",\"2015-10-21T00:00:00+00:00\",\"2015-10-22T00:00:00+00:00\",\"2015-10-23T00:00:00+00:00\",\"2015-10-26T00:00:00+00:00\",\"2015-10-27T00:00:00+00:00\",\"2015-10-28T00:00:00+00:00\",\"2015-10-29T00:00:00+00:00\",\"2015-10-30T00:00:00+00:00\",\"2015-11-02T00:00:00+00:00\",\"2015-11-03T00:00:00+00:00\",\"2015-11-04T00:00:00+00:00\",\"2015-11-05T00:00:00+00:00\",\"2015-11-06T00:00:00+00:00\",\"2015-11-09T00:00:00+00:00\",\"2015-11-10T00:00:00+00:00\",\"2015-11-11T00:00:00+00:00\",\"2015-11-12T00:00:00+00:00\",\"2015-11-13T00:00:00+00:00\",\"2015-11-16T00:00:00+00:00\",\"2015-11-17T00:00:00+00:00\",\"2015-11-18T00:00:00+00:00\",\"2015-11-19T00:00:00+00:00\",\"2015-11-20T00:00:00+00:00\",\"2015-11-23T00:00:00+00:00\",\"2015-11-24T00:00:00+00:00\",\"2015-11-25T00:00:00+00:00\",\"2015-11-27T00:00:00+00:00\",\"2015-11-30T00:00:00+00:00\",\"2015-12-01T00:00:00+00:00\",\"2015-12-02T00:00:00+00:00\",\"2015-12-03T00:00:00+00:00\",\"2015-12-04T00:00:00+00:00\",\"2015-12-07T00:00:00+00:00\",\"2015-12-08T00:00:00+00:00\",\"2015-12-09T00:00:00+00:00\",\"2015-12-10T00:00:00+00:00\",\"2015-12-11T00:00:00+00:00\",\"2015-12-14T00:00:00+00:00\",\"2015-12-15T00:00:00+00:00\",\"2015-12-16T00:00:00+00:00\",\"2015-12-17T00:00:00+00:00\",\"2015-12-18T00:00:00+00:00\",\"2015-12-21T00:00:00+00:00\",\"2015-12-22T00:00:00+00:00\",\"2015-12-23T00:00:00+00:00\",\"2015-12-24T00:00:00+00:00\",\"2015-12-28T00:00:00+00:00\",\"2015-12-29T00:00:00+00:00\",\"2015-12-30T00:00:00+00:00\",\"2015-12-31T00:00:00+00:00\",\"2016-01-04T00:00:00+00:00\",\"2016-01-05T00:00:00+00:00\",\"2016-01-06T00:00:00+00:00\",\"2016-01-07T00:00:00+00:00\",\"2016-01-08T00:00:00+00:00\",\"2016-01-11T00:00:00+00:00\",\"2016-01-12T00:00:00+00:00\",\"2016-01-13T00:00:00+00:00\",\"2016-01-14T00:00:00+00:00\",\"2016-01-15T00:00:00+00:00\",\"2016-01-19T00:00:00+00:00\",\"2016-01-20T00:00:00+00:00\",\"2016-01-21T00:00:00+00:00\",\"2016-01-22T00:00:00+00:00\",\"2016-01-25T00:00:00+00:00\",\"2016-01-26T00:00:00+00:00\",\"2016-01-27T00:00:00+00:00\",\"2016-01-28T00:00:00+00:00\",\"2016-01-29T00:00:00+00:00\",\"2016-02-01T00:00:00+00:00\",\"2016-02-02T00:00:00+00:00\",\"2016-02-03T00:00:00+00:00\",\"2016-02-04T00:00:00+00:00\",\"2016-02-05T00:00:00+00:00\",\"2016-02-08T00:00:00+00:00\",\"2016-02-09T00:00:00+00:00\",\"2016-02-10T00:00:00+00:00\",\"2016-02-11T00:00:00+00:00\",\"2016-02-12T00:00:00+00:00\",\"2016-02-16T00:00:00+00:00\",\"2016-02-17T00:00:00+00:00\",\"2016-02-18T00:00:00+00:00\",\"2016-02-19T00:00:00+00:00\",\"2016-02-22T00:00:00+00:00\",\"2016-02-23T00:00:00+00:00\",\"2016-02-24T00:00:00+00:00\",\"2016-02-25T00:00:00+00:00\",\"2016-02-26T00:00:00+00:00\",\"2016-02-29T00:00:00+00:00\",\"2016-03-01T00:00:00+00:00\",\"2016-03-02T00:00:00+00:00\",\"2016-03-03T00:00:00+00:00\",\"2016-03-04T00:00:00+00:00\",\"2016-03-07T00:00:00+00:00\",\"2016-03-08T00:00:00+00:00\",\"2016-03-09T00:00:00+00:00\",\"2016-03-10T00:00:00+00:00\",\"2016-03-11T00:00:00+00:00\",\"2016-03-14T00:00:00+00:00\",\"2016-03-15T00:00:00+00:00\",\"2016-03-16T00:00:00+00:00\",\"2016-03-17T00:00:00+00:00\",\"2016-03-18T00:00:00+00:00\",\"2016-03-21T00:00:00+00:00\",\"2016-03-22T00:00:00+00:00\",\"2016-03-23T00:00:00+00:00\",\"2016-03-24T00:00:00+00:00\",\"2016-03-28T00:00:00+00:00\",\"2016-03-29T00:00:00+00:00\",\"2016-03-30T00:00:00+00:00\",\"2016-03-31T00:00:00+00:00\",\"2016-04-01T00:00:00+00:00\",\"2016-04-04T00:00:00+00:00\",\"2016-04-05T00:00:00+00:00\",\"2016-04-06T00:00:00+00:00\",\"2016-04-07T00:00:00+00:00\",\"2016-04-08T00:00:00+00:00\",\"2016-04-11T00:00:00+00:00\",\"2016-04-12T00:00:00+00:00\",\"2016-04-13T00:00:00+00:00\",\"2016-04-14T00:00:00+00:00\",\"2016-04-15T00:00:00+00:00\",\"2016-04-18T00:00:00+00:00\",\"2016-04-19T00:00:00+00:00\",\"2016-04-20T00:00:00+00:00\",\"2016-04-21T00:00:00+00:00\",\"2016-04-22T00:00:00+00:00\",\"2016-04-25T00:00:00+00:00\",\"2016-04-26T00:00:00+00:00\",\"2016-04-27T00:00:00+00:00\",\"2016-04-28T00:00:00+00:00\",\"2016-04-29T00:00:00+00:00\",\"2016-05-02T00:00:00+00:00\",\"2016-05-03T00:00:00+00:00\",\"2016-05-04T00:00:00+00:00\",\"2016-05-05T00:00:00+00:00\",\"2016-05-06T00:00:00+00:00\",\"2016-05-09T00:00:00+00:00\",\"2016-05-10T00:00:00+00:00\",\"2016-05-11T00:00:00+00:00\",\"2016-05-12T00:00:00+00:00\",\"2016-05-13T00:00:00+00:00\",\"2016-05-16T00:00:00+00:00\",\"2016-05-17T00:00:00+00:00\",\"2016-05-18T00:00:00+00:00\",\"2016-05-19T00:00:00+00:00\",\"2016-05-20T00:00:00+00:00\",\"2016-05-23T00:00:00+00:00\",\"2016-05-24T00:00:00+00:00\",\"2016-05-25T00:00:00+00:00\",\"2016-05-26T00:00:00+00:00\",\"2016-05-27T00:00:00+00:00\",\"2016-05-31T00:00:00+00:00\",\"2016-06-01T00:00:00+00:00\",\"2016-06-02T00:00:00+00:00\",\"2016-06-03T00:00:00+00:00\",\"2016-06-06T00:00:00+00:00\",\"2016-06-07T00:00:00+00:00\",\"2016-06-08T00:00:00+00:00\",\"2016-06-09T00:00:00+00:00\",\"2016-06-10T00:00:00+00:00\",\"2016-06-13T00:00:00+00:00\",\"2016-06-14T00:00:00+00:00\",\"2016-06-15T00:00:00+00:00\",\"2016-06-16T00:00:00+00:00\",\"2016-06-17T00:00:00+00:00\",\"2016-06-20T00:00:00+00:00\",\"2016-06-21T00:00:00+00:00\",\"2016-06-22T00:00:00+00:00\",\"2016-06-23T00:00:00+00:00\",\"2016-06-24T00:00:00+00:00\",\"2016-06-27T00:00:00+00:00\",\"2016-06-28T00:00:00+00:00\",\"2016-06-29T00:00:00+00:00\",\"2016-06-30T00:00:00+00:00\",\"2016-07-01T00:00:00+00:00\",\"2016-07-05T00:00:00+00:00\",\"2016-07-06T00:00:00+00:00\",\"2016-07-07T00:00:00+00:00\",\"2016-07-08T00:00:00+00:00\",\"2016-07-11T00:00:00+00:00\",\"2016-07-12T00:00:00+00:00\",\"2016-07-13T00:00:00+00:00\",\"2016-07-14T00:00:00+00:00\",\"2016-07-15T00:00:00+00:00\",\"2016-07-18T00:00:00+00:00\",\"2016-07-19T00:00:00+00:00\",\"2016-07-20T00:00:00+00:00\",\"2016-07-21T00:00:00+00:00\",\"2016-07-22T00:00:00+00:00\",\"2016-07-25T00:00:00+00:00\",\"2016-07-26T00:00:00+00:00\",\"2016-07-27T00:00:00+00:00\",\"2016-07-28T00:00:00+00:00\",\"2016-07-29T00:00:00+00:00\",\"2016-08-01T00:00:00+00:00\",\"2016-08-02T00:00:00+00:00\",\"2016-08-03T00:00:00+00:00\",\"2016-08-04T00:00:00+00:00\",\"2016-08-05T00:00:00+00:00\",\"2016-08-08T00:00:00+00:00\",\"2016-08-09T00:00:00+00:00\",\"2016-08-10T00:00:00+00:00\",\"2016-08-11T00:00:00+00:00\",\"2016-08-12T00:00:00+00:00\",\"2016-08-15T00:00:00+00:00\",\"2016-08-16T00:00:00+00:00\",\"2016-08-17T00:00:00+00:00\",\"2016-08-18T00:00:00+00:00\",\"2016-08-19T00:00:00+00:00\",\"2016-08-22T00:00:00+00:00\",\"2016-08-23T00:00:00+00:00\",\"2016-08-24T00:00:00+00:00\",\"2016-08-25T00:00:00+00:00\",\"2016-08-26T00:00:00+00:00\",\"2016-08-29T00:00:00+00:00\",\"2016-08-30T00:00:00+00:00\",\"2016-08-31T00:00:00+00:00\",\"2016-09-01T00:00:00+00:00\",\"2016-09-02T00:00:00+00:00\",\"2016-09-06T00:00:00+00:00\",\"2016-09-07T00:00:00+00:00\",\"2016-09-08T00:00:00+00:00\",\"2016-09-09T00:00:00+00:00\",\"2016-09-12T00:00:00+00:00\",\"2016-09-13T00:00:00+00:00\",\"2016-09-14T00:00:00+00:00\",\"2016-09-15T00:00:00+00:00\",\"2016-09-16T00:00:00+00:00\",\"2016-09-19T00:00:00+00:00\",\"2016-09-20T00:00:00+00:00\",\"2016-09-21T00:00:00+00:00\",\"2016-09-22T00:00:00+00:00\",\"2016-09-23T00:00:00+00:00\",\"2016-09-26T00:00:00+00:00\",\"2016-09-27T00:00:00+00:00\",\"2016-09-28T00:00:00+00:00\",\"2016-09-29T00:00:00+00:00\",\"2016-09-30T00:00:00+00:00\",\"2016-10-03T00:00:00+00:00\",\"2016-10-04T00:00:00+00:00\",\"2016-10-05T00:00:00+00:00\",\"2016-10-06T00:00:00+00:00\",\"2016-10-07T00:00:00+00:00\",\"2016-10-10T00:00:00+00:00\",\"2016-10-11T00:00:00+00:00\",\"2016-10-12T00:00:00+00:00\",\"2016-10-13T00:00:00+00:00\",\"2016-10-14T00:00:00+00:00\",\"2016-10-17T00:00:00+00:00\",\"2016-10-18T00:00:00+00:00\",\"2016-10-19T00:00:00+00:00\",\"2016-10-20T00:00:00+00:00\",\"2016-10-21T00:00:00+00:00\",\"2016-10-24T00:00:00+00:00\",\"2016-10-25T00:00:00+00:00\",\"2016-10-26T00:00:00+00:00\",\"2016-10-27T00:00:00+00:00\",\"2016-10-28T00:00:00+00:00\",\"2016-10-31T00:00:00+00:00\",\"2016-11-01T00:00:00+00:00\",\"2016-11-02T00:00:00+00:00\",\"2016-11-03T00:00:00+00:00\",\"2016-11-04T00:00:00+00:00\",\"2016-11-07T00:00:00+00:00\",\"2016-11-08T00:00:00+00:00\",\"2016-11-09T00:00:00+00:00\",\"2016-11-10T00:00:00+00:00\",\"2016-11-11T00:00:00+00:00\",\"2016-11-14T00:00:00+00:00\",\"2016-11-15T00:00:00+00:00\",\"2016-11-16T00:00:00+00:00\",\"2016-11-17T00:00:00+00:00\",\"2016-11-18T00:00:00+00:00\",\"2016-11-21T00:00:00+00:00\",\"2016-11-22T00:00:00+00:00\",\"2016-11-23T00:00:00+00:00\",\"2016-11-25T00:00:00+00:00\",\"2016-11-28T00:00:00+00:00\",\"2016-11-29T00:00:00+00:00\",\"2016-11-30T00:00:00+00:00\",\"2016-12-01T00:00:00+00:00\",\"2016-12-02T00:00:00+00:00\",\"2016-12-05T00:00:00+00:00\",\"2016-12-06T00:00:00+00:00\",\"2016-12-07T00:00:00+00:00\",\"2016-12-08T00:00:00+00:00\",\"2016-12-09T00:00:00+00:00\",\"2016-12-12T00:00:00+00:00\",\"2016-12-13T00:00:00+00:00\",\"2016-12-14T00:00:00+00:00\",\"2016-12-15T00:00:00+00:00\",\"2016-12-16T00:00:00+00:00\",\"2016-12-19T00:00:00+00:00\",\"2016-12-20T00:00:00+00:00\",\"2016-12-21T00:00:00+00:00\",\"2016-12-22T00:00:00+00:00\",\"2016-12-23T00:00:00+00:00\",\"2016-12-27T00:00:00+00:00\",\"2016-12-28T00:00:00+00:00\",\"2016-12-29T00:00:00+00:00\",\"2016-12-30T00:00:00+00:00\",\"2017-01-03T00:00:00+00:00\",\"2017-01-04T00:00:00+00:00\",\"2017-01-05T00:00:00+00:00\",\"2017-01-06T00:00:00+00:00\",\"2017-01-09T00:00:00+00:00\",\"2017-01-10T00:00:00+00:00\",\"2017-01-11T00:00:00+00:00\",\"2017-01-12T00:00:00+00:00\",\"2017-01-13T00:00:00+00:00\",\"2017-01-17T00:00:00+00:00\",\"2017-01-18T00:00:00+00:00\",\"2017-01-19T00:00:00+00:00\",\"2017-01-20T00:00:00+00:00\",\"2017-01-23T00:00:00+00:00\",\"2017-01-24T00:00:00+00:00\",\"2017-01-25T00:00:00+00:00\",\"2017-01-26T00:00:00+00:00\",\"2017-01-27T00:00:00+00:00\",\"2017-01-30T00:00:00+00:00\",\"2017-01-31T00:00:00+00:00\",\"2017-02-01T00:00:00+00:00\",\"2017-02-02T00:00:00+00:00\",\"2017-02-03T00:00:00+00:00\",\"2017-02-06T00:00:00+00:00\",\"2017-02-07T00:00:00+00:00\",\"2017-02-08T00:00:00+00:00\",\"2017-02-09T00:00:00+00:00\",\"2017-02-10T00:00:00+00:00\",\"2017-02-13T00:00:00+00:00\",\"2017-02-14T00:00:00+00:00\",\"2017-02-15T00:00:00+00:00\",\"2017-02-16T00:00:00+00:00\",\"2017-02-17T00:00:00+00:00\",\"2017-02-21T00:00:00+00:00\",\"2017-02-22T00:00:00+00:00\",\"2017-02-23T00:00:00+00:00\",\"2017-02-24T00:00:00+00:00\",\"2017-02-27T00:00:00+00:00\",\"2017-02-28T00:00:00+00:00\",\"2017-03-01T00:00:00+00:00\",\"2017-03-02T00:00:00+00:00\",\"2017-03-03T00:00:00+00:00\",\"2017-03-06T00:00:00+00:00\",\"2017-03-07T00:00:00+00:00\",\"2017-03-08T00:00:00+00:00\",\"2017-03-09T00:00:00+00:00\",\"2017-03-10T00:00:00+00:00\",\"2017-03-13T00:00:00+00:00\",\"2017-03-14T00:00:00+00:00\",\"2017-03-15T00:00:00+00:00\",\"2017-03-16T00:00:00+00:00\",\"2017-03-17T00:00:00+00:00\",\"2017-03-20T00:00:00+00:00\",\"2017-03-21T00:00:00+00:00\",\"2017-03-22T00:00:00+00:00\",\"2017-03-23T00:00:00+00:00\",\"2017-03-24T00:00:00+00:00\",\"2017-03-27T00:00:00+00:00\",\"2017-03-28T00:00:00+00:00\",\"2017-03-29T00:00:00+00:00\",\"2017-03-30T00:00:00+00:00\",\"2017-03-31T00:00:00+00:00\",\"2017-04-03T00:00:00+00:00\",\"2017-04-04T00:00:00+00:00\",\"2017-04-05T00:00:00+00:00\",\"2017-04-06T00:00:00+00:00\",\"2017-04-07T00:00:00+00:00\",\"2017-04-10T00:00:00+00:00\",\"2017-04-11T00:00:00+00:00\",\"2017-04-12T00:00:00+00:00\",\"2017-04-13T00:00:00+00:00\",\"2017-04-17T00:00:00+00:00\",\"2017-04-18T00:00:00+00:00\",\"2017-04-19T00:00:00+00:00\",\"2017-04-20T00:00:00+00:00\",\"2017-04-21T00:00:00+00:00\",\"2017-04-24T00:00:00+00:00\",\"2017-04-25T00:00:00+00:00\",\"2017-04-26T00:00:00+00:00\",\"2017-04-27T00:00:00+00:00\",\"2017-04-28T00:00:00+00:00\",\"2017-05-01T00:00:00+00:00\",\"2017-05-02T00:00:00+00:00\",\"2017-05-03T00:00:00+00:00\",\"2017-05-04T00:00:00+00:00\",\"2017-05-05T00:00:00+00:00\",\"2017-05-08T00:00:00+00:00\",\"2017-05-09T00:00:00+00:00\",\"2017-05-10T00:00:00+00:00\",\"2017-05-11T00:00:00+00:00\",\"2017-05-12T00:00:00+00:00\",\"2017-05-15T00:00:00+00:00\",\"2017-05-16T00:00:00+00:00\",\"2017-05-17T00:00:00+00:00\",\"2017-05-18T00:00:00+00:00\",\"2017-05-19T00:00:00+00:00\",\"2017-05-22T00:00:00+00:00\",\"2017-05-23T00:00:00+00:00\",\"2017-05-24T00:00:00+00:00\",\"2017-05-25T00:00:00+00:00\",\"2017-05-26T00:00:00+00:00\",\"2017-05-30T00:00:00+00:00\",\"2017-05-31T00:00:00+00:00\",\"2017-06-01T00:00:00+00:00\",\"2017-06-02T00:00:00+00:00\",\"2017-06-05T00:00:00+00:00\",\"2017-06-06T00:00:00+00:00\",\"2017-06-07T00:00:00+00:00\",\"2017-06-08T00:00:00+00:00\",\"2017-06-09T00:00:00+00:00\",\"2017-06-12T00:00:00+00:00\",\"2017-06-13T00:00:00+00:00\",\"2017-06-14T00:00:00+00:00\",\"2017-06-15T00:00:00+00:00\",\"2017-06-16T00:00:00+00:00\",\"2017-06-19T00:00:00+00:00\",\"2017-06-20T00:00:00+00:00\",\"2017-06-21T00:00:00+00:00\",\"2017-06-22T00:00:00+00:00\",\"2017-06-23T00:00:00+00:00\",\"2017-06-26T00:00:00+00:00\",\"2017-06-27T00:00:00+00:00\",\"2017-06-28T00:00:00+00:00\",\"2017-06-29T00:00:00+00:00\",\"2017-06-30T00:00:00+00:00\",\"2017-07-03T00:00:00+00:00\",\"2017-07-05T00:00:00+00:00\",\"2017-07-06T00:00:00+00:00\",\"2017-07-07T00:00:00+00:00\",\"2017-07-10T00:00:00+00:00\",\"2017-07-11T00:00:00+00:00\",\"2017-07-12T00:00:00+00:00\",\"2017-07-13T00:00:00+00:00\",\"2017-07-14T00:00:00+00:00\",\"2017-07-17T00:00:00+00:00\",\"2017-07-18T00:00:00+00:00\",\"2017-07-19T00:00:00+00:00\",\"2017-07-20T00:00:00+00:00\",\"2017-07-21T00:00:00+00:00\",\"2017-07-24T00:00:00+00:00\",\"2017-07-25T00:00:00+00:00\",\"2017-07-26T00:00:00+00:00\",\"2017-07-27T00:00:00+00:00\",\"2017-07-28T00:00:00+00:00\",\"2017-07-31T00:00:00+00:00\",\"2017-08-01T00:00:00+00:00\",\"2017-08-02T00:00:00+00:00\",\"2017-08-03T00:00:00+00:00\",\"2017-08-04T00:00:00+00:00\",\"2017-08-07T00:00:00+00:00\",\"2017-08-08T00:00:00+00:00\",\"2017-08-09T00:00:00+00:00\",\"2017-08-10T00:00:00+00:00\",\"2017-08-11T00:00:00+00:00\",\"2017-08-14T00:00:00+00:00\",\"2017-08-15T00:00:00+00:00\",\"2017-08-16T00:00:00+00:00\",\"2017-08-17T00:00:00+00:00\",\"2017-08-18T00:00:00+00:00\",\"2017-08-21T00:00:00+00:00\",\"2017-08-22T00:00:00+00:00\",\"2017-08-23T00:00:00+00:00\",\"2017-08-24T00:00:00+00:00\",\"2017-08-25T00:00:00+00:00\",\"2017-08-28T00:00:00+00:00\",\"2017-08-29T00:00:00+00:00\",\"2017-08-30T00:00:00+00:00\",\"2017-08-31T00:00:00+00:00\",\"2017-09-01T00:00:00+00:00\",\"2017-09-05T00:00:00+00:00\",\"2017-09-06T00:00:00+00:00\",\"2017-09-07T00:00:00+00:00\",\"2017-09-08T00:00:00+00:00\",\"2017-09-11T00:00:00+00:00\",\"2017-09-12T00:00:00+00:00\",\"2017-09-13T00:00:00+00:00\",\"2017-09-14T00:00:00+00:00\",\"2017-09-15T00:00:00+00:00\",\"2017-09-18T00:00:00+00:00\",\"2017-09-19T00:00:00+00:00\",\"2017-09-20T00:00:00+00:00\",\"2017-09-21T00:00:00+00:00\",\"2017-09-22T00:00:00+00:00\",\"2017-09-25T00:00:00+00:00\",\"2017-09-26T00:00:00+00:00\",\"2017-09-27T00:00:00+00:00\",\"2017-09-28T00:00:00+00:00\",\"2017-09-29T00:00:00+00:00\",\"2017-10-02T00:00:00+00:00\",\"2017-10-03T00:00:00+00:00\",\"2017-10-04T00:00:00+00:00\",\"2017-10-05T00:00:00+00:00\",\"2017-10-06T00:00:00+00:00\",\"2017-10-09T00:00:00+00:00\",\"2017-10-10T00:00:00+00:00\",\"2017-10-11T00:00:00+00:00\",\"2017-10-12T00:00:00+00:00\",\"2017-10-13T00:00:00+00:00\",\"2017-10-16T00:00:00+00:00\",\"2017-10-17T00:00:00+00:00\",\"2017-10-18T00:00:00+00:00\",\"2017-10-19T00:00:00+00:00\",\"2017-10-20T00:00:00+00:00\",\"2017-10-23T00:00:00+00:00\",\"2017-10-24T00:00:00+00:00\",\"2017-10-25T00:00:00+00:00\",\"2017-10-26T00:00:00+00:00\",\"2017-10-27T00:00:00+00:00\",\"2017-10-30T00:00:00+00:00\",\"2017-10-31T00:00:00+00:00\",\"2017-11-01T00:00:00+00:00\",\"2017-11-02T00:00:00+00:00\",\"2017-11-03T00:00:00+00:00\",\"2017-11-06T00:00:00+00:00\",\"2017-11-07T00:00:00+00:00\",\"2017-11-08T00:00:00+00:00\",\"2017-11-09T00:00:00+00:00\",\"2017-11-10T00:00:00+00:00\",\"2017-11-13T00:00:00+00:00\",\"2017-11-14T00:00:00+00:00\",\"2017-11-15T00:00:00+00:00\",\"2017-11-16T00:00:00+00:00\",\"2017-11-17T00:00:00+00:00\",\"2017-11-20T00:00:00+00:00\",\"2017-11-21T00:00:00+00:00\",\"2017-11-22T00:00:00+00:00\",\"2017-11-24T00:00:00+00:00\",\"2017-11-27T00:00:00+00:00\",\"2017-11-28T00:00:00+00:00\",\"2017-11-29T00:00:00+00:00\",\"2017-11-30T00:00:00+00:00\",\"2017-12-01T00:00:00+00:00\",\"2017-12-04T00:00:00+00:00\",\"2017-12-05T00:00:00+00:00\",\"2017-12-06T00:00:00+00:00\",\"2017-12-07T00:00:00+00:00\",\"2017-12-08T00:00:00+00:00\",\"2017-12-11T00:00:00+00:00\",\"2017-12-12T00:00:00+00:00\",\"2017-12-13T00:00:00+00:00\",\"2017-12-14T00:00:00+00:00\",\"2017-12-15T00:00:00+00:00\",\"2017-12-18T00:00:00+00:00\",\"2017-12-19T00:00:00+00:00\",\"2017-12-20T00:00:00+00:00\",\"2017-12-21T00:00:00+00:00\",\"2017-12-22T00:00:00+00:00\",\"2017-12-26T00:00:00+00:00\",\"2017-12-27T00:00:00+00:00\",\"2017-12-28T00:00:00+00:00\",\"2017-12-29T00:00:00+00:00\",\"2018-01-02T00:00:00+00:00\",\"2018-01-03T00:00:00+00:00\",\"2018-01-04T00:00:00+00:00\",\"2018-01-05T00:00:00+00:00\",\"2018-01-08T00:00:00+00:00\",\"2018-01-09T00:00:00+00:00\",\"2018-01-10T00:00:00+00:00\",\"2018-01-11T00:00:00+00:00\",\"2018-01-12T00:00:00+00:00\",\"2018-01-16T00:00:00+00:00\",\"2018-01-17T00:00:00+00:00\",\"2018-01-18T00:00:00+00:00\",\"2018-01-19T00:00:00+00:00\",\"2018-01-22T00:00:00+00:00\",\"2018-01-23T00:00:00+00:00\",\"2018-01-24T00:00:00+00:00\",\"2018-01-25T00:00:00+00:00\",\"2018-01-26T00:00:00+00:00\",\"2018-01-29T00:00:00+00:00\",\"2018-01-30T00:00:00+00:00\",\"2018-01-31T00:00:00+00:00\",\"2018-02-01T00:00:00+00:00\",\"2018-02-02T00:00:00+00:00\",\"2018-02-05T00:00:00+00:00\",\"2018-02-06T00:00:00+00:00\",\"2018-02-07T00:00:00+00:00\",\"2018-02-08T00:00:00+00:00\",\"2018-02-09T00:00:00+00:00\",\"2018-02-12T00:00:00+00:00\",\"2018-02-13T00:00:00+00:00\",\"2018-02-14T00:00:00+00:00\",\"2018-02-15T00:00:00+00:00\",\"2018-02-16T00:00:00+00:00\",\"2018-02-20T00:00:00+00:00\",\"2018-02-21T00:00:00+00:00\",\"2018-02-22T00:00:00+00:00\",\"2018-02-23T00:00:00+00:00\",\"2018-02-26T00:00:00+00:00\",\"2018-02-27T00:00:00+00:00\",\"2018-02-28T00:00:00+00:00\",\"2018-03-01T00:00:00+00:00\",\"2018-03-02T00:00:00+00:00\",\"2018-03-05T00:00:00+00:00\",\"2018-03-06T00:00:00+00:00\",\"2018-03-07T00:00:00+00:00\",\"2018-03-08T00:00:00+00:00\",\"2018-03-09T00:00:00+00:00\",\"2018-03-12T00:00:00+00:00\",\"2018-03-13T00:00:00+00:00\",\"2018-03-14T00:00:00+00:00\",\"2018-03-15T00:00:00+00:00\",\"2018-03-16T00:00:00+00:00\",\"2018-03-19T00:00:00+00:00\",\"2018-03-20T00:00:00+00:00\",\"2018-03-21T00:00:00+00:00\",\"2018-03-22T00:00:00+00:00\",\"2018-03-23T00:00:00+00:00\",\"2018-03-26T00:00:00+00:00\",\"2018-03-27T00:00:00+00:00\",\"2018-03-28T00:00:00+00:00\",\"2018-03-29T00:00:00+00:00\",\"2018-04-02T00:00:00+00:00\",\"2018-04-03T00:00:00+00:00\",\"2018-04-04T00:00:00+00:00\",\"2018-04-05T00:00:00+00:00\",\"2018-04-06T00:00:00+00:00\",\"2018-04-09T00:00:00+00:00\",\"2018-04-10T00:00:00+00:00\",\"2018-04-11T00:00:00+00:00\",\"2018-04-12T00:00:00+00:00\",\"2018-04-13T00:00:00+00:00\",\"2018-04-16T00:00:00+00:00\",\"2018-04-17T00:00:00+00:00\",\"2018-04-18T00:00:00+00:00\",\"2018-04-19T00:00:00+00:00\",\"2018-04-20T00:00:00+00:00\",\"2018-04-23T00:00:00+00:00\",\"2018-04-24T00:00:00+00:00\",\"2018-04-25T00:00:00+00:00\",\"2018-04-26T00:00:00+00:00\",\"2018-04-27T00:00:00+00:00\",\"2018-04-30T00:00:00+00:00\",\"2018-05-01T00:00:00+00:00\",\"2018-05-02T00:00:00+00:00\",\"2018-05-03T00:00:00+00:00\",\"2018-05-04T00:00:00+00:00\",\"2018-05-07T00:00:00+00:00\",\"2018-05-08T00:00:00+00:00\",\"2018-05-09T00:00:00+00:00\",\"2018-05-10T00:00:00+00:00\",\"2018-05-11T00:00:00+00:00\",\"2018-05-14T00:00:00+00:00\",\"2018-05-15T00:00:00+00:00\",\"2018-05-16T00:00:00+00:00\",\"2018-05-17T00:00:00+00:00\",\"2018-05-18T00:00:00+00:00\",\"2018-05-21T00:00:00+00:00\",\"2018-05-22T00:00:00+00:00\",\"2018-05-23T00:00:00+00:00\",\"2018-05-24T00:00:00+00:00\",\"2018-05-25T00:00:00+00:00\",\"2018-05-29T00:00:00+00:00\",\"2018-05-30T00:00:00+00:00\",\"2018-05-31T00:00:00+00:00\",\"2018-06-01T00:00:00+00:00\",\"2018-06-04T00:00:00+00:00\",\"2018-06-05T00:00:00+00:00\",\"2018-06-06T00:00:00+00:00\",\"2018-06-07T00:00:00+00:00\",\"2018-06-08T00:00:00+00:00\",\"2018-06-11T00:00:00+00:00\",\"2018-06-12T00:00:00+00:00\",\"2018-06-13T00:00:00+00:00\",\"2018-06-14T00:00:00+00:00\",\"2018-06-15T00:00:00+00:00\",\"2018-06-18T00:00:00+00:00\",\"2018-06-19T00:00:00+00:00\",\"2018-06-20T00:00:00+00:00\",\"2018-06-21T00:00:00+00:00\",\"2018-06-22T00:00:00+00:00\",\"2018-06-25T00:00:00+00:00\",\"2018-06-26T00:00:00+00:00\",\"2018-06-27T00:00:00+00:00\",\"2018-06-28T00:00:00+00:00\",\"2018-06-29T00:00:00+00:00\",\"2018-07-02T00:00:00+00:00\",\"2018-07-03T00:00:00+00:00\",\"2018-07-05T00:00:00+00:00\",\"2018-07-06T00:00:00+00:00\",\"2018-07-09T00:00:00+00:00\",\"2018-07-10T00:00:00+00:00\",\"2018-07-11T00:00:00+00:00\",\"2018-07-12T00:00:00+00:00\",\"2018-07-13T00:00:00+00:00\",\"2018-07-16T00:00:00+00:00\",\"2018-07-17T00:00:00+00:00\",\"2018-07-18T00:00:00+00:00\",\"2018-07-19T00:00:00+00:00\",\"2018-07-20T00:00:00+00:00\",\"2018-07-23T00:00:00+00:00\",\"2018-07-24T00:00:00+00:00\",\"2018-07-25T00:00:00+00:00\",\"2018-07-26T00:00:00+00:00\",\"2018-07-27T00:00:00+00:00\",\"2018-07-30T00:00:00+00:00\",\"2018-07-31T00:00:00+00:00\",\"2018-08-01T00:00:00+00:00\",\"2018-08-02T00:00:00+00:00\",\"2018-08-03T00:00:00+00:00\",\"2018-08-06T00:00:00+00:00\",\"2018-08-07T00:00:00+00:00\",\"2018-08-08T00:00:00+00:00\",\"2018-08-09T00:00:00+00:00\",\"2018-08-10T00:00:00+00:00\",\"2018-08-13T00:00:00+00:00\",\"2018-08-14T00:00:00+00:00\",\"2018-08-15T00:00:00+00:00\",\"2018-08-16T00:00:00+00:00\",\"2018-08-17T00:00:00+00:00\",\"2018-08-20T00:00:00+00:00\",\"2018-08-21T00:00:00+00:00\",\"2018-08-22T00:00:00+00:00\",\"2018-08-23T00:00:00+00:00\",\"2018-08-24T00:00:00+00:00\",\"2018-08-27T00:00:00+00:00\",\"2018-08-28T00:00:00+00:00\",\"2018-08-29T00:00:00+00:00\",\"2018-08-30T00:00:00+00:00\",\"2018-08-31T00:00:00+00:00\",\"2018-09-04T00:00:00+00:00\",\"2018-09-05T00:00:00+00:00\",\"2018-09-06T00:00:00+00:00\",\"2018-09-07T00:00:00+00:00\",\"2018-09-10T00:00:00+00:00\",\"2018-09-11T00:00:00+00:00\",\"2018-09-12T00:00:00+00:00\",\"2018-09-13T00:00:00+00:00\",\"2018-09-14T00:00:00+00:00\",\"2018-09-17T00:00:00+00:00\",\"2018-09-18T00:00:00+00:00\",\"2018-09-19T00:00:00+00:00\",\"2018-09-20T00:00:00+00:00\",\"2018-09-21T00:00:00+00:00\",\"2018-09-24T00:00:00+00:00\",\"2018-09-25T00:00:00+00:00\",\"2018-09-26T00:00:00+00:00\",\"2018-09-27T00:00:00+00:00\",\"2018-09-28T00:00:00+00:00\",\"2018-10-01T00:00:00+00:00\",\"2018-10-02T00:00:00+00:00\",\"2018-10-03T00:00:00+00:00\",\"2018-10-04T00:00:00+00:00\",\"2018-10-05T00:00:00+00:00\",\"2018-10-08T00:00:00+00:00\",\"2018-10-09T00:00:00+00:00\",\"2018-10-10T00:00:00+00:00\",\"2018-10-11T00:00:00+00:00\",\"2018-10-12T00:00:00+00:00\",\"2018-10-15T00:00:00+00:00\",\"2018-10-16T00:00:00+00:00\",\"2018-10-17T00:00:00+00:00\",\"2018-10-18T00:00:00+00:00\",\"2018-10-19T00:00:00+00:00\",\"2018-10-22T00:00:00+00:00\",\"2018-10-23T00:00:00+00:00\",\"2018-10-24T00:00:00+00:00\",\"2018-10-25T00:00:00+00:00\",\"2018-10-26T00:00:00+00:00\",\"2018-10-29T00:00:00+00:00\",\"2018-10-30T00:00:00+00:00\",\"2018-10-31T00:00:00+00:00\",\"2018-11-01T00:00:00+00:00\",\"2018-11-02T00:00:00+00:00\",\"2018-11-05T00:00:00+00:00\",\"2018-11-06T00:00:00+00:00\",\"2018-11-07T00:00:00+00:00\",\"2018-11-08T00:00:00+00:00\",\"2018-11-09T00:00:00+00:00\",\"2018-11-12T00:00:00+00:00\",\"2018-11-13T00:00:00+00:00\",\"2018-11-14T00:00:00+00:00\",\"2018-11-15T00:00:00+00:00\",\"2018-11-16T00:00:00+00:00\",\"2018-11-19T00:00:00+00:00\",\"2018-11-20T00:00:00+00:00\",\"2018-11-21T00:00:00+00:00\",\"2018-11-23T00:00:00+00:00\",\"2018-11-26T00:00:00+00:00\",\"2018-11-27T00:00:00+00:00\",\"2018-11-28T00:00:00+00:00\",\"2018-11-29T00:00:00+00:00\",\"2018-11-30T00:00:00+00:00\",\"2018-12-03T00:00:00+00:00\",\"2018-12-04T00:00:00+00:00\",\"2018-12-06T00:00:00+00:00\",\"2018-12-07T00:00:00+00:00\",\"2018-12-10T00:00:00+00:00\",\"2018-12-11T00:00:00+00:00\",\"2018-12-12T00:00:00+00:00\",\"2018-12-13T00:00:00+00:00\",\"2018-12-14T00:00:00+00:00\",\"2018-12-17T00:00:00+00:00\",\"2018-12-18T00:00:00+00:00\",\"2018-12-19T00:00:00+00:00\",\"2018-12-20T00:00:00+00:00\",\"2018-12-21T00:00:00+00:00\",\"2018-12-24T00:00:00+00:00\",\"2018-12-26T00:00:00+00:00\",\"2018-12-27T00:00:00+00:00\",\"2018-12-28T00:00:00+00:00\",\"2018-12-31T00:00:00+00:00\",\"2019-01-02T00:00:00+00:00\",\"2019-01-03T00:00:00+00:00\",\"2019-01-04T00:00:00+00:00\",\"2019-01-07T00:00:00+00:00\",\"2019-01-08T00:00:00+00:00\",\"2019-01-09T00:00:00+00:00\",\"2019-01-10T00:00:00+00:00\",\"2019-01-11T00:00:00+00:00\",\"2019-01-14T00:00:00+00:00\",\"2019-01-15T00:00:00+00:00\",\"2019-01-16T00:00:00+00:00\",\"2019-01-17T00:00:00+00:00\",\"2019-01-18T00:00:00+00:00\",\"2019-01-22T00:00:00+00:00\",\"2019-01-23T00:00:00+00:00\",\"2019-01-24T00:00:00+00:00\",\"2019-01-25T00:00:00+00:00\",\"2019-01-28T00:00:00+00:00\",\"2019-01-29T00:00:00+00:00\",\"2019-01-30T00:00:00+00:00\",\"2019-01-31T00:00:00+00:00\",\"2019-02-01T00:00:00+00:00\",\"2019-02-04T00:00:00+00:00\",\"2019-02-05T00:00:00+00:00\",\"2019-02-06T00:00:00+00:00\",\"2019-02-07T00:00:00+00:00\",\"2019-02-08T00:00:00+00:00\",\"2019-02-11T00:00:00+00:00\",\"2019-02-12T00:00:00+00:00\",\"2019-02-13T00:00:00+00:00\",\"2019-02-14T00:00:00+00:00\",\"2019-02-15T00:00:00+00:00\",\"2019-02-19T00:00:00+00:00\",\"2019-02-20T00:00:00+00:00\",\"2019-02-21T00:00:00+00:00\",\"2019-02-22T00:00:00+00:00\",\"2019-02-25T00:00:00+00:00\",\"2019-02-26T00:00:00+00:00\",\"2019-02-27T00:00:00+00:00\",\"2019-02-28T00:00:00+00:00\",\"2019-03-01T00:00:00+00:00\",\"2019-03-04T00:00:00+00:00\",\"2019-03-05T00:00:00+00:00\",\"2019-03-06T00:00:00+00:00\",\"2019-03-07T00:00:00+00:00\",\"2019-03-08T00:00:00+00:00\",\"2019-03-11T00:00:00+00:00\",\"2019-03-12T00:00:00+00:00\",\"2019-03-13T00:00:00+00:00\",\"2019-03-14T00:00:00+00:00\",\"2019-03-15T00:00:00+00:00\",\"2019-03-18T00:00:00+00:00\",\"2019-03-19T00:00:00+00:00\",\"2019-03-20T00:00:00+00:00\",\"2019-03-21T00:00:00+00:00\",\"2019-03-22T00:00:00+00:00\",\"2019-03-25T00:00:00+00:00\",\"2019-03-26T00:00:00+00:00\",\"2019-03-27T00:00:00+00:00\",\"2019-03-28T00:00:00+00:00\",\"2019-03-29T00:00:00+00:00\",\"2019-04-01T00:00:00+00:00\",\"2019-04-02T00:00:00+00:00\",\"2019-04-03T00:00:00+00:00\",\"2019-04-04T00:00:00+00:00\",\"2019-04-05T00:00:00+00:00\",\"2019-04-08T00:00:00+00:00\",\"2019-04-09T00:00:00+00:00\",\"2019-04-10T00:00:00+00:00\",\"2019-04-11T00:00:00+00:00\",\"2019-04-12T00:00:00+00:00\",\"2019-04-15T00:00:00+00:00\",\"2019-04-16T00:00:00+00:00\",\"2019-04-17T00:00:00+00:00\",\"2019-04-18T00:00:00+00:00\",\"2019-04-22T00:00:00+00:00\",\"2019-04-23T00:00:00+00:00\",\"2019-04-24T00:00:00+00:00\",\"2019-04-25T00:00:00+00:00\",\"2019-04-26T00:00:00+00:00\",\"2019-04-29T00:00:00+00:00\",\"2019-04-30T00:00:00+00:00\",\"2019-05-01T00:00:00+00:00\",\"2019-05-02T00:00:00+00:00\",\"2019-05-03T00:00:00+00:00\",\"2019-05-06T00:00:00+00:00\",\"2019-05-07T00:00:00+00:00\",\"2019-05-08T00:00:00+00:00\",\"2019-05-09T00:00:00+00:00\",\"2019-05-10T00:00:00+00:00\",\"2019-05-13T00:00:00+00:00\",\"2019-05-14T00:00:00+00:00\",\"2019-05-15T00:00:00+00:00\",\"2019-05-16T00:00:00+00:00\",\"2019-05-17T00:00:00+00:00\",\"2019-05-20T00:00:00+00:00\",\"2019-05-21T00:00:00+00:00\",\"2019-05-22T00:00:00+00:00\",\"2019-05-23T00:00:00+00:00\",\"2019-05-24T00:00:00+00:00\",\"2019-05-28T00:00:00+00:00\",\"2019-05-29T00:00:00+00:00\",\"2019-05-30T00:00:00+00:00\",\"2019-05-31T00:00:00+00:00\",\"2019-06-03T00:00:00+00:00\",\"2019-06-04T00:00:00+00:00\",\"2019-06-05T00:00:00+00:00\",\"2019-06-06T00:00:00+00:00\",\"2019-06-07T00:00:00+00:00\",\"2019-06-10T00:00:00+00:00\",\"2019-06-11T00:00:00+00:00\",\"2019-06-12T00:00:00+00:00\",\"2019-06-13T00:00:00+00:00\",\"2019-06-14T00:00:00+00:00\",\"2019-06-17T00:00:00+00:00\",\"2019-06-18T00:00:00+00:00\",\"2019-06-19T00:00:00+00:00\",\"2019-06-20T00:00:00+00:00\",\"2019-06-21T00:00:00+00:00\",\"2019-06-24T00:00:00+00:00\",\"2019-06-25T00:00:00+00:00\",\"2019-06-26T00:00:00+00:00\",\"2019-06-27T00:00:00+00:00\",\"2019-06-28T00:00:00+00:00\",\"2019-07-01T00:00:00+00:00\",\"2019-07-02T00:00:00+00:00\",\"2019-07-03T00:00:00+00:00\",\"2019-07-05T00:00:00+00:00\",\"2019-07-08T00:00:00+00:00\",\"2019-07-09T00:00:00+00:00\",\"2019-07-10T00:00:00+00:00\",\"2019-07-11T00:00:00+00:00\",\"2019-07-12T00:00:00+00:00\",\"2019-07-15T00:00:00+00:00\",\"2019-07-16T00:00:00+00:00\",\"2019-07-17T00:00:00+00:00\",\"2019-07-18T00:00:00+00:00\",\"2019-07-19T00:00:00+00:00\",\"2019-07-22T00:00:00+00:00\",\"2019-07-23T00:00:00+00:00\",\"2019-07-24T00:00:00+00:00\",\"2019-07-25T00:00:00+00:00\",\"2019-07-26T00:00:00+00:00\",\"2019-07-29T00:00:00+00:00\",\"2019-07-30T00:00:00+00:00\",\"2019-07-31T00:00:00+00:00\",\"2019-08-01T00:00:00+00:00\",\"2019-08-02T00:00:00+00:00\",\"2019-08-05T00:00:00+00:00\",\"2019-08-06T00:00:00+00:00\",\"2019-08-07T00:00:00+00:00\",\"2019-08-08T00:00:00+00:00\",\"2019-08-09T00:00:00+00:00\",\"2019-08-12T00:00:00+00:00\",\"2019-08-13T00:00:00+00:00\",\"2019-08-14T00:00:00+00:00\",\"2019-08-15T00:00:00+00:00\",\"2019-08-16T00:00:00+00:00\",\"2019-08-19T00:00:00+00:00\",\"2019-08-20T00:00:00+00:00\",\"2019-08-21T00:00:00+00:00\",\"2019-08-22T00:00:00+00:00\",\"2019-08-23T00:00:00+00:00\",\"2019-08-26T00:00:00+00:00\",\"2019-08-27T00:00:00+00:00\",\"2019-08-28T00:00:00+00:00\",\"2019-08-29T00:00:00+00:00\",\"2019-08-30T00:00:00+00:00\",\"2019-09-03T00:00:00+00:00\",\"2019-09-04T00:00:00+00:00\",\"2019-09-05T00:00:00+00:00\",\"2019-09-06T00:00:00+00:00\",\"2019-09-09T00:00:00+00:00\",\"2019-09-10T00:00:00+00:00\",\"2019-09-11T00:00:00+00:00\",\"2019-09-12T00:00:00+00:00\",\"2019-09-13T00:00:00+00:00\",\"2019-09-16T00:00:00+00:00\",\"2019-09-17T00:00:00+00:00\",\"2019-09-18T00:00:00+00:00\",\"2019-09-19T00:00:00+00:00\",\"2019-09-20T00:00:00+00:00\",\"2019-09-23T00:00:00+00:00\",\"2019-09-24T00:00:00+00:00\",\"2019-09-25T00:00:00+00:00\",\"2019-09-26T00:00:00+00:00\",\"2019-09-27T00:00:00+00:00\",\"2019-09-30T00:00:00+00:00\",\"2019-10-01T00:00:00+00:00\",\"2019-10-02T00:00:00+00:00\",\"2019-10-03T00:00:00+00:00\",\"2019-10-04T00:00:00+00:00\",\"2019-10-07T00:00:00+00:00\",\"2019-10-08T00:00:00+00:00\",\"2019-10-09T00:00:00+00:00\",\"2019-10-10T00:00:00+00:00\",\"2019-10-11T00:00:00+00:00\",\"2019-10-14T00:00:00+00:00\",\"2019-10-15T00:00:00+00:00\",\"2019-10-16T00:00:00+00:00\",\"2019-10-17T00:00:00+00:00\",\"2019-10-18T00:00:00+00:00\",\"2019-10-21T00:00:00+00:00\",\"2019-10-22T00:00:00+00:00\",\"2019-10-23T00:00:00+00:00\",\"2019-10-24T00:00:00+00:00\",\"2019-10-25T00:00:00+00:00\",\"2019-10-28T00:00:00+00:00\",\"2019-10-29T00:00:00+00:00\",\"2019-10-30T00:00:00+00:00\",\"2019-10-31T00:00:00+00:00\",\"2019-11-01T00:00:00+00:00\",\"2019-11-04T00:00:00+00:00\",\"2019-11-05T00:00:00+00:00\",\"2019-11-06T00:00:00+00:00\",\"2019-11-07T00:00:00+00:00\",\"2019-11-08T00:00:00+00:00\",\"2019-11-11T00:00:00+00:00\",\"2019-11-12T00:00:00+00:00\",\"2019-11-13T00:00:00+00:00\",\"2019-11-14T00:00:00+00:00\",\"2019-11-15T00:00:00+00:00\",\"2019-11-18T00:00:00+00:00\",\"2019-11-19T00:00:00+00:00\",\"2019-11-20T00:00:00+00:00\",\"2019-11-21T00:00:00+00:00\",\"2019-11-22T00:00:00+00:00\",\"2019-11-25T00:00:00+00:00\",\"2019-11-26T00:00:00+00:00\",\"2019-11-27T00:00:00+00:00\",\"2019-11-29T00:00:00+00:00\",\"2019-12-02T00:00:00+00:00\",\"2019-12-03T00:00:00+00:00\",\"2019-12-04T00:00:00+00:00\",\"2019-12-05T00:00:00+00:00\",\"2019-12-06T00:00:00+00:00\",\"2019-12-09T00:00:00+00:00\",\"2019-12-10T00:00:00+00:00\",\"2019-12-11T00:00:00+00:00\",\"2019-12-12T00:00:00+00:00\",\"2019-12-13T00:00:00+00:00\",\"2019-12-16T00:00:00+00:00\",\"2019-12-17T00:00:00+00:00\",\"2019-12-18T00:00:00+00:00\",\"2019-12-19T00:00:00+00:00\",\"2019-12-20T00:00:00+00:00\",\"2019-12-23T00:00:00+00:00\",\"2019-12-24T00:00:00+00:00\",\"2019-12-26T00:00:00+00:00\",\"2019-12-27T00:00:00+00:00\",\"2019-12-30T00:00:00+00:00\",\"2019-12-31T00:00:00+00:00\",\"2020-01-02T00:00:00+00:00\",\"2020-01-03T00:00:00+00:00\",\"2020-01-06T00:00:00+00:00\",\"2020-01-07T00:00:00+00:00\",\"2020-01-08T00:00:00+00:00\",\"2020-01-09T00:00:00+00:00\",\"2020-01-10T00:00:00+00:00\",\"2020-01-13T00:00:00+00:00\",\"2020-01-14T00:00:00+00:00\",\"2020-01-15T00:00:00+00:00\",\"2020-01-16T00:00:00+00:00\",\"2020-01-17T00:00:00+00:00\",\"2020-01-21T00:00:00+00:00\",\"2020-01-22T00:00:00+00:00\",\"2020-01-23T00:00:00+00:00\",\"2020-01-24T00:00:00+00:00\",\"2020-01-27T00:00:00+00:00\",\"2020-01-28T00:00:00+00:00\",\"2020-01-29T00:00:00+00:00\",\"2020-01-30T00:00:00+00:00\",\"2020-01-31T00:00:00+00:00\",\"2020-02-03T00:00:00+00:00\",\"2020-02-04T00:00:00+00:00\",\"2020-02-05T00:00:00+00:00\",\"2020-02-06T00:00:00+00:00\",\"2020-02-07T00:00:00+00:00\",\"2020-02-10T00:00:00+00:00\",\"2020-02-11T00:00:00+00:00\",\"2020-02-12T00:00:00+00:00\",\"2020-02-13T00:00:00+00:00\",\"2020-02-14T00:00:00+00:00\",\"2020-02-18T00:00:00+00:00\",\"2020-02-19T00:00:00+00:00\",\"2020-02-20T00:00:00+00:00\",\"2020-02-21T00:00:00+00:00\",\"2020-02-24T00:00:00+00:00\",\"2020-02-25T00:00:00+00:00\",\"2020-02-26T00:00:00+00:00\",\"2020-02-27T00:00:00+00:00\",\"2020-02-28T00:00:00+00:00\",\"2020-03-02T00:00:00+00:00\",\"2020-03-03T00:00:00+00:00\",\"2020-03-04T00:00:00+00:00\",\"2020-03-05T00:00:00+00:00\",\"2020-03-06T00:00:00+00:00\",\"2020-03-09T00:00:00+00:00\",\"2020-03-10T00:00:00+00:00\",\"2020-03-11T00:00:00+00:00\",\"2020-03-12T00:00:00+00:00\",\"2020-03-13T00:00:00+00:00\",\"2020-03-16T00:00:00+00:00\",\"2020-03-17T00:00:00+00:00\",\"2020-03-18T00:00:00+00:00\",\"2020-03-19T00:00:00+00:00\",\"2020-03-20T00:00:00+00:00\",\"2020-03-23T00:00:00+00:00\",\"2020-03-24T00:00:00+00:00\",\"2020-03-25T00:00:00+00:00\",\"2020-03-26T00:00:00+00:00\",\"2020-03-27T00:00:00+00:00\",\"2020-03-30T00:00:00+00:00\",\"2020-03-31T00:00:00+00:00\",\"2020-04-01T00:00:00+00:00\",\"2020-04-02T00:00:00+00:00\",\"2020-04-03T00:00:00+00:00\",\"2020-04-06T00:00:00+00:00\",\"2020-04-07T00:00:00+00:00\",\"2020-04-08T00:00:00+00:00\",\"2020-04-09T00:00:00+00:00\",\"2020-04-13T00:00:00+00:00\",\"2020-04-14T00:00:00+00:00\",\"2020-04-15T00:00:00+00:00\",\"2020-04-16T00:00:00+00:00\",\"2020-04-17T00:00:00+00:00\",\"2020-04-20T00:00:00+00:00\",\"2020-04-21T00:00:00+00:00\",\"2020-04-22T00:00:00+00:00\",\"2020-04-23T00:00:00+00:00\",\"2020-04-24T00:00:00+00:00\",\"2020-04-27T00:00:00+00:00\",\"2020-04-28T00:00:00+00:00\",\"2020-04-29T00:00:00+00:00\",\"2020-04-30T00:00:00+00:00\",\"2020-05-01T00:00:00+00:00\",\"2020-05-04T00:00:00+00:00\",\"2020-05-05T00:00:00+00:00\",\"2020-05-06T00:00:00+00:00\",\"2020-05-07T00:00:00+00:00\",\"2020-05-08T00:00:00+00:00\",\"2020-05-11T00:00:00+00:00\",\"2020-05-12T00:00:00+00:00\",\"2020-05-13T00:00:00+00:00\",\"2020-05-14T00:00:00+00:00\",\"2020-05-15T00:00:00+00:00\",\"2020-05-18T00:00:00+00:00\",\"2020-05-19T00:00:00+00:00\",\"2020-05-20T00:00:00+00:00\",\"2020-05-21T00:00:00+00:00\",\"2020-05-22T00:00:00+00:00\",\"2020-05-26T00:00:00+00:00\",\"2020-05-27T00:00:00+00:00\",\"2020-05-28T00:00:00+00:00\",\"2020-05-29T00:00:00+00:00\",\"2020-06-01T00:00:00+00:00\",\"2020-06-02T00:00:00+00:00\",\"2020-06-03T00:00:00+00:00\",\"2020-06-04T00:00:00+00:00\",\"2020-06-05T00:00:00+00:00\",\"2020-06-08T00:00:00+00:00\",\"2020-06-09T00:00:00+00:00\",\"2020-06-10T00:00:00+00:00\",\"2020-06-11T00:00:00+00:00\",\"2020-06-12T00:00:00+00:00\",\"2020-06-15T00:00:00+00:00\",\"2020-06-16T00:00:00+00:00\",\"2020-06-17T00:00:00+00:00\",\"2020-06-18T00:00:00+00:00\",\"2020-06-19T00:00:00+00:00\",\"2020-06-22T00:00:00+00:00\",\"2020-06-23T00:00:00+00:00\",\"2020-06-24T00:00:00+00:00\",\"2020-06-25T00:00:00+00:00\",\"2020-06-26T00:00:00+00:00\",\"2020-06-29T00:00:00+00:00\",\"2020-06-30T00:00:00+00:00\",\"2020-07-01T00:00:00+00:00\",\"2020-07-02T00:00:00+00:00\",\"2020-07-06T00:00:00+00:00\",\"2020-07-07T00:00:00+00:00\",\"2020-07-08T00:00:00+00:00\",\"2020-07-09T00:00:00+00:00\",\"2020-07-10T00:00:00+00:00\",\"2020-07-13T00:00:00+00:00\",\"2020-07-14T00:00:00+00:00\",\"2020-07-15T00:00:00+00:00\",\"2020-07-16T00:00:00+00:00\",\"2020-07-17T00:00:00+00:00\",\"2020-07-20T00:00:00+00:00\",\"2020-07-21T00:00:00+00:00\",\"2020-07-22T00:00:00+00:00\",\"2020-07-23T00:00:00+00:00\",\"2020-07-24T00:00:00+00:00\",\"2020-07-27T00:00:00+00:00\",\"2020-07-28T00:00:00+00:00\",\"2020-07-29T00:00:00+00:00\",\"2020-07-30T00:00:00+00:00\",\"2020-07-31T00:00:00+00:00\",\"2020-08-03T00:00:00+00:00\",\"2020-08-04T00:00:00+00:00\",\"2020-08-05T00:00:00+00:00\",\"2020-08-06T00:00:00+00:00\",\"2020-08-07T00:00:00+00:00\",\"2020-08-10T00:00:00+00:00\",\"2020-08-11T00:00:00+00:00\",\"2020-08-12T00:00:00+00:00\",\"2020-08-13T00:00:00+00:00\",\"2020-08-14T00:00:00+00:00\",\"2020-08-17T00:00:00+00:00\",\"2020-08-18T00:00:00+00:00\",\"2020-08-19T00:00:00+00:00\",\"2020-08-20T00:00:00+00:00\",\"2020-08-21T00:00:00+00:00\",\"2020-08-24T00:00:00+00:00\",\"2020-08-25T00:00:00+00:00\",\"2020-08-26T00:00:00+00:00\",\"2020-08-27T00:00:00+00:00\",\"2020-08-28T00:00:00+00:00\",\"2020-08-31T00:00:00+00:00\",\"2020-09-01T00:00:00+00:00\",\"2020-09-02T00:00:00+00:00\",\"2020-09-03T00:00:00+00:00\",\"2020-09-04T00:00:00+00:00\",\"2020-09-08T00:00:00+00:00\",\"2020-09-09T00:00:00+00:00\",\"2020-09-10T00:00:00+00:00\",\"2020-09-11T00:00:00+00:00\",\"2020-09-14T00:00:00+00:00\",\"2020-09-15T00:00:00+00:00\",\"2020-09-16T00:00:00+00:00\",\"2020-09-17T00:00:00+00:00\",\"2020-09-18T00:00:00+00:00\",\"2020-09-21T00:00:00+00:00\",\"2020-09-22T00:00:00+00:00\",\"2020-09-23T00:00:00+00:00\",\"2020-09-24T00:00:00+00:00\",\"2020-09-25T00:00:00+00:00\",\"2020-09-28T00:00:00+00:00\",\"2020-09-29T00:00:00+00:00\",\"2020-09-30T00:00:00+00:00\",\"2020-10-01T00:00:00+00:00\",\"2020-10-02T00:00:00+00:00\",\"2020-10-05T00:00:00+00:00\",\"2020-10-06T00:00:00+00:00\",\"2020-10-07T00:00:00+00:00\",\"2020-10-08T00:00:00+00:00\",\"2020-10-09T00:00:00+00:00\",\"2020-10-12T00:00:00+00:00\",\"2020-10-13T00:00:00+00:00\",\"2020-10-14T00:00:00+00:00\",\"2020-10-15T00:00:00+00:00\",\"2020-10-16T00:00:00+00:00\",\"2020-10-19T00:00:00+00:00\",\"2020-10-20T00:00:00+00:00\",\"2020-10-21T00:00:00+00:00\",\"2020-10-22T00:00:00+00:00\",\"2020-10-23T00:00:00+00:00\",\"2020-10-26T00:00:00+00:00\",\"2020-10-27T00:00:00+00:00\",\"2020-10-28T00:00:00+00:00\",\"2020-10-29T00:00:00+00:00\",\"2020-10-30T00:00:00+00:00\",\"2020-11-02T00:00:00+00:00\",\"2020-11-03T00:00:00+00:00\",\"2020-11-04T00:00:00+00:00\",\"2020-11-05T00:00:00+00:00\",\"2020-11-06T00:00:00+00:00\",\"2020-11-09T00:00:00+00:00\",\"2020-11-10T00:00:00+00:00\",\"2020-11-11T00:00:00+00:00\",\"2020-11-12T00:00:00+00:00\",\"2020-11-13T00:00:00+00:00\",\"2020-11-16T00:00:00+00:00\",\"2020-11-17T00:00:00+00:00\",\"2020-11-18T00:00:00+00:00\",\"2020-11-19T00:00:00+00:00\",\"2020-11-20T00:00:00+00:00\",\"2020-11-23T00:00:00+00:00\",\"2020-11-24T00:00:00+00:00\",\"2020-11-25T00:00:00+00:00\",\"2020-11-27T00:00:00+00:00\",\"2020-11-30T00:00:00+00:00\",\"2020-12-01T00:00:00+00:00\",\"2020-12-02T00:00:00+00:00\",\"2020-12-03T00:00:00+00:00\",\"2020-12-04T00:00:00+00:00\",\"2020-12-07T00:00:00+00:00\",\"2020-12-08T00:00:00+00:00\",\"2020-12-09T00:00:00+00:00\",\"2020-12-10T00:00:00+00:00\",\"2020-12-11T00:00:00+00:00\",\"2020-12-14T00:00:00+00:00\",\"2020-12-15T00:00:00+00:00\",\"2020-12-16T00:00:00+00:00\",\"2020-12-17T00:00:00+00:00\",\"2020-12-18T00:00:00+00:00\",\"2020-12-21T00:00:00+00:00\",\"2020-12-22T00:00:00+00:00\",\"2020-12-23T00:00:00+00:00\",\"2020-12-24T00:00:00+00:00\",\"2020-12-28T00:00:00+00:00\",\"2020-12-29T00:00:00+00:00\",\"2020-12-30T00:00:00+00:00\",\"2020-12-31T00:00:00+00:00\",\"2021-01-04T00:00:00+00:00\",\"2021-01-05T00:00:00+00:00\",\"2021-01-06T00:00:00+00:00\",\"2021-01-07T00:00:00+00:00\",\"2021-01-08T00:00:00+00:00\",\"2021-01-11T00:00:00+00:00\",\"2021-01-12T00:00:00+00:00\",\"2021-01-13T00:00:00+00:00\",\"2021-01-14T00:00:00+00:00\",\"2021-01-15T00:00:00+00:00\",\"2021-01-19T00:00:00+00:00\",\"2021-01-20T00:00:00+00:00\",\"2021-01-21T00:00:00+00:00\",\"2021-01-22T00:00:00+00:00\",\"2021-01-25T00:00:00+00:00\",\"2021-01-26T00:00:00+00:00\",\"2021-01-27T00:00:00+00:00\",\"2021-01-28T00:00:00+00:00\",\"2021-01-29T00:00:00+00:00\",\"2021-02-01T00:00:00+00:00\",\"2021-02-02T00:00:00+00:00\",\"2021-02-03T00:00:00+00:00\",\"2021-02-04T00:00:00+00:00\",\"2021-02-05T00:00:00+00:00\",\"2021-02-08T00:00:00+00:00\",\"2021-02-09T00:00:00+00:00\",\"2021-02-10T00:00:00+00:00\",\"2021-02-11T00:00:00+00:00\",\"2021-02-12T00:00:00+00:00\",\"2021-02-16T00:00:00+00:00\",\"2021-02-17T00:00:00+00:00\",\"2021-02-18T00:00:00+00:00\",\"2021-02-19T00:00:00+00:00\",\"2021-02-22T00:00:00+00:00\",\"2021-02-23T00:00:00+00:00\",\"2021-02-24T00:00:00+00:00\",\"2021-02-25T00:00:00+00:00\",\"2021-02-26T00:00:00+00:00\",\"2021-03-01T00:00:00+00:00\",\"2021-03-02T00:00:00+00:00\",\"2021-03-03T00:00:00+00:00\",\"2021-03-04T00:00:00+00:00\",\"2021-03-05T00:00:00+00:00\",\"2021-03-08T00:00:00+00:00\",\"2021-03-09T00:00:00+00:00\",\"2021-03-10T00:00:00+00:00\",\"2021-03-11T00:00:00+00:00\",\"2021-03-12T00:00:00+00:00\",\"2021-03-15T00:00:00+00:00\",\"2021-03-16T00:00:00+00:00\",\"2021-03-17T00:00:00+00:00\",\"2021-03-18T00:00:00+00:00\",\"2021-03-19T00:00:00+00:00\",\"2021-03-22T00:00:00+00:00\",\"2021-03-23T00:00:00+00:00\",\"2021-03-24T00:00:00+00:00\",\"2021-03-25T00:00:00+00:00\",\"2021-03-26T00:00:00+00:00\",\"2021-03-29T00:00:00+00:00\",\"2021-03-30T00:00:00+00:00\",\"2021-03-31T00:00:00+00:00\",\"2021-04-01T00:00:00+00:00\",\"2021-04-05T00:00:00+00:00\",\"2021-04-06T00:00:00+00:00\",\"2021-04-07T00:00:00+00:00\",\"2021-04-08T00:00:00+00:00\",\"2021-04-09T00:00:00+00:00\",\"2021-04-12T00:00:00+00:00\",\"2021-04-13T00:00:00+00:00\",\"2021-04-14T00:00:00+00:00\",\"2021-04-15T00:00:00+00:00\",\"2021-04-16T00:00:00+00:00\",\"2021-04-19T00:00:00+00:00\",\"2021-04-20T00:00:00+00:00\",\"2021-04-21T00:00:00+00:00\",\"2021-04-22T00:00:00+00:00\",\"2021-04-23T00:00:00+00:00\",\"2021-04-26T00:00:00+00:00\",\"2021-04-27T00:00:00+00:00\",\"2021-04-28T00:00:00+00:00\",\"2021-04-29T00:00:00+00:00\",\"2021-04-30T00:00:00+00:00\",\"2021-05-03T00:00:00+00:00\",\"2021-05-04T00:00:00+00:00\",\"2021-05-05T00:00:00+00:00\",\"2021-05-06T00:00:00+00:00\",\"2021-05-07T00:00:00+00:00\",\"2021-05-10T00:00:00+00:00\",\"2021-05-11T00:00:00+00:00\",\"2021-05-12T00:00:00+00:00\",\"2021-05-13T00:00:00+00:00\",\"2021-05-14T00:00:00+00:00\",\"2021-05-17T00:00:00+00:00\",\"2021-05-18T00:00:00+00:00\",\"2021-05-19T00:00:00+00:00\",\"2021-05-20T00:00:00+00:00\",\"2021-05-21T00:00:00+00:00\",\"2021-05-24T00:00:00+00:00\",\"2021-05-25T00:00:00+00:00\",\"2021-05-26T00:00:00+00:00\",\"2021-05-27T00:00:00+00:00\",\"2021-05-28T00:00:00+00:00\",\"2021-06-01T00:00:00+00:00\",\"2021-06-02T00:00:00+00:00\",\"2021-06-03T00:00:00+00:00\",\"2021-06-04T00:00:00+00:00\",\"2021-06-07T00:00:00+00:00\",\"2021-06-08T00:00:00+00:00\",\"2021-06-09T00:00:00+00:00\",\"2021-06-10T00:00:00+00:00\",\"2021-06-11T00:00:00+00:00\",\"2021-06-14T00:00:00+00:00\",\"2021-06-15T00:00:00+00:00\",\"2021-06-16T00:00:00+00:00\",\"2021-06-17T00:00:00+00:00\",\"2021-06-18T00:00:00+00:00\",\"2021-06-21T00:00:00+00:00\",\"2021-06-22T00:00:00+00:00\",\"2021-06-23T00:00:00+00:00\",\"2021-06-24T00:00:00+00:00\",\"2021-06-25T00:00:00+00:00\",\"2021-06-28T00:00:00+00:00\",\"2021-06-29T00:00:00+00:00\",\"2021-06-30T00:00:00+00:00\",\"2021-07-01T00:00:00+00:00\",\"2021-07-02T00:00:00+00:00\",\"2021-07-06T00:00:00+00:00\",\"2021-07-07T00:00:00+00:00\",\"2021-07-08T00:00:00+00:00\",\"2021-07-09T00:00:00+00:00\",\"2021-07-12T00:00:00+00:00\",\"2021-07-13T00:00:00+00:00\",\"2021-07-14T00:00:00+00:00\",\"2021-07-15T00:00:00+00:00\",\"2021-07-16T00:00:00+00:00\",\"2021-07-19T00:00:00+00:00\",\"2021-07-20T00:00:00+00:00\",\"2021-07-21T00:00:00+00:00\",\"2021-07-22T00:00:00+00:00\",\"2021-07-23T00:00:00+00:00\",\"2021-07-26T00:00:00+00:00\",\"2021-07-27T00:00:00+00:00\",\"2021-07-28T00:00:00+00:00\",\"2021-07-29T00:00:00+00:00\",\"2021-07-30T00:00:00+00:00\",\"2021-08-02T00:00:00+00:00\",\"2021-08-03T00:00:00+00:00\",\"2021-08-04T00:00:00+00:00\",\"2021-08-05T00:00:00+00:00\",\"2021-08-06T00:00:00+00:00\",\"2021-08-09T00:00:00+00:00\",\"2021-08-10T00:00:00+00:00\",\"2021-08-11T00:00:00+00:00\",\"2021-08-12T00:00:00+00:00\",\"2021-08-13T00:00:00+00:00\",\"2021-08-16T00:00:00+00:00\",\"2021-08-17T00:00:00+00:00\",\"2021-08-18T00:00:00+00:00\",\"2021-08-19T00:00:00+00:00\",\"2021-08-20T00:00:00+00:00\",\"2021-08-23T00:00:00+00:00\",\"2021-08-24T00:00:00+00:00\",\"2021-08-25T00:00:00+00:00\",\"2021-08-26T00:00:00+00:00\",\"2021-08-27T00:00:00+00:00\",\"2021-08-30T00:00:00+00:00\",\"2021-08-31T00:00:00+00:00\",\"2021-09-01T00:00:00+00:00\",\"2021-09-02T00:00:00+00:00\",\"2021-09-03T00:00:00+00:00\",\"2021-09-07T00:00:00+00:00\",\"2021-09-08T00:00:00+00:00\",\"2021-09-09T00:00:00+00:00\",\"2021-09-10T00:00:00+00:00\",\"2021-09-13T00:00:00+00:00\",\"2021-09-14T00:00:00+00:00\",\"2021-09-15T00:00:00+00:00\",\"2021-09-16T00:00:00+00:00\",\"2021-09-17T00:00:00+00:00\",\"2021-09-20T00:00:00+00:00\",\"2021-09-21T00:00:00+00:00\",\"2021-09-22T00:00:00+00:00\",\"2021-09-23T00:00:00+00:00\",\"2021-09-24T00:00:00+00:00\",\"2021-09-27T00:00:00+00:00\",\"2021-09-28T00:00:00+00:00\",\"2021-09-29T00:00:00+00:00\",\"2021-09-30T00:00:00+00:00\",\"2021-10-01T00:00:00+00:00\",\"2021-10-04T00:00:00+00:00\",\"2021-10-05T00:00:00+00:00\",\"2021-10-06T00:00:00+00:00\",\"2021-10-07T00:00:00+00:00\",\"2021-10-08T00:00:00+00:00\",\"2021-10-11T00:00:00+00:00\",\"2021-10-12T00:00:00+00:00\",\"2021-10-13T00:00:00+00:00\",\"2021-10-14T00:00:00+00:00\",\"2021-10-15T00:00:00+00:00\",\"2021-10-18T00:00:00+00:00\",\"2021-10-19T00:00:00+00:00\",\"2021-10-20T00:00:00+00:00\",\"2021-10-21T00:00:00+00:00\",\"2021-10-22T00:00:00+00:00\",\"2021-10-25T00:00:00+00:00\",\"2021-10-26T00:00:00+00:00\",\"2021-10-27T00:00:00+00:00\",\"2021-10-28T00:00:00+00:00\",\"2021-10-29T00:00:00+00:00\",\"2021-11-01T00:00:00+00:00\",\"2021-11-02T00:00:00+00:00\",\"2021-11-03T00:00:00+00:00\",\"2021-11-04T00:00:00+00:00\",\"2021-11-05T00:00:00+00:00\",\"2021-11-08T00:00:00+00:00\",\"2021-11-09T00:00:00+00:00\",\"2021-11-10T00:00:00+00:00\",\"2021-11-11T00:00:00+00:00\",\"2021-11-12T00:00:00+00:00\",\"2021-11-15T00:00:00+00:00\",\"2021-11-16T00:00:00+00:00\",\"2021-11-17T00:00:00+00:00\",\"2021-11-18T00:00:00+00:00\",\"2021-11-19T00:00:00+00:00\",\"2021-11-22T00:00:00+00:00\",\"2021-11-23T00:00:00+00:00\",\"2021-11-24T00:00:00+00:00\",\"2021-11-26T00:00:00+00:00\",\"2021-11-29T00:00:00+00:00\",\"2021-11-30T00:00:00+00:00\",\"2021-12-01T00:00:00+00:00\",\"2021-12-02T00:00:00+00:00\",\"2021-12-03T00:00:00+00:00\",\"2021-12-06T00:00:00+00:00\",\"2021-12-07T00:00:00+00:00\",\"2021-12-08T00:00:00+00:00\",\"2021-12-09T00:00:00+00:00\",\"2021-12-10T00:00:00+00:00\",\"2021-12-13T00:00:00+00:00\",\"2021-12-14T00:00:00+00:00\",\"2021-12-15T00:00:00+00:00\",\"2021-12-16T00:00:00+00:00\",\"2021-12-17T00:00:00+00:00\",\"2021-12-20T00:00:00+00:00\",\"2021-12-21T00:00:00+00:00\",\"2021-12-22T00:00:00+00:00\",\"2021-12-23T00:00:00+00:00\",\"2021-12-27T00:00:00+00:00\",\"2021-12-28T00:00:00+00:00\",\"2021-12-29T00:00:00+00:00\",\"2021-12-30T00:00:00+00:00\",\"2021-12-31T00:00:00+00:00\",\"2022-01-03T00:00:00+00:00\",\"2022-01-04T00:00:00+00:00\",\"2022-01-05T00:00:00+00:00\",\"2022-01-06T00:00:00+00:00\",\"2022-01-07T00:00:00+00:00\",\"2022-01-10T00:00:00+00:00\",\"2022-01-11T00:00:00+00:00\",\"2022-01-12T00:00:00+00:00\",\"2022-01-13T00:00:00+00:00\",\"2022-01-14T00:00:00+00:00\",\"2022-01-18T00:00:00+00:00\",\"2022-01-19T00:00:00+00:00\",\"2022-01-20T00:00:00+00:00\",\"2022-01-21T00:00:00+00:00\",\"2022-01-24T00:00:00+00:00\",\"2022-01-25T00:00:00+00:00\",\"2022-01-26T00:00:00+00:00\",\"2022-01-27T00:00:00+00:00\",\"2022-01-28T00:00:00+00:00\",\"2022-01-31T00:00:00+00:00\",\"2022-02-01T00:00:00+00:00\",\"2022-02-02T00:00:00+00:00\",\"2022-02-03T00:00:00+00:00\",\"2022-02-04T00:00:00+00:00\",\"2022-02-07T00:00:00+00:00\",\"2022-02-08T00:00:00+00:00\",\"2022-02-09T00:00:00+00:00\",\"2022-02-10T00:00:00+00:00\",\"2022-02-11T00:00:00+00:00\",\"2022-02-14T00:00:00+00:00\",\"2022-02-15T00:00:00+00:00\",\"2022-02-16T00:00:00+00:00\",\"2022-02-17T00:00:00+00:00\",\"2022-02-18T00:00:00+00:00\",\"2022-02-22T00:00:00+00:00\",\"2022-02-23T00:00:00+00:00\",\"2022-02-24T00:00:00+00:00\",\"2022-02-25T00:00:00+00:00\",\"2022-02-28T00:00:00+00:00\",\"2022-03-01T00:00:00+00:00\",\"2022-03-02T00:00:00+00:00\",\"2022-03-03T00:00:00+00:00\",\"2022-03-04T00:00:00+00:00\",\"2022-03-07T00:00:00+00:00\",\"2022-03-08T00:00:00+00:00\",\"2022-03-09T00:00:00+00:00\",\"2022-03-10T00:00:00+00:00\",\"2022-03-11T00:00:00+00:00\",\"2022-03-14T00:00:00+00:00\",\"2022-03-15T00:00:00+00:00\",\"2022-03-16T00:00:00+00:00\",\"2022-03-17T00:00:00+00:00\",\"2022-03-18T00:00:00+00:00\",\"2022-03-21T00:00:00+00:00\",\"2022-03-22T00:00:00+00:00\",\"2022-03-23T00:00:00+00:00\",\"2022-03-24T00:00:00+00:00\",\"2022-03-25T00:00:00+00:00\",\"2022-03-28T00:00:00+00:00\",\"2022-03-29T00:00:00+00:00\",\"2022-03-30T00:00:00+00:00\",\"2022-03-31T00:00:00+00:00\",\"2022-04-01T00:00:00+00:00\",\"2022-04-04T00:00:00+00:00\",\"2022-04-05T00:00:00+00:00\",\"2022-04-06T00:00:00+00:00\",\"2022-04-07T00:00:00+00:00\",\"2022-04-08T00:00:00+00:00\",\"2022-04-11T00:00:00+00:00\",\"2022-04-12T00:00:00+00:00\",\"2022-04-13T00:00:00+00:00\",\"2022-04-14T00:00:00+00:00\",\"2022-04-18T00:00:00+00:00\",\"2022-04-19T00:00:00+00:00\",\"2022-04-20T00:00:00+00:00\",\"2022-04-21T00:00:00+00:00\",\"2022-04-22T00:00:00+00:00\",\"2022-04-25T00:00:00+00:00\",\"2022-04-26T00:00:00+00:00\",\"2022-04-27T00:00:00+00:00\",\"2022-04-28T00:00:00+00:00\",\"2022-04-29T00:00:00+00:00\",\"2022-05-02T00:00:00+00:00\",\"2022-05-03T00:00:00+00:00\",\"2022-05-04T00:00:00+00:00\",\"2022-05-05T00:00:00+00:00\",\"2022-05-06T00:00:00+00:00\",\"2022-05-09T00:00:00+00:00\",\"2022-05-10T00:00:00+00:00\",\"2022-05-11T00:00:00+00:00\",\"2022-05-12T00:00:00+00:00\",\"2022-05-13T00:00:00+00:00\",\"2022-05-16T00:00:00+00:00\",\"2022-05-17T00:00:00+00:00\",\"2022-05-18T00:00:00+00:00\",\"2022-05-19T00:00:00+00:00\",\"2022-05-20T00:00:00+00:00\",\"2022-05-23T00:00:00+00:00\",\"2022-05-24T00:00:00+00:00\",\"2022-05-25T00:00:00+00:00\",\"2022-05-26T00:00:00+00:00\",\"2022-05-27T00:00:00+00:00\",\"2022-05-31T00:00:00+00:00\",\"2022-06-01T00:00:00+00:00\",\"2022-06-02T00:00:00+00:00\",\"2022-06-03T00:00:00+00:00\",\"2022-06-06T00:00:00+00:00\",\"2022-06-07T00:00:00+00:00\",\"2022-06-08T00:00:00+00:00\",\"2022-06-09T00:00:00+00:00\",\"2022-06-10T00:00:00+00:00\",\"2022-06-13T00:00:00+00:00\",\"2022-06-14T00:00:00+00:00\",\"2022-06-15T00:00:00+00:00\",\"2022-06-16T00:00:00+00:00\",\"2022-06-17T00:00:00+00:00\",\"2022-06-21T00:00:00+00:00\",\"2022-06-22T00:00:00+00:00\",\"2022-06-23T00:00:00+00:00\",\"2022-06-24T00:00:00+00:00\",\"2022-06-27T00:00:00+00:00\",\"2022-06-28T00:00:00+00:00\",\"2022-06-29T00:00:00+00:00\",\"2022-06-30T00:00:00+00:00\",\"2022-07-01T00:00:00+00:00\",\"2022-07-05T00:00:00+00:00\",\"2022-07-06T00:00:00+00:00\",\"2022-07-07T00:00:00+00:00\",\"2022-07-08T00:00:00+00:00\",\"2022-07-11T00:00:00+00:00\",\"2022-07-12T00:00:00+00:00\",\"2022-07-13T00:00:00+00:00\",\"2022-07-14T00:00:00+00:00\",\"2022-07-15T00:00:00+00:00\",\"2022-07-18T00:00:00+00:00\",\"2022-07-19T00:00:00+00:00\",\"2022-07-20T00:00:00+00:00\",\"2022-07-21T00:00:00+00:00\",\"2022-07-22T00:00:00+00:00\",\"2022-07-25T00:00:00+00:00\",\"2022-07-26T00:00:00+00:00\",\"2022-07-27T00:00:00+00:00\",\"2022-07-28T00:00:00+00:00\",\"2022-07-29T00:00:00+00:00\",\"2022-08-01T00:00:00+00:00\",\"2022-08-02T00:00:00+00:00\",\"2022-08-03T00:00:00+00:00\",\"2022-08-04T00:00:00+00:00\",\"2022-08-05T00:00:00+00:00\",\"2022-08-08T00:00:00+00:00\",\"2022-08-09T00:00:00+00:00\",\"2022-08-10T00:00:00+00:00\",\"2022-08-11T00:00:00+00:00\",\"2022-08-12T00:00:00+00:00\",\"2022-08-15T00:00:00+00:00\",\"2022-08-16T00:00:00+00:00\",\"2022-08-17T00:00:00+00:00\",\"2022-08-18T00:00:00+00:00\",\"2022-08-19T00:00:00+00:00\",\"2022-08-22T00:00:00+00:00\",\"2022-08-23T00:00:00+00:00\",\"2022-08-24T00:00:00+00:00\",\"2022-08-25T00:00:00+00:00\",\"2022-08-26T00:00:00+00:00\",\"2022-08-29T00:00:00+00:00\",\"2022-08-30T00:00:00+00:00\",\"2022-08-31T00:00:00+00:00\",\"2022-09-01T00:00:00+00:00\",\"2022-09-02T00:00:00+00:00\",\"2022-09-06T00:00:00+00:00\",\"2022-09-07T00:00:00+00:00\",\"2022-09-08T00:00:00+00:00\",\"2022-09-09T00:00:00+00:00\",\"2022-09-12T00:00:00+00:00\",\"2022-09-13T00:00:00+00:00\",\"2022-09-14T00:00:00+00:00\",\"2022-09-15T00:00:00+00:00\",\"2022-09-16T00:00:00+00:00\",\"2022-09-19T00:00:00+00:00\",\"2022-09-20T00:00:00+00:00\",\"2022-09-21T00:00:00+00:00\",\"2022-09-22T00:00:00+00:00\",\"2022-09-23T00:00:00+00:00\",\"2022-09-26T00:00:00+00:00\",\"2022-09-27T00:00:00+00:00\",\"2022-09-28T00:00:00+00:00\",\"2022-09-29T00:00:00+00:00\",\"2022-09-30T00:00:00+00:00\",\"2022-10-03T00:00:00+00:00\",\"2022-10-04T00:00:00+00:00\",\"2022-10-05T00:00:00+00:00\",\"2022-10-06T00:00:00+00:00\",\"2022-10-07T00:00:00+00:00\",\"2022-10-10T00:00:00+00:00\",\"2022-10-11T00:00:00+00:00\",\"2022-10-12T00:00:00+00:00\",\"2022-10-13T00:00:00+00:00\",\"2022-10-14T00:00:00+00:00\",\"2022-10-17T00:00:00+00:00\",\"2022-10-18T00:00:00+00:00\",\"2022-10-19T00:00:00+00:00\",\"2022-10-20T00:00:00+00:00\",\"2022-10-21T00:00:00+00:00\",\"2022-10-24T00:00:00+00:00\",\"2022-10-25T00:00:00+00:00\",\"2022-10-26T00:00:00+00:00\",\"2022-10-27T00:00:00+00:00\",\"2022-10-28T00:00:00+00:00\",\"2022-10-31T00:00:00+00:00\",\"2022-11-01T00:00:00+00:00\",\"2022-11-02T00:00:00+00:00\",\"2022-11-03T00:00:00+00:00\",\"2022-11-04T00:00:00+00:00\",\"2022-11-07T00:00:00+00:00\",\"2022-11-08T00:00:00+00:00\",\"2022-11-09T00:00:00+00:00\",\"2022-11-10T00:00:00+00:00\",\"2022-11-11T00:00:00+00:00\",\"2022-11-14T00:00:00+00:00\",\"2022-11-15T00:00:00+00:00\",\"2022-11-16T00:00:00+00:00\",\"2022-11-17T00:00:00+00:00\",\"2022-11-18T00:00:00+00:00\",\"2022-11-21T00:00:00+00:00\",\"2022-11-22T00:00:00+00:00\",\"2022-11-23T00:00:00+00:00\",\"2022-11-25T00:00:00+00:00\",\"2022-11-28T00:00:00+00:00\",\"2022-11-29T00:00:00+00:00\",\"2022-11-30T00:00:00+00:00\",\"2022-12-01T00:00:00+00:00\",\"2022-12-02T00:00:00+00:00\",\"2022-12-05T00:00:00+00:00\",\"2022-12-06T00:00:00+00:00\",\"2022-12-07T00:00:00+00:00\",\"2022-12-08T00:00:00+00:00\",\"2022-12-09T00:00:00+00:00\",\"2022-12-12T00:00:00+00:00\",\"2022-12-13T00:00:00+00:00\",\"2022-12-14T00:00:00+00:00\",\"2022-12-15T00:00:00+00:00\",\"2022-12-16T00:00:00+00:00\",\"2022-12-19T00:00:00+00:00\",\"2022-12-20T00:00:00+00:00\",\"2022-12-21T00:00:00+00:00\",\"2022-12-22T00:00:00+00:00\",\"2022-12-23T00:00:00+00:00\",\"2022-12-27T00:00:00+00:00\",\"2022-12-28T00:00:00+00:00\",\"2022-12-29T00:00:00+00:00\",\"2022-12-30T00:00:00+00:00\",\"2023-01-03T00:00:00+00:00\",\"2023-01-04T00:00:00+00:00\",\"2023-01-05T00:00:00+00:00\",\"2023-01-06T00:00:00+00:00\",\"2023-01-09T00:00:00+00:00\",\"2023-01-10T00:00:00+00:00\",\"2023-01-11T00:00:00+00:00\",\"2023-01-12T00:00:00+00:00\",\"2023-01-13T00:00:00+00:00\",\"2023-01-17T00:00:00+00:00\",\"2023-01-18T00:00:00+00:00\",\"2023-01-19T00:00:00+00:00\",\"2023-01-20T00:00:00+00:00\",\"2023-01-23T00:00:00+00:00\",\"2023-01-24T00:00:00+00:00\",\"2023-01-25T00:00:00+00:00\",\"2023-01-26T00:00:00+00:00\",\"2023-01-27T00:00:00+00:00\",\"2023-01-30T00:00:00+00:00\",\"2023-01-31T00:00:00+00:00\",\"2023-02-01T00:00:00+00:00\",\"2023-02-02T00:00:00+00:00\",\"2023-02-03T00:00:00+00:00\",\"2023-02-06T00:00:00+00:00\",\"2023-02-07T00:00:00+00:00\",\"2023-02-08T00:00:00+00:00\",\"2023-02-09T00:00:00+00:00\",\"2023-02-10T00:00:00+00:00\",\"2023-02-13T00:00:00+00:00\",\"2023-02-14T00:00:00+00:00\",\"2023-02-15T00:00:00+00:00\",\"2023-02-16T00:00:00+00:00\",\"2023-02-17T00:00:00+00:00\",\"2023-02-21T00:00:00+00:00\",\"2023-02-22T00:00:00+00:00\",\"2023-02-23T00:00:00+00:00\",\"2023-02-24T00:00:00+00:00\",\"2023-02-27T00:00:00+00:00\",\"2023-02-28T00:00:00+00:00\",\"2023-03-01T00:00:00+00:00\",\"2023-03-02T00:00:00+00:00\",\"2023-03-03T00:00:00+00:00\",\"2023-03-06T00:00:00+00:00\",\"2023-03-07T00:00:00+00:00\",\"2023-03-08T00:00:00+00:00\",\"2023-03-09T00:00:00+00:00\",\"2023-03-10T00:00:00+00:00\",\"2023-03-13T00:00:00+00:00\",\"2023-03-14T00:00:00+00:00\",\"2023-03-15T00:00:00+00:00\",\"2023-03-16T00:00:00+00:00\",\"2023-03-17T00:00:00+00:00\",\"2023-03-20T00:00:00+00:00\",\"2023-03-21T00:00:00+00:00\",\"2023-03-22T00:00:00+00:00\",\"2023-03-23T00:00:00+00:00\",\"2023-03-24T00:00:00+00:00\",\"2023-03-27T00:00:00+00:00\",\"2023-03-28T00:00:00+00:00\",\"2023-03-29T00:00:00+00:00\",\"2023-03-30T00:00:00+00:00\",\"2023-03-31T00:00:00+00:00\",\"2023-04-03T00:00:00+00:00\",\"2023-04-04T00:00:00+00:00\",\"2023-04-05T00:00:00+00:00\",\"2023-04-06T00:00:00+00:00\",\"2023-04-10T00:00:00+00:00\",\"2023-04-11T00:00:00+00:00\",\"2023-04-12T00:00:00+00:00\",\"2023-04-13T00:00:00+00:00\",\"2023-04-14T00:00:00+00:00\",\"2023-04-17T00:00:00+00:00\",\"2023-04-18T00:00:00+00:00\",\"2023-04-19T00:00:00+00:00\",\"2023-04-20T00:00:00+00:00\",\"2023-04-21T00:00:00+00:00\",\"2023-04-24T00:00:00+00:00\",\"2023-04-25T00:00:00+00:00\",\"2023-04-26T00:00:00+00:00\",\"2023-04-27T00:00:00+00:00\",\"2023-04-28T00:00:00+00:00\",\"2023-05-01T00:00:00+00:00\",\"2023-05-02T00:00:00+00:00\",\"2023-05-03T00:00:00+00:00\",\"2023-05-04T00:00:00+00:00\",\"2023-05-05T00:00:00+00:00\",\"2023-05-08T00:00:00+00:00\",\"2023-05-09T00:00:00+00:00\",\"2023-05-10T00:00:00+00:00\",\"2023-05-11T00:00:00+00:00\",\"2023-05-12T00:00:00+00:00\",\"2023-05-15T00:00:00+00:00\",\"2023-05-16T00:00:00+00:00\",\"2023-05-17T00:00:00+00:00\",\"2023-05-18T00:00:00+00:00\",\"2023-05-19T00:00:00+00:00\",\"2023-05-22T00:00:00+00:00\",\"2023-05-23T00:00:00+00:00\",\"2023-05-24T00:00:00+00:00\",\"2023-05-25T00:00:00+00:00\",\"2023-05-26T00:00:00+00:00\",\"2023-05-30T00:00:00+00:00\",\"2023-05-31T00:00:00+00:00\",\"2023-06-01T00:00:00+00:00\",\"2023-06-02T00:00:00+00:00\",\"2023-06-05T00:00:00+00:00\",\"2023-06-06T00:00:00+00:00\",\"2023-06-07T00:00:00+00:00\",\"2023-06-08T00:00:00+00:00\",\"2023-06-09T00:00:00+00:00\",\"2023-06-12T00:00:00+00:00\",\"2023-06-13T00:00:00+00:00\",\"2023-06-14T00:00:00+00:00\",\"2023-06-15T00:00:00+00:00\",\"2023-06-16T00:00:00+00:00\",\"2023-06-20T00:00:00+00:00\",\"2023-06-21T00:00:00+00:00\",\"2023-06-22T00:00:00+00:00\",\"2023-06-23T00:00:00+00:00\",\"2023-06-26T00:00:00+00:00\",\"2023-06-27T00:00:00+00:00\",\"2023-06-28T00:00:00+00:00\",\"2023-06-29T00:00:00+00:00\",\"2023-06-30T00:00:00+00:00\",\"2023-07-03T00:00:00+00:00\",\"2023-07-05T00:00:00+00:00\",\"2023-07-06T00:00:00+00:00\",\"2023-07-07T00:00:00+00:00\",\"2023-07-10T00:00:00+00:00\",\"2023-07-11T00:00:00+00:00\",\"2023-07-12T00:00:00+00:00\",\"2023-07-13T00:00:00+00:00\",\"2023-07-14T00:00:00+00:00\",\"2023-07-17T00:00:00+00:00\",\"2023-07-18T00:00:00+00:00\",\"2023-07-19T00:00:00+00:00\",\"2023-07-20T00:00:00+00:00\",\"2023-07-21T00:00:00+00:00\",\"2023-07-24T00:00:00+00:00\",\"2023-07-25T00:00:00+00:00\",\"2023-07-26T00:00:00+00:00\",\"2023-07-27T00:00:00+00:00\",\"2023-07-28T00:00:00+00:00\",\"2023-07-31T00:00:00+00:00\",\"2023-08-01T00:00:00+00:00\",\"2023-08-02T00:00:00+00:00\",\"2023-08-03T00:00:00+00:00\",\"2023-08-04T00:00:00+00:00\",\"2023-08-07T00:00:00+00:00\",\"2023-08-08T00:00:00+00:00\",\"2023-08-09T00:00:00+00:00\",\"2023-08-10T00:00:00+00:00\",\"2023-08-11T00:00:00+00:00\",\"2023-08-14T00:00:00+00:00\",\"2023-08-15T00:00:00+00:00\",\"2023-08-16T00:00:00+00:00\",\"2023-08-17T00:00:00+00:00\",\"2023-08-18T00:00:00+00:00\",\"2023-08-21T00:00:00+00:00\",\"2023-08-22T00:00:00+00:00\",\"2023-08-23T00:00:00+00:00\",\"2023-08-24T00:00:00+00:00\",\"2023-08-25T00:00:00+00:00\",\"2023-08-28T00:00:00+00:00\",\"2023-08-29T00:00:00+00:00\",\"2023-08-30T00:00:00+00:00\",\"2023-08-31T00:00:00+00:00\",\"2023-09-01T00:00:00+00:00\",\"2023-09-05T00:00:00+00:00\",\"2023-09-06T00:00:00+00:00\",\"2023-09-07T00:00:00+00:00\",\"2023-09-08T00:00:00+00:00\",\"2023-09-11T00:00:00+00:00\",\"2023-09-12T00:00:00+00:00\",\"2023-09-13T00:00:00+00:00\",\"2023-09-14T00:00:00+00:00\",\"2023-09-15T00:00:00+00:00\",\"2023-09-18T00:00:00+00:00\",\"2023-09-19T00:00:00+00:00\",\"2023-09-20T00:00:00+00:00\",\"2023-09-21T00:00:00+00:00\",\"2023-09-22T00:00:00+00:00\",\"2023-09-25T00:00:00+00:00\",\"2023-09-26T00:00:00+00:00\",\"2023-09-27T00:00:00+00:00\",\"2023-09-28T00:00:00+00:00\",\"2023-09-29T00:00:00+00:00\",\"2023-10-02T00:00:00+00:00\",\"2023-10-03T00:00:00+00:00\",\"2023-10-04T00:00:00+00:00\",\"2023-10-05T00:00:00+00:00\",\"2023-10-06T00:00:00+00:00\",\"2023-10-09T00:00:00+00:00\",\"2023-10-10T00:00:00+00:00\",\"2023-10-11T00:00:00+00:00\",\"2023-10-12T00:00:00+00:00\",\"2023-10-13T00:00:00+00:00\",\"2023-10-16T00:00:00+00:00\",\"2023-10-17T00:00:00+00:00\",\"2023-10-18T00:00:00+00:00\",\"2023-10-19T00:00:00+00:00\",\"2023-10-20T00:00:00+00:00\",\"2023-10-23T00:00:00+00:00\",\"2023-10-24T00:00:00+00:00\",\"2023-10-25T00:00:00+00:00\",\"2023-10-26T00:00:00+00:00\",\"2023-10-27T00:00:00+00:00\",\"2023-10-30T00:00:00+00:00\",\"2023-10-31T00:00:00+00:00\",\"2023-11-01T00:00:00+00:00\",\"2023-11-02T00:00:00+00:00\",\"2023-11-03T00:00:00+00:00\",\"2023-11-06T00:00:00+00:00\",\"2023-11-07T00:00:00+00:00\",\"2023-11-08T00:00:00+00:00\",\"2023-11-09T00:00:00+00:00\",\"2023-11-10T00:00:00+00:00\",\"2023-11-13T00:00:00+00:00\",\"2023-11-14T00:00:00+00:00\",\"2023-11-15T00:00:00+00:00\",\"2023-11-16T00:00:00+00:00\",\"2023-11-17T00:00:00+00:00\",\"2023-11-20T00:00:00+00:00\",\"2023-11-21T00:00:00+00:00\",\"2023-11-22T00:00:00+00:00\",\"2023-11-24T00:00:00+00:00\",\"2023-11-27T00:00:00+00:00\",\"2023-11-28T00:00:00+00:00\",\"2023-11-29T00:00:00+00:00\",\"2023-11-30T00:00:00+00:00\",\"2023-12-01T00:00:00+00:00\",\"2023-12-04T00:00:00+00:00\",\"2023-12-05T00:00:00+00:00\",\"2023-12-06T00:00:00+00:00\",\"2023-12-07T00:00:00+00:00\",\"2023-12-08T00:00:00+00:00\",\"2023-12-11T00:00:00+00:00\",\"2023-12-12T00:00:00+00:00\",\"2023-12-13T00:00:00+00:00\",\"2023-12-14T00:00:00+00:00\",\"2023-12-15T00:00:00+00:00\",\"2023-12-18T00:00:00+00:00\",\"2023-12-19T00:00:00+00:00\",\"2023-12-20T00:00:00+00:00\",\"2023-12-21T00:00:00+00:00\",\"2023-12-22T00:00:00+00:00\",\"2023-12-26T00:00:00+00:00\",\"2023-12-27T00:00:00+00:00\",\"2023-12-28T00:00:00+00:00\",\"2023-12-29T00:00:00+00:00\",\"2024-01-02T00:00:00+00:00\",\"2024-01-03T00:00:00+00:00\",\"2024-01-04T00:00:00+00:00\",\"2024-01-05T00:00:00+00:00\",\"2024-01-08T00:00:00+00:00\",\"2024-01-09T00:00:00+00:00\",\"2024-01-10T00:00:00+00:00\",\"2024-01-11T00:00:00+00:00\",\"2024-01-12T00:00:00+00:00\",\"2024-01-16T00:00:00+00:00\",\"2024-01-17T00:00:00+00:00\",\"2024-01-18T00:00:00+00:00\",\"2024-01-19T00:00:00+00:00\",\"2024-01-22T00:00:00+00:00\",\"2024-01-23T00:00:00+00:00\",\"2024-01-24T00:00:00+00:00\",\"2024-01-25T00:00:00+00:00\",\"2024-01-26T00:00:00+00:00\",\"2024-01-29T00:00:00+00:00\",\"2024-01-30T00:00:00+00:00\",\"2024-01-31T00:00:00+00:00\",\"2024-02-01T00:00:00+00:00\",\"2024-02-02T00:00:00+00:00\",\"2024-02-05T00:00:00+00:00\",\"2024-02-06T00:00:00+00:00\",\"2024-02-07T00:00:00+00:00\",\"2024-02-08T00:00:00+00:00\",\"2024-02-09T00:00:00+00:00\",\"2024-02-12T00:00:00+00:00\",\"2024-02-13T00:00:00+00:00\",\"2024-02-14T00:00:00+00:00\",\"2024-02-15T00:00:00+00:00\",\"2024-02-16T00:00:00+00:00\",\"2024-02-20T00:00:00+00:00\",\"2024-02-21T00:00:00+00:00\",\"2024-02-22T00:00:00+00:00\",\"2024-02-23T00:00:00+00:00\",\"2024-02-26T00:00:00+00:00\",\"2024-02-27T00:00:00+00:00\",\"2024-02-28T00:00:00+00:00\",\"2024-02-29T00:00:00+00:00\",\"2024-03-01T00:00:00+00:00\",\"2024-03-04T00:00:00+00:00\",\"2024-03-05T00:00:00+00:00\",\"2024-03-06T00:00:00+00:00\",\"2024-03-07T00:00:00+00:00\",\"2024-03-08T00:00:00+00:00\",\"2024-03-11T00:00:00+00:00\",\"2024-03-12T00:00:00+00:00\",\"2024-03-13T00:00:00+00:00\",\"2024-03-14T00:00:00+00:00\",\"2024-03-15T00:00:00+00:00\",\"2024-03-18T00:00:00+00:00\",\"2024-03-19T00:00:00+00:00\",\"2024-03-20T00:00:00+00:00\",\"2024-03-21T00:00:00+00:00\",\"2024-03-22T00:00:00+00:00\",\"2024-03-25T00:00:00+00:00\",\"2024-03-26T00:00:00+00:00\",\"2024-03-27T00:00:00+00:00\",\"2024-03-28T00:00:00+00:00\",\"2024-04-01T00:00:00+00:00\",\"2024-04-02T00:00:00+00:00\",\"2024-04-03T00:00:00+00:00\",\"2024-04-04T00:00:00+00:00\",\"2024-04-05T00:00:00+00:00\",\"2024-04-08T00:00:00+00:00\",\"2024-04-09T00:00:00+00:00\",\"2024-04-10T00:00:00+00:00\",\"2024-04-11T00:00:00+00:00\",\"2024-04-12T00:00:00+00:00\",\"2024-04-15T00:00:00+00:00\",\"2024-04-16T00:00:00+00:00\",\"2024-04-17T00:00:00+00:00\",\"2024-04-18T00:00:00+00:00\",\"2024-04-19T00:00:00+00:00\",\"2024-04-22T00:00:00+00:00\",\"2024-04-23T00:00:00+00:00\",\"2024-04-24T00:00:00+00:00\",\"2024-04-25T00:00:00+00:00\",\"2024-04-26T00:00:00+00:00\",\"2024-04-29T00:00:00+00:00\",\"2024-04-30T00:00:00+00:00\",\"2024-05-01T00:00:00+00:00\",\"2024-05-02T00:00:00+00:00\",\"2024-05-03T00:00:00+00:00\",\"2024-05-06T00:00:00+00:00\",\"2024-05-07T00:00:00+00:00\",\"2024-05-08T00:00:00+00:00\",\"2024-05-09T00:00:00+00:00\",\"2024-05-10T00:00:00+00:00\",\"2024-05-13T00:00:00+00:00\",\"2024-05-14T00:00:00+00:00\",\"2024-05-15T00:00:00+00:00\",\"2024-05-16T00:00:00+00:00\",\"2024-05-17T00:00:00+00:00\",\"2024-05-20T00:00:00+00:00\",\"2024-05-21T00:00:00+00:00\",\"2024-05-22T00:00:00+00:00\",\"2024-05-23T00:00:00+00:00\",\"2024-05-24T00:00:00+00:00\",\"2024-05-28T00:00:00+00:00\",\"2024-05-29T00:00:00+00:00\",\"2024-05-30T00:00:00+00:00\",\"2024-05-31T00:00:00+00:00\",\"2024-06-03T00:00:00+00:00\",\"2024-06-04T00:00:00+00:00\",\"2024-06-05T00:00:00+00:00\",\"2024-06-06T00:00:00+00:00\",\"2024-06-07T00:00:00+00:00\",\"2024-06-10T00:00:00+00:00\",\"2024-06-11T00:00:00+00:00\",\"2024-06-12T00:00:00+00:00\",\"2024-06-13T00:00:00+00:00\",\"2024-06-14T00:00:00+00:00\",\"2024-06-17T00:00:00+00:00\",\"2024-06-18T00:00:00+00:00\",\"2024-06-20T00:00:00+00:00\",\"2024-06-21T00:00:00+00:00\",\"2024-06-24T00:00:00+00:00\",\"2024-06-25T00:00:00+00:00\",\"2024-06-26T00:00:00+00:00\",\"2024-06-27T00:00:00+00:00\",\"2024-06-28T00:00:00+00:00\",\"2024-07-01T00:00:00+00:00\",\"2024-07-02T00:00:00+00:00\",\"2024-07-03T00:00:00+00:00\",\"2024-07-05T00:00:00+00:00\",\"2024-07-08T00:00:00+00:00\",\"2024-07-09T00:00:00+00:00\",\"2024-07-10T00:00:00+00:00\",\"2024-07-11T00:00:00+00:00\",\"2024-07-12T00:00:00+00:00\",\"2024-07-15T00:00:00+00:00\",\"2024-07-16T00:00:00+00:00\",\"2024-07-17T00:00:00+00:00\",\"2024-07-18T00:00:00+00:00\",\"2024-07-19T00:00:00+00:00\",\"2024-07-22T00:00:00+00:00\",\"2024-07-23T00:00:00+00:00\",\"2024-07-24T00:00:00+00:00\",\"2024-07-25T00:00:00+00:00\",\"2024-07-26T00:00:00+00:00\",\"2024-07-29T00:00:00+00:00\",\"2024-07-30T00:00:00+00:00\",\"2024-07-31T00:00:00+00:00\",\"2024-08-01T00:00:00+00:00\",\"2024-08-02T00:00:00+00:00\",\"2024-08-05T00:00:00+00:00\",\"2024-08-06T00:00:00+00:00\",\"2024-08-07T00:00:00+00:00\",\"2024-08-08T00:00:00+00:00\",\"2024-08-09T00:00:00+00:00\",\"2024-08-12T00:00:00+00:00\",\"2024-08-13T00:00:00+00:00\",\"2024-08-14T00:00:00+00:00\",\"2024-08-15T00:00:00+00:00\",\"2024-08-16T00:00:00+00:00\",\"2024-08-19T00:00:00+00:00\",\"2024-08-20T00:00:00+00:00\",\"2024-08-21T00:00:00+00:00\",\"2024-08-22T00:00:00+00:00\",\"2024-08-23T00:00:00+00:00\",\"2024-08-26T00:00:00+00:00\",\"2024-08-27T00:00:00+00:00\",\"2024-08-28T00:00:00+00:00\",\"2024-08-29T00:00:00+00:00\",\"2024-08-30T00:00:00+00:00\",\"2024-09-03T00:00:00+00:00\",\"2024-09-04T00:00:00+00:00\",\"2024-09-05T00:00:00+00:00\",\"2024-09-06T00:00:00+00:00\",\"2024-09-09T00:00:00+00:00\",\"2024-09-10T00:00:00+00:00\",\"2024-09-11T00:00:00+00:00\",\"2024-09-12T00:00:00+00:00\",\"2024-09-13T00:00:00+00:00\",\"2024-09-16T00:00:00+00:00\",\"2024-09-17T00:00:00+00:00\",\"2024-09-18T00:00:00+00:00\",\"2024-09-19T00:00:00+00:00\",\"2024-09-20T00:00:00+00:00\",\"2024-09-23T00:00:00+00:00\",\"2024-09-24T00:00:00+00:00\",\"2024-09-25T00:00:00+00:00\",\"2024-09-26T00:00:00+00:00\",\"2024-09-27T00:00:00+00:00\",\"2024-09-30T00:00:00+00:00\",\"2024-10-01T00:00:00+00:00\",\"2024-10-02T00:00:00+00:00\",\"2024-10-03T00:00:00+00:00\",\"2024-10-04T00:00:00+00:00\",\"2024-10-07T00:00:00+00:00\",\"2024-10-08T00:00:00+00:00\",\"2024-10-09T00:00:00+00:00\",\"2024-10-10T00:00:00+00:00\",\"2024-10-11T00:00:00+00:00\",\"2024-10-14T00:00:00+00:00\",\"2024-10-15T00:00:00+00:00\",\"2024-10-16T00:00:00+00:00\",\"2024-10-17T00:00:00+00:00\",\"2024-10-18T00:00:00+00:00\",\"2024-10-21T00:00:00+00:00\",\"2024-10-22T00:00:00+00:00\",\"2024-10-23T00:00:00+00:00\",\"2024-10-24T00:00:00+00:00\",\"2024-10-25T00:00:00+00:00\",\"2024-10-28T00:00:00+00:00\",\"2024-10-29T00:00:00+00:00\",\"2024-10-30T00:00:00+00:00\",\"2024-10-31T00:00:00+00:00\",\"2024-11-01T00:00:00+00:00\",\"2024-11-04T00:00:00+00:00\",\"2024-11-05T00:00:00+00:00\",\"2024-11-06T00:00:00+00:00\",\"2024-11-07T00:00:00+00:00\",\"2024-11-08T00:00:00+00:00\",\"2024-11-11T00:00:00+00:00\",\"2024-11-12T00:00:00+00:00\",\"2024-11-13T00:00:00+00:00\",\"2024-11-14T00:00:00+00:00\",\"2024-11-15T00:00:00+00:00\",\"2024-11-18T00:00:00+00:00\",\"2024-11-19T00:00:00+00:00\",\"2024-11-20T00:00:00+00:00\",\"2024-11-21T00:00:00+00:00\",\"2024-11-22T00:00:00+00:00\",\"2024-11-25T00:00:00+00:00\",\"2024-11-26T00:00:00+00:00\",\"2024-11-27T00:00:00+00:00\"],\"xaxis\":\"x\",\"y\":[19.754642486572266,19.320714950561523,19.426071166992188,19.28714370727539,19.409286499023438,19.161428451538086,19.033571243286133,19.133214950561523,19.51392936706543,19.90571403503418,19.79464340209961,19.309642791748047,19.609643936157227,19.696786880493164,19.863571166992188,19.502500534057617,19.66071319580078,18.08928680419922,17.883928298950195,17.849285125732422,17.878570556640625,17.911785125732422,18.171070098876953,18.306785583496094,18.30392837524414,18.559999465942383,18.892499923706055,19.141429901123047,19.139999389648438,19.44392967224121,19.428213119506836,19.499643325805664,19.19178581237793,18.969642639160156,18.758928298950195,18.8410701751709,18.645000457763672,18.47678565979004,18.84535789489746,18.794286727905273,18.84857177734375,18.972856521606445,19.01285743713379,18.95535659790039,18.944286346435547,18.961429595947266,19.14607048034668,19.164642333984375,18.951786041259766,18.738929748535156,18.812143325805664,18.97857093811035,18.97357177734375,18.882143020629883,19.031070709228516,19.256786346435547,19.46392822265625,19.277856826782227,19.19499969482422,19.17357063293457,19.169286727905273,19.344642639160156,19.376785278320312,19.24250030517578,18.99357032775879,18.695356369018555,18.694286346435547,18.940000534057617,18.695714950561523,18.5575008392334,18.63142967224121,18.498571395874023,18.53607177734375,18.74785614013672,18.97035789489746,18.989286422729492,18.741071701049805,20.27750015258789,20.426429748535156,21.217500686645508,21.15464210510254,21.074642181396484,21.124286651611328,21.163570404052734,21.46285629272461,21.22892951965332,21.15464210510254,20.999643325805664,20.91214370727539,21.172500610351562,21.205713272094727,21.20964241027832,21.029285430908203,21.339643478393555,21.592500686645508,21.596786499023438,21.653928756713867,21.688213348388672,21.93321418762207,22.343929290771484,22.28607177734375,22.692142486572266,22.60714340209961,22.451786041259766,22.769285202026367,23.029285430908203,23.11964225769043,23.05607032775879,23.424999237060547,23.5625,23.46500015258789,23.072500228881836,22.81999969482422,23.049999237060547,23.020000457763672,23.045000076293945,22.96500015258789,22.727500915527344,22.707500457763672,22.56999969482422,22.59000015258789,22.725000381469727,22.9950008392334,23.232500076293945,23.3799991607666,23.3700008392334,23.50749969482422,23.99250030517578,23.837499618530273,23.84749984741211,23.760000228881836,23.80500030517578,24.112499237060547,23.829999923706055,23.69499969482422,23.272499084472656,23.607500076293945,23.485000610351562,23.68000030517578,24.297500610351562,24.25749969482422,24.417499542236328,24.7549991607666,24.594999313354492,24.537500381469727,23.899999618530273,24.032499313354492,23.897499084472656,23.780000686645508,23.739999771118164,23.6200008392334,23.684999465942383,23.997499465942383,23.99250030517578,24.309999465942383,24.375,24.4950008392334,24.790000915527344,25.13249969482422,25.142499923706055,25.145000457763672,25.329999923706055,25.385000228881836,25.22249984741211,25.532499313354492,25.5625,25.625,25.825000762939453,24.735000610351562,24.530000686645508,24.74250030517578,24.59000015258789,24.497499465942383,25.25,25.357500076293945,25.415000915527344,25.407499313354492,25.21500015258789,25.395000457763672,25.447500228881836,25.239999771118164,25.264999389648438,25.65999984741211,25.4375,24.467500686645508,25.1875,25.02750015258789,25.1875,24.795000076293945,24.975000381469727,24.905000686645508,24.905000686645508,24.6875,25.200000762939453,25.2549991607666,25.1825008392334,24.952499389648438,24.6875,24.385000228881836,24.065000534057617,24.417499542236328,24.940000534057617,25.61750030517578,25.747499465942383,26.207500457763672,26.30500030517578,26.27750015258789,26.684999465942383,26.834999084472656,26.7450008392334,27.0,27.350000381469727,27.149999618530273,27.21500015258789,27.174999237060547,27.252500534057617,27.207500457763672,27.424999237060547,27.8125,28.204999923706055,28.545000076293945,28.497499465942383,28.86750030517578,28.667499542236328,29.077499389648438,29.11750030517578,29.657499313354492,29.399999618530273,29.75,29.732500076293945,28.767499923706055,28.657499313354492,28.982500076293945,28.872499465942383,28.75,28.100000381469727,28.530000686645508,27.987499237060547,27.905000686645508,27.4325008392334,27.0575008392334,26.6875,27.352500915527344,28.162500381469727,27.94499969482422,28.235000610351562,28.135000228881836,28.002500534057617,28.497499465942383,28.477500915527344,28.1299991607666,27.594999313354492,27.332500457763672,26.5625,26.565000534057617,26.9375,27.97249984741211,28.002500534057617,27.3125,27.55500030517578,27.450000762939453,26.704999923706055,26.497499465942383,27.18000030517578,27.387500762939453,28.100000381469727,28.2450008392334,28.274999618530273,27.28499984741211,28.827499389648438,29.725000381469727,29.290000915527344,29.657499313354492,29.662500381469727,29.889999389648438,29.985000610351562,29.732500076293945,29.93000030517578,30.5049991607666,31.219999313354492,31.614999771118164,31.770000457763672,31.957500457763672,32.18000030517578,32.11249923706055,32.375,33.25,33.04249954223633,32.1974983215332,32.60499954223633,32.1150016784668,32.272499084472656,32.34000015258789,32.1349983215332,31.602500915527344,31.649999618530273,31.78499984741211,31.127500534057617,30.559999465942383,31.112499237060547,30.897499084472656,31.237499237060547,31.760000228881836,32.11750030517578,31.875,31.475000381469727,31.802499771118164,31.672500610351562,30.844999313354492,31.059999465942383,30.8125,31.592500686645508,31.107500076293945,31.0625,31.329999923706055,31.837499618530273,31.502500534057617,31.399999618530273,31.639999389648438,31.774999618530273,31.712499618530273,31.575000762939453,31.69499969482422,31.542499542236328,31.1875,31.899999618530273,31.727500915527344,32.154998779296875,32.41749954223633,32.56999969482422,33.162498474121094,32.63999938964844,32.15999984741211,31.287500381469727,32.23749923706055,32.17499923706055,31.450000762939453,31.252500534057617,31.315000534057617,31.905000686645508,31.579999923706055,31.467500686645508,31.502500534057617,32.23749923706055,32.192501068115234,32.54750061035156,32.51750183105469,32.51499938964844,32.84749984741211,33.1349983215332,32.404998779296875,33.0099983215332,32.94499969482422,32.56999969482422,32.6349983215332,32.4900016784668,32.529998779296875,32.34000015258789,32.162498474121094,31.950000762939453,31.854999542236328,32.220001220703125,32.147499084472656,31.792499542236328,31.729999542236328,31.899999618530273,31.825000762939453,31.969999313354492,31.649999618530273,31.90250015258789,31.75749969482422,32.02750015258789,31.875,31.6875,31.13249969482422,31.357500076293945,31.649999618530273,31.610000610351562,31.5,31.422500610351562,30.642499923706055,30.017499923706055,30.81999969482422,31.415000915527344,31.40250015258789,31.704999923706055,32.127498626708984,32.404998779296875,33.01750183105469,32.6875,31.30500030517578,31.290000915527344,31.125,30.6924991607666,30.844999313354492,30.747499465942383,30.592500686645508,30.325000762939453,29.610000610351562,28.65999984741211,28.850000381469727,28.782499313354492,28.8799991607666,29.93000030517578,28.372499465942383,28.809999465942383,28.787500381469727,28.989999771118164,29.290000915527344,29.125,28.752500534057617,28.162500381469727,26.440000534057617,25.780000686645508,25.934999465942383,27.422500610351562,28.229999542236328,28.322500228881836,28.190000534057617,26.93000030517578,28.084999084472656,27.592500686645508,27.3174991607666,28.077499389648438,27.537500381469727,28.142499923706055,28.552499771118164,28.827499389648438,29.06999969482422,29.102500915527344,28.479999542236328,28.362499237060547,28.802499771118164,28.350000381469727,28.579999923706055,28.75,28.677499771118164,28.110000610351562,27.264999389648438,27.575000762939453,27.395000457763672,27.594999313354492,27.69499969482422,27.827499389648438,27.69499969482422,27.375,28.030000686645508,27.899999618530273,27.947500228881836,27.552499771118164,27.96500015258789,27.760000228881836,27.9325008392334,28.4424991607666,28.440000534057617,28.875,29.770000457763672,28.81999969482422,28.637500762939453,29.8174991607666,30.13249969482422,29.875,30.295000076293945,30.642499923706055,30.5,30.229999542236328,30.264999389648438,30.142499923706055,29.1924991607666,29.02750015258789,28.93000030517578,28.084999084472656,28.545000076293945,28.422500610351562,29.322500228881836,29.69499969482422,29.825000762939453,29.4375,29.719999313354492,29.50749969482422,29.452499389648438,29.575000762939453,29.334999084472656,29.06999969482422,28.799999237060547,29.75749969482422,29.56999969482422,29.5575008392334,28.905000686645508,29.042499542236328,28.295000076293945,28.1200008392334,27.622499465942383,27.834999084472656,27.2450008392334,26.50749969482422,26.832500457763672,26.8075008392334,27.15250015258789,27.00749969482422,26.704999923706055,27.184999465942383,26.829999923706055,26.315000534057617,26.337499618530273,25.677499771118164,25.174999237060547,24.112499237060547,24.239999771118164,24.63249969482422,24.989999771118164,24.34749984741211,24.8799991607666,24.282499313354492,24.165000915527344,24.197500228881836,24.075000762939453,25.354999542236328,24.860000610351562,24.997499465942383,23.354999542236328,23.522499084472656,24.334999084472656,24.107500076293945,23.6200008392334,24.087499618530273,24.149999618530273,23.5049991607666,23.752500534057617,23.747499465942383,23.5674991607666,23.424999237060547,23.497499465942383,24.15999984741211,24.530000686645508,24.065000534057617,24.010000228881836,24.219999313354492,23.672500610351562,24.024999618530273,24.190000534057617,24.227500915527344,24.172500610351562,25.13249969482422,25.1875,25.375,25.752500534057617,25.467500686645508,25.25749969482422,25.280000686645508,25.292499542236328,25.565000534057617,25.6299991607666,26.145000457763672,26.49250030517578,26.450000762939453,26.479999542236328,26.477500915527344,26.68000030517578,26.532499313354492,26.417499542236328,26.297500610351562,26.920000076293945,27.389999389648438,27.247499465942383,27.497499465942383,27.780000686645508,27.452499389648438,27.739999771118164,27.135000228881836,27.165000915527344,27.2549991607666,27.610000610351562,28.010000228881836,28.024999618530273,27.462499618530273,26.8700008392334,26.727500915527344,26.782499313354492,26.49250030517578,26.420000076293945,26.270000457763672,26.087499618530273,24.454999923706055,23.707500457763672,23.434999465942383,23.40999984741211,23.795000076293945,23.547500610351562,23.309999465942383,23.18000030517578,23.197500228881836,23.354999542236328,23.127500534057617,22.584999084472656,22.6299991607666,23.469999313354492,23.372499465942383,23.639999389648438,23.549999237060547,23.80500030517578,24.107500076293945,24.475000381469727,24.905000686645508,25.102500915527344,25.087499618530273,24.96500015258789,24.614999771118164,24.43000030517578,24.479999542236328,24.657499313354492,24.75749969482422,24.735000610351562,24.912500381469727,24.707500457763672,24.334999084472656,24.364999771118164,24.28499984741211,24.387500762939453,23.832500457763672,23.774999618530273,23.977500915527344,23.887500762939453,24.024999618530273,23.350000381469727,23.010000228881836,23.397499084472656,23.600000381469727,23.899999618530273,23.97249984741211,23.747499465942383,23.88249969482422,23.985000610351562,24.170000076293945,24.2450008392334,24.354999542236328,24.217500686645508,24.697500228881836,24.69499969482422,24.957500457763672,24.967500686645508,24.989999771118164,24.857500076293945,24.665000915527344,24.334999084472656,24.167499542236328,25.737499237060547,26.084999084472656,26.052499771118164,26.512500762939453,26.1200008392334,26.447500228881836,26.467500686645508,26.8700008392334,27.092500686645508,27.202499389648438,27.0,26.982500076293945,27.045000076293945,27.3700008392334,27.344999313354492,27.30500030517578,27.270000457763672,27.34000015258789,27.127500534057617,27.212499618530273,27.00749969482422,26.892499923706055,26.735000610351562,26.704999923706055,26.5,26.524999618530273,26.6825008392334,26.9325008392334,26.924999237060547,27.09000015258789,26.3799991607666,25.782499313354492,26.360000610351562,26.987499237060547,27.9424991607666,28.892499923706055,28.729999542236328,28.395000457763672,28.392499923706055,28.387500762939453,28.655000686645508,28.177499771118164,28.219999313354492,28.272499084472656,28.487499237060547,28.045000076293945,28.262500762939453,28.1299991607666,28.25,28.262500762939453,28.47249984741211,28.514999389648438,29.012500762939453,29.075000762939453,29.334999084472656,29.2450008392334,29.407499313354492,29.387500762939453,29.36750030517578,29.280000686645508,29.264999389648438,29.149999618530273,29.412500381469727,29.5625,28.897499084472656,28.6200008392334,28.43000030517578,28.385000228881836,27.872499465942383,27.897499084472656,27.457500457763672,27.209999084472656,27.602500915527344,27.764999389648438,27.719999313354492,26.947500228881836,27.107500076293945,26.427499771118164,26.77750015258789,27.497499465942383,27.487499237060547,27.514999389648438,27.9325008392334,27.950000762939453,27.8075008392334,27.947500228881836,27.892499923706055,27.864999771118164,27.6299991607666,27.372499465942383,27.475000381469727,27.27750015258789,27.487499237060547,27.75749969482422,28.030000686645508,28.487499237060547,28.325000762939453,28.797500610351562,28.797500610351562,28.954999923706055,28.99250030517578,29.15999984741211,29.237499237060547,29.264999389648438,29.072500228881836,29.1299991607666,29.315000534057617,29.190000534057617,29.1825008392334,28.954999923706055,29.037500381469727,29.0049991607666,29.15250015258789,29.477500915527344,29.747499465942383,29.77750015258789,29.9375,29.8125,29.760000228881836,30.0,29.997499465942383,29.94499969482422,30.0,30.020000457763672,29.99250030517578,30.469999313354492,30.485000610351562,30.487499237060547,30.407499313354492,30.337499618530273,32.1875,32.13249969482422,32.27000045776367,32.5724983215332,32.88249969482422,33.0099983215332,33.10499954223633,33.029998779296875,33.3224983215332,33.755001068115234,33.877498626708984,33.837501525878906,33.93000030517578,34.17499923706055,34.27750015258789,34.13249969482422,34.165000915527344,34.23249816894531,34.247501373291016,34.9474983215332,34.7400016784668,34.94499969482422,34.834999084472656,34.880001068115234,34.75,34.66999816894531,34.78499984741211,34.79999923706055,34.747501373291016,35.1150016784668,35.17250061035156,34.997501373291016,35.3650016784668,34.959999084472656,35.35499954223633,35.22999954223633,35.15999984741211,35.220001220703125,35.95000076293945,36.029998779296875,35.98249816894531,35.915000915527344,35.92499923706055,36.192501068115234,36.005001068115234,35.915000915527344,35.834999084472656,35.79249954223633,35.407501220703125,35.45000076293945,35.26250076293945,35.45750045776367,35.29999923706055,35.16999816894531,35.61000061035156,35.567501068115234,35.90999984741211,36.13249969482422,35.91999816894531,35.9474983215332,35.912498474121094,36.64500045776367,36.877498626708984,36.76499938964844,36.63249969482422,37.2400016784668,38.252498626708984,38.497501373291016,38.314998626708984,38.48749923706055,39.025001525878906,38.92499923706055,38.86750030517578,37.5625,38.1349983215332,38.26499938964844,38.497501373291016,38.45000076293945,38.334999084472656,38.467498779296875,38.40250015258789,38.41749954223633,38.189998626708984,38.29499816894531,38.86249923706055,38.48249816894531,38.61249923706055,38.842498779296875,38.747501373291016,37.244998931884766,36.35499954223633,36.647499084472656,36.290000915527344,36.0724983215332,35.567501068115234,36.584999084472656,36.252498626708984,36.467498779296875,36.407501220703125,36.56999969482422,36.45500183105469,35.932498931884766,36.45750045776367,35.91999816894531,36.005001068115234,35.875,36.022499084472656,35.682498931884766,36.04499816894531,36.26499938964844,36.38249969482422,36.435001373291016,36.942501068115234,37.2599983215332,37.38999938964844,37.52000045776367,37.755001068115234,37.584999084472656,37.567501068115234,38.022499084472656,38.185001373291016,38.3650016784668,37.63999938964844,37.375,37.182498931884766,37.51250076293945,39.28499984741211,38.89250183105469,39.09749984741211,39.70249938964844,40.02000045776367,40.26499938964844,38.83000183105469,39.369998931884766,39.962501525878906,40.400001525878906,40.23749923706055,39.46500015258789,39.375,39.3025016784668,39.94499969482422,39.994998931884766,39.817501068115234,39.96500015258789,40.36750030517578,40.727500915527344,40.837501525878906,41.0,41.01250076293945,40.52000045776367,40.477500915527344,40.314998626708984,39.657501220703125,40.375,40.21500015258789,39.912498474121094,39.56999969482422,39.970001220703125,39.66749954223633,39.682498931884766,39.01750183105469,38.34749984741211,37.97249984741211,37.63750076293945,38.28499984741211,38.557498931884766,38.31999969482422,38.529998779296875,38.45249938964844,38.619998931884766,38.369998931884766,38.84749984741211,38.82500076293945,38.959999084472656,38.974998474121094,39.13750076293945,39.0,39.247501373291016,39.970001220703125,40.11750030517578,39.939998626708984,38.994998931884766,39.0625,39.04249954223633,39.275001525878906,39.102500915527344,39.352500915527344,40.76250076293945,41.68000030517578,42.2599983215332,41.72249984741211,42.02750015258789,43.125,43.5625,43.70249938964844,44.060001373291016,43.970001220703125,43.66749954223633,43.49250030517578,42.834999084472656,42.27000045776367,42.775001525878906,42.537498474121094,42.494998931884766,43.28499984741211,43.7400016784668,43.74250030517578,43.522499084472656,43.26750183105469,42.369998931884766,42.962501525878906,42.76250076293945,42.45000076293945,42.40999984741211,42.252498626708984,42.33000183105469,42.342498779296875,43.16749954223633,42.92499923706055,43.067501068115234,43.05500030517578,43.49250030517578,44.10499954223633,43.6349983215332,43.587501525878906,43.752498626708984,43.752498626708984,42.64250183105469,42.650001525878906,42.77000045776367,42.307498931884766,43.064998626708984,43.057498931884766,43.25749969482422,43.75,43.587501525878906,43.58250045776367,43.5724983215332,43.81999969482422,44.272499084472656,44.04750061035156,44.775001525878906,44.814998626708984,44.6150016784668,44.25,44.2599983215332,43.55500030517578,42.77750015258789,42.877498626708984,41.9900016784668,41.74250030517578,41.85749816894531,41.94499969482422,40.125,39.122501373291016,40.75749969482422,39.8849983215332,38.787498474121094,39.102500915527344,40.6775016784668,41.084999084472656,41.842498779296875,43.247501373291016,43.10749816894531,42.962501525878906,42.76750183105469,43.125,43.875,44.74250030517578,44.59749984741211,44.529998779296875,43.75,44.0525016784668,44.20500183105469,44.16749954223633,43.75749969482422,44.23500061035156,44.994998931884766,45.43000030517578,44.99250030517578,44.61000061035156,44.662498474121094,44.505001068115234,43.82500076293945,43.810001373291016,42.817501068115234,42.212501525878906,41.23500061035156,43.192501068115234,42.084999084472656,41.619998931884766,41.94499969482422,41.66999816894531,42.09749984741211,42.90250015258789,43.20000076293945,42.095001220703125,42.51250076293945,43.3125,43.11000061035156,43.53499984741211,43.682498931884766,43.95500183105469,44.560001373291016,44.459999084472656,43.20000076293945,41.43000030517578,41.310001373291016,40.73500061035156,40.912498474121094,41.05500030517578,40.58000183105469,41.314998626708984,42.275001525878906,44.14250183105469,44.22249984741211,45.95750045776367,46.290000915527344,46.51250076293945,46.84000015258789,47.5099983215332,47.147499084472656,47.037498474121094,46.61000061035156,47.04499816894531,46.747501373291016,46.57749938964844,46.907501220703125,46.790000915527344,47.09000015258789,47.037498474121094,47.14500045776367,46.974998474121094,46.875,46.717498779296875,47.560001373291016,47.95750045776367,48.32749938964844,48.494998931884766,48.3650016784668,47.92499923706055,47.807498931884766,48.06999969482422,47.67499923706055,47.70000076293945,47.209999084472656,47.185001373291016,46.42250061035156,46.625,46.3650016784668,46.22999954223633,45.54249954223633,46.10749816894531,46.040000915527344,46.375,46.27750015258789,46.79499816894531,45.97999954223633,46.349998474121094,46.99250030517578,47.64500045776367,47.587501525878906,46.970001220703125,47.75749969482422,47.83250045776367,47.727500915527344,47.86249923706055,47.599998474121094,47.970001220703125,47.86000061035156,47.90250015258789,48.25,48.70500183105469,48.5525016784668,47.744998931884766,47.477500915527344,47.5724983215332,50.375,51.84749984741211,51.997501373291016,52.26750183105469,51.77750015258789,51.8125,52.220001220703125,51.88249969482422,52.217498779296875,52.4375,52.560001373291016,53.33000183105469,54.39500045776367,53.8650016784668,53.7599983215332,53.76250076293945,53.872501373291016,54.040000915527344,54.48500061035156,54.92499923706055,55.744998931884766,56.25749969482422,56.907501220703125,57.09000015258789,56.717498779296875,55.775001525878906,55.32500076293945,54.58250045776367,55.962501525878906,55.26750183105469,56.602500915527344,55.959999084472656,54.470001220703125,54.560001373291016,54.592498779296875,55.00749969482422,54.415000915527344,55.1974983215332,55.54750061035156,55.10499954223633,56.23749923706055,56.435001373291016,56.814998626708984,57.31999969482422,58.01750183105469,56.997501373291016,56.0724983215332,55.942501068115234,56.717498779296875,54.09000015258789,53.61249923706055,55.52750015258789,54.34000015258789,55.537498474121094,55.29750061035156,54.005001068115234,54.82749938964844,55.162498474121094,55.682498931884766,53.772499084472656,54.95000076293945,54.07500076293945,53.060001373291016,53.32500076293945,54.71500015258789,55.55500030517578,51.869998931884766,50.397499084472656,50.942501068115234,52.48749923706055,52.122501373291016,51.11750030517578,48.54249954223633,48.057498931884766,46.70000076293945,47.852500915527344,48.38249969482422,46.46500015258789,44.244998931884766,44.19499969482422,43.0724983215332,43.654998779296875,43.560001373291016,45.23500061035156,44.88750076293945,44.64500045776367,46.20500183105469,44.17250061035156,43.68000030517578,42.122501373291016,42.400001525878906,42.157501220703125,42.275001525878906,42.73749923706055,41.369998931884766,40.98500061035156,41.51750183105469,40.22249984741211,39.20750045776367,37.682498931884766,36.70750045776367,39.29249954223633,39.037498474121094,39.057498931884766,39.435001373291016,39.47999954223633,35.54750061035156,37.064998626708984,36.98249816894531,37.6875,38.32749938964844,38.45000076293945,38.0724983215332,37.5,38.26750183105469,38.73500061035156,38.96500015258789,39.20500183105469,38.32500076293945,38.47999954223633,38.17499923706055,39.439998626708984,39.07500076293945,38.66999816894531,41.3125,41.61000061035156,41.630001068115234,42.8125,43.54499816894531,43.560001373291016,42.73500061035156,42.602500915527344,42.35749816894531,42.72249984741211,42.54499816894531,42.70000076293945,42.60499954223633,42.73249816894531,43.00749969482422,42.76499938964844,43.24250030517578,43.557498931884766,43.58250045776367,43.717498779296875,43.287498474121094,43.74250030517578,43.962501525878906,43.88249969482422,43.630001068115234,43.125,43.227500915527344,44.724998474121094,45.227500915527344,45.4275016784668,45.932498931884766,46.529998779296875,47.005001068115234,46.63249969482422,47.040000915527344,48.772499084472656,47.76250076293945,47.185001373291016,46.6974983215332,47.11750030517578,47.18000030517578,47.48749923706055,47.810001373291016,48.505001068115234,48.837501525878906,48.92250061035156,49.25,50.025001525878906,49.875,50.154998779296875,49.73749923706055,49.717498779296875,49.807498931884766,49.8125,50.782501220703125,50.96500015258789,51.13249969482422,51.869998931884766,51.790000915527344,51.31999969482422,51.07500076293945,51.15250015258789,50.16749954223633,52.630001068115234,52.287498474121094,52.9375,52.119998931884766,50.71500015258789,50.724998474121094,50.18000030517578,49.29499816894531,46.43000030517578,47.165000915527344,47.72999954223633,47.52000045776367,47.25,45.772499084472656,46.650001525878906,45.69499969482422,44.915000915527344,44.74250030517578,44.557498931884766,44.345001220703125,44.57500076293945,43.76750183105469,43.32500076293945,44.90999984741211,45.6349983215332,46.30500030517578,47.537498474121094,48.14500045776367,48.70249938964844,48.54750061035156,48.537498474121094,48.185001373291016,48.47249984741211,49.61249923706055,49.467498779296875,49.8650016784668,49.69499969482422,49.64500045776367,48.89250183105469,49.95000076293945,49.935001373291016,49.47999954223633,50.38750076293945,50.682498931884766,51.102500915527344,51.057498931884766,50.005001068115234,50.310001373291016,50.807498931884766,50.4375,50.82500076293945,51.3025016784668,51.125,50.837501525878906,51.415000915527344,50.647499084472656,51.80500030517578,52.209999084472656,52.16749954223633,51.755001068115234,51.935001373291016,52.41999816894531,52.19499969482422,53.2599983215332,52.10749816894531,51.005001068115234,48.334999084472656,49.25,49.7599983215332,50.85749816894531,50.247501373291016,50.119998931884766,52.24250030517578,50.6875,50.435001373291016,51.625,52.587501525878906,52.59000015258789,53.15999984741211,53.1150016784668,50.65999984741211,51.622501373291016,51.040000915527344,51.38249969482422,52.252498626708984,52.185001373291016,51.42499923706055,52.29750061035156,53.31999969482422,53.314998626708984,53.54249954223633,54.17499923706055,55.897499084472656,55.772499084472656,54.6875,54.974998474121094,55.17499923706055,55.692501068115234,55.2400016784668,54.432498931884766,54.68000030517578,54.41999816894531,55.25749969482422,54.97249984741211,54.70500183105469,55.99250030517578,56.147499084472656,54.7400016784668,55.20500183105469,56.752498626708984,56.76499938964844,56.099998474121094,56.75749969482422,57.522499084472656,59.0525016784668,58.967498779296875,58.83000183105469,58.592498779296875,58.81999969482422,59.102500915527344,60.127498626708984,59.9900016784668,60.79499816894531,60.89500045776367,61.64500045776367,62.26250076293945,60.8224983215332,60.814998626708984,62.189998626708984,63.95500183105469,64.375,64.28250122070312,64.30999755859375,64.85749816894531,65.03500366210938,65.55000305175781,65.48999786376953,66.11750030517578,65.66000366210938,66.44000244140625,66.7750015258789,66.57250213623047,65.79750061035156,65.50250244140625,65.44499969482422,66.59249877929688,66.07250213623047,66.95999908447266,66.8125,66.04000091552734,64.86250305175781,65.43499755859375,66.3949966430664,67.67749786376953,66.7300033569336,67.12000274658203,67.69249725341797,67.86499786376953,68.7874984741211,69.96499633789062,70.10250091552734,69.93499755859375,70.00499725341797,69.86000061035156,71.0,71.06749725341797,72.47750091552734,72.44999694824219,72.87999725341797,73.4124984741211,75.0875015258789,74.35749816894531,74.94999694824219,74.59750366210938,75.79750061035156,77.40750122070312,77.5824966430664,79.23999786376953,78.16999816894531,77.83499908447266,78.80999755859375,79.68250274658203,79.14250183105469,79.42500305175781,79.80750274658203,79.57749938964844,77.23750305175781,79.42250061035156,81.08499908447266,80.96749877929688,77.37750244140625,77.16500091552734,79.7125015258789,80.36250305175781,81.30249786376953,80.00749969482422,80.38749694824219,79.90249633789062,81.80000305175781,81.21749877929688,81.23750305175781,79.75,80.90499877929688,80.07499694824219,78.26249694824219,74.54499816894531,72.0199966430664,73.1624984741211,68.37999725341797,68.33999633789062,74.70249938964844,72.33000183105469,75.68499755859375,73.2300033569336,72.25749969482422,66.5425033569336,71.33499908447266,68.85749816894531,62.057498931884766,69.49250030517578,60.5525016784668,63.21500015258789,61.66749954223633,61.19499969482422,57.310001373291016,56.092498779296875,61.720001220703125,61.380001068115234,64.61000061035156,61.935001373291016,63.70249938964844,63.5724983215332,60.227500915527344,61.23249816894531,60.352500915527344,65.61750030517578,64.85749816894531,66.51750183105469,66.99749755859375,68.3125,71.76249694824219,71.10749816894531,71.67250061035156,70.69999694824219,69.23249816894531,67.09249877929688,69.0250015258789,68.75749969482422,70.74250030517578,70.7925033569336,69.6449966430664,71.93250274658203,73.44999694824219,72.26750183105469,73.29000091552734,74.38999938964844,75.15750122070312,75.93499755859375,77.53250122070312,78.75250244140625,77.85250091552734,76.9124984741211,77.38500213623047,76.92749786376953,78.73999786376953,78.28500366210938,79.80750274658203,79.2125015258789,79.72250366210938,79.18250274658203,79.52749633789062,79.5625,79.48500061035156,80.4625015258789,80.83499908447266,81.27999877929688,80.58000183105469,82.875,83.36499786376953,85.99749755859375,88.20999908447266,83.9749984741211,84.69999694824219,85.74749755859375,88.0199966430664,87.89749908447266,87.93250274658203,87.43000030517578,89.71749877929688,91.63249969482422,90.01499938964844,91.20999908447266,88.40750122070312,90.44499969482422,91.19999694824219,91.02749633789062,91.02749633789062,93.4625015258789,93.17250061035156,95.34249877929688,95.75250244140625,95.91999816894531,95.47750091552734,97.05750274658203,97.7249984741211,96.52249908447266,96.32749938964844,98.35749816894531,97.0,97.27249908447266,92.84500122070312,92.61499786376953,94.80999755859375,93.25250244140625,95.04000091552734,96.19000244140625,106.26000213623047,108.9375,109.66500091552734,110.0625,113.90249633789062,111.11250305175781,112.72750091552734,109.375,113.01000213623047,115.01000213623047,114.90750122070312,114.60749816894531,115.5625,115.7074966430664,118.2750015258789,124.37000274658203,125.85749816894531,124.82499694824219,126.52249908447266,125.01000213623047,124.80750274658203,129.0399932861328,134.17999267578125,131.39999389648438,120.87999725341797,120.95999908447266,112.81999969482422,117.31999969482422,113.48999786376953,112.0,115.36000061035156,115.54000091552734,112.12999725341797,110.33999633789062,106.83999633789062,110.08000183105469,111.80999755859375,107.12000274658203,108.22000122070312,112.27999877929688,114.95999908447266,114.08999633789062,115.80999755859375,116.79000091552734,113.0199966430664,116.5,113.16000366210938,115.08000183105469,114.97000122070312,116.97000122070312,124.4000015258789,121.0999984741211,121.19000244140625,120.70999908447266,119.0199966430664,115.9800033569336,117.51000213623047,116.87000274658203,115.75,115.04000091552734,115.05000305175781,116.5999984741211,111.19999694824219,115.31999969482422,108.86000061035156,108.7699966430664,110.44000244140625,114.94999694824219,119.02999877929688,118.69000244140625,116.31999969482422,115.97000122070312,119.48999786376953,119.20999908447266,119.26000213623047,120.30000305175781,119.38999938964844,118.02999877929688,118.63999938964844,117.33999633789062,113.8499984741211,115.16999816894531,116.02999877929688,116.58999633789062,119.05000305175781,122.72000122070312,123.08000183105469,122.94000244140625,122.25,123.75,124.37999725341797,121.77999877929688,123.23999786376953,122.41000366210938,121.77999877929688,127.87999725341797,127.80999755859375,128.6999969482422,126.66000366210938,128.22999572753906,131.8800048828125,130.9600067138672,131.97000122070312,136.69000244140625,134.8699951171875,133.72000122070312,132.69000244140625,129.41000366210938,131.00999450683594,126.5999984741211,130.9199981689453,132.0500030517578,128.97999572753906,128.8000030517578,130.88999938964844,128.91000366210938,127.13999938964844,127.83000183105469,132.02999877929688,136.8699951171875,139.07000732421875,142.9199981689453,143.16000366210938,142.05999755859375,137.08999633789062,131.9600067138672,134.13999938964844,134.99000549316406,133.94000244140625,137.38999938964844,136.75999450683594,136.91000366210938,136.00999450683594,135.38999938964844,135.1300048828125,135.3699951171875,133.19000244140625,130.83999633789062,129.7100067138672,129.8699951171875,126.0,125.86000061035156,125.3499984741211,120.98999786376953,121.26000213623047,127.79000091552734,125.12000274658203,122.05999755859375,120.12999725341797,121.41999816894531,116.36000061035156,121.08999633789062,119.9800033569336,121.95999908447266,121.02999877929688,123.98999786376953,125.56999969482422,124.76000213623047,120.52999877929688,119.98999786376953,123.38999938964844,122.54000091552734,120.08999633789062,120.58999633789062,121.20999908447266,121.38999938964844,119.9000015258789,122.1500015258789,123.0,125.9000015258789,126.20999908447266,127.9000015258789,130.36000061035156,133.0,131.24000549316406,134.42999267578125,132.02999877929688,134.5,134.16000366210938,134.83999633789062,133.11000061035156,133.5,131.94000244140625,134.32000732421875,134.72000122070312,134.38999938964844,133.5800018310547,133.47999572753906,131.4600067138672,132.5399932861328,127.8499984741211,128.10000610351562,129.74000549316406,130.2100067138672,126.8499984741211,125.91000366210938,122.7699966430664,124.97000122070312,127.44999694824219,126.2699966430664,124.8499984741211,124.69000244140625,127.30999755859375,125.43000030517578,127.0999984741211,126.9000015258789,126.8499984741211,125.27999877929688,124.61000061035156,124.27999877929688,125.05999755859375,123.54000091552734,125.88999938964844,125.9000015258789,126.73999786376953,127.12999725341797,126.11000061035156,127.3499984741211,130.47999572753906,129.63999938964844,130.14999389648438,131.7899932861328,130.4600067138672,132.3000030517578,133.97999572753906,133.6999969482422,133.41000366210938,133.11000061035156,134.77999877929688,136.3300018310547,136.9600067138672,137.27000427246094,139.9600067138672,142.02000427246094,144.57000732421875,143.24000549316406,145.11000061035156,144.5,145.63999938964844,149.14999389648438,148.47999572753906,146.38999938964844,142.4499969482422,146.14999389648438,145.39999389648438,146.8000030517578,148.55999755859375,148.99000549316406,146.77000427246094,144.97999572753906,145.63999938964844,145.86000061035156,145.52000427246094,147.36000061035156,146.9499969482422,147.05999755859375,146.13999938964844,146.08999633789062,145.60000610351562,145.86000061035156,148.88999938964844,149.10000610351562,151.1199951171875,150.19000244140625,146.36000061035156,146.6999969482422,148.19000244140625,149.7100067138672,149.6199951171875,148.36000061035156,147.5399932861328,148.60000610351562,153.1199951171875,151.8300018310547,152.50999450683594,153.64999389648438,154.3000030517578,156.69000244140625,155.11000061035156,154.07000732421875,148.97000122070312,149.5500030517578,148.1199951171875,149.02999877929688,148.7899932861328,146.05999755859375,142.94000244140625,143.42999267578125,145.85000610351562,146.8300018310547,146.9199981689453,145.3699951171875,141.91000366210938,142.8300018310547,141.5,142.64999389648438,139.13999938964844,141.11000061035156,142.0,143.2899932861328,142.89999389648438,142.80999755859375,141.50999450683594,140.91000366210938,143.75999450683594,144.83999633789062,146.5500030517578,148.75999450683594,149.25999450683594,149.47999572753906,148.69000244140625,148.63999938964844,149.32000732421875,148.85000610351562,152.57000732421875,149.8000030517578,148.9600067138672,150.02000427246094,151.49000549316406,150.9600067138672,151.27999877929688,150.44000244140625,150.80999755859375,147.9199981689453,147.8699951171875,149.99000549316406,150.0,151.0,153.49000549316406,157.8699951171875,160.5500030517578,161.02000427246094,161.41000366210938,161.94000244140625,156.80999755859375,160.24000549316406,165.3000030517578,164.77000427246094,163.75999450683594,161.83999633789062,165.32000732421875,171.17999267578125,175.0800018310547,174.55999755859375,179.4499969482422,175.74000549316406,174.3300018310547,179.3000030517578,172.25999450683594,171.13999938964844,169.75,172.99000549316406,175.63999938964844,176.27999877929688,180.3300018310547,179.2899932861328,179.3800048828125,178.1999969482422,177.57000732421875,182.00999450683594,179.6999969482422,174.9199981689453,172.0,172.1699981689453,172.19000244140625,175.0800018310547,175.52999877929688,172.19000244140625,173.07000732421875,169.8000030517578,166.22999572753906,164.50999450683594,162.41000366210938,161.6199951171875,159.77999877929688,159.69000244140625,159.22000122070312,170.3300018310547,174.77999877929688,174.61000061035156,175.83999633789062,172.89999389648438,172.38999938964844,171.66000366210938,174.8300018310547,176.27999877929688,172.1199951171875,168.63999938964844,168.8800048828125,172.7899932861328,172.5500030517578,168.8800048828125,167.3000030517578,164.32000732421875,160.07000732421875,162.74000549316406,164.85000610351562,165.1199951171875,163.1999969482422,166.55999755859375,166.22999572753906,163.1699981689453,159.3000030517578,157.44000244140625,162.9499969482422,158.52000427246094,154.72999572753906,150.6199951171875,155.08999633789062,159.58999633789062,160.6199951171875,163.97999572753906,165.3800048828125,168.82000732421875,170.2100067138672,174.07000732421875,174.72000122070312,175.60000610351562,178.9600067138672,177.77000427246094,174.61000061035156,174.30999755859375,178.44000244140625,175.05999755859375,171.8300018310547,172.13999938964844,170.08999633789062,165.75,167.66000366210938,170.39999389648438,165.2899932861328,165.07000732421875,167.39999389648438,167.22999572753906,166.4199981689453,161.7899932861328,162.8800048828125,156.8000030517578,156.57000732421875,163.63999938964844,157.64999389648438,157.9600067138672,159.47999572753906,166.02000427246094,156.77000427246094,157.27999877929688,152.05999755859375,154.50999450683594,146.5,142.55999755859375,147.11000061035156,145.5399932861328,149.24000549316406,140.82000732421875,137.35000610351562,137.58999633789062,143.11000061035156,140.36000061035156,140.52000427246094,143.77999877929688,149.63999938964844,148.83999633789062,148.7100067138672,151.2100067138672,145.3800048828125,146.13999938964844,148.7100067138672,147.9600067138672,142.63999938964844,137.1300048828125,131.8800048828125,132.75999450683594,135.42999267578125,130.05999755859375,131.55999755859375,135.8699951171875,135.35000610351562,138.27000427246094,141.66000366210938,141.66000366210938,137.44000244140625,139.22999572753906,136.72000122070312,138.92999267578125,141.55999755859375,142.9199981689453,146.35000610351562,147.0399932861328,144.8699951171875,145.86000061035156,145.49000549316406,148.47000122070312,150.1699981689453,147.07000732421875,151.0,153.0399932861328,155.35000610351562,154.08999633789062,152.9499969482422,151.60000610351562,156.7899932861328,157.35000610351562,162.50999450683594,161.50999450683594,160.00999450683594,166.1300048828125,165.80999755859375,165.35000610351562,164.8699951171875,164.9199981689453,169.24000549316406,168.49000549316406,172.10000610351562,173.19000244140625,173.02999877929688,174.5500030517578,174.14999389648438,171.52000427246094,167.57000732421875,167.22999572753906,167.52999877929688,170.02999877929688,163.6199951171875,161.3800048828125,158.91000366210938,157.22000122070312,157.9600067138672,155.80999755859375,154.52999877929688,155.9600067138672,154.4600067138672,157.3699951171875,163.42999267578125,153.83999633789062,155.30999755859375,152.3699951171875,150.6999969482422,154.47999572753906,156.89999389648438,153.72000122070312,152.74000549316406,150.42999267578125,150.77000427246094,151.75999450683594,149.83999633789062,142.47999572753906,138.1999969482422,142.4499969482422,146.10000610351562,146.39999389648438,145.42999267578125,140.08999633789062,140.4199981689453,138.97999572753906,138.33999633789062,142.99000549316406,138.3800048828125,142.41000366210938,143.75,143.86000061035156,143.38999938964844,147.27000427246094,149.4499969482422,152.33999633789062,149.35000610351562,144.8000030517578,155.74000549316406,153.33999633789062,150.64999389648438,145.02999877929688,138.8800048828125,138.3800048828125,138.9199981689453,139.5,134.8699951171875,146.8699951171875,149.6999969482422,148.27999877929688,150.0399932861328,148.7899932861328,150.72000122070312,151.2899932861328,148.00999450683594,150.17999267578125,151.07000732421875,148.11000061035156,144.22000122070312,141.1699981689453,148.02999877929688,148.30999755859375,147.80999755859375,146.6300048828125,142.91000366210938,140.94000244140625,142.64999389648438,142.16000366210938,144.49000549316406,145.47000122070312,143.2100067138672,136.5,134.50999450683594,132.3699951171875,132.3000030517578,135.4499969482422,132.22999572753906,131.86000061035156,130.02999877929688,126.04000091552734,129.61000061035156,129.92999267578125,125.06999969482422,126.36000061035156,125.0199966430664,129.6199951171875,130.14999389648438,130.72999572753906,133.49000549316406,133.41000366210938,134.75999450683594,135.94000244140625,135.2100067138672,135.27000427246094,137.8699951171875,141.11000061035156,142.52999877929688,141.86000061035156,143.9600067138672,145.92999267578125,143.0,144.2899932861328,145.42999267578125,150.82000732421875,154.5,151.72999572753906,154.64999389648438,151.9199981689453,150.8699951171875,151.00999450683594,153.85000610351562,153.1999969482422,155.3300018310547,153.7100067138672,152.5500030517578,148.47999572753906,148.91000366210938,149.39999389648438,146.7100067138672,147.9199981689453,147.41000366210938,145.30999755859375,145.91000366210938,151.02999877929688,153.8300018310547,151.60000610351562,152.8699951171875,150.58999633789062,148.5,150.47000122070312,152.58999633789062,152.99000549316406,155.85000610351562,155.0,157.39999389648438,159.27999877929688,157.8300018310547,158.92999267578125,160.25,158.27999877929688,157.64999389648438,160.77000427246094,162.36000061035156,164.89999389648438,166.1699981689453,165.6300048828125,163.75999450683594,164.66000366210938,162.02999877929688,160.8000030517578,160.10000610351562,165.55999755859375,165.2100067138672,165.22999572753906,166.47000122070312,167.6300048828125,166.64999389648438,165.02000427246094,165.3300018310547,163.77000427246094,163.75999450683594,168.41000366210938,169.67999267578125,169.58999633789062,168.5399932861328,167.4499969482422,165.7899932861328,173.57000732421875,173.5,171.77000427246094,173.55999755859375,173.75,172.57000732421875,172.07000732421875,172.07000732421875,172.69000244140625,175.0500030517578,175.16000366210938,174.1999969482422,171.55999755859375,171.83999633789062,172.99000549316406,175.42999267578125,177.3000030517578,177.25,180.08999633789062,180.9499969482422,179.5800018310547,179.2100067138672,177.82000732421875,180.57000732421875,180.9600067138672,183.7899932861328,183.30999755859375,183.9499969482422,186.00999450683594,184.9199981689453,185.00999450683594,183.9600067138672,187.0,186.67999267578125,185.27000427246094,188.05999755859375,189.25,189.58999633789062,193.97000122070312,192.4600067138672,191.3300018310547,191.80999755859375,190.67999267578125,188.61000061035156,188.0800018310547,189.77000427246094,190.5399932861328,190.69000244140625,193.99000549316406,193.72999572753906,195.10000610351562,193.1300048828125,191.94000244140625,192.75,193.6199951171875,194.5,193.22000122070312,195.8300018310547,196.4499969482422,195.61000061035156,192.5800018310547,191.1699981689453,181.99000549316406,178.85000610351562,179.8000030517578,178.19000244140625,177.97000122070312,177.7899932861328,179.4600067138672,177.4499969482422,176.57000732421875,174.0,174.49000549316406,175.83999633789062,177.22999572753906,181.1199951171875,176.3800048828125,178.61000061035156,180.19000244140625,184.1199951171875,187.64999389648438,187.8699951171875,189.4600067138672,189.6999969482422,182.91000366210938,177.55999755859375,178.17999267578125,179.36000061035156,176.3000030517578,174.2100067138672,175.74000549316406,175.00999450683594,177.97000122070312,179.07000732421875,175.49000549316406,173.92999267578125,174.7899932861328,176.0800018310547,171.9600067138672,170.42999267578125,170.69000244140625,171.2100067138672,173.75,172.39999389648438,173.66000366210938,174.91000366210938,177.49000549316406,178.99000549316406,178.38999938964844,179.8000030517578,180.7100067138672,178.85000610351562,178.72000122070312,177.14999389648438,175.83999633789062,175.4600067138672,172.8800048828125,173.0,173.44000244140625,171.10000610351562,166.88999938964844,168.22000122070312,170.2899932861328,170.77000427246094,173.97000122070312,177.57000732421875,176.64999389648438,179.22999572753906,181.82000732421875,182.88999938964844,182.41000366210938,186.39999389648438,184.8000030517578,187.44000244140625,188.00999450683594,189.7100067138672,189.69000244140625,191.4499969482422,190.63999938964844,191.30999755859375,189.97000122070312,189.7899932861328,190.39999389648438,189.3699951171875,189.9499969482422,191.24000549316406,189.42999267578125,193.4199981689453,192.32000732421875,194.27000427246094,195.7100067138672,193.17999267578125,194.7100067138672,197.9600067138672,198.11000061035156,197.57000732421875,195.88999938964844,196.94000244140625,194.8300018310547,194.67999267578125,193.60000610351562,193.0500030517578,193.14999389648438,193.5800018310547,192.52999877929688,185.63999938964844,184.25,181.91000366210938,181.17999267578125,185.55999755859375,185.13999938964844,186.19000244140625,185.58999633789062,185.9199981689453,183.6300048828125,182.67999267578125,188.6300048828125,191.55999755859375,193.88999938964844,195.17999267578125,194.5,194.1699981689453,192.4199981689453,191.72999572753906,188.0399932861328,184.39999389648438,186.86000061035156,185.85000610351562,187.67999267578125,189.3000030517578,189.41000366210938,188.32000732421875,188.85000610351562,187.14999389648438,185.0399932861328,184.14999389648438,183.86000061035156,182.30999755859375,181.55999755859375,182.32000732421875,184.3699951171875,182.52000427246094,181.16000366210938,182.6300048828125,181.4199981689453,180.75,179.66000366210938,175.10000610351562,170.1199951171875,169.1199951171875,169.0,170.72999572753906,172.75,173.22999572753906,171.1300048828125,173.0,172.6199951171875,173.72000122070312,176.0800018310547,178.6699981689453,171.3699951171875,172.27999877929688,170.85000610351562,169.7100067138672,173.30999755859375,171.47999572753906,170.02999877929688,168.83999633789062,169.64999389648438,168.82000732421875,169.5800018310547,168.4499969482422,169.6699981689453,167.77999877929688,175.0399932861328,176.5500030517578,172.69000244140625,169.3800048828125,168.0,167.0399932861328,165.0,165.83999633789062,166.89999389648438,169.02000427246094,169.88999938964844,169.3000030517578,173.5,170.3300018310547,169.3000030517578,173.02999877929688,183.3800048828125,181.7100067138672,182.39999389648438,182.74000549316406,184.57000732421875,183.0500030517578,186.27999877929688,187.42999267578125,189.72000122070312,189.83999633789062,189.8699951171875,191.0399932861328,192.35000610351562,190.89999389648438,186.8800048828125,189.97999572753906,189.99000549316406,190.2899932861328,191.2899932861328,192.25,194.02999877929688,194.35000610351562,195.8699951171875,194.47999572753906,196.88999938964844,193.1199951171875,207.14999389648438,213.07000732421875,214.24000549316406,212.49000549316406,216.6699981689453,214.2899932861328,209.67999267578125,207.49000549316406,208.13999938964844,209.07000732421875,213.25,214.10000610351562,210.6199951171875,216.75,220.27000427246094,221.5500030517578,226.33999633789062,227.82000732421875,228.67999267578125,232.97999572753906,227.57000732421875,230.5399932861328,234.39999389648438,234.82000732421875,228.8800048828125,224.17999267578125,224.30999755859375,223.9600067138672,225.00999450683594,218.5399932861328,217.49000549316406,217.9600067138672,218.24000549316406,218.8000030517578,222.0800018310547,218.36000061035156,219.86000061035156,209.27000427246094,207.22999572753906,209.82000732421875,213.30999755859375,216.24000549316406,217.52999877929688,221.27000427246094,221.72000122070312,224.72000122070312,226.0500030517578,225.88999938964844,226.50999450683594,226.39999389648438,224.52999877929688,226.83999633789062,227.17999267578125,228.02999877929688,226.49000549316406,229.7899932861328,229.0,222.77000427246094,220.85000610351562,222.3800048828125,220.82000732421875,220.91000366210938,220.11000061035156,222.66000366210938,222.77000427246094,222.5,216.32000732421875,216.7899932861328,220.69000244140625,228.8699951171875,228.1999969482422,226.47000122070312,227.3699951171875,226.3699951171875,227.52000427246094,227.7899932861328,233.0,226.2100067138672,226.77999877929688,225.6699981689453,226.8000030517578,221.69000244140625,225.77000427246094,229.5399932861328,229.0399932861328,227.5500030517578,231.3000030517578,233.85000610351562,231.77999877929688,232.14999389648438,235.0,236.47999572753906,235.86000061035156,230.75999450683594,230.57000732421875,231.41000366210938,233.39999389648438,233.6699981689453,230.10000610351562,225.91000366210938,222.91000366210938,222.00999450683594,223.4499969482422,222.72000122070312,227.47999572753906,226.9600067138672,224.22999572753906,224.22999572753906,225.1199951171875,228.22000122070312,225.0,228.02000427246094,228.27999877929688,229.0,228.52000427246094,229.8699951171875,232.8699951171875,235.05999755859375,234.92999267578125],\"yaxis\":\"y\",\"type\":\"scattergl\"}],                        {\"template\":{\"data\":{\"histogram2dcontour\":[{\"type\":\"histogram2dcontour\",\"colorbar\":{\"outlinewidth\":0,\"ticks\":\"\"},\"colorscale\":[[0.0,\"#0d0887\"],[0.1111111111111111,\"#46039f\"],[0.2222222222222222,\"#7201a8\"],[0.3333333333333333,\"#9c179e\"],[0.4444444444444444,\"#bd3786\"],[0.5555555555555556,\"#d8576b\"],[0.6666666666666666,\"#ed7953\"],[0.7777777777777778,\"#fb9f3a\"],[0.8888888888888888,\"#fdca26\"],[1.0,\"#f0f921\"]]}],\"choropleth\":[{\"type\":\"choropleth\",\"colorbar\":{\"outlinewidth\":0,\"ticks\":\"\"}}],\"histogram2d\":[{\"type\":\"histogram2d\",\"colorbar\":{\"outlinewidth\":0,\"ticks\":\"\"},\"colorscale\":[[0.0,\"#0d0887\"],[0.1111111111111111,\"#46039f\"],[0.2222222222222222,\"#7201a8\"],[0.3333333333333333,\"#9c179e\"],[0.4444444444444444,\"#bd3786\"],[0.5555555555555556,\"#d8576b\"],[0.6666666666666666,\"#ed7953\"],[0.7777777777777778,\"#fb9f3a\"],[0.8888888888888888,\"#fdca26\"],[1.0,\"#f0f921\"]]}],\"heatmap\":[{\"type\":\"heatmap\",\"colorbar\":{\"outlinewidth\":0,\"ticks\":\"\"},\"colorscale\":[[0.0,\"#0d0887\"],[0.1111111111111111,\"#46039f\"],[0.2222222222222222,\"#7201a8\"],[0.3333333333333333,\"#9c179e\"],[0.4444444444444444,\"#bd3786\"],[0.5555555555555556,\"#d8576b\"],[0.6666666666666666,\"#ed7953\"],[0.7777777777777778,\"#fb9f3a\"],[0.8888888888888888,\"#fdca26\"],[1.0,\"#f0f921\"]]}],\"heatmapgl\":[{\"type\":\"heatmapgl\",\"colorbar\":{\"outlinewidth\":0,\"ticks\":\"\"},\"colorscale\":[[0.0,\"#0d0887\"],[0.1111111111111111,\"#46039f\"],[0.2222222222222222,\"#7201a8\"],[0.3333333333333333,\"#9c179e\"],[0.4444444444444444,\"#bd3786\"],[0.5555555555555556,\"#d8576b\"],[0.6666666666666666,\"#ed7953\"],[0.7777777777777778,\"#fb9f3a\"],[0.8888888888888888,\"#fdca26\"],[1.0,\"#f0f921\"]]}],\"contourcarpet\":[{\"type\":\"contourcarpet\",\"colorbar\":{\"outlinewidth\":0,\"ticks\":\"\"}}],\"contour\":[{\"type\":\"contour\",\"colorbar\":{\"outlinewidth\":0,\"ticks\":\"\"},\"colorscale\":[[0.0,\"#0d0887\"],[0.1111111111111111,\"#46039f\"],[0.2222222222222222,\"#7201a8\"],[0.3333333333333333,\"#9c179e\"],[0.4444444444444444,\"#bd3786\"],[0.5555555555555556,\"#d8576b\"],[0.6666666666666666,\"#ed7953\"],[0.7777777777777778,\"#fb9f3a\"],[0.8888888888888888,\"#fdca26\"],[1.0,\"#f0f921\"]]}],\"surface\":[{\"type\":\"surface\",\"colorbar\":{\"outlinewidth\":0,\"ticks\":\"\"},\"colorscale\":[[0.0,\"#0d0887\"],[0.1111111111111111,\"#46039f\"],[0.2222222222222222,\"#7201a8\"],[0.3333333333333333,\"#9c179e\"],[0.4444444444444444,\"#bd3786\"],[0.5555555555555556,\"#d8576b\"],[0.6666666666666666,\"#ed7953\"],[0.7777777777777778,\"#fb9f3a\"],[0.8888888888888888,\"#fdca26\"],[1.0,\"#f0f921\"]]}],\"mesh3d\":[{\"type\":\"mesh3d\",\"colorbar\":{\"outlinewidth\":0,\"ticks\":\"\"}}],\"scatter\":[{\"fillpattern\":{\"fillmode\":\"overlay\",\"size\":10,\"solidity\":0.2},\"type\":\"scatter\"}],\"parcoords\":[{\"type\":\"parcoords\",\"line\":{\"colorbar\":{\"outlinewidth\":0,\"ticks\":\"\"}}}],\"scatterpolargl\":[{\"type\":\"scatterpolargl\",\"marker\":{\"colorbar\":{\"outlinewidth\":0,\"ticks\":\"\"}}}],\"bar\":[{\"error_x\":{\"color\":\"#2a3f5f\"},\"error_y\":{\"color\":\"#2a3f5f\"},\"marker\":{\"line\":{\"color\":\"#E5ECF6\",\"width\":0.5},\"pattern\":{\"fillmode\":\"overlay\",\"size\":10,\"solidity\":0.2}},\"type\":\"bar\"}],\"scattergeo\":[{\"type\":\"scattergeo\",\"marker\":{\"colorbar\":{\"outlinewidth\":0,\"ticks\":\"\"}}}],\"scatterpolar\":[{\"type\":\"scatterpolar\",\"marker\":{\"colorbar\":{\"outlinewidth\":0,\"ticks\":\"\"}}}],\"histogram\":[{\"marker\":{\"pattern\":{\"fillmode\":\"overlay\",\"size\":10,\"solidity\":0.2}},\"type\":\"histogram\"}],\"scattergl\":[{\"type\":\"scattergl\",\"marker\":{\"colorbar\":{\"outlinewidth\":0,\"ticks\":\"\"}}}],\"scatter3d\":[{\"type\":\"scatter3d\",\"line\":{\"colorbar\":{\"outlinewidth\":0,\"ticks\":\"\"}},\"marker\":{\"colorbar\":{\"outlinewidth\":0,\"ticks\":\"\"}}}],\"scattermapbox\":[{\"type\":\"scattermapbox\",\"marker\":{\"colorbar\":{\"outlinewidth\":0,\"ticks\":\"\"}}}],\"scatterternary\":[{\"type\":\"scatterternary\",\"marker\":{\"colorbar\":{\"outlinewidth\":0,\"ticks\":\"\"}}}],\"scattercarpet\":[{\"type\":\"scattercarpet\",\"marker\":{\"colorbar\":{\"outlinewidth\":0,\"ticks\":\"\"}}}],\"carpet\":[{\"aaxis\":{\"endlinecolor\":\"#2a3f5f\",\"gridcolor\":\"white\",\"linecolor\":\"white\",\"minorgridcolor\":\"white\",\"startlinecolor\":\"#2a3f5f\"},\"baxis\":{\"endlinecolor\":\"#2a3f5f\",\"gridcolor\":\"white\",\"linecolor\":\"white\",\"minorgridcolor\":\"white\",\"startlinecolor\":\"#2a3f5f\"},\"type\":\"carpet\"}],\"table\":[{\"cells\":{\"fill\":{\"color\":\"#EBF0F8\"},\"line\":{\"color\":\"white\"}},\"header\":{\"fill\":{\"color\":\"#C8D4E3\"},\"line\":{\"color\":\"white\"}},\"type\":\"table\"}],\"barpolar\":[{\"marker\":{\"line\":{\"color\":\"#E5ECF6\",\"width\":0.5},\"pattern\":{\"fillmode\":\"overlay\",\"size\":10,\"solidity\":0.2}},\"type\":\"barpolar\"}],\"pie\":[{\"automargin\":true,\"type\":\"pie\"}]},\"layout\":{\"autotypenumbers\":\"strict\",\"colorway\":[\"#636efa\",\"#EF553B\",\"#00cc96\",\"#ab63fa\",\"#FFA15A\",\"#19d3f3\",\"#FF6692\",\"#B6E880\",\"#FF97FF\",\"#FECB52\"],\"font\":{\"color\":\"#2a3f5f\"},\"hovermode\":\"closest\",\"hoverlabel\":{\"align\":\"left\"},\"paper_bgcolor\":\"white\",\"plot_bgcolor\":\"#E5ECF6\",\"polar\":{\"bgcolor\":\"#E5ECF6\",\"angularaxis\":{\"gridcolor\":\"white\",\"linecolor\":\"white\",\"ticks\":\"\"},\"radialaxis\":{\"gridcolor\":\"white\",\"linecolor\":\"white\",\"ticks\":\"\"}},\"ternary\":{\"bgcolor\":\"#E5ECF6\",\"aaxis\":{\"gridcolor\":\"white\",\"linecolor\":\"white\",\"ticks\":\"\"},\"baxis\":{\"gridcolor\":\"white\",\"linecolor\":\"white\",\"ticks\":\"\"},\"caxis\":{\"gridcolor\":\"white\",\"linecolor\":\"white\",\"ticks\":\"\"}},\"coloraxis\":{\"colorbar\":{\"outlinewidth\":0,\"ticks\":\"\"}},\"colorscale\":{\"sequential\":[[0.0,\"#0d0887\"],[0.1111111111111111,\"#46039f\"],[0.2222222222222222,\"#7201a8\"],[0.3333333333333333,\"#9c179e\"],[0.4444444444444444,\"#bd3786\"],[0.5555555555555556,\"#d8576b\"],[0.6666666666666666,\"#ed7953\"],[0.7777777777777778,\"#fb9f3a\"],[0.8888888888888888,\"#fdca26\"],[1.0,\"#f0f921\"]],\"sequentialminus\":[[0.0,\"#0d0887\"],[0.1111111111111111,\"#46039f\"],[0.2222222222222222,\"#7201a8\"],[0.3333333333333333,\"#9c179e\"],[0.4444444444444444,\"#bd3786\"],[0.5555555555555556,\"#d8576b\"],[0.6666666666666666,\"#ed7953\"],[0.7777777777777778,\"#fb9f3a\"],[0.8888888888888888,\"#fdca26\"],[1.0,\"#f0f921\"]],\"diverging\":[[0,\"#8e0152\"],[0.1,\"#c51b7d\"],[0.2,\"#de77ae\"],[0.3,\"#f1b6da\"],[0.4,\"#fde0ef\"],[0.5,\"#f7f7f7\"],[0.6,\"#e6f5d0\"],[0.7,\"#b8e186\"],[0.8,\"#7fbc41\"],[0.9,\"#4d9221\"],[1,\"#276419\"]]},\"xaxis\":{\"gridcolor\":\"white\",\"linecolor\":\"white\",\"ticks\":\"\",\"title\":{\"standoff\":15},\"zerolinecolor\":\"white\",\"automargin\":true,\"zerolinewidth\":2},\"yaxis\":{\"gridcolor\":\"white\",\"linecolor\":\"white\",\"ticks\":\"\",\"title\":{\"standoff\":15},\"zerolinecolor\":\"white\",\"automargin\":true,\"zerolinewidth\":2},\"scene\":{\"xaxis\":{\"backgroundcolor\":\"#E5ECF6\",\"gridcolor\":\"white\",\"linecolor\":\"white\",\"showbackground\":true,\"ticks\":\"\",\"zerolinecolor\":\"white\",\"gridwidth\":2},\"yaxis\":{\"backgroundcolor\":\"#E5ECF6\",\"gridcolor\":\"white\",\"linecolor\":\"white\",\"showbackground\":true,\"ticks\":\"\",\"zerolinecolor\":\"white\",\"gridwidth\":2},\"zaxis\":{\"backgroundcolor\":\"#E5ECF6\",\"gridcolor\":\"white\",\"linecolor\":\"white\",\"showbackground\":true,\"ticks\":\"\",\"zerolinecolor\":\"white\",\"gridwidth\":2}},\"shapedefaults\":{\"line\":{\"color\":\"#2a3f5f\"}},\"annotationdefaults\":{\"arrowcolor\":\"#2a3f5f\",\"arrowhead\":0,\"arrowwidth\":1},\"geo\":{\"bgcolor\":\"white\",\"landcolor\":\"#E5ECF6\",\"subunitcolor\":\"white\",\"showland\":true,\"showlakes\":true,\"lakecolor\":\"white\"},\"title\":{\"x\":0.05},\"mapbox\":{\"style\":\"light\"}}},\"xaxis\":{\"anchor\":\"y\",\"domain\":[0.0,1.0],\"title\":{\"text\":\"Date\"}},\"yaxis\":{\"anchor\":\"x\",\"domain\":[0.0,1.0],\"title\":{\"text\":\"Close\"}},\"legend\":{\"tracegroupgap\":0},\"title\":{\"text\":\"Apple Stock Price\"}},                        {\"responsive\": true}                    ).then(function(){\n",
       "                            \n",
       "var gd = document.getElementById('5f38bf15-ad56-41e1-80db-768457fbb3d7');\n",
       "var x = new MutationObserver(function (mutations, observer) {{\n",
       "        var display = window.getComputedStyle(gd).display;\n",
       "        if (!display || display === 'none') {{\n",
       "            console.log([gd, 'removed!']);\n",
       "            Plotly.purge(gd);\n",
       "            observer.disconnect();\n",
       "        }}\n",
       "}});\n",
       "\n",
       "// Listen for the removal of the full notebook cells\n",
       "var notebookContainer = gd.closest('#notebook-container');\n",
       "if (notebookContainer) {{\n",
       "    x.observe(notebookContainer, {childList: true});\n",
       "}}\n",
       "\n",
       "// Listen for the clearing of the current output cell\n",
       "var outputEl = gd.closest('.output');\n",
       "if (outputEl) {{\n",
       "    x.observe(outputEl, {childList: true});\n",
       "}}\n",
       "\n",
       "                        })                };                            </script>        </div>\n",
       "</body>\n",
       "</html>"
      ]
     },
     "metadata": {},
     "output_type": "display_data"
    }
   ],
   "source": [
    "fig = px.line(data, x = data.index, y = \"Close\", title = \"Apple Stock Price\")\n",
    "fig.show()"
   ]
  },
  {
   "cell_type": "markdown",
   "metadata": {
    "id": "t0fMAeLNYitb"
   },
   "source": [
    "**Create a seperate dataset that will just have the close columns**"
   ]
  },
  {
   "cell_type": "code",
   "execution_count": 40,
   "metadata": {
    "id": "4PlCnv8KYeaK"
   },
   "outputs": [],
   "source": [
    "df_close = data[[\"Close\"]]"
   ]
  },
  {
   "cell_type": "code",
   "execution_count": 41,
   "metadata": {
    "colab": {
     "base_uri": "https://localhost:8080/"
    },
    "id": "34S7pqHfYqRN",
    "outputId": "52a8546e-c2c0-42b1-f89a-97bfcde005f2"
   },
   "outputs": [
    {
     "data": {
      "text/plain": [
       "2746"
      ]
     },
     "execution_count": 41,
     "metadata": {},
     "output_type": "execute_result"
    }
   ],
   "source": [
    "len(df_close)"
   ]
  },
  {
   "cell_type": "code",
   "execution_count": 42,
   "metadata": {
    "colab": {
     "base_uri": "https://localhost:8080/"
    },
    "id": "oAEFVqAvxJXC",
    "outputId": "30444811-4ef8-4b4a-be42-82cff7228175"
   },
   "outputs": [
    {
     "data": {
      "text/plain": [
       "2603.95"
      ]
     },
     "execution_count": 42,
     "metadata": {},
     "output_type": "execute_result"
    }
   ],
   "source": [
    "(95/100) * 2741"
   ]
  },
  {
   "cell_type": "code",
   "execution_count": 75,
   "metadata": {
    "colab": {
     "base_uri": "https://localhost:8080/"
    },
    "id": "LAcxEO6-xYK3",
    "outputId": "0cc2e5b7-0de9-49d7-bae4-a3faff3c6286"
   },
   "outputs": [
    {
     "data": {
      "text/plain": [
       "2604"
      ]
     },
     "execution_count": 75,
     "metadata": {},
     "output_type": "execute_result"
    }
   ],
   "source": [
    "int(np.ceil((95/100) *2741)) #to convert it into integer use int"
   ]
  },
  {
   "cell_type": "markdown",
   "metadata": {
    "id": "NiLFrmknYzM0"
   },
   "source": [
    "**We will try to keep around 95% of the data for training purpose and rest will be used for testing purpose**"
   ]
  },
  {
   "cell_type": "code",
   "execution_count": 44,
   "metadata": {
    "id": "BebIFPuGYurb"
   },
   "outputs": [],
   "source": [
    "train_len = int(np.ceil((len(df_close) * 0.95)))"
   ]
  },
  {
   "cell_type": "markdown",
   "metadata": {
    "id": "SpXXqjJrZmjI"
   },
   "source": [
    "<hr>\n",
    "\n",
    "# **Step 8 - Building data for prediction phase**"
   ]
  },
  {
   "cell_type": "markdown",
   "metadata": {
    "id": "yyd4WQ_cZxLN"
   },
   "source": [
    "* **Scaling the values**\n",
    "  * **It is done to remove ahead-bias from the data**"
   ]
  },
  {
   "cell_type": "code",
   "execution_count": 45,
   "metadata": {
    "id": "K9ED1ss5ZXSD"
   },
   "outputs": [],
   "source": [
    "scaler = MinMaxScaler()"
   ]
  },
  {
   "cell_type": "code",
   "execution_count": 46,
   "metadata": {
    "id": "2xsmPqCGaY8L"
   },
   "outputs": [],
   "source": [
    "data_scaled = scaler.fit_transform(df_close)"
   ]
  },
  {
   "cell_type": "code",
   "execution_count": 47,
   "metadata": {
    "colab": {
     "base_uri": "https://localhost:8080/",
     "height": 423
    },
    "id": "QT3SZkFZacpp",
    "outputId": "a82637c1-6932-462e-e7ad-eefd09f22731"
   },
   "outputs": [
    {
     "data": {
      "application/vnd.google.colaboratory.intrinsic+json": {
       "summary": "{\n  \"name\": \"pd\",\n  \"rows\": 2746,\n  \"fields\": [\n    {\n      \"column\": \"Scaled Data Part\",\n      \"properties\": {\n        \"dtype\": \"number\",\n        \"std\": 0.2945146029951227,\n        \"min\": 0.0,\n        \"max\": 1.0,\n        \"num_unique_values\": 2585,\n        \"samples\": [\n          0.025548626379316194,\n          0.9179438131448948,\n          0.025708712980671358\n        ],\n        \"semantic_type\": \"\",\n        \"description\": \"\"\n      }\n    }\n  ]\n}",
       "type": "dataframe"
      },
      "text/html": [
       "\n",
       "  <div id=\"df-4dfec272-7439-4c21-ae87-cd04a7f87b01\" class=\"colab-df-container\">\n",
       "    <div>\n",
       "<style scoped>\n",
       "    .dataframe tbody tr th:only-of-type {\n",
       "        vertical-align: middle;\n",
       "    }\n",
       "\n",
       "    .dataframe tbody tr th {\n",
       "        vertical-align: top;\n",
       "    }\n",
       "\n",
       "    .dataframe thead th {\n",
       "        text-align: right;\n",
       "    }\n",
       "</style>\n",
       "<table border=\"1\" class=\"dataframe\">\n",
       "  <thead>\n",
       "    <tr style=\"text-align: right;\">\n",
       "      <th></th>\n",
       "      <th>Scaled Data Part</th>\n",
       "    </tr>\n",
       "  </thead>\n",
       "  <tbody>\n",
       "    <tr>\n",
       "      <th>0</th>\n",
       "      <td>0.008715</td>\n",
       "    </tr>\n",
       "    <tr>\n",
       "      <th>1</th>\n",
       "      <td>0.006730</td>\n",
       "    </tr>\n",
       "    <tr>\n",
       "      <th>2</th>\n",
       "      <td>0.007212</td>\n",
       "    </tr>\n",
       "    <tr>\n",
       "      <th>3</th>\n",
       "      <td>0.006577</td>\n",
       "    </tr>\n",
       "    <tr>\n",
       "      <th>4</th>\n",
       "      <td>0.007135</td>\n",
       "    </tr>\n",
       "    <tr>\n",
       "      <th>...</th>\n",
       "      <td>...</td>\n",
       "    </tr>\n",
       "    <tr>\n",
       "      <th>2741</th>\n",
       "      <td>0.963592</td>\n",
       "    </tr>\n",
       "    <tr>\n",
       "      <th>2742</th>\n",
       "      <td>0.969766</td>\n",
       "    </tr>\n",
       "    <tr>\n",
       "      <th>2743</th>\n",
       "      <td>0.983488</td>\n",
       "    </tr>\n",
       "    <tr>\n",
       "      <th>2744</th>\n",
       "      <td>0.993505</td>\n",
       "    </tr>\n",
       "    <tr>\n",
       "      <th>2745</th>\n",
       "      <td>0.992910</td>\n",
       "    </tr>\n",
       "  </tbody>\n",
       "</table>\n",
       "<p>2746 rows × 1 columns</p>\n",
       "</div>\n",
       "    <div class=\"colab-df-buttons\">\n",
       "\n",
       "  <div class=\"colab-df-container\">\n",
       "    <button class=\"colab-df-convert\" onclick=\"convertToInteractive('df-4dfec272-7439-4c21-ae87-cd04a7f87b01')\"\n",
       "            title=\"Convert this dataframe to an interactive table.\"\n",
       "            style=\"display:none;\">\n",
       "\n",
       "  <svg xmlns=\"http://www.w3.org/2000/svg\" height=\"24px\" viewBox=\"0 -960 960 960\">\n",
       "    <path d=\"M120-120v-720h720v720H120Zm60-500h600v-160H180v160Zm220 220h160v-160H400v160Zm0 220h160v-160H400v160ZM180-400h160v-160H180v160Zm440 0h160v-160H620v160ZM180-180h160v-160H180v160Zm440 0h160v-160H620v160Z\"/>\n",
       "  </svg>\n",
       "    </button>\n",
       "\n",
       "  <style>\n",
       "    .colab-df-container {\n",
       "      display:flex;\n",
       "      gap: 12px;\n",
       "    }\n",
       "\n",
       "    .colab-df-convert {\n",
       "      background-color: #E8F0FE;\n",
       "      border: none;\n",
       "      border-radius: 50%;\n",
       "      cursor: pointer;\n",
       "      display: none;\n",
       "      fill: #1967D2;\n",
       "      height: 32px;\n",
       "      padding: 0 0 0 0;\n",
       "      width: 32px;\n",
       "    }\n",
       "\n",
       "    .colab-df-convert:hover {\n",
       "      background-color: #E2EBFA;\n",
       "      box-shadow: 0px 1px 2px rgba(60, 64, 67, 0.3), 0px 1px 3px 1px rgba(60, 64, 67, 0.15);\n",
       "      fill: #174EA6;\n",
       "    }\n",
       "\n",
       "    .colab-df-buttons div {\n",
       "      margin-bottom: 4px;\n",
       "    }\n",
       "\n",
       "    [theme=dark] .colab-df-convert {\n",
       "      background-color: #3B4455;\n",
       "      fill: #D2E3FC;\n",
       "    }\n",
       "\n",
       "    [theme=dark] .colab-df-convert:hover {\n",
       "      background-color: #434B5C;\n",
       "      box-shadow: 0px 1px 3px 1px rgba(0, 0, 0, 0.15);\n",
       "      filter: drop-shadow(0px 1px 2px rgba(0, 0, 0, 0.3));\n",
       "      fill: #FFFFFF;\n",
       "    }\n",
       "  </style>\n",
       "\n",
       "    <script>\n",
       "      const buttonEl =\n",
       "        document.querySelector('#df-4dfec272-7439-4c21-ae87-cd04a7f87b01 button.colab-df-convert');\n",
       "      buttonEl.style.display =\n",
       "        google.colab.kernel.accessAllowed ? 'block' : 'none';\n",
       "\n",
       "      async function convertToInteractive(key) {\n",
       "        const element = document.querySelector('#df-4dfec272-7439-4c21-ae87-cd04a7f87b01');\n",
       "        const dataTable =\n",
       "          await google.colab.kernel.invokeFunction('convertToInteractive',\n",
       "                                                    [key], {});\n",
       "        if (!dataTable) return;\n",
       "\n",
       "        const docLinkHtml = 'Like what you see? Visit the ' +\n",
       "          '<a target=\"_blank\" href=https://colab.research.google.com/notebooks/data_table.ipynb>data table notebook</a>'\n",
       "          + ' to learn more about interactive tables.';\n",
       "        element.innerHTML = '';\n",
       "        dataTable['output_type'] = 'display_data';\n",
       "        await google.colab.output.renderOutput(dataTable, element);\n",
       "        const docLink = document.createElement('div');\n",
       "        docLink.innerHTML = docLinkHtml;\n",
       "        element.appendChild(docLink);\n",
       "      }\n",
       "    </script>\n",
       "  </div>\n",
       "\n",
       "\n",
       "<div id=\"df-e3069394-c37d-4570-9a33-17bbd7a0b1ec\">\n",
       "  <button class=\"colab-df-quickchart\" onclick=\"quickchart('df-e3069394-c37d-4570-9a33-17bbd7a0b1ec')\"\n",
       "            title=\"Suggest charts\"\n",
       "            style=\"display:none;\">\n",
       "\n",
       "<svg xmlns=\"http://www.w3.org/2000/svg\" height=\"24px\"viewBox=\"0 0 24 24\"\n",
       "     width=\"24px\">\n",
       "    <g>\n",
       "        <path d=\"M19 3H5c-1.1 0-2 .9-2 2v14c0 1.1.9 2 2 2h14c1.1 0 2-.9 2-2V5c0-1.1-.9-2-2-2zM9 17H7v-7h2v7zm4 0h-2V7h2v10zm4 0h-2v-4h2v4z\"/>\n",
       "    </g>\n",
       "</svg>\n",
       "  </button>\n",
       "\n",
       "<style>\n",
       "  .colab-df-quickchart {\n",
       "      --bg-color: #E8F0FE;\n",
       "      --fill-color: #1967D2;\n",
       "      --hover-bg-color: #E2EBFA;\n",
       "      --hover-fill-color: #174EA6;\n",
       "      --disabled-fill-color: #AAA;\n",
       "      --disabled-bg-color: #DDD;\n",
       "  }\n",
       "\n",
       "  [theme=dark] .colab-df-quickchart {\n",
       "      --bg-color: #3B4455;\n",
       "      --fill-color: #D2E3FC;\n",
       "      --hover-bg-color: #434B5C;\n",
       "      --hover-fill-color: #FFFFFF;\n",
       "      --disabled-bg-color: #3B4455;\n",
       "      --disabled-fill-color: #666;\n",
       "  }\n",
       "\n",
       "  .colab-df-quickchart {\n",
       "    background-color: var(--bg-color);\n",
       "    border: none;\n",
       "    border-radius: 50%;\n",
       "    cursor: pointer;\n",
       "    display: none;\n",
       "    fill: var(--fill-color);\n",
       "    height: 32px;\n",
       "    padding: 0;\n",
       "    width: 32px;\n",
       "  }\n",
       "\n",
       "  .colab-df-quickchart:hover {\n",
       "    background-color: var(--hover-bg-color);\n",
       "    box-shadow: 0 1px 2px rgba(60, 64, 67, 0.3), 0 1px 3px 1px rgba(60, 64, 67, 0.15);\n",
       "    fill: var(--button-hover-fill-color);\n",
       "  }\n",
       "\n",
       "  .colab-df-quickchart-complete:disabled,\n",
       "  .colab-df-quickchart-complete:disabled:hover {\n",
       "    background-color: var(--disabled-bg-color);\n",
       "    fill: var(--disabled-fill-color);\n",
       "    box-shadow: none;\n",
       "  }\n",
       "\n",
       "  .colab-df-spinner {\n",
       "    border: 2px solid var(--fill-color);\n",
       "    border-color: transparent;\n",
       "    border-bottom-color: var(--fill-color);\n",
       "    animation:\n",
       "      spin 1s steps(1) infinite;\n",
       "  }\n",
       "\n",
       "  @keyframes spin {\n",
       "    0% {\n",
       "      border-color: transparent;\n",
       "      border-bottom-color: var(--fill-color);\n",
       "      border-left-color: var(--fill-color);\n",
       "    }\n",
       "    20% {\n",
       "      border-color: transparent;\n",
       "      border-left-color: var(--fill-color);\n",
       "      border-top-color: var(--fill-color);\n",
       "    }\n",
       "    30% {\n",
       "      border-color: transparent;\n",
       "      border-left-color: var(--fill-color);\n",
       "      border-top-color: var(--fill-color);\n",
       "      border-right-color: var(--fill-color);\n",
       "    }\n",
       "    40% {\n",
       "      border-color: transparent;\n",
       "      border-right-color: var(--fill-color);\n",
       "      border-top-color: var(--fill-color);\n",
       "    }\n",
       "    60% {\n",
       "      border-color: transparent;\n",
       "      border-right-color: var(--fill-color);\n",
       "    }\n",
       "    80% {\n",
       "      border-color: transparent;\n",
       "      border-right-color: var(--fill-color);\n",
       "      border-bottom-color: var(--fill-color);\n",
       "    }\n",
       "    90% {\n",
       "      border-color: transparent;\n",
       "      border-bottom-color: var(--fill-color);\n",
       "    }\n",
       "  }\n",
       "</style>\n",
       "\n",
       "  <script>\n",
       "    async function quickchart(key) {\n",
       "      const quickchartButtonEl =\n",
       "        document.querySelector('#' + key + ' button');\n",
       "      quickchartButtonEl.disabled = true;  // To prevent multiple clicks.\n",
       "      quickchartButtonEl.classList.add('colab-df-spinner');\n",
       "      try {\n",
       "        const charts = await google.colab.kernel.invokeFunction(\n",
       "            'suggestCharts', [key], {});\n",
       "      } catch (error) {\n",
       "        console.error('Error during call to suggestCharts:', error);\n",
       "      }\n",
       "      quickchartButtonEl.classList.remove('colab-df-spinner');\n",
       "      quickchartButtonEl.classList.add('colab-df-quickchart-complete');\n",
       "    }\n",
       "    (() => {\n",
       "      let quickchartButtonEl =\n",
       "        document.querySelector('#df-e3069394-c37d-4570-9a33-17bbd7a0b1ec button');\n",
       "      quickchartButtonEl.style.display =\n",
       "        google.colab.kernel.accessAllowed ? 'block' : 'none';\n",
       "    })();\n",
       "  </script>\n",
       "</div>\n",
       "\n",
       "    </div>\n",
       "  </div>\n"
      ],
      "text/plain": [
       "      Scaled Data Part\n",
       "0             0.008715\n",
       "1             0.006730\n",
       "2             0.007212\n",
       "3             0.006577\n",
       "4             0.007135\n",
       "...                ...\n",
       "2741          0.963592\n",
       "2742          0.969766\n",
       "2743          0.983488\n",
       "2744          0.993505\n",
       "2745          0.992910\n",
       "\n",
       "[2746 rows x 1 columns]"
      ]
     },
     "execution_count": 47,
     "metadata": {},
     "output_type": "execute_result"
    }
   ],
   "source": [
    "pd.DataFrame(data_scaled, columns = [\"Scaled Data Part\"])"
   ]
  },
  {
   "cell_type": "markdown",
   "metadata": {
    "id": "b6neiKhcanqr"
   },
   "source": [
    "<hr>\n",
    "\n",
    "# **Step 9 - Split the data into training and testing data**"
   ]
  },
  {
   "cell_type": "markdown",
   "metadata": {
    "id": "Qf6hL388ar-H"
   },
   "source": [
    "* **We need to create the training data**"
   ]
  },
  {
   "cell_type": "code",
   "execution_count": 48,
   "metadata": {
    "id": "Lrrmh3v5agnd"
   },
   "outputs": [],
   "source": [
    "train_data = data_scaled[0 : train_len, :]"
   ]
  },
  {
   "cell_type": "markdown",
   "metadata": {
    "id": "jkaeE8iza3Ot"
   },
   "source": [
    "* **We will split the data into x_train and y_train**"
   ]
  },
  {
   "cell_type": "code",
   "execution_count": 49,
   "metadata": {
    "id": "S4ex1-tIa1_s"
   },
   "outputs": [],
   "source": [
    "x_train, y_train = [], []"
   ]
  },
  {
   "cell_type": "markdown",
   "metadata": {
    "id": "dTarxU16bBup"
   },
   "source": [
    "* **We will try to create our own sequential data**"
   ]
  },
  {
   "cell_type": "code",
   "execution_count": 50,
   "metadata": {
    "id": "MeoURklga98t"
   },
   "outputs": [],
   "source": [
    "for i in range(60, len(train_data)):\n",
    "  x_train.append(train_data[i - 60: i, 0])\n",
    "  y_train.append(train_data[i, 0]) #whatsoever left data\n",
    "\n",
    "  #explanation\n",
    "  #range(60, 2604) .... 60 batcg zise, 2604 lenth of the data\n",
    "  #(train_data[60-60]: 60, 0)\n",
    "  #train_data[0:60,0]\n",
    "  #sequence\n",
    "  #train_data[1:60,0]\n",
    "  #......\n",
    "  #......\n",
    "  #last data\n",
    "  #(train_data[2604-60]: 2604, 0)\n"
   ]
  },
  {
   "cell_type": "markdown",
   "metadata": {
    "id": "eRISzwWvct5s"
   },
   "source": [
    "* **Convert this data into numpy array**"
   ]
  },
  {
   "cell_type": "code",
   "execution_count": 51,
   "metadata": {
    "id": "Er6fyve9cpC0"
   },
   "outputs": [],
   "source": [
    "x_train, y_train = np.array(x_train), np.array(y_train)"
   ]
  },
  {
   "cell_type": "markdown",
   "metadata": {
    "id": "I2jx3q50c8xT"
   },
   "source": [
    "* **Reshaping the array**\n",
    "  * **Since the data in RNNs, LSTMs is expected in 3D format that should comprise of (samples, timesteps, no_of_features)**"
   ]
  },
  {
   "cell_type": "code",
   "execution_count": 52,
   "metadata": {
    "id": "-eb53tpvc7ri"
   },
   "outputs": [],
   "source": [
    "x_train = np.reshape(x_train, (x_train.shape[0], x_train.shape[1], 1))"
   ]
  },
  {
   "cell_type": "code",
   "execution_count": 53,
   "metadata": {
    "colab": {
     "base_uri": "https://localhost:8080/"
    },
    "id": "FRUunqUAe4t9",
    "outputId": "0c7940f0-80be-453f-8021-c874b8575927"
   },
   "outputs": [
    {
     "data": {
      "text/plain": [
       "(2549, 60, 1)"
      ]
     },
     "execution_count": 53,
     "metadata": {},
     "output_type": "execute_result"
    }
   ],
   "source": [
    "x_train.shape"
   ]
  },
  {
   "cell_type": "code",
   "execution_count": 54,
   "metadata": {
    "colab": {
     "base_uri": "https://localhost:8080/"
    },
    "id": "HHaY_CGKe9_y",
    "outputId": "b916500d-cc98-4a93-e0ce-038ece729e1f"
   },
   "outputs": [
    {
     "data": {
      "text/plain": [
       "array([[[0.00871496],\n",
       "        [0.00673021],\n",
       "        [0.0072121 ],\n",
       "        ...,\n",
       "        [0.00653418],\n",
       "        [0.00615519],\n",
       "        [0.00605718]],\n",
       "\n",
       "       [[0.00673021],\n",
       "        [0.0072121 ],\n",
       "        [0.00657665],\n",
       "        ...,\n",
       "        [0.00615519],\n",
       "        [0.00605718],\n",
       "        [0.00603759]],\n",
       "\n",
       "       [[0.0072121 ],\n",
       "        [0.00657665],\n",
       "        [0.00713533],\n",
       "        ...,\n",
       "        [0.00605718],\n",
       "        [0.00603759],\n",
       "        [0.00683965]],\n",
       "\n",
       "       ...,\n",
       "\n",
       "       [[0.76064661],\n",
       "        [0.7593202 ],\n",
       "        [0.75223061],\n",
       "        ...,\n",
       "        [0.75264224],\n",
       "        [0.75419743],\n",
       "        [0.76256772]],\n",
       "\n",
       "       [[0.7593202 ],\n",
       "        [0.75223061],\n",
       "        [0.74880017],\n",
       "        ...,\n",
       "        [0.75419743],\n",
       "        [0.76256772],\n",
       "        [0.75561534]],\n",
       "\n",
       "       [[0.75223061],\n",
       "        [0.74880017],\n",
       "        [0.75227639],\n",
       "        ...,\n",
       "        [0.76256772],\n",
       "        [0.75561534],\n",
       "        [0.77038909]]])"
      ]
     },
     "execution_count": 54,
     "metadata": {},
     "output_type": "execute_result"
    }
   ],
   "source": [
    "x_train"
   ]
  },
  {
   "cell_type": "markdown",
   "metadata": {
    "id": "yG2kN5WMee-H"
   },
   "source": [
    "# **Step 10 - Working with LSTM Network**"
   ]
  },
  {
   "cell_type": "markdown",
   "metadata": {
    "id": "nzOju6uYeisy"
   },
   "source": [
    "* **Start by creating a sequential Model**"
   ]
  },
  {
   "cell_type": "code",
   "execution_count": 55,
   "metadata": {
    "id": "ijxRvANNdIB7"
   },
   "outputs": [],
   "source": [
    "model = Sequential()"
   ]
  },
  {
   "cell_type": "markdown",
   "metadata": {
    "id": "QM3DX7mWepIO"
   },
   "source": [
    "* **Adding LSTM layer to the model**"
   ]
  },
  {
   "cell_type": "code",
   "execution_count": 56,
   "metadata": {
    "id": "uDh8bYVbeodi"
   },
   "outputs": [],
   "source": [
    "model.add(LSTM(128, return_sequences = True, input_shape = (x_train.shape[1], 1))) #return_sequences = True return full sequence all the time stamp\n",
    "model.add(LSTM(64, return_sequences = False)) #return_sequences = False only return output form the last live time stamp\n",
    "model.add(Dense(30))\n",
    "model.add(Dense(1))"
   ]
  },
  {
   "cell_type": "markdown",
   "metadata": {
    "id": "ym-P7z5ChM8E"
   },
   "source": [
    "* **Compilation of the model**"
   ]
  },
  {
   "cell_type": "code",
   "execution_count": 57,
   "metadata": {
    "id": "moe6VbgphO2i"
   },
   "outputs": [],
   "source": [
    "model.compile(optimizer = \"adam\", loss = \"mean_squared_error\")"
   ]
  },
  {
   "cell_type": "code",
   "execution_count": 58,
   "metadata": {
    "colab": {
     "base_uri": "https://localhost:8080/",
     "height": 257
    },
    "id": "rk7nFYSnhWgs",
    "outputId": "5f1e3552-e43e-43ac-8836-ef57dfe2ea82"
   },
   "outputs": [
    {
     "data": {
      "text/html": [
       "<pre style=\"white-space:pre;overflow-x:auto;line-height:normal;font-family:Menlo,'DejaVu Sans Mono',consolas,'Courier New',monospace\"><span style=\"font-weight: bold\">Model: \"sequential\"</span>\n",
       "</pre>\n"
      ],
      "text/plain": [
       "\u001b[1mModel: \"sequential\"\u001b[0m\n"
      ]
     },
     "metadata": {},
     "output_type": "display_data"
    },
    {
     "data": {
      "text/html": [
       "<pre style=\"white-space:pre;overflow-x:auto;line-height:normal;font-family:Menlo,'DejaVu Sans Mono',consolas,'Courier New',monospace\">┏━━━━━━━━━━━━━━━━━━━━━━━━━━━━━━━━━━━━━━┳━━━━━━━━━━━━━━━━━━━━━━━━━━━━━┳━━━━━━━━━━━━━━━━━┓\n",
       "┃<span style=\"font-weight: bold\"> Layer (type)                         </span>┃<span style=\"font-weight: bold\"> Output Shape                </span>┃<span style=\"font-weight: bold\">         Param # </span>┃\n",
       "┡━━━━━━━━━━━━━━━━━━━━━━━━━━━━━━━━━━━━━━╇━━━━━━━━━━━━━━━━━━━━━━━━━━━━━╇━━━━━━━━━━━━━━━━━┩\n",
       "│ lstm (<span style=\"color: #0087ff; text-decoration-color: #0087ff\">LSTM</span>)                          │ (<span style=\"color: #00d7ff; text-decoration-color: #00d7ff\">None</span>, <span style=\"color: #00af00; text-decoration-color: #00af00\">60</span>, <span style=\"color: #00af00; text-decoration-color: #00af00\">128</span>)             │          <span style=\"color: #00af00; text-decoration-color: #00af00\">66,560</span> │\n",
       "├──────────────────────────────────────┼─────────────────────────────┼─────────────────┤\n",
       "│ lstm_1 (<span style=\"color: #0087ff; text-decoration-color: #0087ff\">LSTM</span>)                        │ (<span style=\"color: #00d7ff; text-decoration-color: #00d7ff\">None</span>, <span style=\"color: #00af00; text-decoration-color: #00af00\">64</span>)                  │          <span style=\"color: #00af00; text-decoration-color: #00af00\">49,408</span> │\n",
       "├──────────────────────────────────────┼─────────────────────────────┼─────────────────┤\n",
       "│ dense (<span style=\"color: #0087ff; text-decoration-color: #0087ff\">Dense</span>)                        │ (<span style=\"color: #00d7ff; text-decoration-color: #00d7ff\">None</span>, <span style=\"color: #00af00; text-decoration-color: #00af00\">30</span>)                  │           <span style=\"color: #00af00; text-decoration-color: #00af00\">1,950</span> │\n",
       "├──────────────────────────────────────┼─────────────────────────────┼─────────────────┤\n",
       "│ dense_1 (<span style=\"color: #0087ff; text-decoration-color: #0087ff\">Dense</span>)                      │ (<span style=\"color: #00d7ff; text-decoration-color: #00d7ff\">None</span>, <span style=\"color: #00af00; text-decoration-color: #00af00\">1</span>)                   │              <span style=\"color: #00af00; text-decoration-color: #00af00\">31</span> │\n",
       "└──────────────────────────────────────┴─────────────────────────────┴─────────────────┘\n",
       "</pre>\n"
      ],
      "text/plain": [
       "┏━━━━━━━━━━━━━━━━━━━━━━━━━━━━━━━━━━━━━━┳━━━━━━━━━━━━━━━━━━━━━━━━━━━━━┳━━━━━━━━━━━━━━━━━┓\n",
       "┃\u001b[1m \u001b[0m\u001b[1mLayer (type)                        \u001b[0m\u001b[1m \u001b[0m┃\u001b[1m \u001b[0m\u001b[1mOutput Shape               \u001b[0m\u001b[1m \u001b[0m┃\u001b[1m \u001b[0m\u001b[1m        Param #\u001b[0m\u001b[1m \u001b[0m┃\n",
       "┡━━━━━━━━━━━━━━━━━━━━━━━━━━━━━━━━━━━━━━╇━━━━━━━━━━━━━━━━━━━━━━━━━━━━━╇━━━━━━━━━━━━━━━━━┩\n",
       "│ lstm (\u001b[38;5;33mLSTM\u001b[0m)                          │ (\u001b[38;5;45mNone\u001b[0m, \u001b[38;5;34m60\u001b[0m, \u001b[38;5;34m128\u001b[0m)             │          \u001b[38;5;34m66,560\u001b[0m │\n",
       "├──────────────────────────────────────┼─────────────────────────────┼─────────────────┤\n",
       "│ lstm_1 (\u001b[38;5;33mLSTM\u001b[0m)                        │ (\u001b[38;5;45mNone\u001b[0m, \u001b[38;5;34m64\u001b[0m)                  │          \u001b[38;5;34m49,408\u001b[0m │\n",
       "├──────────────────────────────────────┼─────────────────────────────┼─────────────────┤\n",
       "│ dense (\u001b[38;5;33mDense\u001b[0m)                        │ (\u001b[38;5;45mNone\u001b[0m, \u001b[38;5;34m30\u001b[0m)                  │           \u001b[38;5;34m1,950\u001b[0m │\n",
       "├──────────────────────────────────────┼─────────────────────────────┼─────────────────┤\n",
       "│ dense_1 (\u001b[38;5;33mDense\u001b[0m)                      │ (\u001b[38;5;45mNone\u001b[0m, \u001b[38;5;34m1\u001b[0m)                   │              \u001b[38;5;34m31\u001b[0m │\n",
       "└──────────────────────────────────────┴─────────────────────────────┴─────────────────┘\n"
      ]
     },
     "metadata": {},
     "output_type": "display_data"
    },
    {
     "data": {
      "text/html": [
       "<pre style=\"white-space:pre;overflow-x:auto;line-height:normal;font-family:Menlo,'DejaVu Sans Mono',consolas,'Courier New',monospace\"><span style=\"font-weight: bold\"> Total params: </span><span style=\"color: #00af00; text-decoration-color: #00af00\">117,949</span> (460.74 KB)\n",
       "</pre>\n"
      ],
      "text/plain": [
       "\u001b[1m Total params: \u001b[0m\u001b[38;5;34m117,949\u001b[0m (460.74 KB)\n"
      ]
     },
     "metadata": {},
     "output_type": "display_data"
    },
    {
     "data": {
      "text/html": [
       "<pre style=\"white-space:pre;overflow-x:auto;line-height:normal;font-family:Menlo,'DejaVu Sans Mono',consolas,'Courier New',monospace\"><span style=\"font-weight: bold\"> Trainable params: </span><span style=\"color: #00af00; text-decoration-color: #00af00\">117,949</span> (460.74 KB)\n",
       "</pre>\n"
      ],
      "text/plain": [
       "\u001b[1m Trainable params: \u001b[0m\u001b[38;5;34m117,949\u001b[0m (460.74 KB)\n"
      ]
     },
     "metadata": {},
     "output_type": "display_data"
    },
    {
     "data": {
      "text/html": [
       "<pre style=\"white-space:pre;overflow-x:auto;line-height:normal;font-family:Menlo,'DejaVu Sans Mono',consolas,'Courier New',monospace\"><span style=\"font-weight: bold\"> Non-trainable params: </span><span style=\"color: #00af00; text-decoration-color: #00af00\">0</span> (0.00 B)\n",
       "</pre>\n"
      ],
      "text/plain": [
       "\u001b[1m Non-trainable params: \u001b[0m\u001b[38;5;34m0\u001b[0m (0.00 B)\n"
      ]
     },
     "metadata": {},
     "output_type": "display_data"
    }
   ],
   "source": [
    "model.summary()"
   ]
  },
  {
   "cell_type": "markdown",
   "metadata": {
    "id": "9HI7-VZRhhbf"
   },
   "source": [
    "* **Fit the data into the model**"
   ]
  },
  {
   "cell_type": "code",
   "execution_count": 59,
   "metadata": {
    "colab": {
     "base_uri": "https://localhost:8080/"
    },
    "id": "nV8dSJCfhdTq",
    "outputId": "701dc578-e5f4-41b2-f7ca-950559d9e7cd"
   },
   "outputs": [
    {
     "name": "stdout",
     "output_type": "stream",
     "text": [
      "\u001b[1m2549/2549\u001b[0m \u001b[32m━━━━━━━━━━━━━━━━━━━━\u001b[0m\u001b[37m\u001b[0m \u001b[1m37s\u001b[0m 12ms/step - loss: 0.0029\n"
     ]
    },
    {
     "data": {
      "text/plain": [
       "<keras.src.callbacks.history.History at 0x7963554539a0>"
      ]
     },
     "execution_count": 59,
     "metadata": {},
     "output_type": "execute_result"
    }
   ],
   "source": [
    "model.fit(x_train, y_train, batch_size = 1, epochs = 1)"
   ]
  },
  {
   "cell_type": "markdown",
   "metadata": {
    "id": "nd2sV4s8iixY"
   },
   "source": [
    "* **Creating our Test Data**"
   ]
  },
  {
   "cell_type": "code",
   "execution_count": 60,
   "metadata": {
    "id": "LVyHE8P5hpy5"
   },
   "outputs": [],
   "source": [
    "test_data = data_scaled[train_len - 60: , :]"
   ]
  },
  {
   "cell_type": "markdown",
   "metadata": {
    "id": "1qQo6JGLiw-V"
   },
   "source": [
    "* **Creating the sequence**"
   ]
  },
  {
   "cell_type": "code",
   "execution_count": 61,
   "metadata": {
    "id": "kw-YN4gRiua2"
   },
   "outputs": [],
   "source": [
    "x_test= []\n",
    "\n",
    "y_test = df_close.values[train_len : , :]"
   ]
  },
  {
   "cell_type": "code",
   "execution_count": 62,
   "metadata": {
    "id": "T2eSspihi5BI"
   },
   "outputs": [],
   "source": [
    "for i in range(60, len(test_data)):\n",
    "  x_test.append(test_data[i - 60: i, 0])"
   ]
  },
  {
   "cell_type": "markdown",
   "metadata": {
    "id": "rsqlKyD4jC2l"
   },
   "source": [
    "* **Converting into the numpy array**"
   ]
  },
  {
   "cell_type": "code",
   "execution_count": 63,
   "metadata": {
    "id": "CgAt6kRYjCB-"
   },
   "outputs": [],
   "source": [
    "x_test = np.array(x_test)"
   ]
  },
  {
   "cell_type": "markdown",
   "metadata": {
    "id": "eg9nkNTojJAX"
   },
   "source": [
    "* **Reshape the data**"
   ]
  },
  {
   "cell_type": "code",
   "execution_count": 64,
   "metadata": {
    "id": "Tw8dsT0BjITm"
   },
   "outputs": [],
   "source": [
    "x_test = np.reshape(x_test, (x_test.shape[0], x_test.shape[1], 1)) #1 bcos we have only 1 feature"
   ]
  },
  {
   "cell_type": "markdown",
   "metadata": {
    "id": "e7ZNHbsPjRt4"
   },
   "source": [
    "* **Predictions**"
   ]
  },
  {
   "cell_type": "code",
   "execution_count": 65,
   "metadata": {
    "colab": {
     "base_uri": "https://localhost:8080/"
    },
    "id": "x7nnuqk-jQuA",
    "outputId": "922afb8e-fa56-45e7-89a0-95db9c0ef596"
   },
   "outputs": [
    {
     "name": "stdout",
     "output_type": "stream",
     "text": [
      "\u001b[1m5/5\u001b[0m \u001b[32m━━━━━━━━━━━━━━━━━━━━\u001b[0m\u001b[37m\u001b[0m \u001b[1m0s\u001b[0m 45ms/step\n"
     ]
    }
   ],
   "source": [
    "preds = model.predict(x_test)"
   ]
  },
  {
   "cell_type": "markdown",
   "metadata": {
    "id": "pukyedvejYCm"
   },
   "source": [
    "* **Inverting back the values to normal**"
   ]
  },
  {
   "cell_type": "code",
   "execution_count": 66,
   "metadata": {
    "id": "i9qhJnCPjW1Q"
   },
   "outputs": [],
   "source": [
    "preds = scaler.inverse_transform(preds)"
   ]
  },
  {
   "cell_type": "markdown",
   "metadata": {
    "id": "IrH_2CrJjhKQ"
   },
   "source": [
    "* **Evaluate**"
   ]
  },
  {
   "cell_type": "code",
   "execution_count": 67,
   "metadata": {
    "id": "1OcpU9UWjgRX"
   },
   "outputs": [],
   "source": [
    "RMSE = np.sqrt(np.mean((y_test - preds)**2))"
   ]
  },
  {
   "cell_type": "code",
   "execution_count": 68,
   "metadata": {
    "colab": {
     "base_uri": "https://localhost:8080/"
    },
    "id": "JE-61NNQjp68",
    "outputId": "f8296c15-582c-4a67-afb1-9fb88ecdb0f5"
   },
   "outputs": [
    {
     "name": "stdout",
     "output_type": "stream",
     "text": [
      "RMSE: 4.859769462937707\n"
     ]
    }
   ],
   "source": [
    "print(f\"RMSE: {RMSE}\")"
   ]
  },
  {
   "cell_type": "markdown",
   "metadata": {
    "id": "h_i9hCcpjtvj"
   },
   "source": [
    "# **Step 11 - Visualize the results**"
   ]
  },
  {
   "cell_type": "markdown",
   "metadata": {
    "id": "g42e20NYj8ZV"
   },
   "source": [
    "* **Actual Data**"
   ]
  },
  {
   "cell_type": "code",
   "execution_count": 69,
   "metadata": {
    "id": "nSlCyiw0jrtZ"
   },
   "outputs": [],
   "source": [
    "train = df_close[ : train_len]\n",
    "\n",
    "pred_data = df_close[train_len : ]"
   ]
  },
  {
   "cell_type": "markdown",
   "metadata": {
    "id": "rYV_rnkZj6TN"
   },
   "source": [
    "* **Prediction Data**"
   ]
  },
  {
   "cell_type": "code",
   "execution_count": 70,
   "metadata": {
    "id": "4ex3hStbj5lq"
   },
   "outputs": [],
   "source": [
    "pred_data[\"Predictions\"] = preds"
   ]
  },
  {
   "cell_type": "code",
   "execution_count": 71,
   "metadata": {
    "colab": {
     "base_uri": "https://localhost:8080/",
     "height": 237
    },
    "id": "f9LdmK9hkCp9",
    "outputId": "069b3f4d-faf1-4ffa-d3c9-62e9a8e81791"
   },
   "outputs": [
    {
     "data": {
      "application/vnd.google.colaboratory.intrinsic+json": {
       "summary": "{\n  \"name\": \"pred_data\",\n  \"rows\": 137,\n  \"fields\": [\n    {\n      \"column\": \"Date\",\n      \"properties\": {\n        \"dtype\": \"date\",\n        \"min\": \"2024-05-15 00:00:00+00:00\",\n        \"max\": \"2024-11-27 00:00:00+00:00\",\n        \"num_unique_values\": 137,\n        \"samples\": [\n          \"2024-10-15 00:00:00+00:00\",\n          \"2024-10-14 00:00:00+00:00\",\n          \"2024-06-03 00:00:00+00:00\"\n        ],\n        \"semantic_type\": \"\",\n        \"description\": \"\"\n      }\n    },\n    {\n      \"column\": \"Close\",\n      \"properties\": {\n        \"dtype\": \"number\",\n        \"std\": 12.759016437358449,\n        \"min\": 186.8800048828125,\n        \"max\": 236.47999572753906,\n        \"num_unique_values\": 134,\n        \"samples\": [\n          228.02000427246094,\n          226.50999450683594,\n          233.85000610351562\n        ],\n        \"semantic_type\": \"\",\n        \"description\": \"\"\n      }\n    },\n    {\n      \"column\": \"Predictions\",\n      \"properties\": {\n        \"dtype\": \"float32\",\n        \"num_unique_values\": 137,\n        \"samples\": [\n          230.6698760986328,\n          229.7152557373047,\n          194.6126708984375\n        ],\n        \"semantic_type\": \"\",\n        \"description\": \"\"\n      }\n    }\n  ]\n}",
       "type": "dataframe",
       "variable_name": "pred_data"
      },
      "text/html": [
       "\n",
       "  <div id=\"df-35614a3f-59e7-463a-804b-e1fff25722e2\" class=\"colab-df-container\">\n",
       "    <div>\n",
       "<style scoped>\n",
       "    .dataframe tbody tr th:only-of-type {\n",
       "        vertical-align: middle;\n",
       "    }\n",
       "\n",
       "    .dataframe tbody tr th {\n",
       "        vertical-align: top;\n",
       "    }\n",
       "\n",
       "    .dataframe thead th {\n",
       "        text-align: right;\n",
       "    }\n",
       "</style>\n",
       "<table border=\"1\" class=\"dataframe\">\n",
       "  <thead>\n",
       "    <tr style=\"text-align: right;\">\n",
       "      <th></th>\n",
       "      <th>Close</th>\n",
       "      <th>Predictions</th>\n",
       "    </tr>\n",
       "    <tr>\n",
       "      <th>Date</th>\n",
       "      <th></th>\n",
       "      <th></th>\n",
       "    </tr>\n",
       "  </thead>\n",
       "  <tbody>\n",
       "    <tr>\n",
       "      <th>2024-05-15 00:00:00+00:00</th>\n",
       "      <td>189.720001</td>\n",
       "      <td>189.283524</td>\n",
       "    </tr>\n",
       "    <tr>\n",
       "      <th>2024-05-16 00:00:00+00:00</th>\n",
       "      <td>189.839996</td>\n",
       "      <td>190.577866</td>\n",
       "    </tr>\n",
       "    <tr>\n",
       "      <th>2024-05-17 00:00:00+00:00</th>\n",
       "      <td>189.869995</td>\n",
       "      <td>191.750778</td>\n",
       "    </tr>\n",
       "    <tr>\n",
       "      <th>2024-05-20 00:00:00+00:00</th>\n",
       "      <td>191.039993</td>\n",
       "      <td>192.676651</td>\n",
       "    </tr>\n",
       "    <tr>\n",
       "      <th>2024-05-21 00:00:00+00:00</th>\n",
       "      <td>192.350006</td>\n",
       "      <td>193.528763</td>\n",
       "    </tr>\n",
       "  </tbody>\n",
       "</table>\n",
       "</div>\n",
       "    <div class=\"colab-df-buttons\">\n",
       "\n",
       "  <div class=\"colab-df-container\">\n",
       "    <button class=\"colab-df-convert\" onclick=\"convertToInteractive('df-35614a3f-59e7-463a-804b-e1fff25722e2')\"\n",
       "            title=\"Convert this dataframe to an interactive table.\"\n",
       "            style=\"display:none;\">\n",
       "\n",
       "  <svg xmlns=\"http://www.w3.org/2000/svg\" height=\"24px\" viewBox=\"0 -960 960 960\">\n",
       "    <path d=\"M120-120v-720h720v720H120Zm60-500h600v-160H180v160Zm220 220h160v-160H400v160Zm0 220h160v-160H400v160ZM180-400h160v-160H180v160Zm440 0h160v-160H620v160ZM180-180h160v-160H180v160Zm440 0h160v-160H620v160Z\"/>\n",
       "  </svg>\n",
       "    </button>\n",
       "\n",
       "  <style>\n",
       "    .colab-df-container {\n",
       "      display:flex;\n",
       "      gap: 12px;\n",
       "    }\n",
       "\n",
       "    .colab-df-convert {\n",
       "      background-color: #E8F0FE;\n",
       "      border: none;\n",
       "      border-radius: 50%;\n",
       "      cursor: pointer;\n",
       "      display: none;\n",
       "      fill: #1967D2;\n",
       "      height: 32px;\n",
       "      padding: 0 0 0 0;\n",
       "      width: 32px;\n",
       "    }\n",
       "\n",
       "    .colab-df-convert:hover {\n",
       "      background-color: #E2EBFA;\n",
       "      box-shadow: 0px 1px 2px rgba(60, 64, 67, 0.3), 0px 1px 3px 1px rgba(60, 64, 67, 0.15);\n",
       "      fill: #174EA6;\n",
       "    }\n",
       "\n",
       "    .colab-df-buttons div {\n",
       "      margin-bottom: 4px;\n",
       "    }\n",
       "\n",
       "    [theme=dark] .colab-df-convert {\n",
       "      background-color: #3B4455;\n",
       "      fill: #D2E3FC;\n",
       "    }\n",
       "\n",
       "    [theme=dark] .colab-df-convert:hover {\n",
       "      background-color: #434B5C;\n",
       "      box-shadow: 0px 1px 3px 1px rgba(0, 0, 0, 0.15);\n",
       "      filter: drop-shadow(0px 1px 2px rgba(0, 0, 0, 0.3));\n",
       "      fill: #FFFFFF;\n",
       "    }\n",
       "  </style>\n",
       "\n",
       "    <script>\n",
       "      const buttonEl =\n",
       "        document.querySelector('#df-35614a3f-59e7-463a-804b-e1fff25722e2 button.colab-df-convert');\n",
       "      buttonEl.style.display =\n",
       "        google.colab.kernel.accessAllowed ? 'block' : 'none';\n",
       "\n",
       "      async function convertToInteractive(key) {\n",
       "        const element = document.querySelector('#df-35614a3f-59e7-463a-804b-e1fff25722e2');\n",
       "        const dataTable =\n",
       "          await google.colab.kernel.invokeFunction('convertToInteractive',\n",
       "                                                    [key], {});\n",
       "        if (!dataTable) return;\n",
       "\n",
       "        const docLinkHtml = 'Like what you see? Visit the ' +\n",
       "          '<a target=\"_blank\" href=https://colab.research.google.com/notebooks/data_table.ipynb>data table notebook</a>'\n",
       "          + ' to learn more about interactive tables.';\n",
       "        element.innerHTML = '';\n",
       "        dataTable['output_type'] = 'display_data';\n",
       "        await google.colab.output.renderOutput(dataTable, element);\n",
       "        const docLink = document.createElement('div');\n",
       "        docLink.innerHTML = docLinkHtml;\n",
       "        element.appendChild(docLink);\n",
       "      }\n",
       "    </script>\n",
       "  </div>\n",
       "\n",
       "\n",
       "<div id=\"df-b36b4a8a-bdbc-4d74-85d4-72ecd2f22b7f\">\n",
       "  <button class=\"colab-df-quickchart\" onclick=\"quickchart('df-b36b4a8a-bdbc-4d74-85d4-72ecd2f22b7f')\"\n",
       "            title=\"Suggest charts\"\n",
       "            style=\"display:none;\">\n",
       "\n",
       "<svg xmlns=\"http://www.w3.org/2000/svg\" height=\"24px\"viewBox=\"0 0 24 24\"\n",
       "     width=\"24px\">\n",
       "    <g>\n",
       "        <path d=\"M19 3H5c-1.1 0-2 .9-2 2v14c0 1.1.9 2 2 2h14c1.1 0 2-.9 2-2V5c0-1.1-.9-2-2-2zM9 17H7v-7h2v7zm4 0h-2V7h2v10zm4 0h-2v-4h2v4z\"/>\n",
       "    </g>\n",
       "</svg>\n",
       "  </button>\n",
       "\n",
       "<style>\n",
       "  .colab-df-quickchart {\n",
       "      --bg-color: #E8F0FE;\n",
       "      --fill-color: #1967D2;\n",
       "      --hover-bg-color: #E2EBFA;\n",
       "      --hover-fill-color: #174EA6;\n",
       "      --disabled-fill-color: #AAA;\n",
       "      --disabled-bg-color: #DDD;\n",
       "  }\n",
       "\n",
       "  [theme=dark] .colab-df-quickchart {\n",
       "      --bg-color: #3B4455;\n",
       "      --fill-color: #D2E3FC;\n",
       "      --hover-bg-color: #434B5C;\n",
       "      --hover-fill-color: #FFFFFF;\n",
       "      --disabled-bg-color: #3B4455;\n",
       "      --disabled-fill-color: #666;\n",
       "  }\n",
       "\n",
       "  .colab-df-quickchart {\n",
       "    background-color: var(--bg-color);\n",
       "    border: none;\n",
       "    border-radius: 50%;\n",
       "    cursor: pointer;\n",
       "    display: none;\n",
       "    fill: var(--fill-color);\n",
       "    height: 32px;\n",
       "    padding: 0;\n",
       "    width: 32px;\n",
       "  }\n",
       "\n",
       "  .colab-df-quickchart:hover {\n",
       "    background-color: var(--hover-bg-color);\n",
       "    box-shadow: 0 1px 2px rgba(60, 64, 67, 0.3), 0 1px 3px 1px rgba(60, 64, 67, 0.15);\n",
       "    fill: var(--button-hover-fill-color);\n",
       "  }\n",
       "\n",
       "  .colab-df-quickchart-complete:disabled,\n",
       "  .colab-df-quickchart-complete:disabled:hover {\n",
       "    background-color: var(--disabled-bg-color);\n",
       "    fill: var(--disabled-fill-color);\n",
       "    box-shadow: none;\n",
       "  }\n",
       "\n",
       "  .colab-df-spinner {\n",
       "    border: 2px solid var(--fill-color);\n",
       "    border-color: transparent;\n",
       "    border-bottom-color: var(--fill-color);\n",
       "    animation:\n",
       "      spin 1s steps(1) infinite;\n",
       "  }\n",
       "\n",
       "  @keyframes spin {\n",
       "    0% {\n",
       "      border-color: transparent;\n",
       "      border-bottom-color: var(--fill-color);\n",
       "      border-left-color: var(--fill-color);\n",
       "    }\n",
       "    20% {\n",
       "      border-color: transparent;\n",
       "      border-left-color: var(--fill-color);\n",
       "      border-top-color: var(--fill-color);\n",
       "    }\n",
       "    30% {\n",
       "      border-color: transparent;\n",
       "      border-left-color: var(--fill-color);\n",
       "      border-top-color: var(--fill-color);\n",
       "      border-right-color: var(--fill-color);\n",
       "    }\n",
       "    40% {\n",
       "      border-color: transparent;\n",
       "      border-right-color: var(--fill-color);\n",
       "      border-top-color: var(--fill-color);\n",
       "    }\n",
       "    60% {\n",
       "      border-color: transparent;\n",
       "      border-right-color: var(--fill-color);\n",
       "    }\n",
       "    80% {\n",
       "      border-color: transparent;\n",
       "      border-right-color: var(--fill-color);\n",
       "      border-bottom-color: var(--fill-color);\n",
       "    }\n",
       "    90% {\n",
       "      border-color: transparent;\n",
       "      border-bottom-color: var(--fill-color);\n",
       "    }\n",
       "  }\n",
       "</style>\n",
       "\n",
       "  <script>\n",
       "    async function quickchart(key) {\n",
       "      const quickchartButtonEl =\n",
       "        document.querySelector('#' + key + ' button');\n",
       "      quickchartButtonEl.disabled = true;  // To prevent multiple clicks.\n",
       "      quickchartButtonEl.classList.add('colab-df-spinner');\n",
       "      try {\n",
       "        const charts = await google.colab.kernel.invokeFunction(\n",
       "            'suggestCharts', [key], {});\n",
       "      } catch (error) {\n",
       "        console.error('Error during call to suggestCharts:', error);\n",
       "      }\n",
       "      quickchartButtonEl.classList.remove('colab-df-spinner');\n",
       "      quickchartButtonEl.classList.add('colab-df-quickchart-complete');\n",
       "    }\n",
       "    (() => {\n",
       "      let quickchartButtonEl =\n",
       "        document.querySelector('#df-b36b4a8a-bdbc-4d74-85d4-72ecd2f22b7f button');\n",
       "      quickchartButtonEl.style.display =\n",
       "        google.colab.kernel.accessAllowed ? 'block' : 'none';\n",
       "    })();\n",
       "  </script>\n",
       "</div>\n",
       "\n",
       "    </div>\n",
       "  </div>\n"
      ],
      "text/plain": [
       "                                Close  Predictions\n",
       "Date                                              \n",
       "2024-05-15 00:00:00+00:00  189.720001   189.283524\n",
       "2024-05-16 00:00:00+00:00  189.839996   190.577866\n",
       "2024-05-17 00:00:00+00:00  189.869995   191.750778\n",
       "2024-05-20 00:00:00+00:00  191.039993   192.676651\n",
       "2024-05-21 00:00:00+00:00  192.350006   193.528763"
      ]
     },
     "execution_count": 71,
     "metadata": {},
     "output_type": "execute_result"
    }
   ],
   "source": [
    "pred_data.head()"
   ]
  },
  {
   "cell_type": "code",
   "execution_count": 72,
   "metadata": {
    "id": "jsYaFUz1kDy5"
   },
   "outputs": [],
   "source": [
    "# Actual Data values\n",
    "a = pred_data[\"Close\"].values\n",
    "\n",
    "# Prediction values\n",
    "b = pred_data[\"Predictions\"].values"
   ]
  },
  {
   "cell_type": "code",
   "execution_count": 73,
   "metadata": {
    "colab": {
     "base_uri": "https://localhost:8080/",
     "height": 542
    },
    "id": "ylcN3UslkRU1",
    "outputId": "0b07823f-0db8-4bc2-e829-382be0b04af6"
   },
   "outputs": [
    {
     "data": {
      "text/html": [
       "<html>\n",
       "<head><meta charset=\"utf-8\" /></head>\n",
       "<body>\n",
       "    <div>            <script src=\"https://cdnjs.cloudflare.com/ajax/libs/mathjax/2.7.5/MathJax.js?config=TeX-AMS-MML_SVG\"></script><script type=\"text/javascript\">if (window.MathJax && window.MathJax.Hub && window.MathJax.Hub.Config) {window.MathJax.Hub.Config({SVG: {font: \"STIX-Web\"}});}</script>                <script type=\"text/javascript\">window.PlotlyConfig = {MathJaxConfig: 'local'};</script>\n",
       "        <script charset=\"utf-8\" src=\"https://cdn.plot.ly/plotly-2.35.2.min.js\"></script>                <div id=\"ef59e9a5-e698-4662-8f24-35a32cc7b9de\" class=\"plotly-graph-div\" style=\"height:525px; width:100%;\"></div>            <script type=\"text/javascript\">                                    window.PLOTLYENV=window.PLOTLYENV || {};                                    if (document.getElementById(\"ef59e9a5-e698-4662-8f24-35a32cc7b9de\")) {                    Plotly.newPlot(                        \"ef59e9a5-e698-4662-8f24-35a32cc7b9de\",                        [{\"hovertemplate\":\"Date=%{x}\\u003cbr\\u003eClose=%{y}\\u003cextra\\u003e\\u003c\\u002fextra\\u003e\",\"legendgroup\":\"\",\"line\":{\"color\":\"#636efa\",\"dash\":\"solid\"},\"marker\":{\"symbol\":\"circle\"},\"mode\":\"lines\",\"name\":\"\",\"showlegend\":false,\"x\":[\"2014-01-02T00:00:00+00:00\",\"2014-01-03T00:00:00+00:00\",\"2014-01-06T00:00:00+00:00\",\"2014-01-07T00:00:00+00:00\",\"2014-01-08T00:00:00+00:00\",\"2014-01-09T00:00:00+00:00\",\"2014-01-10T00:00:00+00:00\",\"2014-01-13T00:00:00+00:00\",\"2014-01-14T00:00:00+00:00\",\"2014-01-15T00:00:00+00:00\",\"2014-01-16T00:00:00+00:00\",\"2014-01-17T00:00:00+00:00\",\"2014-01-21T00:00:00+00:00\",\"2014-01-22T00:00:00+00:00\",\"2014-01-23T00:00:00+00:00\",\"2014-01-24T00:00:00+00:00\",\"2014-01-27T00:00:00+00:00\",\"2014-01-28T00:00:00+00:00\",\"2014-01-29T00:00:00+00:00\",\"2014-01-30T00:00:00+00:00\",\"2014-01-31T00:00:00+00:00\",\"2014-02-03T00:00:00+00:00\",\"2014-02-04T00:00:00+00:00\",\"2014-02-05T00:00:00+00:00\",\"2014-02-06T00:00:00+00:00\",\"2014-02-07T00:00:00+00:00\",\"2014-02-10T00:00:00+00:00\",\"2014-02-11T00:00:00+00:00\",\"2014-02-12T00:00:00+00:00\",\"2014-02-13T00:00:00+00:00\",\"2014-02-14T00:00:00+00:00\",\"2014-02-18T00:00:00+00:00\",\"2014-02-19T00:00:00+00:00\",\"2014-02-20T00:00:00+00:00\",\"2014-02-21T00:00:00+00:00\",\"2014-02-24T00:00:00+00:00\",\"2014-02-25T00:00:00+00:00\",\"2014-02-26T00:00:00+00:00\",\"2014-02-27T00:00:00+00:00\",\"2014-02-28T00:00:00+00:00\",\"2014-03-03T00:00:00+00:00\",\"2014-03-04T00:00:00+00:00\",\"2014-03-05T00:00:00+00:00\",\"2014-03-06T00:00:00+00:00\",\"2014-03-07T00:00:00+00:00\",\"2014-03-10T00:00:00+00:00\",\"2014-03-11T00:00:00+00:00\",\"2014-03-12T00:00:00+00:00\",\"2014-03-13T00:00:00+00:00\",\"2014-03-14T00:00:00+00:00\",\"2014-03-17T00:00:00+00:00\",\"2014-03-18T00:00:00+00:00\",\"2014-03-19T00:00:00+00:00\",\"2014-03-20T00:00:00+00:00\",\"2014-03-21T00:00:00+00:00\",\"2014-03-24T00:00:00+00:00\",\"2014-03-25T00:00:00+00:00\",\"2014-03-26T00:00:00+00:00\",\"2014-03-27T00:00:00+00:00\",\"2014-03-28T00:00:00+00:00\",\"2014-03-31T00:00:00+00:00\",\"2014-04-01T00:00:00+00:00\",\"2014-04-02T00:00:00+00:00\",\"2014-04-03T00:00:00+00:00\",\"2014-04-04T00:00:00+00:00\",\"2014-04-07T00:00:00+00:00\",\"2014-04-08T00:00:00+00:00\",\"2014-04-09T00:00:00+00:00\",\"2014-04-10T00:00:00+00:00\",\"2014-04-11T00:00:00+00:00\",\"2014-04-14T00:00:00+00:00\",\"2014-04-15T00:00:00+00:00\",\"2014-04-16T00:00:00+00:00\",\"2014-04-17T00:00:00+00:00\",\"2014-04-21T00:00:00+00:00\",\"2014-04-22T00:00:00+00:00\",\"2014-04-23T00:00:00+00:00\",\"2014-04-24T00:00:00+00:00\",\"2014-04-25T00:00:00+00:00\",\"2014-04-28T00:00:00+00:00\",\"2014-04-29T00:00:00+00:00\",\"2014-04-30T00:00:00+00:00\",\"2014-05-01T00:00:00+00:00\",\"2014-05-02T00:00:00+00:00\",\"2014-05-05T00:00:00+00:00\",\"2014-05-06T00:00:00+00:00\",\"2014-05-07T00:00:00+00:00\",\"2014-05-08T00:00:00+00:00\",\"2014-05-09T00:00:00+00:00\",\"2014-05-12T00:00:00+00:00\",\"2014-05-13T00:00:00+00:00\",\"2014-05-14T00:00:00+00:00\",\"2014-05-15T00:00:00+00:00\",\"2014-05-16T00:00:00+00:00\",\"2014-05-19T00:00:00+00:00\",\"2014-05-20T00:00:00+00:00\",\"2014-05-21T00:00:00+00:00\",\"2014-05-22T00:00:00+00:00\",\"2014-05-23T00:00:00+00:00\",\"2014-05-27T00:00:00+00:00\",\"2014-05-28T00:00:00+00:00\",\"2014-05-29T00:00:00+00:00\",\"2014-05-30T00:00:00+00:00\",\"2014-06-02T00:00:00+00:00\",\"2014-06-03T00:00:00+00:00\",\"2014-06-04T00:00:00+00:00\",\"2014-06-05T00:00:00+00:00\",\"2014-06-06T00:00:00+00:00\",\"2014-06-09T00:00:00+00:00\",\"2014-06-10T00:00:00+00:00\",\"2014-06-11T00:00:00+00:00\",\"2014-06-12T00:00:00+00:00\",\"2014-06-13T00:00:00+00:00\",\"2014-06-16T00:00:00+00:00\",\"2014-06-17T00:00:00+00:00\",\"2014-06-18T00:00:00+00:00\",\"2014-06-19T00:00:00+00:00\",\"2014-06-20T00:00:00+00:00\",\"2014-06-23T00:00:00+00:00\",\"2014-06-24T00:00:00+00:00\",\"2014-06-25T00:00:00+00:00\",\"2014-06-26T00:00:00+00:00\",\"2014-06-27T00:00:00+00:00\",\"2014-06-30T00:00:00+00:00\",\"2014-07-01T00:00:00+00:00\",\"2014-07-02T00:00:00+00:00\",\"2014-07-03T00:00:00+00:00\",\"2014-07-07T00:00:00+00:00\",\"2014-07-08T00:00:00+00:00\",\"2014-07-09T00:00:00+00:00\",\"2014-07-10T00:00:00+00:00\",\"2014-07-11T00:00:00+00:00\",\"2014-07-14T00:00:00+00:00\",\"2014-07-15T00:00:00+00:00\",\"2014-07-16T00:00:00+00:00\",\"2014-07-17T00:00:00+00:00\",\"2014-07-18T00:00:00+00:00\",\"2014-07-21T00:00:00+00:00\",\"2014-07-22T00:00:00+00:00\",\"2014-07-23T00:00:00+00:00\",\"2014-07-24T00:00:00+00:00\",\"2014-07-25T00:00:00+00:00\",\"2014-07-28T00:00:00+00:00\",\"2014-07-29T00:00:00+00:00\",\"2014-07-30T00:00:00+00:00\",\"2014-07-31T00:00:00+00:00\",\"2014-08-01T00:00:00+00:00\",\"2014-08-04T00:00:00+00:00\",\"2014-08-05T00:00:00+00:00\",\"2014-08-06T00:00:00+00:00\",\"2014-08-07T00:00:00+00:00\",\"2014-08-08T00:00:00+00:00\",\"2014-08-11T00:00:00+00:00\",\"2014-08-12T00:00:00+00:00\",\"2014-08-13T00:00:00+00:00\",\"2014-08-14T00:00:00+00:00\",\"2014-08-15T00:00:00+00:00\",\"2014-08-18T00:00:00+00:00\",\"2014-08-19T00:00:00+00:00\",\"2014-08-20T00:00:00+00:00\",\"2014-08-21T00:00:00+00:00\",\"2014-08-22T00:00:00+00:00\",\"2014-08-25T00:00:00+00:00\",\"2014-08-26T00:00:00+00:00\",\"2014-08-27T00:00:00+00:00\",\"2014-08-28T00:00:00+00:00\",\"2014-08-29T00:00:00+00:00\",\"2014-09-02T00:00:00+00:00\",\"2014-09-03T00:00:00+00:00\",\"2014-09-04T00:00:00+00:00\",\"2014-09-05T00:00:00+00:00\",\"2014-09-08T00:00:00+00:00\",\"2014-09-09T00:00:00+00:00\",\"2014-09-10T00:00:00+00:00\",\"2014-09-11T00:00:00+00:00\",\"2014-09-12T00:00:00+00:00\",\"2014-09-15T00:00:00+00:00\",\"2014-09-16T00:00:00+00:00\",\"2014-09-17T00:00:00+00:00\",\"2014-09-18T00:00:00+00:00\",\"2014-09-19T00:00:00+00:00\",\"2014-09-22T00:00:00+00:00\",\"2014-09-23T00:00:00+00:00\",\"2014-09-24T00:00:00+00:00\",\"2014-09-25T00:00:00+00:00\",\"2014-09-26T00:00:00+00:00\",\"2014-09-29T00:00:00+00:00\",\"2014-09-30T00:00:00+00:00\",\"2014-10-01T00:00:00+00:00\",\"2014-10-02T00:00:00+00:00\",\"2014-10-03T00:00:00+00:00\",\"2014-10-06T00:00:00+00:00\",\"2014-10-07T00:00:00+00:00\",\"2014-10-08T00:00:00+00:00\",\"2014-10-09T00:00:00+00:00\",\"2014-10-10T00:00:00+00:00\",\"2014-10-13T00:00:00+00:00\",\"2014-10-14T00:00:00+00:00\",\"2014-10-15T00:00:00+00:00\",\"2014-10-16T00:00:00+00:00\",\"2014-10-17T00:00:00+00:00\",\"2014-10-20T00:00:00+00:00\",\"2014-10-21T00:00:00+00:00\",\"2014-10-22T00:00:00+00:00\",\"2014-10-23T00:00:00+00:00\",\"2014-10-24T00:00:00+00:00\",\"2014-10-27T00:00:00+00:00\",\"2014-10-28T00:00:00+00:00\",\"2014-10-29T00:00:00+00:00\",\"2014-10-30T00:00:00+00:00\",\"2014-10-31T00:00:00+00:00\",\"2014-11-03T00:00:00+00:00\",\"2014-11-04T00:00:00+00:00\",\"2014-11-05T00:00:00+00:00\",\"2014-11-06T00:00:00+00:00\",\"2014-11-07T00:00:00+00:00\",\"2014-11-10T00:00:00+00:00\",\"2014-11-11T00:00:00+00:00\",\"2014-11-12T00:00:00+00:00\",\"2014-11-13T00:00:00+00:00\",\"2014-11-14T00:00:00+00:00\",\"2014-11-17T00:00:00+00:00\",\"2014-11-18T00:00:00+00:00\",\"2014-11-19T00:00:00+00:00\",\"2014-11-20T00:00:00+00:00\",\"2014-11-21T00:00:00+00:00\",\"2014-11-24T00:00:00+00:00\",\"2014-11-25T00:00:00+00:00\",\"2014-11-26T00:00:00+00:00\",\"2014-11-28T00:00:00+00:00\",\"2014-12-01T00:00:00+00:00\",\"2014-12-02T00:00:00+00:00\",\"2014-12-03T00:00:00+00:00\",\"2014-12-04T00:00:00+00:00\",\"2014-12-05T00:00:00+00:00\",\"2014-12-08T00:00:00+00:00\",\"2014-12-09T00:00:00+00:00\",\"2014-12-10T00:00:00+00:00\",\"2014-12-11T00:00:00+00:00\",\"2014-12-12T00:00:00+00:00\",\"2014-12-15T00:00:00+00:00\",\"2014-12-16T00:00:00+00:00\",\"2014-12-17T00:00:00+00:00\",\"2014-12-18T00:00:00+00:00\",\"2014-12-19T00:00:00+00:00\",\"2014-12-22T00:00:00+00:00\",\"2014-12-23T00:00:00+00:00\",\"2014-12-24T00:00:00+00:00\",\"2014-12-26T00:00:00+00:00\",\"2014-12-29T00:00:00+00:00\",\"2014-12-30T00:00:00+00:00\",\"2014-12-31T00:00:00+00:00\",\"2015-01-02T00:00:00+00:00\",\"2015-01-05T00:00:00+00:00\",\"2015-01-06T00:00:00+00:00\",\"2015-01-07T00:00:00+00:00\",\"2015-01-08T00:00:00+00:00\",\"2015-01-09T00:00:00+00:00\",\"2015-01-12T00:00:00+00:00\",\"2015-01-13T00:00:00+00:00\",\"2015-01-14T00:00:00+00:00\",\"2015-01-15T00:00:00+00:00\",\"2015-01-16T00:00:00+00:00\",\"2015-01-20T00:00:00+00:00\",\"2015-01-21T00:00:00+00:00\",\"2015-01-22T00:00:00+00:00\",\"2015-01-23T00:00:00+00:00\",\"2015-01-26T00:00:00+00:00\",\"2015-01-27T00:00:00+00:00\",\"2015-01-28T00:00:00+00:00\",\"2015-01-29T00:00:00+00:00\",\"2015-01-30T00:00:00+00:00\",\"2015-02-02T00:00:00+00:00\",\"2015-02-03T00:00:00+00:00\",\"2015-02-04T00:00:00+00:00\",\"2015-02-05T00:00:00+00:00\",\"2015-02-06T00:00:00+00:00\",\"2015-02-09T00:00:00+00:00\",\"2015-02-10T00:00:00+00:00\",\"2015-02-11T00:00:00+00:00\",\"2015-02-12T00:00:00+00:00\",\"2015-02-13T00:00:00+00:00\",\"2015-02-17T00:00:00+00:00\",\"2015-02-18T00:00:00+00:00\",\"2015-02-19T00:00:00+00:00\",\"2015-02-20T00:00:00+00:00\",\"2015-02-23T00:00:00+00:00\",\"2015-02-24T00:00:00+00:00\",\"2015-02-25T00:00:00+00:00\",\"2015-02-26T00:00:00+00:00\",\"2015-02-27T00:00:00+00:00\",\"2015-03-02T00:00:00+00:00\",\"2015-03-03T00:00:00+00:00\",\"2015-03-04T00:00:00+00:00\",\"2015-03-05T00:00:00+00:00\",\"2015-03-06T00:00:00+00:00\",\"2015-03-09T00:00:00+00:00\",\"2015-03-10T00:00:00+00:00\",\"2015-03-11T00:00:00+00:00\",\"2015-03-12T00:00:00+00:00\",\"2015-03-13T00:00:00+00:00\",\"2015-03-16T00:00:00+00:00\",\"2015-03-17T00:00:00+00:00\",\"2015-03-18T00:00:00+00:00\",\"2015-03-19T00:00:00+00:00\",\"2015-03-20T00:00:00+00:00\",\"2015-03-23T00:00:00+00:00\",\"2015-03-24T00:00:00+00:00\",\"2015-03-25T00:00:00+00:00\",\"2015-03-26T00:00:00+00:00\",\"2015-03-27T00:00:00+00:00\",\"2015-03-30T00:00:00+00:00\",\"2015-03-31T00:00:00+00:00\",\"2015-04-01T00:00:00+00:00\",\"2015-04-02T00:00:00+00:00\",\"2015-04-06T00:00:00+00:00\",\"2015-04-07T00:00:00+00:00\",\"2015-04-08T00:00:00+00:00\",\"2015-04-09T00:00:00+00:00\",\"2015-04-10T00:00:00+00:00\",\"2015-04-13T00:00:00+00:00\",\"2015-04-14T00:00:00+00:00\",\"2015-04-15T00:00:00+00:00\",\"2015-04-16T00:00:00+00:00\",\"2015-04-17T00:00:00+00:00\",\"2015-04-20T00:00:00+00:00\",\"2015-04-21T00:00:00+00:00\",\"2015-04-22T00:00:00+00:00\",\"2015-04-23T00:00:00+00:00\",\"2015-04-24T00:00:00+00:00\",\"2015-04-27T00:00:00+00:00\",\"2015-04-28T00:00:00+00:00\",\"2015-04-29T00:00:00+00:00\",\"2015-04-30T00:00:00+00:00\",\"2015-05-01T00:00:00+00:00\",\"2015-05-04T00:00:00+00:00\",\"2015-05-05T00:00:00+00:00\",\"2015-05-06T00:00:00+00:00\",\"2015-05-07T00:00:00+00:00\",\"2015-05-08T00:00:00+00:00\",\"2015-05-11T00:00:00+00:00\",\"2015-05-12T00:00:00+00:00\",\"2015-05-13T00:00:00+00:00\",\"2015-05-14T00:00:00+00:00\",\"2015-05-15T00:00:00+00:00\",\"2015-05-18T00:00:00+00:00\",\"2015-05-19T00:00:00+00:00\",\"2015-05-20T00:00:00+00:00\",\"2015-05-21T00:00:00+00:00\",\"2015-05-22T00:00:00+00:00\",\"2015-05-26T00:00:00+00:00\",\"2015-05-27T00:00:00+00:00\",\"2015-05-28T00:00:00+00:00\",\"2015-05-29T00:00:00+00:00\",\"2015-06-01T00:00:00+00:00\",\"2015-06-02T00:00:00+00:00\",\"2015-06-03T00:00:00+00:00\",\"2015-06-04T00:00:00+00:00\",\"2015-06-05T00:00:00+00:00\",\"2015-06-08T00:00:00+00:00\",\"2015-06-09T00:00:00+00:00\",\"2015-06-10T00:00:00+00:00\",\"2015-06-11T00:00:00+00:00\",\"2015-06-12T00:00:00+00:00\",\"2015-06-15T00:00:00+00:00\",\"2015-06-16T00:00:00+00:00\",\"2015-06-17T00:00:00+00:00\",\"2015-06-18T00:00:00+00:00\",\"2015-06-19T00:00:00+00:00\",\"2015-06-22T00:00:00+00:00\",\"2015-06-23T00:00:00+00:00\",\"2015-06-24T00:00:00+00:00\",\"2015-06-25T00:00:00+00:00\",\"2015-06-26T00:00:00+00:00\",\"2015-06-29T00:00:00+00:00\",\"2015-06-30T00:00:00+00:00\",\"2015-07-01T00:00:00+00:00\",\"2015-07-02T00:00:00+00:00\",\"2015-07-06T00:00:00+00:00\",\"2015-07-07T00:00:00+00:00\",\"2015-07-08T00:00:00+00:00\",\"2015-07-09T00:00:00+00:00\",\"2015-07-10T00:00:00+00:00\",\"2015-07-13T00:00:00+00:00\",\"2015-07-14T00:00:00+00:00\",\"2015-07-15T00:00:00+00:00\",\"2015-07-16T00:00:00+00:00\",\"2015-07-17T00:00:00+00:00\",\"2015-07-20T00:00:00+00:00\",\"2015-07-21T00:00:00+00:00\",\"2015-07-22T00:00:00+00:00\",\"2015-07-23T00:00:00+00:00\",\"2015-07-24T00:00:00+00:00\",\"2015-07-27T00:00:00+00:00\",\"2015-07-28T00:00:00+00:00\",\"2015-07-29T00:00:00+00:00\",\"2015-07-30T00:00:00+00:00\",\"2015-07-31T00:00:00+00:00\",\"2015-08-03T00:00:00+00:00\",\"2015-08-04T00:00:00+00:00\",\"2015-08-05T00:00:00+00:00\",\"2015-08-06T00:00:00+00:00\",\"2015-08-07T00:00:00+00:00\",\"2015-08-10T00:00:00+00:00\",\"2015-08-11T00:00:00+00:00\",\"2015-08-12T00:00:00+00:00\",\"2015-08-13T00:00:00+00:00\",\"2015-08-14T00:00:00+00:00\",\"2015-08-17T00:00:00+00:00\",\"2015-08-18T00:00:00+00:00\",\"2015-08-19T00:00:00+00:00\",\"2015-08-20T00:00:00+00:00\",\"2015-08-21T00:00:00+00:00\",\"2015-08-24T00:00:00+00:00\",\"2015-08-25T00:00:00+00:00\",\"2015-08-26T00:00:00+00:00\",\"2015-08-27T00:00:00+00:00\",\"2015-08-28T00:00:00+00:00\",\"2015-08-31T00:00:00+00:00\",\"2015-09-01T00:00:00+00:00\",\"2015-09-02T00:00:00+00:00\",\"2015-09-03T00:00:00+00:00\",\"2015-09-04T00:00:00+00:00\",\"2015-09-08T00:00:00+00:00\",\"2015-09-09T00:00:00+00:00\",\"2015-09-10T00:00:00+00:00\",\"2015-09-11T00:00:00+00:00\",\"2015-09-14T00:00:00+00:00\",\"2015-09-15T00:00:00+00:00\",\"2015-09-16T00:00:00+00:00\",\"2015-09-17T00:00:00+00:00\",\"2015-09-18T00:00:00+00:00\",\"2015-09-21T00:00:00+00:00\",\"2015-09-22T00:00:00+00:00\",\"2015-09-23T00:00:00+00:00\",\"2015-09-24T00:00:00+00:00\",\"2015-09-25T00:00:00+00:00\",\"2015-09-28T00:00:00+00:00\",\"2015-09-29T00:00:00+00:00\",\"2015-09-30T00:00:00+00:00\",\"2015-10-01T00:00:00+00:00\",\"2015-10-02T00:00:00+00:00\",\"2015-10-05T00:00:00+00:00\",\"2015-10-06T00:00:00+00:00\",\"2015-10-07T00:00:00+00:00\",\"2015-10-08T00:00:00+00:00\",\"2015-10-09T00:00:00+00:00\",\"2015-10-12T00:00:00+00:00\",\"2015-10-13T00:00:00+00:00\",\"2015-10-14T00:00:00+00:00\",\"2015-10-15T00:00:00+00:00\",\"2015-10-16T00:00:00+00:00\",\"2015-10-19T00:00:00+00:00\",\"2015-10-20T00:00:00+00:00\",\"2015-10-21T00:00:00+00:00\",\"2015-10-22T00:00:00+00:00\",\"2015-10-23T00:00:00+00:00\",\"2015-10-26T00:00:00+00:00\",\"2015-10-27T00:00:00+00:00\",\"2015-10-28T00:00:00+00:00\",\"2015-10-29T00:00:00+00:00\",\"2015-10-30T00:00:00+00:00\",\"2015-11-02T00:00:00+00:00\",\"2015-11-03T00:00:00+00:00\",\"2015-11-04T00:00:00+00:00\",\"2015-11-05T00:00:00+00:00\",\"2015-11-06T00:00:00+00:00\",\"2015-11-09T00:00:00+00:00\",\"2015-11-10T00:00:00+00:00\",\"2015-11-11T00:00:00+00:00\",\"2015-11-12T00:00:00+00:00\",\"2015-11-13T00:00:00+00:00\",\"2015-11-16T00:00:00+00:00\",\"2015-11-17T00:00:00+00:00\",\"2015-11-18T00:00:00+00:00\",\"2015-11-19T00:00:00+00:00\",\"2015-11-20T00:00:00+00:00\",\"2015-11-23T00:00:00+00:00\",\"2015-11-24T00:00:00+00:00\",\"2015-11-25T00:00:00+00:00\",\"2015-11-27T00:00:00+00:00\",\"2015-11-30T00:00:00+00:00\",\"2015-12-01T00:00:00+00:00\",\"2015-12-02T00:00:00+00:00\",\"2015-12-03T00:00:00+00:00\",\"2015-12-04T00:00:00+00:00\",\"2015-12-07T00:00:00+00:00\",\"2015-12-08T00:00:00+00:00\",\"2015-12-09T00:00:00+00:00\",\"2015-12-10T00:00:00+00:00\",\"2015-12-11T00:00:00+00:00\",\"2015-12-14T00:00:00+00:00\",\"2015-12-15T00:00:00+00:00\",\"2015-12-16T00:00:00+00:00\",\"2015-12-17T00:00:00+00:00\",\"2015-12-18T00:00:00+00:00\",\"2015-12-21T00:00:00+00:00\",\"2015-12-22T00:00:00+00:00\",\"2015-12-23T00:00:00+00:00\",\"2015-12-24T00:00:00+00:00\",\"2015-12-28T00:00:00+00:00\",\"2015-12-29T00:00:00+00:00\",\"2015-12-30T00:00:00+00:00\",\"2015-12-31T00:00:00+00:00\",\"2016-01-04T00:00:00+00:00\",\"2016-01-05T00:00:00+00:00\",\"2016-01-06T00:00:00+00:00\",\"2016-01-07T00:00:00+00:00\",\"2016-01-08T00:00:00+00:00\",\"2016-01-11T00:00:00+00:00\",\"2016-01-12T00:00:00+00:00\",\"2016-01-13T00:00:00+00:00\",\"2016-01-14T00:00:00+00:00\",\"2016-01-15T00:00:00+00:00\",\"2016-01-19T00:00:00+00:00\",\"2016-01-20T00:00:00+00:00\",\"2016-01-21T00:00:00+00:00\",\"2016-01-22T00:00:00+00:00\",\"2016-01-25T00:00:00+00:00\",\"2016-01-26T00:00:00+00:00\",\"2016-01-27T00:00:00+00:00\",\"2016-01-28T00:00:00+00:00\",\"2016-01-29T00:00:00+00:00\",\"2016-02-01T00:00:00+00:00\",\"2016-02-02T00:00:00+00:00\",\"2016-02-03T00:00:00+00:00\",\"2016-02-04T00:00:00+00:00\",\"2016-02-05T00:00:00+00:00\",\"2016-02-08T00:00:00+00:00\",\"2016-02-09T00:00:00+00:00\",\"2016-02-10T00:00:00+00:00\",\"2016-02-11T00:00:00+00:00\",\"2016-02-12T00:00:00+00:00\",\"2016-02-16T00:00:00+00:00\",\"2016-02-17T00:00:00+00:00\",\"2016-02-18T00:00:00+00:00\",\"2016-02-19T00:00:00+00:00\",\"2016-02-22T00:00:00+00:00\",\"2016-02-23T00:00:00+00:00\",\"2016-02-24T00:00:00+00:00\",\"2016-02-25T00:00:00+00:00\",\"2016-02-26T00:00:00+00:00\",\"2016-02-29T00:00:00+00:00\",\"2016-03-01T00:00:00+00:00\",\"2016-03-02T00:00:00+00:00\",\"2016-03-03T00:00:00+00:00\",\"2016-03-04T00:00:00+00:00\",\"2016-03-07T00:00:00+00:00\",\"2016-03-08T00:00:00+00:00\",\"2016-03-09T00:00:00+00:00\",\"2016-03-10T00:00:00+00:00\",\"2016-03-11T00:00:00+00:00\",\"2016-03-14T00:00:00+00:00\",\"2016-03-15T00:00:00+00:00\",\"2016-03-16T00:00:00+00:00\",\"2016-03-17T00:00:00+00:00\",\"2016-03-18T00:00:00+00:00\",\"2016-03-21T00:00:00+00:00\",\"2016-03-22T00:00:00+00:00\",\"2016-03-23T00:00:00+00:00\",\"2016-03-24T00:00:00+00:00\",\"2016-03-28T00:00:00+00:00\",\"2016-03-29T00:00:00+00:00\",\"2016-03-30T00:00:00+00:00\",\"2016-03-31T00:00:00+00:00\",\"2016-04-01T00:00:00+00:00\",\"2016-04-04T00:00:00+00:00\",\"2016-04-05T00:00:00+00:00\",\"2016-04-06T00:00:00+00:00\",\"2016-04-07T00:00:00+00:00\",\"2016-04-08T00:00:00+00:00\",\"2016-04-11T00:00:00+00:00\",\"2016-04-12T00:00:00+00:00\",\"2016-04-13T00:00:00+00:00\",\"2016-04-14T00:00:00+00:00\",\"2016-04-15T00:00:00+00:00\",\"2016-04-18T00:00:00+00:00\",\"2016-04-19T00:00:00+00:00\",\"2016-04-20T00:00:00+00:00\",\"2016-04-21T00:00:00+00:00\",\"2016-04-22T00:00:00+00:00\",\"2016-04-25T00:00:00+00:00\",\"2016-04-26T00:00:00+00:00\",\"2016-04-27T00:00:00+00:00\",\"2016-04-28T00:00:00+00:00\",\"2016-04-29T00:00:00+00:00\",\"2016-05-02T00:00:00+00:00\",\"2016-05-03T00:00:00+00:00\",\"2016-05-04T00:00:00+00:00\",\"2016-05-05T00:00:00+00:00\",\"2016-05-06T00:00:00+00:00\",\"2016-05-09T00:00:00+00:00\",\"2016-05-10T00:00:00+00:00\",\"2016-05-11T00:00:00+00:00\",\"2016-05-12T00:00:00+00:00\",\"2016-05-13T00:00:00+00:00\",\"2016-05-16T00:00:00+00:00\",\"2016-05-17T00:00:00+00:00\",\"2016-05-18T00:00:00+00:00\",\"2016-05-19T00:00:00+00:00\",\"2016-05-20T00:00:00+00:00\",\"2016-05-23T00:00:00+00:00\",\"2016-05-24T00:00:00+00:00\",\"2016-05-25T00:00:00+00:00\",\"2016-05-26T00:00:00+00:00\",\"2016-05-27T00:00:00+00:00\",\"2016-05-31T00:00:00+00:00\",\"2016-06-01T00:00:00+00:00\",\"2016-06-02T00:00:00+00:00\",\"2016-06-03T00:00:00+00:00\",\"2016-06-06T00:00:00+00:00\",\"2016-06-07T00:00:00+00:00\",\"2016-06-08T00:00:00+00:00\",\"2016-06-09T00:00:00+00:00\",\"2016-06-10T00:00:00+00:00\",\"2016-06-13T00:00:00+00:00\",\"2016-06-14T00:00:00+00:00\",\"2016-06-15T00:00:00+00:00\",\"2016-06-16T00:00:00+00:00\",\"2016-06-17T00:00:00+00:00\",\"2016-06-20T00:00:00+00:00\",\"2016-06-21T00:00:00+00:00\",\"2016-06-22T00:00:00+00:00\",\"2016-06-23T00:00:00+00:00\",\"2016-06-24T00:00:00+00:00\",\"2016-06-27T00:00:00+00:00\",\"2016-06-28T00:00:00+00:00\",\"2016-06-29T00:00:00+00:00\",\"2016-06-30T00:00:00+00:00\",\"2016-07-01T00:00:00+00:00\",\"2016-07-05T00:00:00+00:00\",\"2016-07-06T00:00:00+00:00\",\"2016-07-07T00:00:00+00:00\",\"2016-07-08T00:00:00+00:00\",\"2016-07-11T00:00:00+00:00\",\"2016-07-12T00:00:00+00:00\",\"2016-07-13T00:00:00+00:00\",\"2016-07-14T00:00:00+00:00\",\"2016-07-15T00:00:00+00:00\",\"2016-07-18T00:00:00+00:00\",\"2016-07-19T00:00:00+00:00\",\"2016-07-20T00:00:00+00:00\",\"2016-07-21T00:00:00+00:00\",\"2016-07-22T00:00:00+00:00\",\"2016-07-25T00:00:00+00:00\",\"2016-07-26T00:00:00+00:00\",\"2016-07-27T00:00:00+00:00\",\"2016-07-28T00:00:00+00:00\",\"2016-07-29T00:00:00+00:00\",\"2016-08-01T00:00:00+00:00\",\"2016-08-02T00:00:00+00:00\",\"2016-08-03T00:00:00+00:00\",\"2016-08-04T00:00:00+00:00\",\"2016-08-05T00:00:00+00:00\",\"2016-08-08T00:00:00+00:00\",\"2016-08-09T00:00:00+00:00\",\"2016-08-10T00:00:00+00:00\",\"2016-08-11T00:00:00+00:00\",\"2016-08-12T00:00:00+00:00\",\"2016-08-15T00:00:00+00:00\",\"2016-08-16T00:00:00+00:00\",\"2016-08-17T00:00:00+00:00\",\"2016-08-18T00:00:00+00:00\",\"2016-08-19T00:00:00+00:00\",\"2016-08-22T00:00:00+00:00\",\"2016-08-23T00:00:00+00:00\",\"2016-08-24T00:00:00+00:00\",\"2016-08-25T00:00:00+00:00\",\"2016-08-26T00:00:00+00:00\",\"2016-08-29T00:00:00+00:00\",\"2016-08-30T00:00:00+00:00\",\"2016-08-31T00:00:00+00:00\",\"2016-09-01T00:00:00+00:00\",\"2016-09-02T00:00:00+00:00\",\"2016-09-06T00:00:00+00:00\",\"2016-09-07T00:00:00+00:00\",\"2016-09-08T00:00:00+00:00\",\"2016-09-09T00:00:00+00:00\",\"2016-09-12T00:00:00+00:00\",\"2016-09-13T00:00:00+00:00\",\"2016-09-14T00:00:00+00:00\",\"2016-09-15T00:00:00+00:00\",\"2016-09-16T00:00:00+00:00\",\"2016-09-19T00:00:00+00:00\",\"2016-09-20T00:00:00+00:00\",\"2016-09-21T00:00:00+00:00\",\"2016-09-22T00:00:00+00:00\",\"2016-09-23T00:00:00+00:00\",\"2016-09-26T00:00:00+00:00\",\"2016-09-27T00:00:00+00:00\",\"2016-09-28T00:00:00+00:00\",\"2016-09-29T00:00:00+00:00\",\"2016-09-30T00:00:00+00:00\",\"2016-10-03T00:00:00+00:00\",\"2016-10-04T00:00:00+00:00\",\"2016-10-05T00:00:00+00:00\",\"2016-10-06T00:00:00+00:00\",\"2016-10-07T00:00:00+00:00\",\"2016-10-10T00:00:00+00:00\",\"2016-10-11T00:00:00+00:00\",\"2016-10-12T00:00:00+00:00\",\"2016-10-13T00:00:00+00:00\",\"2016-10-14T00:00:00+00:00\",\"2016-10-17T00:00:00+00:00\",\"2016-10-18T00:00:00+00:00\",\"2016-10-19T00:00:00+00:00\",\"2016-10-20T00:00:00+00:00\",\"2016-10-21T00:00:00+00:00\",\"2016-10-24T00:00:00+00:00\",\"2016-10-25T00:00:00+00:00\",\"2016-10-26T00:00:00+00:00\",\"2016-10-27T00:00:00+00:00\",\"2016-10-28T00:00:00+00:00\",\"2016-10-31T00:00:00+00:00\",\"2016-11-01T00:00:00+00:00\",\"2016-11-02T00:00:00+00:00\",\"2016-11-03T00:00:00+00:00\",\"2016-11-04T00:00:00+00:00\",\"2016-11-07T00:00:00+00:00\",\"2016-11-08T00:00:00+00:00\",\"2016-11-09T00:00:00+00:00\",\"2016-11-10T00:00:00+00:00\",\"2016-11-11T00:00:00+00:00\",\"2016-11-14T00:00:00+00:00\",\"2016-11-15T00:00:00+00:00\",\"2016-11-16T00:00:00+00:00\",\"2016-11-17T00:00:00+00:00\",\"2016-11-18T00:00:00+00:00\",\"2016-11-21T00:00:00+00:00\",\"2016-11-22T00:00:00+00:00\",\"2016-11-23T00:00:00+00:00\",\"2016-11-25T00:00:00+00:00\",\"2016-11-28T00:00:00+00:00\",\"2016-11-29T00:00:00+00:00\",\"2016-11-30T00:00:00+00:00\",\"2016-12-01T00:00:00+00:00\",\"2016-12-02T00:00:00+00:00\",\"2016-12-05T00:00:00+00:00\",\"2016-12-06T00:00:00+00:00\",\"2016-12-07T00:00:00+00:00\",\"2016-12-08T00:00:00+00:00\",\"2016-12-09T00:00:00+00:00\",\"2016-12-12T00:00:00+00:00\",\"2016-12-13T00:00:00+00:00\",\"2016-12-14T00:00:00+00:00\",\"2016-12-15T00:00:00+00:00\",\"2016-12-16T00:00:00+00:00\",\"2016-12-19T00:00:00+00:00\",\"2016-12-20T00:00:00+00:00\",\"2016-12-21T00:00:00+00:00\",\"2016-12-22T00:00:00+00:00\",\"2016-12-23T00:00:00+00:00\",\"2016-12-27T00:00:00+00:00\",\"2016-12-28T00:00:00+00:00\",\"2016-12-29T00:00:00+00:00\",\"2016-12-30T00:00:00+00:00\",\"2017-01-03T00:00:00+00:00\",\"2017-01-04T00:00:00+00:00\",\"2017-01-05T00:00:00+00:00\",\"2017-01-06T00:00:00+00:00\",\"2017-01-09T00:00:00+00:00\",\"2017-01-10T00:00:00+00:00\",\"2017-01-11T00:00:00+00:00\",\"2017-01-12T00:00:00+00:00\",\"2017-01-13T00:00:00+00:00\",\"2017-01-17T00:00:00+00:00\",\"2017-01-18T00:00:00+00:00\",\"2017-01-19T00:00:00+00:00\",\"2017-01-20T00:00:00+00:00\",\"2017-01-23T00:00:00+00:00\",\"2017-01-24T00:00:00+00:00\",\"2017-01-25T00:00:00+00:00\",\"2017-01-26T00:00:00+00:00\",\"2017-01-27T00:00:00+00:00\",\"2017-01-30T00:00:00+00:00\",\"2017-01-31T00:00:00+00:00\",\"2017-02-01T00:00:00+00:00\",\"2017-02-02T00:00:00+00:00\",\"2017-02-03T00:00:00+00:00\",\"2017-02-06T00:00:00+00:00\",\"2017-02-07T00:00:00+00:00\",\"2017-02-08T00:00:00+00:00\",\"2017-02-09T00:00:00+00:00\",\"2017-02-10T00:00:00+00:00\",\"2017-02-13T00:00:00+00:00\",\"2017-02-14T00:00:00+00:00\",\"2017-02-15T00:00:00+00:00\",\"2017-02-16T00:00:00+00:00\",\"2017-02-17T00:00:00+00:00\",\"2017-02-21T00:00:00+00:00\",\"2017-02-22T00:00:00+00:00\",\"2017-02-23T00:00:00+00:00\",\"2017-02-24T00:00:00+00:00\",\"2017-02-27T00:00:00+00:00\",\"2017-02-28T00:00:00+00:00\",\"2017-03-01T00:00:00+00:00\",\"2017-03-02T00:00:00+00:00\",\"2017-03-03T00:00:00+00:00\",\"2017-03-06T00:00:00+00:00\",\"2017-03-07T00:00:00+00:00\",\"2017-03-08T00:00:00+00:00\",\"2017-03-09T00:00:00+00:00\",\"2017-03-10T00:00:00+00:00\",\"2017-03-13T00:00:00+00:00\",\"2017-03-14T00:00:00+00:00\",\"2017-03-15T00:00:00+00:00\",\"2017-03-16T00:00:00+00:00\",\"2017-03-17T00:00:00+00:00\",\"2017-03-20T00:00:00+00:00\",\"2017-03-21T00:00:00+00:00\",\"2017-03-22T00:00:00+00:00\",\"2017-03-23T00:00:00+00:00\",\"2017-03-24T00:00:00+00:00\",\"2017-03-27T00:00:00+00:00\",\"2017-03-28T00:00:00+00:00\",\"2017-03-29T00:00:00+00:00\",\"2017-03-30T00:00:00+00:00\",\"2017-03-31T00:00:00+00:00\",\"2017-04-03T00:00:00+00:00\",\"2017-04-04T00:00:00+00:00\",\"2017-04-05T00:00:00+00:00\",\"2017-04-06T00:00:00+00:00\",\"2017-04-07T00:00:00+00:00\",\"2017-04-10T00:00:00+00:00\",\"2017-04-11T00:00:00+00:00\",\"2017-04-12T00:00:00+00:00\",\"2017-04-13T00:00:00+00:00\",\"2017-04-17T00:00:00+00:00\",\"2017-04-18T00:00:00+00:00\",\"2017-04-19T00:00:00+00:00\",\"2017-04-20T00:00:00+00:00\",\"2017-04-21T00:00:00+00:00\",\"2017-04-24T00:00:00+00:00\",\"2017-04-25T00:00:00+00:00\",\"2017-04-26T00:00:00+00:00\",\"2017-04-27T00:00:00+00:00\",\"2017-04-28T00:00:00+00:00\",\"2017-05-01T00:00:00+00:00\",\"2017-05-02T00:00:00+00:00\",\"2017-05-03T00:00:00+00:00\",\"2017-05-04T00:00:00+00:00\",\"2017-05-05T00:00:00+00:00\",\"2017-05-08T00:00:00+00:00\",\"2017-05-09T00:00:00+00:00\",\"2017-05-10T00:00:00+00:00\",\"2017-05-11T00:00:00+00:00\",\"2017-05-12T00:00:00+00:00\",\"2017-05-15T00:00:00+00:00\",\"2017-05-16T00:00:00+00:00\",\"2017-05-17T00:00:00+00:00\",\"2017-05-18T00:00:00+00:00\",\"2017-05-19T00:00:00+00:00\",\"2017-05-22T00:00:00+00:00\",\"2017-05-23T00:00:00+00:00\",\"2017-05-24T00:00:00+00:00\",\"2017-05-25T00:00:00+00:00\",\"2017-05-26T00:00:00+00:00\",\"2017-05-30T00:00:00+00:00\",\"2017-05-31T00:00:00+00:00\",\"2017-06-01T00:00:00+00:00\",\"2017-06-02T00:00:00+00:00\",\"2017-06-05T00:00:00+00:00\",\"2017-06-06T00:00:00+00:00\",\"2017-06-07T00:00:00+00:00\",\"2017-06-08T00:00:00+00:00\",\"2017-06-09T00:00:00+00:00\",\"2017-06-12T00:00:00+00:00\",\"2017-06-13T00:00:00+00:00\",\"2017-06-14T00:00:00+00:00\",\"2017-06-15T00:00:00+00:00\",\"2017-06-16T00:00:00+00:00\",\"2017-06-19T00:00:00+00:00\",\"2017-06-20T00:00:00+00:00\",\"2017-06-21T00:00:00+00:00\",\"2017-06-22T00:00:00+00:00\",\"2017-06-23T00:00:00+00:00\",\"2017-06-26T00:00:00+00:00\",\"2017-06-27T00:00:00+00:00\",\"2017-06-28T00:00:00+00:00\",\"2017-06-29T00:00:00+00:00\",\"2017-06-30T00:00:00+00:00\",\"2017-07-03T00:00:00+00:00\",\"2017-07-05T00:00:00+00:00\",\"2017-07-06T00:00:00+00:00\",\"2017-07-07T00:00:00+00:00\",\"2017-07-10T00:00:00+00:00\",\"2017-07-11T00:00:00+00:00\",\"2017-07-12T00:00:00+00:00\",\"2017-07-13T00:00:00+00:00\",\"2017-07-14T00:00:00+00:00\",\"2017-07-17T00:00:00+00:00\",\"2017-07-18T00:00:00+00:00\",\"2017-07-19T00:00:00+00:00\",\"2017-07-20T00:00:00+00:00\",\"2017-07-21T00:00:00+00:00\",\"2017-07-24T00:00:00+00:00\",\"2017-07-25T00:00:00+00:00\",\"2017-07-26T00:00:00+00:00\",\"2017-07-27T00:00:00+00:00\",\"2017-07-28T00:00:00+00:00\",\"2017-07-31T00:00:00+00:00\",\"2017-08-01T00:00:00+00:00\",\"2017-08-02T00:00:00+00:00\",\"2017-08-03T00:00:00+00:00\",\"2017-08-04T00:00:00+00:00\",\"2017-08-07T00:00:00+00:00\",\"2017-08-08T00:00:00+00:00\",\"2017-08-09T00:00:00+00:00\",\"2017-08-10T00:00:00+00:00\",\"2017-08-11T00:00:00+00:00\",\"2017-08-14T00:00:00+00:00\",\"2017-08-15T00:00:00+00:00\",\"2017-08-16T00:00:00+00:00\",\"2017-08-17T00:00:00+00:00\",\"2017-08-18T00:00:00+00:00\",\"2017-08-21T00:00:00+00:00\",\"2017-08-22T00:00:00+00:00\",\"2017-08-23T00:00:00+00:00\",\"2017-08-24T00:00:00+00:00\",\"2017-08-25T00:00:00+00:00\",\"2017-08-28T00:00:00+00:00\",\"2017-08-29T00:00:00+00:00\",\"2017-08-30T00:00:00+00:00\",\"2017-08-31T00:00:00+00:00\",\"2017-09-01T00:00:00+00:00\",\"2017-09-05T00:00:00+00:00\",\"2017-09-06T00:00:00+00:00\",\"2017-09-07T00:00:00+00:00\",\"2017-09-08T00:00:00+00:00\",\"2017-09-11T00:00:00+00:00\",\"2017-09-12T00:00:00+00:00\",\"2017-09-13T00:00:00+00:00\",\"2017-09-14T00:00:00+00:00\",\"2017-09-15T00:00:00+00:00\",\"2017-09-18T00:00:00+00:00\",\"2017-09-19T00:00:00+00:00\",\"2017-09-20T00:00:00+00:00\",\"2017-09-21T00:00:00+00:00\",\"2017-09-22T00:00:00+00:00\",\"2017-09-25T00:00:00+00:00\",\"2017-09-26T00:00:00+00:00\",\"2017-09-27T00:00:00+00:00\",\"2017-09-28T00:00:00+00:00\",\"2017-09-29T00:00:00+00:00\",\"2017-10-02T00:00:00+00:00\",\"2017-10-03T00:00:00+00:00\",\"2017-10-04T00:00:00+00:00\",\"2017-10-05T00:00:00+00:00\",\"2017-10-06T00:00:00+00:00\",\"2017-10-09T00:00:00+00:00\",\"2017-10-10T00:00:00+00:00\",\"2017-10-11T00:00:00+00:00\",\"2017-10-12T00:00:00+00:00\",\"2017-10-13T00:00:00+00:00\",\"2017-10-16T00:00:00+00:00\",\"2017-10-17T00:00:00+00:00\",\"2017-10-18T00:00:00+00:00\",\"2017-10-19T00:00:00+00:00\",\"2017-10-20T00:00:00+00:00\",\"2017-10-23T00:00:00+00:00\",\"2017-10-24T00:00:00+00:00\",\"2017-10-25T00:00:00+00:00\",\"2017-10-26T00:00:00+00:00\",\"2017-10-27T00:00:00+00:00\",\"2017-10-30T00:00:00+00:00\",\"2017-10-31T00:00:00+00:00\",\"2017-11-01T00:00:00+00:00\",\"2017-11-02T00:00:00+00:00\",\"2017-11-03T00:00:00+00:00\",\"2017-11-06T00:00:00+00:00\",\"2017-11-07T00:00:00+00:00\",\"2017-11-08T00:00:00+00:00\",\"2017-11-09T00:00:00+00:00\",\"2017-11-10T00:00:00+00:00\",\"2017-11-13T00:00:00+00:00\",\"2017-11-14T00:00:00+00:00\",\"2017-11-15T00:00:00+00:00\",\"2017-11-16T00:00:00+00:00\",\"2017-11-17T00:00:00+00:00\",\"2017-11-20T00:00:00+00:00\",\"2017-11-21T00:00:00+00:00\",\"2017-11-22T00:00:00+00:00\",\"2017-11-24T00:00:00+00:00\",\"2017-11-27T00:00:00+00:00\",\"2017-11-28T00:00:00+00:00\",\"2017-11-29T00:00:00+00:00\",\"2017-11-30T00:00:00+00:00\",\"2017-12-01T00:00:00+00:00\",\"2017-12-04T00:00:00+00:00\",\"2017-12-05T00:00:00+00:00\",\"2017-12-06T00:00:00+00:00\",\"2017-12-07T00:00:00+00:00\",\"2017-12-08T00:00:00+00:00\",\"2017-12-11T00:00:00+00:00\",\"2017-12-12T00:00:00+00:00\",\"2017-12-13T00:00:00+00:00\",\"2017-12-14T00:00:00+00:00\",\"2017-12-15T00:00:00+00:00\",\"2017-12-18T00:00:00+00:00\",\"2017-12-19T00:00:00+00:00\",\"2017-12-20T00:00:00+00:00\",\"2017-12-21T00:00:00+00:00\",\"2017-12-22T00:00:00+00:00\",\"2017-12-26T00:00:00+00:00\",\"2017-12-27T00:00:00+00:00\",\"2017-12-28T00:00:00+00:00\",\"2017-12-29T00:00:00+00:00\",\"2018-01-02T00:00:00+00:00\",\"2018-01-03T00:00:00+00:00\",\"2018-01-04T00:00:00+00:00\",\"2018-01-05T00:00:00+00:00\",\"2018-01-08T00:00:00+00:00\",\"2018-01-09T00:00:00+00:00\",\"2018-01-10T00:00:00+00:00\",\"2018-01-11T00:00:00+00:00\",\"2018-01-12T00:00:00+00:00\",\"2018-01-16T00:00:00+00:00\",\"2018-01-17T00:00:00+00:00\",\"2018-01-18T00:00:00+00:00\",\"2018-01-19T00:00:00+00:00\",\"2018-01-22T00:00:00+00:00\",\"2018-01-23T00:00:00+00:00\",\"2018-01-24T00:00:00+00:00\",\"2018-01-25T00:00:00+00:00\",\"2018-01-26T00:00:00+00:00\",\"2018-01-29T00:00:00+00:00\",\"2018-01-30T00:00:00+00:00\",\"2018-01-31T00:00:00+00:00\",\"2018-02-01T00:00:00+00:00\",\"2018-02-02T00:00:00+00:00\",\"2018-02-05T00:00:00+00:00\",\"2018-02-06T00:00:00+00:00\",\"2018-02-07T00:00:00+00:00\",\"2018-02-08T00:00:00+00:00\",\"2018-02-09T00:00:00+00:00\",\"2018-02-12T00:00:00+00:00\",\"2018-02-13T00:00:00+00:00\",\"2018-02-14T00:00:00+00:00\",\"2018-02-15T00:00:00+00:00\",\"2018-02-16T00:00:00+00:00\",\"2018-02-20T00:00:00+00:00\",\"2018-02-21T00:00:00+00:00\",\"2018-02-22T00:00:00+00:00\",\"2018-02-23T00:00:00+00:00\",\"2018-02-26T00:00:00+00:00\",\"2018-02-27T00:00:00+00:00\",\"2018-02-28T00:00:00+00:00\",\"2018-03-01T00:00:00+00:00\",\"2018-03-02T00:00:00+00:00\",\"2018-03-05T00:00:00+00:00\",\"2018-03-06T00:00:00+00:00\",\"2018-03-07T00:00:00+00:00\",\"2018-03-08T00:00:00+00:00\",\"2018-03-09T00:00:00+00:00\",\"2018-03-12T00:00:00+00:00\",\"2018-03-13T00:00:00+00:00\",\"2018-03-14T00:00:00+00:00\",\"2018-03-15T00:00:00+00:00\",\"2018-03-16T00:00:00+00:00\",\"2018-03-19T00:00:00+00:00\",\"2018-03-20T00:00:00+00:00\",\"2018-03-21T00:00:00+00:00\",\"2018-03-22T00:00:00+00:00\",\"2018-03-23T00:00:00+00:00\",\"2018-03-26T00:00:00+00:00\",\"2018-03-27T00:00:00+00:00\",\"2018-03-28T00:00:00+00:00\",\"2018-03-29T00:00:00+00:00\",\"2018-04-02T00:00:00+00:00\",\"2018-04-03T00:00:00+00:00\",\"2018-04-04T00:00:00+00:00\",\"2018-04-05T00:00:00+00:00\",\"2018-04-06T00:00:00+00:00\",\"2018-04-09T00:00:00+00:00\",\"2018-04-10T00:00:00+00:00\",\"2018-04-11T00:00:00+00:00\",\"2018-04-12T00:00:00+00:00\",\"2018-04-13T00:00:00+00:00\",\"2018-04-16T00:00:00+00:00\",\"2018-04-17T00:00:00+00:00\",\"2018-04-18T00:00:00+00:00\",\"2018-04-19T00:00:00+00:00\",\"2018-04-20T00:00:00+00:00\",\"2018-04-23T00:00:00+00:00\",\"2018-04-24T00:00:00+00:00\",\"2018-04-25T00:00:00+00:00\",\"2018-04-26T00:00:00+00:00\",\"2018-04-27T00:00:00+00:00\",\"2018-04-30T00:00:00+00:00\",\"2018-05-01T00:00:00+00:00\",\"2018-05-02T00:00:00+00:00\",\"2018-05-03T00:00:00+00:00\",\"2018-05-04T00:00:00+00:00\",\"2018-05-07T00:00:00+00:00\",\"2018-05-08T00:00:00+00:00\",\"2018-05-09T00:00:00+00:00\",\"2018-05-10T00:00:00+00:00\",\"2018-05-11T00:00:00+00:00\",\"2018-05-14T00:00:00+00:00\",\"2018-05-15T00:00:00+00:00\",\"2018-05-16T00:00:00+00:00\",\"2018-05-17T00:00:00+00:00\",\"2018-05-18T00:00:00+00:00\",\"2018-05-21T00:00:00+00:00\",\"2018-05-22T00:00:00+00:00\",\"2018-05-23T00:00:00+00:00\",\"2018-05-24T00:00:00+00:00\",\"2018-05-25T00:00:00+00:00\",\"2018-05-29T00:00:00+00:00\",\"2018-05-30T00:00:00+00:00\",\"2018-05-31T00:00:00+00:00\",\"2018-06-01T00:00:00+00:00\",\"2018-06-04T00:00:00+00:00\",\"2018-06-05T00:00:00+00:00\",\"2018-06-06T00:00:00+00:00\",\"2018-06-07T00:00:00+00:00\",\"2018-06-08T00:00:00+00:00\",\"2018-06-11T00:00:00+00:00\",\"2018-06-12T00:00:00+00:00\",\"2018-06-13T00:00:00+00:00\",\"2018-06-14T00:00:00+00:00\",\"2018-06-15T00:00:00+00:00\",\"2018-06-18T00:00:00+00:00\",\"2018-06-19T00:00:00+00:00\",\"2018-06-20T00:00:00+00:00\",\"2018-06-21T00:00:00+00:00\",\"2018-06-22T00:00:00+00:00\",\"2018-06-25T00:00:00+00:00\",\"2018-06-26T00:00:00+00:00\",\"2018-06-27T00:00:00+00:00\",\"2018-06-28T00:00:00+00:00\",\"2018-06-29T00:00:00+00:00\",\"2018-07-02T00:00:00+00:00\",\"2018-07-03T00:00:00+00:00\",\"2018-07-05T00:00:00+00:00\",\"2018-07-06T00:00:00+00:00\",\"2018-07-09T00:00:00+00:00\",\"2018-07-10T00:00:00+00:00\",\"2018-07-11T00:00:00+00:00\",\"2018-07-12T00:00:00+00:00\",\"2018-07-13T00:00:00+00:00\",\"2018-07-16T00:00:00+00:00\",\"2018-07-17T00:00:00+00:00\",\"2018-07-18T00:00:00+00:00\",\"2018-07-19T00:00:00+00:00\",\"2018-07-20T00:00:00+00:00\",\"2018-07-23T00:00:00+00:00\",\"2018-07-24T00:00:00+00:00\",\"2018-07-25T00:00:00+00:00\",\"2018-07-26T00:00:00+00:00\",\"2018-07-27T00:00:00+00:00\",\"2018-07-30T00:00:00+00:00\",\"2018-07-31T00:00:00+00:00\",\"2018-08-01T00:00:00+00:00\",\"2018-08-02T00:00:00+00:00\",\"2018-08-03T00:00:00+00:00\",\"2018-08-06T00:00:00+00:00\",\"2018-08-07T00:00:00+00:00\",\"2018-08-08T00:00:00+00:00\",\"2018-08-09T00:00:00+00:00\",\"2018-08-10T00:00:00+00:00\",\"2018-08-13T00:00:00+00:00\",\"2018-08-14T00:00:00+00:00\",\"2018-08-15T00:00:00+00:00\",\"2018-08-16T00:00:00+00:00\",\"2018-08-17T00:00:00+00:00\",\"2018-08-20T00:00:00+00:00\",\"2018-08-21T00:00:00+00:00\",\"2018-08-22T00:00:00+00:00\",\"2018-08-23T00:00:00+00:00\",\"2018-08-24T00:00:00+00:00\",\"2018-08-27T00:00:00+00:00\",\"2018-08-28T00:00:00+00:00\",\"2018-08-29T00:00:00+00:00\",\"2018-08-30T00:00:00+00:00\",\"2018-08-31T00:00:00+00:00\",\"2018-09-04T00:00:00+00:00\",\"2018-09-05T00:00:00+00:00\",\"2018-09-06T00:00:00+00:00\",\"2018-09-07T00:00:00+00:00\",\"2018-09-10T00:00:00+00:00\",\"2018-09-11T00:00:00+00:00\",\"2018-09-12T00:00:00+00:00\",\"2018-09-13T00:00:00+00:00\",\"2018-09-14T00:00:00+00:00\",\"2018-09-17T00:00:00+00:00\",\"2018-09-18T00:00:00+00:00\",\"2018-09-19T00:00:00+00:00\",\"2018-09-20T00:00:00+00:00\",\"2018-09-21T00:00:00+00:00\",\"2018-09-24T00:00:00+00:00\",\"2018-09-25T00:00:00+00:00\",\"2018-09-26T00:00:00+00:00\",\"2018-09-27T00:00:00+00:00\",\"2018-09-28T00:00:00+00:00\",\"2018-10-01T00:00:00+00:00\",\"2018-10-02T00:00:00+00:00\",\"2018-10-03T00:00:00+00:00\",\"2018-10-04T00:00:00+00:00\",\"2018-10-05T00:00:00+00:00\",\"2018-10-08T00:00:00+00:00\",\"2018-10-09T00:00:00+00:00\",\"2018-10-10T00:00:00+00:00\",\"2018-10-11T00:00:00+00:00\",\"2018-10-12T00:00:00+00:00\",\"2018-10-15T00:00:00+00:00\",\"2018-10-16T00:00:00+00:00\",\"2018-10-17T00:00:00+00:00\",\"2018-10-18T00:00:00+00:00\",\"2018-10-19T00:00:00+00:00\",\"2018-10-22T00:00:00+00:00\",\"2018-10-23T00:00:00+00:00\",\"2018-10-24T00:00:00+00:00\",\"2018-10-25T00:00:00+00:00\",\"2018-10-26T00:00:00+00:00\",\"2018-10-29T00:00:00+00:00\",\"2018-10-30T00:00:00+00:00\",\"2018-10-31T00:00:00+00:00\",\"2018-11-01T00:00:00+00:00\",\"2018-11-02T00:00:00+00:00\",\"2018-11-05T00:00:00+00:00\",\"2018-11-06T00:00:00+00:00\",\"2018-11-07T00:00:00+00:00\",\"2018-11-08T00:00:00+00:00\",\"2018-11-09T00:00:00+00:00\",\"2018-11-12T00:00:00+00:00\",\"2018-11-13T00:00:00+00:00\",\"2018-11-14T00:00:00+00:00\",\"2018-11-15T00:00:00+00:00\",\"2018-11-16T00:00:00+00:00\",\"2018-11-19T00:00:00+00:00\",\"2018-11-20T00:00:00+00:00\",\"2018-11-21T00:00:00+00:00\",\"2018-11-23T00:00:00+00:00\",\"2018-11-26T00:00:00+00:00\",\"2018-11-27T00:00:00+00:00\",\"2018-11-28T00:00:00+00:00\",\"2018-11-29T00:00:00+00:00\",\"2018-11-30T00:00:00+00:00\",\"2018-12-03T00:00:00+00:00\",\"2018-12-04T00:00:00+00:00\",\"2018-12-06T00:00:00+00:00\",\"2018-12-07T00:00:00+00:00\",\"2018-12-10T00:00:00+00:00\",\"2018-12-11T00:00:00+00:00\",\"2018-12-12T00:00:00+00:00\",\"2018-12-13T00:00:00+00:00\",\"2018-12-14T00:00:00+00:00\",\"2018-12-17T00:00:00+00:00\",\"2018-12-18T00:00:00+00:00\",\"2018-12-19T00:00:00+00:00\",\"2018-12-20T00:00:00+00:00\",\"2018-12-21T00:00:00+00:00\",\"2018-12-24T00:00:00+00:00\",\"2018-12-26T00:00:00+00:00\",\"2018-12-27T00:00:00+00:00\",\"2018-12-28T00:00:00+00:00\",\"2018-12-31T00:00:00+00:00\",\"2019-01-02T00:00:00+00:00\",\"2019-01-03T00:00:00+00:00\",\"2019-01-04T00:00:00+00:00\",\"2019-01-07T00:00:00+00:00\",\"2019-01-08T00:00:00+00:00\",\"2019-01-09T00:00:00+00:00\",\"2019-01-10T00:00:00+00:00\",\"2019-01-11T00:00:00+00:00\",\"2019-01-14T00:00:00+00:00\",\"2019-01-15T00:00:00+00:00\",\"2019-01-16T00:00:00+00:00\",\"2019-01-17T00:00:00+00:00\",\"2019-01-18T00:00:00+00:00\",\"2019-01-22T00:00:00+00:00\",\"2019-01-23T00:00:00+00:00\",\"2019-01-24T00:00:00+00:00\",\"2019-01-25T00:00:00+00:00\",\"2019-01-28T00:00:00+00:00\",\"2019-01-29T00:00:00+00:00\",\"2019-01-30T00:00:00+00:00\",\"2019-01-31T00:00:00+00:00\",\"2019-02-01T00:00:00+00:00\",\"2019-02-04T00:00:00+00:00\",\"2019-02-05T00:00:00+00:00\",\"2019-02-06T00:00:00+00:00\",\"2019-02-07T00:00:00+00:00\",\"2019-02-08T00:00:00+00:00\",\"2019-02-11T00:00:00+00:00\",\"2019-02-12T00:00:00+00:00\",\"2019-02-13T00:00:00+00:00\",\"2019-02-14T00:00:00+00:00\",\"2019-02-15T00:00:00+00:00\",\"2019-02-19T00:00:00+00:00\",\"2019-02-20T00:00:00+00:00\",\"2019-02-21T00:00:00+00:00\",\"2019-02-22T00:00:00+00:00\",\"2019-02-25T00:00:00+00:00\",\"2019-02-26T00:00:00+00:00\",\"2019-02-27T00:00:00+00:00\",\"2019-02-28T00:00:00+00:00\",\"2019-03-01T00:00:00+00:00\",\"2019-03-04T00:00:00+00:00\",\"2019-03-05T00:00:00+00:00\",\"2019-03-06T00:00:00+00:00\",\"2019-03-07T00:00:00+00:00\",\"2019-03-08T00:00:00+00:00\",\"2019-03-11T00:00:00+00:00\",\"2019-03-12T00:00:00+00:00\",\"2019-03-13T00:00:00+00:00\",\"2019-03-14T00:00:00+00:00\",\"2019-03-15T00:00:00+00:00\",\"2019-03-18T00:00:00+00:00\",\"2019-03-19T00:00:00+00:00\",\"2019-03-20T00:00:00+00:00\",\"2019-03-21T00:00:00+00:00\",\"2019-03-22T00:00:00+00:00\",\"2019-03-25T00:00:00+00:00\",\"2019-03-26T00:00:00+00:00\",\"2019-03-27T00:00:00+00:00\",\"2019-03-28T00:00:00+00:00\",\"2019-03-29T00:00:00+00:00\",\"2019-04-01T00:00:00+00:00\",\"2019-04-02T00:00:00+00:00\",\"2019-04-03T00:00:00+00:00\",\"2019-04-04T00:00:00+00:00\",\"2019-04-05T00:00:00+00:00\",\"2019-04-08T00:00:00+00:00\",\"2019-04-09T00:00:00+00:00\",\"2019-04-10T00:00:00+00:00\",\"2019-04-11T00:00:00+00:00\",\"2019-04-12T00:00:00+00:00\",\"2019-04-15T00:00:00+00:00\",\"2019-04-16T00:00:00+00:00\",\"2019-04-17T00:00:00+00:00\",\"2019-04-18T00:00:00+00:00\",\"2019-04-22T00:00:00+00:00\",\"2019-04-23T00:00:00+00:00\",\"2019-04-24T00:00:00+00:00\",\"2019-04-25T00:00:00+00:00\",\"2019-04-26T00:00:00+00:00\",\"2019-04-29T00:00:00+00:00\",\"2019-04-30T00:00:00+00:00\",\"2019-05-01T00:00:00+00:00\",\"2019-05-02T00:00:00+00:00\",\"2019-05-03T00:00:00+00:00\",\"2019-05-06T00:00:00+00:00\",\"2019-05-07T00:00:00+00:00\",\"2019-05-08T00:00:00+00:00\",\"2019-05-09T00:00:00+00:00\",\"2019-05-10T00:00:00+00:00\",\"2019-05-13T00:00:00+00:00\",\"2019-05-14T00:00:00+00:00\",\"2019-05-15T00:00:00+00:00\",\"2019-05-16T00:00:00+00:00\",\"2019-05-17T00:00:00+00:00\",\"2019-05-20T00:00:00+00:00\",\"2019-05-21T00:00:00+00:00\",\"2019-05-22T00:00:00+00:00\",\"2019-05-23T00:00:00+00:00\",\"2019-05-24T00:00:00+00:00\",\"2019-05-28T00:00:00+00:00\",\"2019-05-29T00:00:00+00:00\",\"2019-05-30T00:00:00+00:00\",\"2019-05-31T00:00:00+00:00\",\"2019-06-03T00:00:00+00:00\",\"2019-06-04T00:00:00+00:00\",\"2019-06-05T00:00:00+00:00\",\"2019-06-06T00:00:00+00:00\",\"2019-06-07T00:00:00+00:00\",\"2019-06-10T00:00:00+00:00\",\"2019-06-11T00:00:00+00:00\",\"2019-06-12T00:00:00+00:00\",\"2019-06-13T00:00:00+00:00\",\"2019-06-14T00:00:00+00:00\",\"2019-06-17T00:00:00+00:00\",\"2019-06-18T00:00:00+00:00\",\"2019-06-19T00:00:00+00:00\",\"2019-06-20T00:00:00+00:00\",\"2019-06-21T00:00:00+00:00\",\"2019-06-24T00:00:00+00:00\",\"2019-06-25T00:00:00+00:00\",\"2019-06-26T00:00:00+00:00\",\"2019-06-27T00:00:00+00:00\",\"2019-06-28T00:00:00+00:00\",\"2019-07-01T00:00:00+00:00\",\"2019-07-02T00:00:00+00:00\",\"2019-07-03T00:00:00+00:00\",\"2019-07-05T00:00:00+00:00\",\"2019-07-08T00:00:00+00:00\",\"2019-07-09T00:00:00+00:00\",\"2019-07-10T00:00:00+00:00\",\"2019-07-11T00:00:00+00:00\",\"2019-07-12T00:00:00+00:00\",\"2019-07-15T00:00:00+00:00\",\"2019-07-16T00:00:00+00:00\",\"2019-07-17T00:00:00+00:00\",\"2019-07-18T00:00:00+00:00\",\"2019-07-19T00:00:00+00:00\",\"2019-07-22T00:00:00+00:00\",\"2019-07-23T00:00:00+00:00\",\"2019-07-24T00:00:00+00:00\",\"2019-07-25T00:00:00+00:00\",\"2019-07-26T00:00:00+00:00\",\"2019-07-29T00:00:00+00:00\",\"2019-07-30T00:00:00+00:00\",\"2019-07-31T00:00:00+00:00\",\"2019-08-01T00:00:00+00:00\",\"2019-08-02T00:00:00+00:00\",\"2019-08-05T00:00:00+00:00\",\"2019-08-06T00:00:00+00:00\",\"2019-08-07T00:00:00+00:00\",\"2019-08-08T00:00:00+00:00\",\"2019-08-09T00:00:00+00:00\",\"2019-08-12T00:00:00+00:00\",\"2019-08-13T00:00:00+00:00\",\"2019-08-14T00:00:00+00:00\",\"2019-08-15T00:00:00+00:00\",\"2019-08-16T00:00:00+00:00\",\"2019-08-19T00:00:00+00:00\",\"2019-08-20T00:00:00+00:00\",\"2019-08-21T00:00:00+00:00\",\"2019-08-22T00:00:00+00:00\",\"2019-08-23T00:00:00+00:00\",\"2019-08-26T00:00:00+00:00\",\"2019-08-27T00:00:00+00:00\",\"2019-08-28T00:00:00+00:00\",\"2019-08-29T00:00:00+00:00\",\"2019-08-30T00:00:00+00:00\",\"2019-09-03T00:00:00+00:00\",\"2019-09-04T00:00:00+00:00\",\"2019-09-05T00:00:00+00:00\",\"2019-09-06T00:00:00+00:00\",\"2019-09-09T00:00:00+00:00\",\"2019-09-10T00:00:00+00:00\",\"2019-09-11T00:00:00+00:00\",\"2019-09-12T00:00:00+00:00\",\"2019-09-13T00:00:00+00:00\",\"2019-09-16T00:00:00+00:00\",\"2019-09-17T00:00:00+00:00\",\"2019-09-18T00:00:00+00:00\",\"2019-09-19T00:00:00+00:00\",\"2019-09-20T00:00:00+00:00\",\"2019-09-23T00:00:00+00:00\",\"2019-09-24T00:00:00+00:00\",\"2019-09-25T00:00:00+00:00\",\"2019-09-26T00:00:00+00:00\",\"2019-09-27T00:00:00+00:00\",\"2019-09-30T00:00:00+00:00\",\"2019-10-01T00:00:00+00:00\",\"2019-10-02T00:00:00+00:00\",\"2019-10-03T00:00:00+00:00\",\"2019-10-04T00:00:00+00:00\",\"2019-10-07T00:00:00+00:00\",\"2019-10-08T00:00:00+00:00\",\"2019-10-09T00:00:00+00:00\",\"2019-10-10T00:00:00+00:00\",\"2019-10-11T00:00:00+00:00\",\"2019-10-14T00:00:00+00:00\",\"2019-10-15T00:00:00+00:00\",\"2019-10-16T00:00:00+00:00\",\"2019-10-17T00:00:00+00:00\",\"2019-10-18T00:00:00+00:00\",\"2019-10-21T00:00:00+00:00\",\"2019-10-22T00:00:00+00:00\",\"2019-10-23T00:00:00+00:00\",\"2019-10-24T00:00:00+00:00\",\"2019-10-25T00:00:00+00:00\",\"2019-10-28T00:00:00+00:00\",\"2019-10-29T00:00:00+00:00\",\"2019-10-30T00:00:00+00:00\",\"2019-10-31T00:00:00+00:00\",\"2019-11-01T00:00:00+00:00\",\"2019-11-04T00:00:00+00:00\",\"2019-11-05T00:00:00+00:00\",\"2019-11-06T00:00:00+00:00\",\"2019-11-07T00:00:00+00:00\",\"2019-11-08T00:00:00+00:00\",\"2019-11-11T00:00:00+00:00\",\"2019-11-12T00:00:00+00:00\",\"2019-11-13T00:00:00+00:00\",\"2019-11-14T00:00:00+00:00\",\"2019-11-15T00:00:00+00:00\",\"2019-11-18T00:00:00+00:00\",\"2019-11-19T00:00:00+00:00\",\"2019-11-20T00:00:00+00:00\",\"2019-11-21T00:00:00+00:00\",\"2019-11-22T00:00:00+00:00\",\"2019-11-25T00:00:00+00:00\",\"2019-11-26T00:00:00+00:00\",\"2019-11-27T00:00:00+00:00\",\"2019-11-29T00:00:00+00:00\",\"2019-12-02T00:00:00+00:00\",\"2019-12-03T00:00:00+00:00\",\"2019-12-04T00:00:00+00:00\",\"2019-12-05T00:00:00+00:00\",\"2019-12-06T00:00:00+00:00\",\"2019-12-09T00:00:00+00:00\",\"2019-12-10T00:00:00+00:00\",\"2019-12-11T00:00:00+00:00\",\"2019-12-12T00:00:00+00:00\",\"2019-12-13T00:00:00+00:00\",\"2019-12-16T00:00:00+00:00\",\"2019-12-17T00:00:00+00:00\",\"2019-12-18T00:00:00+00:00\",\"2019-12-19T00:00:00+00:00\",\"2019-12-20T00:00:00+00:00\",\"2019-12-23T00:00:00+00:00\",\"2019-12-24T00:00:00+00:00\",\"2019-12-26T00:00:00+00:00\",\"2019-12-27T00:00:00+00:00\",\"2019-12-30T00:00:00+00:00\",\"2019-12-31T00:00:00+00:00\",\"2020-01-02T00:00:00+00:00\",\"2020-01-03T00:00:00+00:00\",\"2020-01-06T00:00:00+00:00\",\"2020-01-07T00:00:00+00:00\",\"2020-01-08T00:00:00+00:00\",\"2020-01-09T00:00:00+00:00\",\"2020-01-10T00:00:00+00:00\",\"2020-01-13T00:00:00+00:00\",\"2020-01-14T00:00:00+00:00\",\"2020-01-15T00:00:00+00:00\",\"2020-01-16T00:00:00+00:00\",\"2020-01-17T00:00:00+00:00\",\"2020-01-21T00:00:00+00:00\",\"2020-01-22T00:00:00+00:00\",\"2020-01-23T00:00:00+00:00\",\"2020-01-24T00:00:00+00:00\",\"2020-01-27T00:00:00+00:00\",\"2020-01-28T00:00:00+00:00\",\"2020-01-29T00:00:00+00:00\",\"2020-01-30T00:00:00+00:00\",\"2020-01-31T00:00:00+00:00\",\"2020-02-03T00:00:00+00:00\",\"2020-02-04T00:00:00+00:00\",\"2020-02-05T00:00:00+00:00\",\"2020-02-06T00:00:00+00:00\",\"2020-02-07T00:00:00+00:00\",\"2020-02-10T00:00:00+00:00\",\"2020-02-11T00:00:00+00:00\",\"2020-02-12T00:00:00+00:00\",\"2020-02-13T00:00:00+00:00\",\"2020-02-14T00:00:00+00:00\",\"2020-02-18T00:00:00+00:00\",\"2020-02-19T00:00:00+00:00\",\"2020-02-20T00:00:00+00:00\",\"2020-02-21T00:00:00+00:00\",\"2020-02-24T00:00:00+00:00\",\"2020-02-25T00:00:00+00:00\",\"2020-02-26T00:00:00+00:00\",\"2020-02-27T00:00:00+00:00\",\"2020-02-28T00:00:00+00:00\",\"2020-03-02T00:00:00+00:00\",\"2020-03-03T00:00:00+00:00\",\"2020-03-04T00:00:00+00:00\",\"2020-03-05T00:00:00+00:00\",\"2020-03-06T00:00:00+00:00\",\"2020-03-09T00:00:00+00:00\",\"2020-03-10T00:00:00+00:00\",\"2020-03-11T00:00:00+00:00\",\"2020-03-12T00:00:00+00:00\",\"2020-03-13T00:00:00+00:00\",\"2020-03-16T00:00:00+00:00\",\"2020-03-17T00:00:00+00:00\",\"2020-03-18T00:00:00+00:00\",\"2020-03-19T00:00:00+00:00\",\"2020-03-20T00:00:00+00:00\",\"2020-03-23T00:00:00+00:00\",\"2020-03-24T00:00:00+00:00\",\"2020-03-25T00:00:00+00:00\",\"2020-03-26T00:00:00+00:00\",\"2020-03-27T00:00:00+00:00\",\"2020-03-30T00:00:00+00:00\",\"2020-03-31T00:00:00+00:00\",\"2020-04-01T00:00:00+00:00\",\"2020-04-02T00:00:00+00:00\",\"2020-04-03T00:00:00+00:00\",\"2020-04-06T00:00:00+00:00\",\"2020-04-07T00:00:00+00:00\",\"2020-04-08T00:00:00+00:00\",\"2020-04-09T00:00:00+00:00\",\"2020-04-13T00:00:00+00:00\",\"2020-04-14T00:00:00+00:00\",\"2020-04-15T00:00:00+00:00\",\"2020-04-16T00:00:00+00:00\",\"2020-04-17T00:00:00+00:00\",\"2020-04-20T00:00:00+00:00\",\"2020-04-21T00:00:00+00:00\",\"2020-04-22T00:00:00+00:00\",\"2020-04-23T00:00:00+00:00\",\"2020-04-24T00:00:00+00:00\",\"2020-04-27T00:00:00+00:00\",\"2020-04-28T00:00:00+00:00\",\"2020-04-29T00:00:00+00:00\",\"2020-04-30T00:00:00+00:00\",\"2020-05-01T00:00:00+00:00\",\"2020-05-04T00:00:00+00:00\",\"2020-05-05T00:00:00+00:00\",\"2020-05-06T00:00:00+00:00\",\"2020-05-07T00:00:00+00:00\",\"2020-05-08T00:00:00+00:00\",\"2020-05-11T00:00:00+00:00\",\"2020-05-12T00:00:00+00:00\",\"2020-05-13T00:00:00+00:00\",\"2020-05-14T00:00:00+00:00\",\"2020-05-15T00:00:00+00:00\",\"2020-05-18T00:00:00+00:00\",\"2020-05-19T00:00:00+00:00\",\"2020-05-20T00:00:00+00:00\",\"2020-05-21T00:00:00+00:00\",\"2020-05-22T00:00:00+00:00\",\"2020-05-26T00:00:00+00:00\",\"2020-05-27T00:00:00+00:00\",\"2020-05-28T00:00:00+00:00\",\"2020-05-29T00:00:00+00:00\",\"2020-06-01T00:00:00+00:00\",\"2020-06-02T00:00:00+00:00\",\"2020-06-03T00:00:00+00:00\",\"2020-06-04T00:00:00+00:00\",\"2020-06-05T00:00:00+00:00\",\"2020-06-08T00:00:00+00:00\",\"2020-06-09T00:00:00+00:00\",\"2020-06-10T00:00:00+00:00\",\"2020-06-11T00:00:00+00:00\",\"2020-06-12T00:00:00+00:00\",\"2020-06-15T00:00:00+00:00\",\"2020-06-16T00:00:00+00:00\",\"2020-06-17T00:00:00+00:00\",\"2020-06-18T00:00:00+00:00\",\"2020-06-19T00:00:00+00:00\",\"2020-06-22T00:00:00+00:00\",\"2020-06-23T00:00:00+00:00\",\"2020-06-24T00:00:00+00:00\",\"2020-06-25T00:00:00+00:00\",\"2020-06-26T00:00:00+00:00\",\"2020-06-29T00:00:00+00:00\",\"2020-06-30T00:00:00+00:00\",\"2020-07-01T00:00:00+00:00\",\"2020-07-02T00:00:00+00:00\",\"2020-07-06T00:00:00+00:00\",\"2020-07-07T00:00:00+00:00\",\"2020-07-08T00:00:00+00:00\",\"2020-07-09T00:00:00+00:00\",\"2020-07-10T00:00:00+00:00\",\"2020-07-13T00:00:00+00:00\",\"2020-07-14T00:00:00+00:00\",\"2020-07-15T00:00:00+00:00\",\"2020-07-16T00:00:00+00:00\",\"2020-07-17T00:00:00+00:00\",\"2020-07-20T00:00:00+00:00\",\"2020-07-21T00:00:00+00:00\",\"2020-07-22T00:00:00+00:00\",\"2020-07-23T00:00:00+00:00\",\"2020-07-24T00:00:00+00:00\",\"2020-07-27T00:00:00+00:00\",\"2020-07-28T00:00:00+00:00\",\"2020-07-29T00:00:00+00:00\",\"2020-07-30T00:00:00+00:00\",\"2020-07-31T00:00:00+00:00\",\"2020-08-03T00:00:00+00:00\",\"2020-08-04T00:00:00+00:00\",\"2020-08-05T00:00:00+00:00\",\"2020-08-06T00:00:00+00:00\",\"2020-08-07T00:00:00+00:00\",\"2020-08-10T00:00:00+00:00\",\"2020-08-11T00:00:00+00:00\",\"2020-08-12T00:00:00+00:00\",\"2020-08-13T00:00:00+00:00\",\"2020-08-14T00:00:00+00:00\",\"2020-08-17T00:00:00+00:00\",\"2020-08-18T00:00:00+00:00\",\"2020-08-19T00:00:00+00:00\",\"2020-08-20T00:00:00+00:00\",\"2020-08-21T00:00:00+00:00\",\"2020-08-24T00:00:00+00:00\",\"2020-08-25T00:00:00+00:00\",\"2020-08-26T00:00:00+00:00\",\"2020-08-27T00:00:00+00:00\",\"2020-08-28T00:00:00+00:00\",\"2020-08-31T00:00:00+00:00\",\"2020-09-01T00:00:00+00:00\",\"2020-09-02T00:00:00+00:00\",\"2020-09-03T00:00:00+00:00\",\"2020-09-04T00:00:00+00:00\",\"2020-09-08T00:00:00+00:00\",\"2020-09-09T00:00:00+00:00\",\"2020-09-10T00:00:00+00:00\",\"2020-09-11T00:00:00+00:00\",\"2020-09-14T00:00:00+00:00\",\"2020-09-15T00:00:00+00:00\",\"2020-09-16T00:00:00+00:00\",\"2020-09-17T00:00:00+00:00\",\"2020-09-18T00:00:00+00:00\",\"2020-09-21T00:00:00+00:00\",\"2020-09-22T00:00:00+00:00\",\"2020-09-23T00:00:00+00:00\",\"2020-09-24T00:00:00+00:00\",\"2020-09-25T00:00:00+00:00\",\"2020-09-28T00:00:00+00:00\",\"2020-09-29T00:00:00+00:00\",\"2020-09-30T00:00:00+00:00\",\"2020-10-01T00:00:00+00:00\",\"2020-10-02T00:00:00+00:00\",\"2020-10-05T00:00:00+00:00\",\"2020-10-06T00:00:00+00:00\",\"2020-10-07T00:00:00+00:00\",\"2020-10-08T00:00:00+00:00\",\"2020-10-09T00:00:00+00:00\",\"2020-10-12T00:00:00+00:00\",\"2020-10-13T00:00:00+00:00\",\"2020-10-14T00:00:00+00:00\",\"2020-10-15T00:00:00+00:00\",\"2020-10-16T00:00:00+00:00\",\"2020-10-19T00:00:00+00:00\",\"2020-10-20T00:00:00+00:00\",\"2020-10-21T00:00:00+00:00\",\"2020-10-22T00:00:00+00:00\",\"2020-10-23T00:00:00+00:00\",\"2020-10-26T00:00:00+00:00\",\"2020-10-27T00:00:00+00:00\",\"2020-10-28T00:00:00+00:00\",\"2020-10-29T00:00:00+00:00\",\"2020-10-30T00:00:00+00:00\",\"2020-11-02T00:00:00+00:00\",\"2020-11-03T00:00:00+00:00\",\"2020-11-04T00:00:00+00:00\",\"2020-11-05T00:00:00+00:00\",\"2020-11-06T00:00:00+00:00\",\"2020-11-09T00:00:00+00:00\",\"2020-11-10T00:00:00+00:00\",\"2020-11-11T00:00:00+00:00\",\"2020-11-12T00:00:00+00:00\",\"2020-11-13T00:00:00+00:00\",\"2020-11-16T00:00:00+00:00\",\"2020-11-17T00:00:00+00:00\",\"2020-11-18T00:00:00+00:00\",\"2020-11-19T00:00:00+00:00\",\"2020-11-20T00:00:00+00:00\",\"2020-11-23T00:00:00+00:00\",\"2020-11-24T00:00:00+00:00\",\"2020-11-25T00:00:00+00:00\",\"2020-11-27T00:00:00+00:00\",\"2020-11-30T00:00:00+00:00\",\"2020-12-01T00:00:00+00:00\",\"2020-12-02T00:00:00+00:00\",\"2020-12-03T00:00:00+00:00\",\"2020-12-04T00:00:00+00:00\",\"2020-12-07T00:00:00+00:00\",\"2020-12-08T00:00:00+00:00\",\"2020-12-09T00:00:00+00:00\",\"2020-12-10T00:00:00+00:00\",\"2020-12-11T00:00:00+00:00\",\"2020-12-14T00:00:00+00:00\",\"2020-12-15T00:00:00+00:00\",\"2020-12-16T00:00:00+00:00\",\"2020-12-17T00:00:00+00:00\",\"2020-12-18T00:00:00+00:00\",\"2020-12-21T00:00:00+00:00\",\"2020-12-22T00:00:00+00:00\",\"2020-12-23T00:00:00+00:00\",\"2020-12-24T00:00:00+00:00\",\"2020-12-28T00:00:00+00:00\",\"2020-12-29T00:00:00+00:00\",\"2020-12-30T00:00:00+00:00\",\"2020-12-31T00:00:00+00:00\",\"2021-01-04T00:00:00+00:00\",\"2021-01-05T00:00:00+00:00\",\"2021-01-06T00:00:00+00:00\",\"2021-01-07T00:00:00+00:00\",\"2021-01-08T00:00:00+00:00\",\"2021-01-11T00:00:00+00:00\",\"2021-01-12T00:00:00+00:00\",\"2021-01-13T00:00:00+00:00\",\"2021-01-14T00:00:00+00:00\",\"2021-01-15T00:00:00+00:00\",\"2021-01-19T00:00:00+00:00\",\"2021-01-20T00:00:00+00:00\",\"2021-01-21T00:00:00+00:00\",\"2021-01-22T00:00:00+00:00\",\"2021-01-25T00:00:00+00:00\",\"2021-01-26T00:00:00+00:00\",\"2021-01-27T00:00:00+00:00\",\"2021-01-28T00:00:00+00:00\",\"2021-01-29T00:00:00+00:00\",\"2021-02-01T00:00:00+00:00\",\"2021-02-02T00:00:00+00:00\",\"2021-02-03T00:00:00+00:00\",\"2021-02-04T00:00:00+00:00\",\"2021-02-05T00:00:00+00:00\",\"2021-02-08T00:00:00+00:00\",\"2021-02-09T00:00:00+00:00\",\"2021-02-10T00:00:00+00:00\",\"2021-02-11T00:00:00+00:00\",\"2021-02-12T00:00:00+00:00\",\"2021-02-16T00:00:00+00:00\",\"2021-02-17T00:00:00+00:00\",\"2021-02-18T00:00:00+00:00\",\"2021-02-19T00:00:00+00:00\",\"2021-02-22T00:00:00+00:00\",\"2021-02-23T00:00:00+00:00\",\"2021-02-24T00:00:00+00:00\",\"2021-02-25T00:00:00+00:00\",\"2021-02-26T00:00:00+00:00\",\"2021-03-01T00:00:00+00:00\",\"2021-03-02T00:00:00+00:00\",\"2021-03-03T00:00:00+00:00\",\"2021-03-04T00:00:00+00:00\",\"2021-03-05T00:00:00+00:00\",\"2021-03-08T00:00:00+00:00\",\"2021-03-09T00:00:00+00:00\",\"2021-03-10T00:00:00+00:00\",\"2021-03-11T00:00:00+00:00\",\"2021-03-12T00:00:00+00:00\",\"2021-03-15T00:00:00+00:00\",\"2021-03-16T00:00:00+00:00\",\"2021-03-17T00:00:00+00:00\",\"2021-03-18T00:00:00+00:00\",\"2021-03-19T00:00:00+00:00\",\"2021-03-22T00:00:00+00:00\",\"2021-03-23T00:00:00+00:00\",\"2021-03-24T00:00:00+00:00\",\"2021-03-25T00:00:00+00:00\",\"2021-03-26T00:00:00+00:00\",\"2021-03-29T00:00:00+00:00\",\"2021-03-30T00:00:00+00:00\",\"2021-03-31T00:00:00+00:00\",\"2021-04-01T00:00:00+00:00\",\"2021-04-05T00:00:00+00:00\",\"2021-04-06T00:00:00+00:00\",\"2021-04-07T00:00:00+00:00\",\"2021-04-08T00:00:00+00:00\",\"2021-04-09T00:00:00+00:00\",\"2021-04-12T00:00:00+00:00\",\"2021-04-13T00:00:00+00:00\",\"2021-04-14T00:00:00+00:00\",\"2021-04-15T00:00:00+00:00\",\"2021-04-16T00:00:00+00:00\",\"2021-04-19T00:00:00+00:00\",\"2021-04-20T00:00:00+00:00\",\"2021-04-21T00:00:00+00:00\",\"2021-04-22T00:00:00+00:00\",\"2021-04-23T00:00:00+00:00\",\"2021-04-26T00:00:00+00:00\",\"2021-04-27T00:00:00+00:00\",\"2021-04-28T00:00:00+00:00\",\"2021-04-29T00:00:00+00:00\",\"2021-04-30T00:00:00+00:00\",\"2021-05-03T00:00:00+00:00\",\"2021-05-04T00:00:00+00:00\",\"2021-05-05T00:00:00+00:00\",\"2021-05-06T00:00:00+00:00\",\"2021-05-07T00:00:00+00:00\",\"2021-05-10T00:00:00+00:00\",\"2021-05-11T00:00:00+00:00\",\"2021-05-12T00:00:00+00:00\",\"2021-05-13T00:00:00+00:00\",\"2021-05-14T00:00:00+00:00\",\"2021-05-17T00:00:00+00:00\",\"2021-05-18T00:00:00+00:00\",\"2021-05-19T00:00:00+00:00\",\"2021-05-20T00:00:00+00:00\",\"2021-05-21T00:00:00+00:00\",\"2021-05-24T00:00:00+00:00\",\"2021-05-25T00:00:00+00:00\",\"2021-05-26T00:00:00+00:00\",\"2021-05-27T00:00:00+00:00\",\"2021-05-28T00:00:00+00:00\",\"2021-06-01T00:00:00+00:00\",\"2021-06-02T00:00:00+00:00\",\"2021-06-03T00:00:00+00:00\",\"2021-06-04T00:00:00+00:00\",\"2021-06-07T00:00:00+00:00\",\"2021-06-08T00:00:00+00:00\",\"2021-06-09T00:00:00+00:00\",\"2021-06-10T00:00:00+00:00\",\"2021-06-11T00:00:00+00:00\",\"2021-06-14T00:00:00+00:00\",\"2021-06-15T00:00:00+00:00\",\"2021-06-16T00:00:00+00:00\",\"2021-06-17T00:00:00+00:00\",\"2021-06-18T00:00:00+00:00\",\"2021-06-21T00:00:00+00:00\",\"2021-06-22T00:00:00+00:00\",\"2021-06-23T00:00:00+00:00\",\"2021-06-24T00:00:00+00:00\",\"2021-06-25T00:00:00+00:00\",\"2021-06-28T00:00:00+00:00\",\"2021-06-29T00:00:00+00:00\",\"2021-06-30T00:00:00+00:00\",\"2021-07-01T00:00:00+00:00\",\"2021-07-02T00:00:00+00:00\",\"2021-07-06T00:00:00+00:00\",\"2021-07-07T00:00:00+00:00\",\"2021-07-08T00:00:00+00:00\",\"2021-07-09T00:00:00+00:00\",\"2021-07-12T00:00:00+00:00\",\"2021-07-13T00:00:00+00:00\",\"2021-07-14T00:00:00+00:00\",\"2021-07-15T00:00:00+00:00\",\"2021-07-16T00:00:00+00:00\",\"2021-07-19T00:00:00+00:00\",\"2021-07-20T00:00:00+00:00\",\"2021-07-21T00:00:00+00:00\",\"2021-07-22T00:00:00+00:00\",\"2021-07-23T00:00:00+00:00\",\"2021-07-26T00:00:00+00:00\",\"2021-07-27T00:00:00+00:00\",\"2021-07-28T00:00:00+00:00\",\"2021-07-29T00:00:00+00:00\",\"2021-07-30T00:00:00+00:00\",\"2021-08-02T00:00:00+00:00\",\"2021-08-03T00:00:00+00:00\",\"2021-08-04T00:00:00+00:00\",\"2021-08-05T00:00:00+00:00\",\"2021-08-06T00:00:00+00:00\",\"2021-08-09T00:00:00+00:00\",\"2021-08-10T00:00:00+00:00\",\"2021-08-11T00:00:00+00:00\",\"2021-08-12T00:00:00+00:00\",\"2021-08-13T00:00:00+00:00\",\"2021-08-16T00:00:00+00:00\",\"2021-08-17T00:00:00+00:00\",\"2021-08-18T00:00:00+00:00\",\"2021-08-19T00:00:00+00:00\",\"2021-08-20T00:00:00+00:00\",\"2021-08-23T00:00:00+00:00\",\"2021-08-24T00:00:00+00:00\",\"2021-08-25T00:00:00+00:00\",\"2021-08-26T00:00:00+00:00\",\"2021-08-27T00:00:00+00:00\",\"2021-08-30T00:00:00+00:00\",\"2021-08-31T00:00:00+00:00\",\"2021-09-01T00:00:00+00:00\",\"2021-09-02T00:00:00+00:00\",\"2021-09-03T00:00:00+00:00\",\"2021-09-07T00:00:00+00:00\",\"2021-09-08T00:00:00+00:00\",\"2021-09-09T00:00:00+00:00\",\"2021-09-10T00:00:00+00:00\",\"2021-09-13T00:00:00+00:00\",\"2021-09-14T00:00:00+00:00\",\"2021-09-15T00:00:00+00:00\",\"2021-09-16T00:00:00+00:00\",\"2021-09-17T00:00:00+00:00\",\"2021-09-20T00:00:00+00:00\",\"2021-09-21T00:00:00+00:00\",\"2021-09-22T00:00:00+00:00\",\"2021-09-23T00:00:00+00:00\",\"2021-09-24T00:00:00+00:00\",\"2021-09-27T00:00:00+00:00\",\"2021-09-28T00:00:00+00:00\",\"2021-09-29T00:00:00+00:00\",\"2021-09-30T00:00:00+00:00\",\"2021-10-01T00:00:00+00:00\",\"2021-10-04T00:00:00+00:00\",\"2021-10-05T00:00:00+00:00\",\"2021-10-06T00:00:00+00:00\",\"2021-10-07T00:00:00+00:00\",\"2021-10-08T00:00:00+00:00\",\"2021-10-11T00:00:00+00:00\",\"2021-10-12T00:00:00+00:00\",\"2021-10-13T00:00:00+00:00\",\"2021-10-14T00:00:00+00:00\",\"2021-10-15T00:00:00+00:00\",\"2021-10-18T00:00:00+00:00\",\"2021-10-19T00:00:00+00:00\",\"2021-10-20T00:00:00+00:00\",\"2021-10-21T00:00:00+00:00\",\"2021-10-22T00:00:00+00:00\",\"2021-10-25T00:00:00+00:00\",\"2021-10-26T00:00:00+00:00\",\"2021-10-27T00:00:00+00:00\",\"2021-10-28T00:00:00+00:00\",\"2021-10-29T00:00:00+00:00\",\"2021-11-01T00:00:00+00:00\",\"2021-11-02T00:00:00+00:00\",\"2021-11-03T00:00:00+00:00\",\"2021-11-04T00:00:00+00:00\",\"2021-11-05T00:00:00+00:00\",\"2021-11-08T00:00:00+00:00\",\"2021-11-09T00:00:00+00:00\",\"2021-11-10T00:00:00+00:00\",\"2021-11-11T00:00:00+00:00\",\"2021-11-12T00:00:00+00:00\",\"2021-11-15T00:00:00+00:00\",\"2021-11-16T00:00:00+00:00\",\"2021-11-17T00:00:00+00:00\",\"2021-11-18T00:00:00+00:00\",\"2021-11-19T00:00:00+00:00\",\"2021-11-22T00:00:00+00:00\",\"2021-11-23T00:00:00+00:00\",\"2021-11-24T00:00:00+00:00\",\"2021-11-26T00:00:00+00:00\",\"2021-11-29T00:00:00+00:00\",\"2021-11-30T00:00:00+00:00\",\"2021-12-01T00:00:00+00:00\",\"2021-12-02T00:00:00+00:00\",\"2021-12-03T00:00:00+00:00\",\"2021-12-06T00:00:00+00:00\",\"2021-12-07T00:00:00+00:00\",\"2021-12-08T00:00:00+00:00\",\"2021-12-09T00:00:00+00:00\",\"2021-12-10T00:00:00+00:00\",\"2021-12-13T00:00:00+00:00\",\"2021-12-14T00:00:00+00:00\",\"2021-12-15T00:00:00+00:00\",\"2021-12-16T00:00:00+00:00\",\"2021-12-17T00:00:00+00:00\",\"2021-12-20T00:00:00+00:00\",\"2021-12-21T00:00:00+00:00\",\"2021-12-22T00:00:00+00:00\",\"2021-12-23T00:00:00+00:00\",\"2021-12-27T00:00:00+00:00\",\"2021-12-28T00:00:00+00:00\",\"2021-12-29T00:00:00+00:00\",\"2021-12-30T00:00:00+00:00\",\"2021-12-31T00:00:00+00:00\",\"2022-01-03T00:00:00+00:00\",\"2022-01-04T00:00:00+00:00\",\"2022-01-05T00:00:00+00:00\",\"2022-01-06T00:00:00+00:00\",\"2022-01-07T00:00:00+00:00\",\"2022-01-10T00:00:00+00:00\",\"2022-01-11T00:00:00+00:00\",\"2022-01-12T00:00:00+00:00\",\"2022-01-13T00:00:00+00:00\",\"2022-01-14T00:00:00+00:00\",\"2022-01-18T00:00:00+00:00\",\"2022-01-19T00:00:00+00:00\",\"2022-01-20T00:00:00+00:00\",\"2022-01-21T00:00:00+00:00\",\"2022-01-24T00:00:00+00:00\",\"2022-01-25T00:00:00+00:00\",\"2022-01-26T00:00:00+00:00\",\"2022-01-27T00:00:00+00:00\",\"2022-01-28T00:00:00+00:00\",\"2022-01-31T00:00:00+00:00\",\"2022-02-01T00:00:00+00:00\",\"2022-02-02T00:00:00+00:00\",\"2022-02-03T00:00:00+00:00\",\"2022-02-04T00:00:00+00:00\",\"2022-02-07T00:00:00+00:00\",\"2022-02-08T00:00:00+00:00\",\"2022-02-09T00:00:00+00:00\",\"2022-02-10T00:00:00+00:00\",\"2022-02-11T00:00:00+00:00\",\"2022-02-14T00:00:00+00:00\",\"2022-02-15T00:00:00+00:00\",\"2022-02-16T00:00:00+00:00\",\"2022-02-17T00:00:00+00:00\",\"2022-02-18T00:00:00+00:00\",\"2022-02-22T00:00:00+00:00\",\"2022-02-23T00:00:00+00:00\",\"2022-02-24T00:00:00+00:00\",\"2022-02-25T00:00:00+00:00\",\"2022-02-28T00:00:00+00:00\",\"2022-03-01T00:00:00+00:00\",\"2022-03-02T00:00:00+00:00\",\"2022-03-03T00:00:00+00:00\",\"2022-03-04T00:00:00+00:00\",\"2022-03-07T00:00:00+00:00\",\"2022-03-08T00:00:00+00:00\",\"2022-03-09T00:00:00+00:00\",\"2022-03-10T00:00:00+00:00\",\"2022-03-11T00:00:00+00:00\",\"2022-03-14T00:00:00+00:00\",\"2022-03-15T00:00:00+00:00\",\"2022-03-16T00:00:00+00:00\",\"2022-03-17T00:00:00+00:00\",\"2022-03-18T00:00:00+00:00\",\"2022-03-21T00:00:00+00:00\",\"2022-03-22T00:00:00+00:00\",\"2022-03-23T00:00:00+00:00\",\"2022-03-24T00:00:00+00:00\",\"2022-03-25T00:00:00+00:00\",\"2022-03-28T00:00:00+00:00\",\"2022-03-29T00:00:00+00:00\",\"2022-03-30T00:00:00+00:00\",\"2022-03-31T00:00:00+00:00\",\"2022-04-01T00:00:00+00:00\",\"2022-04-04T00:00:00+00:00\",\"2022-04-05T00:00:00+00:00\",\"2022-04-06T00:00:00+00:00\",\"2022-04-07T00:00:00+00:00\",\"2022-04-08T00:00:00+00:00\",\"2022-04-11T00:00:00+00:00\",\"2022-04-12T00:00:00+00:00\",\"2022-04-13T00:00:00+00:00\",\"2022-04-14T00:00:00+00:00\",\"2022-04-18T00:00:00+00:00\",\"2022-04-19T00:00:00+00:00\",\"2022-04-20T00:00:00+00:00\",\"2022-04-21T00:00:00+00:00\",\"2022-04-22T00:00:00+00:00\",\"2022-04-25T00:00:00+00:00\",\"2022-04-26T00:00:00+00:00\",\"2022-04-27T00:00:00+00:00\",\"2022-04-28T00:00:00+00:00\",\"2022-04-29T00:00:00+00:00\",\"2022-05-02T00:00:00+00:00\",\"2022-05-03T00:00:00+00:00\",\"2022-05-04T00:00:00+00:00\",\"2022-05-05T00:00:00+00:00\",\"2022-05-06T00:00:00+00:00\",\"2022-05-09T00:00:00+00:00\",\"2022-05-10T00:00:00+00:00\",\"2022-05-11T00:00:00+00:00\",\"2022-05-12T00:00:00+00:00\",\"2022-05-13T00:00:00+00:00\",\"2022-05-16T00:00:00+00:00\",\"2022-05-17T00:00:00+00:00\",\"2022-05-18T00:00:00+00:00\",\"2022-05-19T00:00:00+00:00\",\"2022-05-20T00:00:00+00:00\",\"2022-05-23T00:00:00+00:00\",\"2022-05-24T00:00:00+00:00\",\"2022-05-25T00:00:00+00:00\",\"2022-05-26T00:00:00+00:00\",\"2022-05-27T00:00:00+00:00\",\"2022-05-31T00:00:00+00:00\",\"2022-06-01T00:00:00+00:00\",\"2022-06-02T00:00:00+00:00\",\"2022-06-03T00:00:00+00:00\",\"2022-06-06T00:00:00+00:00\",\"2022-06-07T00:00:00+00:00\",\"2022-06-08T00:00:00+00:00\",\"2022-06-09T00:00:00+00:00\",\"2022-06-10T00:00:00+00:00\",\"2022-06-13T00:00:00+00:00\",\"2022-06-14T00:00:00+00:00\",\"2022-06-15T00:00:00+00:00\",\"2022-06-16T00:00:00+00:00\",\"2022-06-17T00:00:00+00:00\",\"2022-06-21T00:00:00+00:00\",\"2022-06-22T00:00:00+00:00\",\"2022-06-23T00:00:00+00:00\",\"2022-06-24T00:00:00+00:00\",\"2022-06-27T00:00:00+00:00\",\"2022-06-28T00:00:00+00:00\",\"2022-06-29T00:00:00+00:00\",\"2022-06-30T00:00:00+00:00\",\"2022-07-01T00:00:00+00:00\",\"2022-07-05T00:00:00+00:00\",\"2022-07-06T00:00:00+00:00\",\"2022-07-07T00:00:00+00:00\",\"2022-07-08T00:00:00+00:00\",\"2022-07-11T00:00:00+00:00\",\"2022-07-12T00:00:00+00:00\",\"2022-07-13T00:00:00+00:00\",\"2022-07-14T00:00:00+00:00\",\"2022-07-15T00:00:00+00:00\",\"2022-07-18T00:00:00+00:00\",\"2022-07-19T00:00:00+00:00\",\"2022-07-20T00:00:00+00:00\",\"2022-07-21T00:00:00+00:00\",\"2022-07-22T00:00:00+00:00\",\"2022-07-25T00:00:00+00:00\",\"2022-07-26T00:00:00+00:00\",\"2022-07-27T00:00:00+00:00\",\"2022-07-28T00:00:00+00:00\",\"2022-07-29T00:00:00+00:00\",\"2022-08-01T00:00:00+00:00\",\"2022-08-02T00:00:00+00:00\",\"2022-08-03T00:00:00+00:00\",\"2022-08-04T00:00:00+00:00\",\"2022-08-05T00:00:00+00:00\",\"2022-08-08T00:00:00+00:00\",\"2022-08-09T00:00:00+00:00\",\"2022-08-10T00:00:00+00:00\",\"2022-08-11T00:00:00+00:00\",\"2022-08-12T00:00:00+00:00\",\"2022-08-15T00:00:00+00:00\",\"2022-08-16T00:00:00+00:00\",\"2022-08-17T00:00:00+00:00\",\"2022-08-18T00:00:00+00:00\",\"2022-08-19T00:00:00+00:00\",\"2022-08-22T00:00:00+00:00\",\"2022-08-23T00:00:00+00:00\",\"2022-08-24T00:00:00+00:00\",\"2022-08-25T00:00:00+00:00\",\"2022-08-26T00:00:00+00:00\",\"2022-08-29T00:00:00+00:00\",\"2022-08-30T00:00:00+00:00\",\"2022-08-31T00:00:00+00:00\",\"2022-09-01T00:00:00+00:00\",\"2022-09-02T00:00:00+00:00\",\"2022-09-06T00:00:00+00:00\",\"2022-09-07T00:00:00+00:00\",\"2022-09-08T00:00:00+00:00\",\"2022-09-09T00:00:00+00:00\",\"2022-09-12T00:00:00+00:00\",\"2022-09-13T00:00:00+00:00\",\"2022-09-14T00:00:00+00:00\",\"2022-09-15T00:00:00+00:00\",\"2022-09-16T00:00:00+00:00\",\"2022-09-19T00:00:00+00:00\",\"2022-09-20T00:00:00+00:00\",\"2022-09-21T00:00:00+00:00\",\"2022-09-22T00:00:00+00:00\",\"2022-09-23T00:00:00+00:00\",\"2022-09-26T00:00:00+00:00\",\"2022-09-27T00:00:00+00:00\",\"2022-09-28T00:00:00+00:00\",\"2022-09-29T00:00:00+00:00\",\"2022-09-30T00:00:00+00:00\",\"2022-10-03T00:00:00+00:00\",\"2022-10-04T00:00:00+00:00\",\"2022-10-05T00:00:00+00:00\",\"2022-10-06T00:00:00+00:00\",\"2022-10-07T00:00:00+00:00\",\"2022-10-10T00:00:00+00:00\",\"2022-10-11T00:00:00+00:00\",\"2022-10-12T00:00:00+00:00\",\"2022-10-13T00:00:00+00:00\",\"2022-10-14T00:00:00+00:00\",\"2022-10-17T00:00:00+00:00\",\"2022-10-18T00:00:00+00:00\",\"2022-10-19T00:00:00+00:00\",\"2022-10-20T00:00:00+00:00\",\"2022-10-21T00:00:00+00:00\",\"2022-10-24T00:00:00+00:00\",\"2022-10-25T00:00:00+00:00\",\"2022-10-26T00:00:00+00:00\",\"2022-10-27T00:00:00+00:00\",\"2022-10-28T00:00:00+00:00\",\"2022-10-31T00:00:00+00:00\",\"2022-11-01T00:00:00+00:00\",\"2022-11-02T00:00:00+00:00\",\"2022-11-03T00:00:00+00:00\",\"2022-11-04T00:00:00+00:00\",\"2022-11-07T00:00:00+00:00\",\"2022-11-08T00:00:00+00:00\",\"2022-11-09T00:00:00+00:00\",\"2022-11-10T00:00:00+00:00\",\"2022-11-11T00:00:00+00:00\",\"2022-11-14T00:00:00+00:00\",\"2022-11-15T00:00:00+00:00\",\"2022-11-16T00:00:00+00:00\",\"2022-11-17T00:00:00+00:00\",\"2022-11-18T00:00:00+00:00\",\"2022-11-21T00:00:00+00:00\",\"2022-11-22T00:00:00+00:00\",\"2022-11-23T00:00:00+00:00\",\"2022-11-25T00:00:00+00:00\",\"2022-11-28T00:00:00+00:00\",\"2022-11-29T00:00:00+00:00\",\"2022-11-30T00:00:00+00:00\",\"2022-12-01T00:00:00+00:00\",\"2022-12-02T00:00:00+00:00\",\"2022-12-05T00:00:00+00:00\",\"2022-12-06T00:00:00+00:00\",\"2022-12-07T00:00:00+00:00\",\"2022-12-08T00:00:00+00:00\",\"2022-12-09T00:00:00+00:00\",\"2022-12-12T00:00:00+00:00\",\"2022-12-13T00:00:00+00:00\",\"2022-12-14T00:00:00+00:00\",\"2022-12-15T00:00:00+00:00\",\"2022-12-16T00:00:00+00:00\",\"2022-12-19T00:00:00+00:00\",\"2022-12-20T00:00:00+00:00\",\"2022-12-21T00:00:00+00:00\",\"2022-12-22T00:00:00+00:00\",\"2022-12-23T00:00:00+00:00\",\"2022-12-27T00:00:00+00:00\",\"2022-12-28T00:00:00+00:00\",\"2022-12-29T00:00:00+00:00\",\"2022-12-30T00:00:00+00:00\",\"2023-01-03T00:00:00+00:00\",\"2023-01-04T00:00:00+00:00\",\"2023-01-05T00:00:00+00:00\",\"2023-01-06T00:00:00+00:00\",\"2023-01-09T00:00:00+00:00\",\"2023-01-10T00:00:00+00:00\",\"2023-01-11T00:00:00+00:00\",\"2023-01-12T00:00:00+00:00\",\"2023-01-13T00:00:00+00:00\",\"2023-01-17T00:00:00+00:00\",\"2023-01-18T00:00:00+00:00\",\"2023-01-19T00:00:00+00:00\",\"2023-01-20T00:00:00+00:00\",\"2023-01-23T00:00:00+00:00\",\"2023-01-24T00:00:00+00:00\",\"2023-01-25T00:00:00+00:00\",\"2023-01-26T00:00:00+00:00\",\"2023-01-27T00:00:00+00:00\",\"2023-01-30T00:00:00+00:00\",\"2023-01-31T00:00:00+00:00\",\"2023-02-01T00:00:00+00:00\",\"2023-02-02T00:00:00+00:00\",\"2023-02-03T00:00:00+00:00\",\"2023-02-06T00:00:00+00:00\",\"2023-02-07T00:00:00+00:00\",\"2023-02-08T00:00:00+00:00\",\"2023-02-09T00:00:00+00:00\",\"2023-02-10T00:00:00+00:00\",\"2023-02-13T00:00:00+00:00\",\"2023-02-14T00:00:00+00:00\",\"2023-02-15T00:00:00+00:00\",\"2023-02-16T00:00:00+00:00\",\"2023-02-17T00:00:00+00:00\",\"2023-02-21T00:00:00+00:00\",\"2023-02-22T00:00:00+00:00\",\"2023-02-23T00:00:00+00:00\",\"2023-02-24T00:00:00+00:00\",\"2023-02-27T00:00:00+00:00\",\"2023-02-28T00:00:00+00:00\",\"2023-03-01T00:00:00+00:00\",\"2023-03-02T00:00:00+00:00\",\"2023-03-03T00:00:00+00:00\",\"2023-03-06T00:00:00+00:00\",\"2023-03-07T00:00:00+00:00\",\"2023-03-08T00:00:00+00:00\",\"2023-03-09T00:00:00+00:00\",\"2023-03-10T00:00:00+00:00\",\"2023-03-13T00:00:00+00:00\",\"2023-03-14T00:00:00+00:00\",\"2023-03-15T00:00:00+00:00\",\"2023-03-16T00:00:00+00:00\",\"2023-03-17T00:00:00+00:00\",\"2023-03-20T00:00:00+00:00\",\"2023-03-21T00:00:00+00:00\",\"2023-03-22T00:00:00+00:00\",\"2023-03-23T00:00:00+00:00\",\"2023-03-24T00:00:00+00:00\",\"2023-03-27T00:00:00+00:00\",\"2023-03-28T00:00:00+00:00\",\"2023-03-29T00:00:00+00:00\",\"2023-03-30T00:00:00+00:00\",\"2023-03-31T00:00:00+00:00\",\"2023-04-03T00:00:00+00:00\",\"2023-04-04T00:00:00+00:00\",\"2023-04-05T00:00:00+00:00\",\"2023-04-06T00:00:00+00:00\",\"2023-04-10T00:00:00+00:00\",\"2023-04-11T00:00:00+00:00\",\"2023-04-12T00:00:00+00:00\",\"2023-04-13T00:00:00+00:00\",\"2023-04-14T00:00:00+00:00\",\"2023-04-17T00:00:00+00:00\",\"2023-04-18T00:00:00+00:00\",\"2023-04-19T00:00:00+00:00\",\"2023-04-20T00:00:00+00:00\",\"2023-04-21T00:00:00+00:00\",\"2023-04-24T00:00:00+00:00\",\"2023-04-25T00:00:00+00:00\",\"2023-04-26T00:00:00+00:00\",\"2023-04-27T00:00:00+00:00\",\"2023-04-28T00:00:00+00:00\",\"2023-05-01T00:00:00+00:00\",\"2023-05-02T00:00:00+00:00\",\"2023-05-03T00:00:00+00:00\",\"2023-05-04T00:00:00+00:00\",\"2023-05-05T00:00:00+00:00\",\"2023-05-08T00:00:00+00:00\",\"2023-05-09T00:00:00+00:00\",\"2023-05-10T00:00:00+00:00\",\"2023-05-11T00:00:00+00:00\",\"2023-05-12T00:00:00+00:00\",\"2023-05-15T00:00:00+00:00\",\"2023-05-16T00:00:00+00:00\",\"2023-05-17T00:00:00+00:00\",\"2023-05-18T00:00:00+00:00\",\"2023-05-19T00:00:00+00:00\",\"2023-05-22T00:00:00+00:00\",\"2023-05-23T00:00:00+00:00\",\"2023-05-24T00:00:00+00:00\",\"2023-05-25T00:00:00+00:00\",\"2023-05-26T00:00:00+00:00\",\"2023-05-30T00:00:00+00:00\",\"2023-05-31T00:00:00+00:00\",\"2023-06-01T00:00:00+00:00\",\"2023-06-02T00:00:00+00:00\",\"2023-06-05T00:00:00+00:00\",\"2023-06-06T00:00:00+00:00\",\"2023-06-07T00:00:00+00:00\",\"2023-06-08T00:00:00+00:00\",\"2023-06-09T00:00:00+00:00\",\"2023-06-12T00:00:00+00:00\",\"2023-06-13T00:00:00+00:00\",\"2023-06-14T00:00:00+00:00\",\"2023-06-15T00:00:00+00:00\",\"2023-06-16T00:00:00+00:00\",\"2023-06-20T00:00:00+00:00\",\"2023-06-21T00:00:00+00:00\",\"2023-06-22T00:00:00+00:00\",\"2023-06-23T00:00:00+00:00\",\"2023-06-26T00:00:00+00:00\",\"2023-06-27T00:00:00+00:00\",\"2023-06-28T00:00:00+00:00\",\"2023-06-29T00:00:00+00:00\",\"2023-06-30T00:00:00+00:00\",\"2023-07-03T00:00:00+00:00\",\"2023-07-05T00:00:00+00:00\",\"2023-07-06T00:00:00+00:00\",\"2023-07-07T00:00:00+00:00\",\"2023-07-10T00:00:00+00:00\",\"2023-07-11T00:00:00+00:00\",\"2023-07-12T00:00:00+00:00\",\"2023-07-13T00:00:00+00:00\",\"2023-07-14T00:00:00+00:00\",\"2023-07-17T00:00:00+00:00\",\"2023-07-18T00:00:00+00:00\",\"2023-07-19T00:00:00+00:00\",\"2023-07-20T00:00:00+00:00\",\"2023-07-21T00:00:00+00:00\",\"2023-07-24T00:00:00+00:00\",\"2023-07-25T00:00:00+00:00\",\"2023-07-26T00:00:00+00:00\",\"2023-07-27T00:00:00+00:00\",\"2023-07-28T00:00:00+00:00\",\"2023-07-31T00:00:00+00:00\",\"2023-08-01T00:00:00+00:00\",\"2023-08-02T00:00:00+00:00\",\"2023-08-03T00:00:00+00:00\",\"2023-08-04T00:00:00+00:00\",\"2023-08-07T00:00:00+00:00\",\"2023-08-08T00:00:00+00:00\",\"2023-08-09T00:00:00+00:00\",\"2023-08-10T00:00:00+00:00\",\"2023-08-11T00:00:00+00:00\",\"2023-08-14T00:00:00+00:00\",\"2023-08-15T00:00:00+00:00\",\"2023-08-16T00:00:00+00:00\",\"2023-08-17T00:00:00+00:00\",\"2023-08-18T00:00:00+00:00\",\"2023-08-21T00:00:00+00:00\",\"2023-08-22T00:00:00+00:00\",\"2023-08-23T00:00:00+00:00\",\"2023-08-24T00:00:00+00:00\",\"2023-08-25T00:00:00+00:00\",\"2023-08-28T00:00:00+00:00\",\"2023-08-29T00:00:00+00:00\",\"2023-08-30T00:00:00+00:00\",\"2023-08-31T00:00:00+00:00\",\"2023-09-01T00:00:00+00:00\",\"2023-09-05T00:00:00+00:00\",\"2023-09-06T00:00:00+00:00\",\"2023-09-07T00:00:00+00:00\",\"2023-09-08T00:00:00+00:00\",\"2023-09-11T00:00:00+00:00\",\"2023-09-12T00:00:00+00:00\",\"2023-09-13T00:00:00+00:00\",\"2023-09-14T00:00:00+00:00\",\"2023-09-15T00:00:00+00:00\",\"2023-09-18T00:00:00+00:00\",\"2023-09-19T00:00:00+00:00\",\"2023-09-20T00:00:00+00:00\",\"2023-09-21T00:00:00+00:00\",\"2023-09-22T00:00:00+00:00\",\"2023-09-25T00:00:00+00:00\",\"2023-09-26T00:00:00+00:00\",\"2023-09-27T00:00:00+00:00\",\"2023-09-28T00:00:00+00:00\",\"2023-09-29T00:00:00+00:00\",\"2023-10-02T00:00:00+00:00\",\"2023-10-03T00:00:00+00:00\",\"2023-10-04T00:00:00+00:00\",\"2023-10-05T00:00:00+00:00\",\"2023-10-06T00:00:00+00:00\",\"2023-10-09T00:00:00+00:00\",\"2023-10-10T00:00:00+00:00\",\"2023-10-11T00:00:00+00:00\",\"2023-10-12T00:00:00+00:00\",\"2023-10-13T00:00:00+00:00\",\"2023-10-16T00:00:00+00:00\",\"2023-10-17T00:00:00+00:00\",\"2023-10-18T00:00:00+00:00\",\"2023-10-19T00:00:00+00:00\",\"2023-10-20T00:00:00+00:00\",\"2023-10-23T00:00:00+00:00\",\"2023-10-24T00:00:00+00:00\",\"2023-10-25T00:00:00+00:00\",\"2023-10-26T00:00:00+00:00\",\"2023-10-27T00:00:00+00:00\",\"2023-10-30T00:00:00+00:00\",\"2023-10-31T00:00:00+00:00\",\"2023-11-01T00:00:00+00:00\",\"2023-11-02T00:00:00+00:00\",\"2023-11-03T00:00:00+00:00\",\"2023-11-06T00:00:00+00:00\",\"2023-11-07T00:00:00+00:00\",\"2023-11-08T00:00:00+00:00\",\"2023-11-09T00:00:00+00:00\",\"2023-11-10T00:00:00+00:00\",\"2023-11-13T00:00:00+00:00\",\"2023-11-14T00:00:00+00:00\",\"2023-11-15T00:00:00+00:00\",\"2023-11-16T00:00:00+00:00\",\"2023-11-17T00:00:00+00:00\",\"2023-11-20T00:00:00+00:00\",\"2023-11-21T00:00:00+00:00\",\"2023-11-22T00:00:00+00:00\",\"2023-11-24T00:00:00+00:00\",\"2023-11-27T00:00:00+00:00\",\"2023-11-28T00:00:00+00:00\",\"2023-11-29T00:00:00+00:00\",\"2023-11-30T00:00:00+00:00\",\"2023-12-01T00:00:00+00:00\",\"2023-12-04T00:00:00+00:00\",\"2023-12-05T00:00:00+00:00\",\"2023-12-06T00:00:00+00:00\",\"2023-12-07T00:00:00+00:00\",\"2023-12-08T00:00:00+00:00\",\"2023-12-11T00:00:00+00:00\",\"2023-12-12T00:00:00+00:00\",\"2023-12-13T00:00:00+00:00\",\"2023-12-14T00:00:00+00:00\",\"2023-12-15T00:00:00+00:00\",\"2023-12-18T00:00:00+00:00\",\"2023-12-19T00:00:00+00:00\",\"2023-12-20T00:00:00+00:00\",\"2023-12-21T00:00:00+00:00\",\"2023-12-22T00:00:00+00:00\",\"2023-12-26T00:00:00+00:00\",\"2023-12-27T00:00:00+00:00\",\"2023-12-28T00:00:00+00:00\",\"2023-12-29T00:00:00+00:00\",\"2024-01-02T00:00:00+00:00\",\"2024-01-03T00:00:00+00:00\",\"2024-01-04T00:00:00+00:00\",\"2024-01-05T00:00:00+00:00\",\"2024-01-08T00:00:00+00:00\",\"2024-01-09T00:00:00+00:00\",\"2024-01-10T00:00:00+00:00\",\"2024-01-11T00:00:00+00:00\",\"2024-01-12T00:00:00+00:00\",\"2024-01-16T00:00:00+00:00\",\"2024-01-17T00:00:00+00:00\",\"2024-01-18T00:00:00+00:00\",\"2024-01-19T00:00:00+00:00\",\"2024-01-22T00:00:00+00:00\",\"2024-01-23T00:00:00+00:00\",\"2024-01-24T00:00:00+00:00\",\"2024-01-25T00:00:00+00:00\",\"2024-01-26T00:00:00+00:00\",\"2024-01-29T00:00:00+00:00\",\"2024-01-30T00:00:00+00:00\",\"2024-01-31T00:00:00+00:00\",\"2024-02-01T00:00:00+00:00\",\"2024-02-02T00:00:00+00:00\",\"2024-02-05T00:00:00+00:00\",\"2024-02-06T00:00:00+00:00\",\"2024-02-07T00:00:00+00:00\",\"2024-02-08T00:00:00+00:00\",\"2024-02-09T00:00:00+00:00\",\"2024-02-12T00:00:00+00:00\",\"2024-02-13T00:00:00+00:00\",\"2024-02-14T00:00:00+00:00\",\"2024-02-15T00:00:00+00:00\",\"2024-02-16T00:00:00+00:00\",\"2024-02-20T00:00:00+00:00\",\"2024-02-21T00:00:00+00:00\",\"2024-02-22T00:00:00+00:00\",\"2024-02-23T00:00:00+00:00\",\"2024-02-26T00:00:00+00:00\",\"2024-02-27T00:00:00+00:00\",\"2024-02-28T00:00:00+00:00\",\"2024-02-29T00:00:00+00:00\",\"2024-03-01T00:00:00+00:00\",\"2024-03-04T00:00:00+00:00\",\"2024-03-05T00:00:00+00:00\",\"2024-03-06T00:00:00+00:00\",\"2024-03-07T00:00:00+00:00\",\"2024-03-08T00:00:00+00:00\",\"2024-03-11T00:00:00+00:00\",\"2024-03-12T00:00:00+00:00\",\"2024-03-13T00:00:00+00:00\",\"2024-03-14T00:00:00+00:00\",\"2024-03-15T00:00:00+00:00\",\"2024-03-18T00:00:00+00:00\",\"2024-03-19T00:00:00+00:00\",\"2024-03-20T00:00:00+00:00\",\"2024-03-21T00:00:00+00:00\",\"2024-03-22T00:00:00+00:00\",\"2024-03-25T00:00:00+00:00\",\"2024-03-26T00:00:00+00:00\",\"2024-03-27T00:00:00+00:00\",\"2024-03-28T00:00:00+00:00\",\"2024-04-01T00:00:00+00:00\",\"2024-04-02T00:00:00+00:00\",\"2024-04-03T00:00:00+00:00\",\"2024-04-04T00:00:00+00:00\",\"2024-04-05T00:00:00+00:00\",\"2024-04-08T00:00:00+00:00\",\"2024-04-09T00:00:00+00:00\",\"2024-04-10T00:00:00+00:00\",\"2024-04-11T00:00:00+00:00\",\"2024-04-12T00:00:00+00:00\",\"2024-04-15T00:00:00+00:00\",\"2024-04-16T00:00:00+00:00\",\"2024-04-17T00:00:00+00:00\",\"2024-04-18T00:00:00+00:00\",\"2024-04-19T00:00:00+00:00\",\"2024-04-22T00:00:00+00:00\",\"2024-04-23T00:00:00+00:00\",\"2024-04-24T00:00:00+00:00\",\"2024-04-25T00:00:00+00:00\",\"2024-04-26T00:00:00+00:00\",\"2024-04-29T00:00:00+00:00\",\"2024-04-30T00:00:00+00:00\",\"2024-05-01T00:00:00+00:00\",\"2024-05-02T00:00:00+00:00\",\"2024-05-03T00:00:00+00:00\",\"2024-05-06T00:00:00+00:00\",\"2024-05-07T00:00:00+00:00\",\"2024-05-08T00:00:00+00:00\",\"2024-05-09T00:00:00+00:00\",\"2024-05-10T00:00:00+00:00\",\"2024-05-13T00:00:00+00:00\",\"2024-05-14T00:00:00+00:00\"],\"xaxis\":\"x\",\"y\":[19.754642486572266,19.320714950561523,19.426071166992188,19.28714370727539,19.409286499023438,19.161428451538086,19.033571243286133,19.133214950561523,19.51392936706543,19.90571403503418,19.79464340209961,19.309642791748047,19.609643936157227,19.696786880493164,19.863571166992188,19.502500534057617,19.66071319580078,18.08928680419922,17.883928298950195,17.849285125732422,17.878570556640625,17.911785125732422,18.171070098876953,18.306785583496094,18.30392837524414,18.559999465942383,18.892499923706055,19.141429901123047,19.139999389648438,19.44392967224121,19.428213119506836,19.499643325805664,19.19178581237793,18.969642639160156,18.758928298950195,18.8410701751709,18.645000457763672,18.47678565979004,18.84535789489746,18.794286727905273,18.84857177734375,18.972856521606445,19.01285743713379,18.95535659790039,18.944286346435547,18.961429595947266,19.14607048034668,19.164642333984375,18.951786041259766,18.738929748535156,18.812143325805664,18.97857093811035,18.97357177734375,18.882143020629883,19.031070709228516,19.256786346435547,19.46392822265625,19.277856826782227,19.19499969482422,19.17357063293457,19.169286727905273,19.344642639160156,19.376785278320312,19.24250030517578,18.99357032775879,18.695356369018555,18.694286346435547,18.940000534057617,18.695714950561523,18.5575008392334,18.63142967224121,18.498571395874023,18.53607177734375,18.74785614013672,18.97035789489746,18.989286422729492,18.741071701049805,20.27750015258789,20.426429748535156,21.217500686645508,21.15464210510254,21.074642181396484,21.124286651611328,21.163570404052734,21.46285629272461,21.22892951965332,21.15464210510254,20.999643325805664,20.91214370727539,21.172500610351562,21.205713272094727,21.20964241027832,21.029285430908203,21.339643478393555,21.592500686645508,21.596786499023438,21.653928756713867,21.688213348388672,21.93321418762207,22.343929290771484,22.28607177734375,22.692142486572266,22.60714340209961,22.451786041259766,22.769285202026367,23.029285430908203,23.11964225769043,23.05607032775879,23.424999237060547,23.5625,23.46500015258789,23.072500228881836,22.81999969482422,23.049999237060547,23.020000457763672,23.045000076293945,22.96500015258789,22.727500915527344,22.707500457763672,22.56999969482422,22.59000015258789,22.725000381469727,22.9950008392334,23.232500076293945,23.3799991607666,23.3700008392334,23.50749969482422,23.99250030517578,23.837499618530273,23.84749984741211,23.760000228881836,23.80500030517578,24.112499237060547,23.829999923706055,23.69499969482422,23.272499084472656,23.607500076293945,23.485000610351562,23.68000030517578,24.297500610351562,24.25749969482422,24.417499542236328,24.7549991607666,24.594999313354492,24.537500381469727,23.899999618530273,24.032499313354492,23.897499084472656,23.780000686645508,23.739999771118164,23.6200008392334,23.684999465942383,23.997499465942383,23.99250030517578,24.309999465942383,24.375,24.4950008392334,24.790000915527344,25.13249969482422,25.142499923706055,25.145000457763672,25.329999923706055,25.385000228881836,25.22249984741211,25.532499313354492,25.5625,25.625,25.825000762939453,24.735000610351562,24.530000686645508,24.74250030517578,24.59000015258789,24.497499465942383,25.25,25.357500076293945,25.415000915527344,25.407499313354492,25.21500015258789,25.395000457763672,25.447500228881836,25.239999771118164,25.264999389648438,25.65999984741211,25.4375,24.467500686645508,25.1875,25.02750015258789,25.1875,24.795000076293945,24.975000381469727,24.905000686645508,24.905000686645508,24.6875,25.200000762939453,25.2549991607666,25.1825008392334,24.952499389648438,24.6875,24.385000228881836,24.065000534057617,24.417499542236328,24.940000534057617,25.61750030517578,25.747499465942383,26.207500457763672,26.30500030517578,26.27750015258789,26.684999465942383,26.834999084472656,26.7450008392334,27.0,27.350000381469727,27.149999618530273,27.21500015258789,27.174999237060547,27.252500534057617,27.207500457763672,27.424999237060547,27.8125,28.204999923706055,28.545000076293945,28.497499465942383,28.86750030517578,28.667499542236328,29.077499389648438,29.11750030517578,29.657499313354492,29.399999618530273,29.75,29.732500076293945,28.767499923706055,28.657499313354492,28.982500076293945,28.872499465942383,28.75,28.100000381469727,28.530000686645508,27.987499237060547,27.905000686645508,27.4325008392334,27.0575008392334,26.6875,27.352500915527344,28.162500381469727,27.94499969482422,28.235000610351562,28.135000228881836,28.002500534057617,28.497499465942383,28.477500915527344,28.1299991607666,27.594999313354492,27.332500457763672,26.5625,26.565000534057617,26.9375,27.97249984741211,28.002500534057617,27.3125,27.55500030517578,27.450000762939453,26.704999923706055,26.497499465942383,27.18000030517578,27.387500762939453,28.100000381469727,28.2450008392334,28.274999618530273,27.28499984741211,28.827499389648438,29.725000381469727,29.290000915527344,29.657499313354492,29.662500381469727,29.889999389648438,29.985000610351562,29.732500076293945,29.93000030517578,30.5049991607666,31.219999313354492,31.614999771118164,31.770000457763672,31.957500457763672,32.18000030517578,32.11249923706055,32.375,33.25,33.04249954223633,32.1974983215332,32.60499954223633,32.1150016784668,32.272499084472656,32.34000015258789,32.1349983215332,31.602500915527344,31.649999618530273,31.78499984741211,31.127500534057617,30.559999465942383,31.112499237060547,30.897499084472656,31.237499237060547,31.760000228881836,32.11750030517578,31.875,31.475000381469727,31.802499771118164,31.672500610351562,30.844999313354492,31.059999465942383,30.8125,31.592500686645508,31.107500076293945,31.0625,31.329999923706055,31.837499618530273,31.502500534057617,31.399999618530273,31.639999389648438,31.774999618530273,31.712499618530273,31.575000762939453,31.69499969482422,31.542499542236328,31.1875,31.899999618530273,31.727500915527344,32.154998779296875,32.41749954223633,32.56999969482422,33.162498474121094,32.63999938964844,32.15999984741211,31.287500381469727,32.23749923706055,32.17499923706055,31.450000762939453,31.252500534057617,31.315000534057617,31.905000686645508,31.579999923706055,31.467500686645508,31.502500534057617,32.23749923706055,32.192501068115234,32.54750061035156,32.51750183105469,32.51499938964844,32.84749984741211,33.1349983215332,32.404998779296875,33.0099983215332,32.94499969482422,32.56999969482422,32.6349983215332,32.4900016784668,32.529998779296875,32.34000015258789,32.162498474121094,31.950000762939453,31.854999542236328,32.220001220703125,32.147499084472656,31.792499542236328,31.729999542236328,31.899999618530273,31.825000762939453,31.969999313354492,31.649999618530273,31.90250015258789,31.75749969482422,32.02750015258789,31.875,31.6875,31.13249969482422,31.357500076293945,31.649999618530273,31.610000610351562,31.5,31.422500610351562,30.642499923706055,30.017499923706055,30.81999969482422,31.415000915527344,31.40250015258789,31.704999923706055,32.127498626708984,32.404998779296875,33.01750183105469,32.6875,31.30500030517578,31.290000915527344,31.125,30.6924991607666,30.844999313354492,30.747499465942383,30.592500686645508,30.325000762939453,29.610000610351562,28.65999984741211,28.850000381469727,28.782499313354492,28.8799991607666,29.93000030517578,28.372499465942383,28.809999465942383,28.787500381469727,28.989999771118164,29.290000915527344,29.125,28.752500534057617,28.162500381469727,26.440000534057617,25.780000686645508,25.934999465942383,27.422500610351562,28.229999542236328,28.322500228881836,28.190000534057617,26.93000030517578,28.084999084472656,27.592500686645508,27.3174991607666,28.077499389648438,27.537500381469727,28.142499923706055,28.552499771118164,28.827499389648438,29.06999969482422,29.102500915527344,28.479999542236328,28.362499237060547,28.802499771118164,28.350000381469727,28.579999923706055,28.75,28.677499771118164,28.110000610351562,27.264999389648438,27.575000762939453,27.395000457763672,27.594999313354492,27.69499969482422,27.827499389648438,27.69499969482422,27.375,28.030000686645508,27.899999618530273,27.947500228881836,27.552499771118164,27.96500015258789,27.760000228881836,27.9325008392334,28.4424991607666,28.440000534057617,28.875,29.770000457763672,28.81999969482422,28.637500762939453,29.8174991607666,30.13249969482422,29.875,30.295000076293945,30.642499923706055,30.5,30.229999542236328,30.264999389648438,30.142499923706055,29.1924991607666,29.02750015258789,28.93000030517578,28.084999084472656,28.545000076293945,28.422500610351562,29.322500228881836,29.69499969482422,29.825000762939453,29.4375,29.719999313354492,29.50749969482422,29.452499389648438,29.575000762939453,29.334999084472656,29.06999969482422,28.799999237060547,29.75749969482422,29.56999969482422,29.5575008392334,28.905000686645508,29.042499542236328,28.295000076293945,28.1200008392334,27.622499465942383,27.834999084472656,27.2450008392334,26.50749969482422,26.832500457763672,26.8075008392334,27.15250015258789,27.00749969482422,26.704999923706055,27.184999465942383,26.829999923706055,26.315000534057617,26.337499618530273,25.677499771118164,25.174999237060547,24.112499237060547,24.239999771118164,24.63249969482422,24.989999771118164,24.34749984741211,24.8799991607666,24.282499313354492,24.165000915527344,24.197500228881836,24.075000762939453,25.354999542236328,24.860000610351562,24.997499465942383,23.354999542236328,23.522499084472656,24.334999084472656,24.107500076293945,23.6200008392334,24.087499618530273,24.149999618530273,23.5049991607666,23.752500534057617,23.747499465942383,23.5674991607666,23.424999237060547,23.497499465942383,24.15999984741211,24.530000686645508,24.065000534057617,24.010000228881836,24.219999313354492,23.672500610351562,24.024999618530273,24.190000534057617,24.227500915527344,24.172500610351562,25.13249969482422,25.1875,25.375,25.752500534057617,25.467500686645508,25.25749969482422,25.280000686645508,25.292499542236328,25.565000534057617,25.6299991607666,26.145000457763672,26.49250030517578,26.450000762939453,26.479999542236328,26.477500915527344,26.68000030517578,26.532499313354492,26.417499542236328,26.297500610351562,26.920000076293945,27.389999389648438,27.247499465942383,27.497499465942383,27.780000686645508,27.452499389648438,27.739999771118164,27.135000228881836,27.165000915527344,27.2549991607666,27.610000610351562,28.010000228881836,28.024999618530273,27.462499618530273,26.8700008392334,26.727500915527344,26.782499313354492,26.49250030517578,26.420000076293945,26.270000457763672,26.087499618530273,24.454999923706055,23.707500457763672,23.434999465942383,23.40999984741211,23.795000076293945,23.547500610351562,23.309999465942383,23.18000030517578,23.197500228881836,23.354999542236328,23.127500534057617,22.584999084472656,22.6299991607666,23.469999313354492,23.372499465942383,23.639999389648438,23.549999237060547,23.80500030517578,24.107500076293945,24.475000381469727,24.905000686645508,25.102500915527344,25.087499618530273,24.96500015258789,24.614999771118164,24.43000030517578,24.479999542236328,24.657499313354492,24.75749969482422,24.735000610351562,24.912500381469727,24.707500457763672,24.334999084472656,24.364999771118164,24.28499984741211,24.387500762939453,23.832500457763672,23.774999618530273,23.977500915527344,23.887500762939453,24.024999618530273,23.350000381469727,23.010000228881836,23.397499084472656,23.600000381469727,23.899999618530273,23.97249984741211,23.747499465942383,23.88249969482422,23.985000610351562,24.170000076293945,24.2450008392334,24.354999542236328,24.217500686645508,24.697500228881836,24.69499969482422,24.957500457763672,24.967500686645508,24.989999771118164,24.857500076293945,24.665000915527344,24.334999084472656,24.167499542236328,25.737499237060547,26.084999084472656,26.052499771118164,26.512500762939453,26.1200008392334,26.447500228881836,26.467500686645508,26.8700008392334,27.092500686645508,27.202499389648438,27.0,26.982500076293945,27.045000076293945,27.3700008392334,27.344999313354492,27.30500030517578,27.270000457763672,27.34000015258789,27.127500534057617,27.212499618530273,27.00749969482422,26.892499923706055,26.735000610351562,26.704999923706055,26.5,26.524999618530273,26.6825008392334,26.9325008392334,26.924999237060547,27.09000015258789,26.3799991607666,25.782499313354492,26.360000610351562,26.987499237060547,27.9424991607666,28.892499923706055,28.729999542236328,28.395000457763672,28.392499923706055,28.387500762939453,28.655000686645508,28.177499771118164,28.219999313354492,28.272499084472656,28.487499237060547,28.045000076293945,28.262500762939453,28.1299991607666,28.25,28.262500762939453,28.47249984741211,28.514999389648438,29.012500762939453,29.075000762939453,29.334999084472656,29.2450008392334,29.407499313354492,29.387500762939453,29.36750030517578,29.280000686645508,29.264999389648438,29.149999618530273,29.412500381469727,29.5625,28.897499084472656,28.6200008392334,28.43000030517578,28.385000228881836,27.872499465942383,27.897499084472656,27.457500457763672,27.209999084472656,27.602500915527344,27.764999389648438,27.719999313354492,26.947500228881836,27.107500076293945,26.427499771118164,26.77750015258789,27.497499465942383,27.487499237060547,27.514999389648438,27.9325008392334,27.950000762939453,27.8075008392334,27.947500228881836,27.892499923706055,27.864999771118164,27.6299991607666,27.372499465942383,27.475000381469727,27.27750015258789,27.487499237060547,27.75749969482422,28.030000686645508,28.487499237060547,28.325000762939453,28.797500610351562,28.797500610351562,28.954999923706055,28.99250030517578,29.15999984741211,29.237499237060547,29.264999389648438,29.072500228881836,29.1299991607666,29.315000534057617,29.190000534057617,29.1825008392334,28.954999923706055,29.037500381469727,29.0049991607666,29.15250015258789,29.477500915527344,29.747499465942383,29.77750015258789,29.9375,29.8125,29.760000228881836,30.0,29.997499465942383,29.94499969482422,30.0,30.020000457763672,29.99250030517578,30.469999313354492,30.485000610351562,30.487499237060547,30.407499313354492,30.337499618530273,32.1875,32.13249969482422,32.27000045776367,32.5724983215332,32.88249969482422,33.0099983215332,33.10499954223633,33.029998779296875,33.3224983215332,33.755001068115234,33.877498626708984,33.837501525878906,33.93000030517578,34.17499923706055,34.27750015258789,34.13249969482422,34.165000915527344,34.23249816894531,34.247501373291016,34.9474983215332,34.7400016784668,34.94499969482422,34.834999084472656,34.880001068115234,34.75,34.66999816894531,34.78499984741211,34.79999923706055,34.747501373291016,35.1150016784668,35.17250061035156,34.997501373291016,35.3650016784668,34.959999084472656,35.35499954223633,35.22999954223633,35.15999984741211,35.220001220703125,35.95000076293945,36.029998779296875,35.98249816894531,35.915000915527344,35.92499923706055,36.192501068115234,36.005001068115234,35.915000915527344,35.834999084472656,35.79249954223633,35.407501220703125,35.45000076293945,35.26250076293945,35.45750045776367,35.29999923706055,35.16999816894531,35.61000061035156,35.567501068115234,35.90999984741211,36.13249969482422,35.91999816894531,35.9474983215332,35.912498474121094,36.64500045776367,36.877498626708984,36.76499938964844,36.63249969482422,37.2400016784668,38.252498626708984,38.497501373291016,38.314998626708984,38.48749923706055,39.025001525878906,38.92499923706055,38.86750030517578,37.5625,38.1349983215332,38.26499938964844,38.497501373291016,38.45000076293945,38.334999084472656,38.467498779296875,38.40250015258789,38.41749954223633,38.189998626708984,38.29499816894531,38.86249923706055,38.48249816894531,38.61249923706055,38.842498779296875,38.747501373291016,37.244998931884766,36.35499954223633,36.647499084472656,36.290000915527344,36.0724983215332,35.567501068115234,36.584999084472656,36.252498626708984,36.467498779296875,36.407501220703125,36.56999969482422,36.45500183105469,35.932498931884766,36.45750045776367,35.91999816894531,36.005001068115234,35.875,36.022499084472656,35.682498931884766,36.04499816894531,36.26499938964844,36.38249969482422,36.435001373291016,36.942501068115234,37.2599983215332,37.38999938964844,37.52000045776367,37.755001068115234,37.584999084472656,37.567501068115234,38.022499084472656,38.185001373291016,38.3650016784668,37.63999938964844,37.375,37.182498931884766,37.51250076293945,39.28499984741211,38.89250183105469,39.09749984741211,39.70249938964844,40.02000045776367,40.26499938964844,38.83000183105469,39.369998931884766,39.962501525878906,40.400001525878906,40.23749923706055,39.46500015258789,39.375,39.3025016784668,39.94499969482422,39.994998931884766,39.817501068115234,39.96500015258789,40.36750030517578,40.727500915527344,40.837501525878906,41.0,41.01250076293945,40.52000045776367,40.477500915527344,40.314998626708984,39.657501220703125,40.375,40.21500015258789,39.912498474121094,39.56999969482422,39.970001220703125,39.66749954223633,39.682498931884766,39.01750183105469,38.34749984741211,37.97249984741211,37.63750076293945,38.28499984741211,38.557498931884766,38.31999969482422,38.529998779296875,38.45249938964844,38.619998931884766,38.369998931884766,38.84749984741211,38.82500076293945,38.959999084472656,38.974998474121094,39.13750076293945,39.0,39.247501373291016,39.970001220703125,40.11750030517578,39.939998626708984,38.994998931884766,39.0625,39.04249954223633,39.275001525878906,39.102500915527344,39.352500915527344,40.76250076293945,41.68000030517578,42.2599983215332,41.72249984741211,42.02750015258789,43.125,43.5625,43.70249938964844,44.060001373291016,43.970001220703125,43.66749954223633,43.49250030517578,42.834999084472656,42.27000045776367,42.775001525878906,42.537498474121094,42.494998931884766,43.28499984741211,43.7400016784668,43.74250030517578,43.522499084472656,43.26750183105469,42.369998931884766,42.962501525878906,42.76250076293945,42.45000076293945,42.40999984741211,42.252498626708984,42.33000183105469,42.342498779296875,43.16749954223633,42.92499923706055,43.067501068115234,43.05500030517578,43.49250030517578,44.10499954223633,43.6349983215332,43.587501525878906,43.752498626708984,43.752498626708984,42.64250183105469,42.650001525878906,42.77000045776367,42.307498931884766,43.064998626708984,43.057498931884766,43.25749969482422,43.75,43.587501525878906,43.58250045776367,43.5724983215332,43.81999969482422,44.272499084472656,44.04750061035156,44.775001525878906,44.814998626708984,44.6150016784668,44.25,44.2599983215332,43.55500030517578,42.77750015258789,42.877498626708984,41.9900016784668,41.74250030517578,41.85749816894531,41.94499969482422,40.125,39.122501373291016,40.75749969482422,39.8849983215332,38.787498474121094,39.102500915527344,40.6775016784668,41.084999084472656,41.842498779296875,43.247501373291016,43.10749816894531,42.962501525878906,42.76750183105469,43.125,43.875,44.74250030517578,44.59749984741211,44.529998779296875,43.75,44.0525016784668,44.20500183105469,44.16749954223633,43.75749969482422,44.23500061035156,44.994998931884766,45.43000030517578,44.99250030517578,44.61000061035156,44.662498474121094,44.505001068115234,43.82500076293945,43.810001373291016,42.817501068115234,42.212501525878906,41.23500061035156,43.192501068115234,42.084999084472656,41.619998931884766,41.94499969482422,41.66999816894531,42.09749984741211,42.90250015258789,43.20000076293945,42.095001220703125,42.51250076293945,43.3125,43.11000061035156,43.53499984741211,43.682498931884766,43.95500183105469,44.560001373291016,44.459999084472656,43.20000076293945,41.43000030517578,41.310001373291016,40.73500061035156,40.912498474121094,41.05500030517578,40.58000183105469,41.314998626708984,42.275001525878906,44.14250183105469,44.22249984741211,45.95750045776367,46.290000915527344,46.51250076293945,46.84000015258789,47.5099983215332,47.147499084472656,47.037498474121094,46.61000061035156,47.04499816894531,46.747501373291016,46.57749938964844,46.907501220703125,46.790000915527344,47.09000015258789,47.037498474121094,47.14500045776367,46.974998474121094,46.875,46.717498779296875,47.560001373291016,47.95750045776367,48.32749938964844,48.494998931884766,48.3650016784668,47.92499923706055,47.807498931884766,48.06999969482422,47.67499923706055,47.70000076293945,47.209999084472656,47.185001373291016,46.42250061035156,46.625,46.3650016784668,46.22999954223633,45.54249954223633,46.10749816894531,46.040000915527344,46.375,46.27750015258789,46.79499816894531,45.97999954223633,46.349998474121094,46.99250030517578,47.64500045776367,47.587501525878906,46.970001220703125,47.75749969482422,47.83250045776367,47.727500915527344,47.86249923706055,47.599998474121094,47.970001220703125,47.86000061035156,47.90250015258789,48.25,48.70500183105469,48.5525016784668,47.744998931884766,47.477500915527344,47.5724983215332,50.375,51.84749984741211,51.997501373291016,52.26750183105469,51.77750015258789,51.8125,52.220001220703125,51.88249969482422,52.217498779296875,52.4375,52.560001373291016,53.33000183105469,54.39500045776367,53.8650016784668,53.7599983215332,53.76250076293945,53.872501373291016,54.040000915527344,54.48500061035156,54.92499923706055,55.744998931884766,56.25749969482422,56.907501220703125,57.09000015258789,56.717498779296875,55.775001525878906,55.32500076293945,54.58250045776367,55.962501525878906,55.26750183105469,56.602500915527344,55.959999084472656,54.470001220703125,54.560001373291016,54.592498779296875,55.00749969482422,54.415000915527344,55.1974983215332,55.54750061035156,55.10499954223633,56.23749923706055,56.435001373291016,56.814998626708984,57.31999969482422,58.01750183105469,56.997501373291016,56.0724983215332,55.942501068115234,56.717498779296875,54.09000015258789,53.61249923706055,55.52750015258789,54.34000015258789,55.537498474121094,55.29750061035156,54.005001068115234,54.82749938964844,55.162498474121094,55.682498931884766,53.772499084472656,54.95000076293945,54.07500076293945,53.060001373291016,53.32500076293945,54.71500015258789,55.55500030517578,51.869998931884766,50.397499084472656,50.942501068115234,52.48749923706055,52.122501373291016,51.11750030517578,48.54249954223633,48.057498931884766,46.70000076293945,47.852500915527344,48.38249969482422,46.46500015258789,44.244998931884766,44.19499969482422,43.0724983215332,43.654998779296875,43.560001373291016,45.23500061035156,44.88750076293945,44.64500045776367,46.20500183105469,44.17250061035156,43.68000030517578,42.122501373291016,42.400001525878906,42.157501220703125,42.275001525878906,42.73749923706055,41.369998931884766,40.98500061035156,41.51750183105469,40.22249984741211,39.20750045776367,37.682498931884766,36.70750045776367,39.29249954223633,39.037498474121094,39.057498931884766,39.435001373291016,39.47999954223633,35.54750061035156,37.064998626708984,36.98249816894531,37.6875,38.32749938964844,38.45000076293945,38.0724983215332,37.5,38.26750183105469,38.73500061035156,38.96500015258789,39.20500183105469,38.32500076293945,38.47999954223633,38.17499923706055,39.439998626708984,39.07500076293945,38.66999816894531,41.3125,41.61000061035156,41.630001068115234,42.8125,43.54499816894531,43.560001373291016,42.73500061035156,42.602500915527344,42.35749816894531,42.72249984741211,42.54499816894531,42.70000076293945,42.60499954223633,42.73249816894531,43.00749969482422,42.76499938964844,43.24250030517578,43.557498931884766,43.58250045776367,43.717498779296875,43.287498474121094,43.74250030517578,43.962501525878906,43.88249969482422,43.630001068115234,43.125,43.227500915527344,44.724998474121094,45.227500915527344,45.4275016784668,45.932498931884766,46.529998779296875,47.005001068115234,46.63249969482422,47.040000915527344,48.772499084472656,47.76250076293945,47.185001373291016,46.6974983215332,47.11750030517578,47.18000030517578,47.48749923706055,47.810001373291016,48.505001068115234,48.837501525878906,48.92250061035156,49.25,50.025001525878906,49.875,50.154998779296875,49.73749923706055,49.717498779296875,49.807498931884766,49.8125,50.782501220703125,50.96500015258789,51.13249969482422,51.869998931884766,51.790000915527344,51.31999969482422,51.07500076293945,51.15250015258789,50.16749954223633,52.630001068115234,52.287498474121094,52.9375,52.119998931884766,50.71500015258789,50.724998474121094,50.18000030517578,49.29499816894531,46.43000030517578,47.165000915527344,47.72999954223633,47.52000045776367,47.25,45.772499084472656,46.650001525878906,45.69499969482422,44.915000915527344,44.74250030517578,44.557498931884766,44.345001220703125,44.57500076293945,43.76750183105469,43.32500076293945,44.90999984741211,45.6349983215332,46.30500030517578,47.537498474121094,48.14500045776367,48.70249938964844,48.54750061035156,48.537498474121094,48.185001373291016,48.47249984741211,49.61249923706055,49.467498779296875,49.8650016784668,49.69499969482422,49.64500045776367,48.89250183105469,49.95000076293945,49.935001373291016,49.47999954223633,50.38750076293945,50.682498931884766,51.102500915527344,51.057498931884766,50.005001068115234,50.310001373291016,50.807498931884766,50.4375,50.82500076293945,51.3025016784668,51.125,50.837501525878906,51.415000915527344,50.647499084472656,51.80500030517578,52.209999084472656,52.16749954223633,51.755001068115234,51.935001373291016,52.41999816894531,52.19499969482422,53.2599983215332,52.10749816894531,51.005001068115234,48.334999084472656,49.25,49.7599983215332,50.85749816894531,50.247501373291016,50.119998931884766,52.24250030517578,50.6875,50.435001373291016,51.625,52.587501525878906,52.59000015258789,53.15999984741211,53.1150016784668,50.65999984741211,51.622501373291016,51.040000915527344,51.38249969482422,52.252498626708984,52.185001373291016,51.42499923706055,52.29750061035156,53.31999969482422,53.314998626708984,53.54249954223633,54.17499923706055,55.897499084472656,55.772499084472656,54.6875,54.974998474121094,55.17499923706055,55.692501068115234,55.2400016784668,54.432498931884766,54.68000030517578,54.41999816894531,55.25749969482422,54.97249984741211,54.70500183105469,55.99250030517578,56.147499084472656,54.7400016784668,55.20500183105469,56.752498626708984,56.76499938964844,56.099998474121094,56.75749969482422,57.522499084472656,59.0525016784668,58.967498779296875,58.83000183105469,58.592498779296875,58.81999969482422,59.102500915527344,60.127498626708984,59.9900016784668,60.79499816894531,60.89500045776367,61.64500045776367,62.26250076293945,60.8224983215332,60.814998626708984,62.189998626708984,63.95500183105469,64.375,64.28250122070312,64.30999755859375,64.85749816894531,65.03500366210938,65.55000305175781,65.48999786376953,66.11750030517578,65.66000366210938,66.44000244140625,66.7750015258789,66.57250213623047,65.79750061035156,65.50250244140625,65.44499969482422,66.59249877929688,66.07250213623047,66.95999908447266,66.8125,66.04000091552734,64.86250305175781,65.43499755859375,66.3949966430664,67.67749786376953,66.7300033569336,67.12000274658203,67.69249725341797,67.86499786376953,68.7874984741211,69.96499633789062,70.10250091552734,69.93499755859375,70.00499725341797,69.86000061035156,71.0,71.06749725341797,72.47750091552734,72.44999694824219,72.87999725341797,73.4124984741211,75.0875015258789,74.35749816894531,74.94999694824219,74.59750366210938,75.79750061035156,77.40750122070312,77.5824966430664,79.23999786376953,78.16999816894531,77.83499908447266,78.80999755859375,79.68250274658203,79.14250183105469,79.42500305175781,79.80750274658203,79.57749938964844,77.23750305175781,79.42250061035156,81.08499908447266,80.96749877929688,77.37750244140625,77.16500091552734,79.7125015258789,80.36250305175781,81.30249786376953,80.00749969482422,80.38749694824219,79.90249633789062,81.80000305175781,81.21749877929688,81.23750305175781,79.75,80.90499877929688,80.07499694824219,78.26249694824219,74.54499816894531,72.0199966430664,73.1624984741211,68.37999725341797,68.33999633789062,74.70249938964844,72.33000183105469,75.68499755859375,73.2300033569336,72.25749969482422,66.5425033569336,71.33499908447266,68.85749816894531,62.057498931884766,69.49250030517578,60.5525016784668,63.21500015258789,61.66749954223633,61.19499969482422,57.310001373291016,56.092498779296875,61.720001220703125,61.380001068115234,64.61000061035156,61.935001373291016,63.70249938964844,63.5724983215332,60.227500915527344,61.23249816894531,60.352500915527344,65.61750030517578,64.85749816894531,66.51750183105469,66.99749755859375,68.3125,71.76249694824219,71.10749816894531,71.67250061035156,70.69999694824219,69.23249816894531,67.09249877929688,69.0250015258789,68.75749969482422,70.74250030517578,70.7925033569336,69.6449966430664,71.93250274658203,73.44999694824219,72.26750183105469,73.29000091552734,74.38999938964844,75.15750122070312,75.93499755859375,77.53250122070312,78.75250244140625,77.85250091552734,76.9124984741211,77.38500213623047,76.92749786376953,78.73999786376953,78.28500366210938,79.80750274658203,79.2125015258789,79.72250366210938,79.18250274658203,79.52749633789062,79.5625,79.48500061035156,80.4625015258789,80.83499908447266,81.27999877929688,80.58000183105469,82.875,83.36499786376953,85.99749755859375,88.20999908447266,83.9749984741211,84.69999694824219,85.74749755859375,88.0199966430664,87.89749908447266,87.93250274658203,87.43000030517578,89.71749877929688,91.63249969482422,90.01499938964844,91.20999908447266,88.40750122070312,90.44499969482422,91.19999694824219,91.02749633789062,91.02749633789062,93.4625015258789,93.17250061035156,95.34249877929688,95.75250244140625,95.91999816894531,95.47750091552734,97.05750274658203,97.7249984741211,96.52249908447266,96.32749938964844,98.35749816894531,97.0,97.27249908447266,92.84500122070312,92.61499786376953,94.80999755859375,93.25250244140625,95.04000091552734,96.19000244140625,106.26000213623047,108.9375,109.66500091552734,110.0625,113.90249633789062,111.11250305175781,112.72750091552734,109.375,113.01000213623047,115.01000213623047,114.90750122070312,114.60749816894531,115.5625,115.7074966430664,118.2750015258789,124.37000274658203,125.85749816894531,124.82499694824219,126.52249908447266,125.01000213623047,124.80750274658203,129.0399932861328,134.17999267578125,131.39999389648438,120.87999725341797,120.95999908447266,112.81999969482422,117.31999969482422,113.48999786376953,112.0,115.36000061035156,115.54000091552734,112.12999725341797,110.33999633789062,106.83999633789062,110.08000183105469,111.80999755859375,107.12000274658203,108.22000122070312,112.27999877929688,114.95999908447266,114.08999633789062,115.80999755859375,116.79000091552734,113.0199966430664,116.5,113.16000366210938,115.08000183105469,114.97000122070312,116.97000122070312,124.4000015258789,121.0999984741211,121.19000244140625,120.70999908447266,119.0199966430664,115.9800033569336,117.51000213623047,116.87000274658203,115.75,115.04000091552734,115.05000305175781,116.5999984741211,111.19999694824219,115.31999969482422,108.86000061035156,108.7699966430664,110.44000244140625,114.94999694824219,119.02999877929688,118.69000244140625,116.31999969482422,115.97000122070312,119.48999786376953,119.20999908447266,119.26000213623047,120.30000305175781,119.38999938964844,118.02999877929688,118.63999938964844,117.33999633789062,113.8499984741211,115.16999816894531,116.02999877929688,116.58999633789062,119.05000305175781,122.72000122070312,123.08000183105469,122.94000244140625,122.25,123.75,124.37999725341797,121.77999877929688,123.23999786376953,122.41000366210938,121.77999877929688,127.87999725341797,127.80999755859375,128.6999969482422,126.66000366210938,128.22999572753906,131.8800048828125,130.9600067138672,131.97000122070312,136.69000244140625,134.8699951171875,133.72000122070312,132.69000244140625,129.41000366210938,131.00999450683594,126.5999984741211,130.9199981689453,132.0500030517578,128.97999572753906,128.8000030517578,130.88999938964844,128.91000366210938,127.13999938964844,127.83000183105469,132.02999877929688,136.8699951171875,139.07000732421875,142.9199981689453,143.16000366210938,142.05999755859375,137.08999633789062,131.9600067138672,134.13999938964844,134.99000549316406,133.94000244140625,137.38999938964844,136.75999450683594,136.91000366210938,136.00999450683594,135.38999938964844,135.1300048828125,135.3699951171875,133.19000244140625,130.83999633789062,129.7100067138672,129.8699951171875,126.0,125.86000061035156,125.3499984741211,120.98999786376953,121.26000213623047,127.79000091552734,125.12000274658203,122.05999755859375,120.12999725341797,121.41999816894531,116.36000061035156,121.08999633789062,119.9800033569336,121.95999908447266,121.02999877929688,123.98999786376953,125.56999969482422,124.76000213623047,120.52999877929688,119.98999786376953,123.38999938964844,122.54000091552734,120.08999633789062,120.58999633789062,121.20999908447266,121.38999938964844,119.9000015258789,122.1500015258789,123.0,125.9000015258789,126.20999908447266,127.9000015258789,130.36000061035156,133.0,131.24000549316406,134.42999267578125,132.02999877929688,134.5,134.16000366210938,134.83999633789062,133.11000061035156,133.5,131.94000244140625,134.32000732421875,134.72000122070312,134.38999938964844,133.5800018310547,133.47999572753906,131.4600067138672,132.5399932861328,127.8499984741211,128.10000610351562,129.74000549316406,130.2100067138672,126.8499984741211,125.91000366210938,122.7699966430664,124.97000122070312,127.44999694824219,126.2699966430664,124.8499984741211,124.69000244140625,127.30999755859375,125.43000030517578,127.0999984741211,126.9000015258789,126.8499984741211,125.27999877929688,124.61000061035156,124.27999877929688,125.05999755859375,123.54000091552734,125.88999938964844,125.9000015258789,126.73999786376953,127.12999725341797,126.11000061035156,127.3499984741211,130.47999572753906,129.63999938964844,130.14999389648438,131.7899932861328,130.4600067138672,132.3000030517578,133.97999572753906,133.6999969482422,133.41000366210938,133.11000061035156,134.77999877929688,136.3300018310547,136.9600067138672,137.27000427246094,139.9600067138672,142.02000427246094,144.57000732421875,143.24000549316406,145.11000061035156,144.5,145.63999938964844,149.14999389648438,148.47999572753906,146.38999938964844,142.4499969482422,146.14999389648438,145.39999389648438,146.8000030517578,148.55999755859375,148.99000549316406,146.77000427246094,144.97999572753906,145.63999938964844,145.86000061035156,145.52000427246094,147.36000061035156,146.9499969482422,147.05999755859375,146.13999938964844,146.08999633789062,145.60000610351562,145.86000061035156,148.88999938964844,149.10000610351562,151.1199951171875,150.19000244140625,146.36000061035156,146.6999969482422,148.19000244140625,149.7100067138672,149.6199951171875,148.36000061035156,147.5399932861328,148.60000610351562,153.1199951171875,151.8300018310547,152.50999450683594,153.64999389648438,154.3000030517578,156.69000244140625,155.11000061035156,154.07000732421875,148.97000122070312,149.5500030517578,148.1199951171875,149.02999877929688,148.7899932861328,146.05999755859375,142.94000244140625,143.42999267578125,145.85000610351562,146.8300018310547,146.9199981689453,145.3699951171875,141.91000366210938,142.8300018310547,141.5,142.64999389648438,139.13999938964844,141.11000061035156,142.0,143.2899932861328,142.89999389648438,142.80999755859375,141.50999450683594,140.91000366210938,143.75999450683594,144.83999633789062,146.5500030517578,148.75999450683594,149.25999450683594,149.47999572753906,148.69000244140625,148.63999938964844,149.32000732421875,148.85000610351562,152.57000732421875,149.8000030517578,148.9600067138672,150.02000427246094,151.49000549316406,150.9600067138672,151.27999877929688,150.44000244140625,150.80999755859375,147.9199981689453,147.8699951171875,149.99000549316406,150.0,151.0,153.49000549316406,157.8699951171875,160.5500030517578,161.02000427246094,161.41000366210938,161.94000244140625,156.80999755859375,160.24000549316406,165.3000030517578,164.77000427246094,163.75999450683594,161.83999633789062,165.32000732421875,171.17999267578125,175.0800018310547,174.55999755859375,179.4499969482422,175.74000549316406,174.3300018310547,179.3000030517578,172.25999450683594,171.13999938964844,169.75,172.99000549316406,175.63999938964844,176.27999877929688,180.3300018310547,179.2899932861328,179.3800048828125,178.1999969482422,177.57000732421875,182.00999450683594,179.6999969482422,174.9199981689453,172.0,172.1699981689453,172.19000244140625,175.0800018310547,175.52999877929688,172.19000244140625,173.07000732421875,169.8000030517578,166.22999572753906,164.50999450683594,162.41000366210938,161.6199951171875,159.77999877929688,159.69000244140625,159.22000122070312,170.3300018310547,174.77999877929688,174.61000061035156,175.83999633789062,172.89999389648438,172.38999938964844,171.66000366210938,174.8300018310547,176.27999877929688,172.1199951171875,168.63999938964844,168.8800048828125,172.7899932861328,172.5500030517578,168.8800048828125,167.3000030517578,164.32000732421875,160.07000732421875,162.74000549316406,164.85000610351562,165.1199951171875,163.1999969482422,166.55999755859375,166.22999572753906,163.1699981689453,159.3000030517578,157.44000244140625,162.9499969482422,158.52000427246094,154.72999572753906,150.6199951171875,155.08999633789062,159.58999633789062,160.6199951171875,163.97999572753906,165.3800048828125,168.82000732421875,170.2100067138672,174.07000732421875,174.72000122070312,175.60000610351562,178.9600067138672,177.77000427246094,174.61000061035156,174.30999755859375,178.44000244140625,175.05999755859375,171.8300018310547,172.13999938964844,170.08999633789062,165.75,167.66000366210938,170.39999389648438,165.2899932861328,165.07000732421875,167.39999389648438,167.22999572753906,166.4199981689453,161.7899932861328,162.8800048828125,156.8000030517578,156.57000732421875,163.63999938964844,157.64999389648438,157.9600067138672,159.47999572753906,166.02000427246094,156.77000427246094,157.27999877929688,152.05999755859375,154.50999450683594,146.5,142.55999755859375,147.11000061035156,145.5399932861328,149.24000549316406,140.82000732421875,137.35000610351562,137.58999633789062,143.11000061035156,140.36000061035156,140.52000427246094,143.77999877929688,149.63999938964844,148.83999633789062,148.7100067138672,151.2100067138672,145.3800048828125,146.13999938964844,148.7100067138672,147.9600067138672,142.63999938964844,137.1300048828125,131.8800048828125,132.75999450683594,135.42999267578125,130.05999755859375,131.55999755859375,135.8699951171875,135.35000610351562,138.27000427246094,141.66000366210938,141.66000366210938,137.44000244140625,139.22999572753906,136.72000122070312,138.92999267578125,141.55999755859375,142.9199981689453,146.35000610351562,147.0399932861328,144.8699951171875,145.86000061035156,145.49000549316406,148.47000122070312,150.1699981689453,147.07000732421875,151.0,153.0399932861328,155.35000610351562,154.08999633789062,152.9499969482422,151.60000610351562,156.7899932861328,157.35000610351562,162.50999450683594,161.50999450683594,160.00999450683594,166.1300048828125,165.80999755859375,165.35000610351562,164.8699951171875,164.9199981689453,169.24000549316406,168.49000549316406,172.10000610351562,173.19000244140625,173.02999877929688,174.5500030517578,174.14999389648438,171.52000427246094,167.57000732421875,167.22999572753906,167.52999877929688,170.02999877929688,163.6199951171875,161.3800048828125,158.91000366210938,157.22000122070312,157.9600067138672,155.80999755859375,154.52999877929688,155.9600067138672,154.4600067138672,157.3699951171875,163.42999267578125,153.83999633789062,155.30999755859375,152.3699951171875,150.6999969482422,154.47999572753906,156.89999389648438,153.72000122070312,152.74000549316406,150.42999267578125,150.77000427246094,151.75999450683594,149.83999633789062,142.47999572753906,138.1999969482422,142.4499969482422,146.10000610351562,146.39999389648438,145.42999267578125,140.08999633789062,140.4199981689453,138.97999572753906,138.33999633789062,142.99000549316406,138.3800048828125,142.41000366210938,143.75,143.86000061035156,143.38999938964844,147.27000427246094,149.4499969482422,152.33999633789062,149.35000610351562,144.8000030517578,155.74000549316406,153.33999633789062,150.64999389648438,145.02999877929688,138.8800048828125,138.3800048828125,138.9199981689453,139.5,134.8699951171875,146.8699951171875,149.6999969482422,148.27999877929688,150.0399932861328,148.7899932861328,150.72000122070312,151.2899932861328,148.00999450683594,150.17999267578125,151.07000732421875,148.11000061035156,144.22000122070312,141.1699981689453,148.02999877929688,148.30999755859375,147.80999755859375,146.6300048828125,142.91000366210938,140.94000244140625,142.64999389648438,142.16000366210938,144.49000549316406,145.47000122070312,143.2100067138672,136.5,134.50999450683594,132.3699951171875,132.3000030517578,135.4499969482422,132.22999572753906,131.86000061035156,130.02999877929688,126.04000091552734,129.61000061035156,129.92999267578125,125.06999969482422,126.36000061035156,125.0199966430664,129.6199951171875,130.14999389648438,130.72999572753906,133.49000549316406,133.41000366210938,134.75999450683594,135.94000244140625,135.2100067138672,135.27000427246094,137.8699951171875,141.11000061035156,142.52999877929688,141.86000061035156,143.9600067138672,145.92999267578125,143.0,144.2899932861328,145.42999267578125,150.82000732421875,154.5,151.72999572753906,154.64999389648438,151.9199981689453,150.8699951171875,151.00999450683594,153.85000610351562,153.1999969482422,155.3300018310547,153.7100067138672,152.5500030517578,148.47999572753906,148.91000366210938,149.39999389648438,146.7100067138672,147.9199981689453,147.41000366210938,145.30999755859375,145.91000366210938,151.02999877929688,153.8300018310547,151.60000610351562,152.8699951171875,150.58999633789062,148.5,150.47000122070312,152.58999633789062,152.99000549316406,155.85000610351562,155.0,157.39999389648438,159.27999877929688,157.8300018310547,158.92999267578125,160.25,158.27999877929688,157.64999389648438,160.77000427246094,162.36000061035156,164.89999389648438,166.1699981689453,165.6300048828125,163.75999450683594,164.66000366210938,162.02999877929688,160.8000030517578,160.10000610351562,165.55999755859375,165.2100067138672,165.22999572753906,166.47000122070312,167.6300048828125,166.64999389648438,165.02000427246094,165.3300018310547,163.77000427246094,163.75999450683594,168.41000366210938,169.67999267578125,169.58999633789062,168.5399932861328,167.4499969482422,165.7899932861328,173.57000732421875,173.5,171.77000427246094,173.55999755859375,173.75,172.57000732421875,172.07000732421875,172.07000732421875,172.69000244140625,175.0500030517578,175.16000366210938,174.1999969482422,171.55999755859375,171.83999633789062,172.99000549316406,175.42999267578125,177.3000030517578,177.25,180.08999633789062,180.9499969482422,179.5800018310547,179.2100067138672,177.82000732421875,180.57000732421875,180.9600067138672,183.7899932861328,183.30999755859375,183.9499969482422,186.00999450683594,184.9199981689453,185.00999450683594,183.9600067138672,187.0,186.67999267578125,185.27000427246094,188.05999755859375,189.25,189.58999633789062,193.97000122070312,192.4600067138672,191.3300018310547,191.80999755859375,190.67999267578125,188.61000061035156,188.0800018310547,189.77000427246094,190.5399932861328,190.69000244140625,193.99000549316406,193.72999572753906,195.10000610351562,193.1300048828125,191.94000244140625,192.75,193.6199951171875,194.5,193.22000122070312,195.8300018310547,196.4499969482422,195.61000061035156,192.5800018310547,191.1699981689453,181.99000549316406,178.85000610351562,179.8000030517578,178.19000244140625,177.97000122070312,177.7899932861328,179.4600067138672,177.4499969482422,176.57000732421875,174.0,174.49000549316406,175.83999633789062,177.22999572753906,181.1199951171875,176.3800048828125,178.61000061035156,180.19000244140625,184.1199951171875,187.64999389648438,187.8699951171875,189.4600067138672,189.6999969482422,182.91000366210938,177.55999755859375,178.17999267578125,179.36000061035156,176.3000030517578,174.2100067138672,175.74000549316406,175.00999450683594,177.97000122070312,179.07000732421875,175.49000549316406,173.92999267578125,174.7899932861328,176.0800018310547,171.9600067138672,170.42999267578125,170.69000244140625,171.2100067138672,173.75,172.39999389648438,173.66000366210938,174.91000366210938,177.49000549316406,178.99000549316406,178.38999938964844,179.8000030517578,180.7100067138672,178.85000610351562,178.72000122070312,177.14999389648438,175.83999633789062,175.4600067138672,172.8800048828125,173.0,173.44000244140625,171.10000610351562,166.88999938964844,168.22000122070312,170.2899932861328,170.77000427246094,173.97000122070312,177.57000732421875,176.64999389648438,179.22999572753906,181.82000732421875,182.88999938964844,182.41000366210938,186.39999389648438,184.8000030517578,187.44000244140625,188.00999450683594,189.7100067138672,189.69000244140625,191.4499969482422,190.63999938964844,191.30999755859375,189.97000122070312,189.7899932861328,190.39999389648438,189.3699951171875,189.9499969482422,191.24000549316406,189.42999267578125,193.4199981689453,192.32000732421875,194.27000427246094,195.7100067138672,193.17999267578125,194.7100067138672,197.9600067138672,198.11000061035156,197.57000732421875,195.88999938964844,196.94000244140625,194.8300018310547,194.67999267578125,193.60000610351562,193.0500030517578,193.14999389648438,193.5800018310547,192.52999877929688,185.63999938964844,184.25,181.91000366210938,181.17999267578125,185.55999755859375,185.13999938964844,186.19000244140625,185.58999633789062,185.9199981689453,183.6300048828125,182.67999267578125,188.6300048828125,191.55999755859375,193.88999938964844,195.17999267578125,194.5,194.1699981689453,192.4199981689453,191.72999572753906,188.0399932861328,184.39999389648438,186.86000061035156,185.85000610351562,187.67999267578125,189.3000030517578,189.41000366210938,188.32000732421875,188.85000610351562,187.14999389648438,185.0399932861328,184.14999389648438,183.86000061035156,182.30999755859375,181.55999755859375,182.32000732421875,184.3699951171875,182.52000427246094,181.16000366210938,182.6300048828125,181.4199981689453,180.75,179.66000366210938,175.10000610351562,170.1199951171875,169.1199951171875,169.0,170.72999572753906,172.75,173.22999572753906,171.1300048828125,173.0,172.6199951171875,173.72000122070312,176.0800018310547,178.6699981689453,171.3699951171875,172.27999877929688,170.85000610351562,169.7100067138672,173.30999755859375,171.47999572753906,170.02999877929688,168.83999633789062,169.64999389648438,168.82000732421875,169.5800018310547,168.4499969482422,169.6699981689453,167.77999877929688,175.0399932861328,176.5500030517578,172.69000244140625,169.3800048828125,168.0,167.0399932861328,165.0,165.83999633789062,166.89999389648438,169.02000427246094,169.88999938964844,169.3000030517578,173.5,170.3300018310547,169.3000030517578,173.02999877929688,183.3800048828125,181.7100067138672,182.39999389648438,182.74000549316406,184.57000732421875,183.0500030517578,186.27999877929688,187.42999267578125],\"yaxis\":\"y\",\"type\":\"scattergl\"},{\"name\":\"Actual Data\",\"x\":[\"2024-05-15T00:00:00+00:00\",\"2024-05-16T00:00:00+00:00\",\"2024-05-17T00:00:00+00:00\",\"2024-05-20T00:00:00+00:00\",\"2024-05-21T00:00:00+00:00\",\"2024-05-22T00:00:00+00:00\",\"2024-05-23T00:00:00+00:00\",\"2024-05-24T00:00:00+00:00\",\"2024-05-28T00:00:00+00:00\",\"2024-05-29T00:00:00+00:00\",\"2024-05-30T00:00:00+00:00\",\"2024-05-31T00:00:00+00:00\",\"2024-06-03T00:00:00+00:00\",\"2024-06-04T00:00:00+00:00\",\"2024-06-05T00:00:00+00:00\",\"2024-06-06T00:00:00+00:00\",\"2024-06-07T00:00:00+00:00\",\"2024-06-10T00:00:00+00:00\",\"2024-06-11T00:00:00+00:00\",\"2024-06-12T00:00:00+00:00\",\"2024-06-13T00:00:00+00:00\",\"2024-06-14T00:00:00+00:00\",\"2024-06-17T00:00:00+00:00\",\"2024-06-18T00:00:00+00:00\",\"2024-06-20T00:00:00+00:00\",\"2024-06-21T00:00:00+00:00\",\"2024-06-24T00:00:00+00:00\",\"2024-06-25T00:00:00+00:00\",\"2024-06-26T00:00:00+00:00\",\"2024-06-27T00:00:00+00:00\",\"2024-06-28T00:00:00+00:00\",\"2024-07-01T00:00:00+00:00\",\"2024-07-02T00:00:00+00:00\",\"2024-07-03T00:00:00+00:00\",\"2024-07-05T00:00:00+00:00\",\"2024-07-08T00:00:00+00:00\",\"2024-07-09T00:00:00+00:00\",\"2024-07-10T00:00:00+00:00\",\"2024-07-11T00:00:00+00:00\",\"2024-07-12T00:00:00+00:00\",\"2024-07-15T00:00:00+00:00\",\"2024-07-16T00:00:00+00:00\",\"2024-07-17T00:00:00+00:00\",\"2024-07-18T00:00:00+00:00\",\"2024-07-19T00:00:00+00:00\",\"2024-07-22T00:00:00+00:00\",\"2024-07-23T00:00:00+00:00\",\"2024-07-24T00:00:00+00:00\",\"2024-07-25T00:00:00+00:00\",\"2024-07-26T00:00:00+00:00\",\"2024-07-29T00:00:00+00:00\",\"2024-07-30T00:00:00+00:00\",\"2024-07-31T00:00:00+00:00\",\"2024-08-01T00:00:00+00:00\",\"2024-08-02T00:00:00+00:00\",\"2024-08-05T00:00:00+00:00\",\"2024-08-06T00:00:00+00:00\",\"2024-08-07T00:00:00+00:00\",\"2024-08-08T00:00:00+00:00\",\"2024-08-09T00:00:00+00:00\",\"2024-08-12T00:00:00+00:00\",\"2024-08-13T00:00:00+00:00\",\"2024-08-14T00:00:00+00:00\",\"2024-08-15T00:00:00+00:00\",\"2024-08-16T00:00:00+00:00\",\"2024-08-19T00:00:00+00:00\",\"2024-08-20T00:00:00+00:00\",\"2024-08-21T00:00:00+00:00\",\"2024-08-22T00:00:00+00:00\",\"2024-08-23T00:00:00+00:00\",\"2024-08-26T00:00:00+00:00\",\"2024-08-27T00:00:00+00:00\",\"2024-08-28T00:00:00+00:00\",\"2024-08-29T00:00:00+00:00\",\"2024-08-30T00:00:00+00:00\",\"2024-09-03T00:00:00+00:00\",\"2024-09-04T00:00:00+00:00\",\"2024-09-05T00:00:00+00:00\",\"2024-09-06T00:00:00+00:00\",\"2024-09-09T00:00:00+00:00\",\"2024-09-10T00:00:00+00:00\",\"2024-09-11T00:00:00+00:00\",\"2024-09-12T00:00:00+00:00\",\"2024-09-13T00:00:00+00:00\",\"2024-09-16T00:00:00+00:00\",\"2024-09-17T00:00:00+00:00\",\"2024-09-18T00:00:00+00:00\",\"2024-09-19T00:00:00+00:00\",\"2024-09-20T00:00:00+00:00\",\"2024-09-23T00:00:00+00:00\",\"2024-09-24T00:00:00+00:00\",\"2024-09-25T00:00:00+00:00\",\"2024-09-26T00:00:00+00:00\",\"2024-09-27T00:00:00+00:00\",\"2024-09-30T00:00:00+00:00\",\"2024-10-01T00:00:00+00:00\",\"2024-10-02T00:00:00+00:00\",\"2024-10-03T00:00:00+00:00\",\"2024-10-04T00:00:00+00:00\",\"2024-10-07T00:00:00+00:00\",\"2024-10-08T00:00:00+00:00\",\"2024-10-09T00:00:00+00:00\",\"2024-10-10T00:00:00+00:00\",\"2024-10-11T00:00:00+00:00\",\"2024-10-14T00:00:00+00:00\",\"2024-10-15T00:00:00+00:00\",\"2024-10-16T00:00:00+00:00\",\"2024-10-17T00:00:00+00:00\",\"2024-10-18T00:00:00+00:00\",\"2024-10-21T00:00:00+00:00\",\"2024-10-22T00:00:00+00:00\",\"2024-10-23T00:00:00+00:00\",\"2024-10-24T00:00:00+00:00\",\"2024-10-25T00:00:00+00:00\",\"2024-10-28T00:00:00+00:00\",\"2024-10-29T00:00:00+00:00\",\"2024-10-30T00:00:00+00:00\",\"2024-10-31T00:00:00+00:00\",\"2024-11-01T00:00:00+00:00\",\"2024-11-04T00:00:00+00:00\",\"2024-11-05T00:00:00+00:00\",\"2024-11-06T00:00:00+00:00\",\"2024-11-07T00:00:00+00:00\",\"2024-11-08T00:00:00+00:00\",\"2024-11-11T00:00:00+00:00\",\"2024-11-12T00:00:00+00:00\",\"2024-11-13T00:00:00+00:00\",\"2024-11-14T00:00:00+00:00\",\"2024-11-15T00:00:00+00:00\",\"2024-11-18T00:00:00+00:00\",\"2024-11-19T00:00:00+00:00\",\"2024-11-20T00:00:00+00:00\",\"2024-11-21T00:00:00+00:00\",\"2024-11-22T00:00:00+00:00\",\"2024-11-25T00:00:00+00:00\",\"2024-11-26T00:00:00+00:00\",\"2024-11-27T00:00:00+00:00\"],\"y\":[189.72000122070312,189.83999633789062,189.8699951171875,191.0399932861328,192.35000610351562,190.89999389648438,186.8800048828125,189.97999572753906,189.99000549316406,190.2899932861328,191.2899932861328,192.25,194.02999877929688,194.35000610351562,195.8699951171875,194.47999572753906,196.88999938964844,193.1199951171875,207.14999389648438,213.07000732421875,214.24000549316406,212.49000549316406,216.6699981689453,214.2899932861328,209.67999267578125,207.49000549316406,208.13999938964844,209.07000732421875,213.25,214.10000610351562,210.6199951171875,216.75,220.27000427246094,221.5500030517578,226.33999633789062,227.82000732421875,228.67999267578125,232.97999572753906,227.57000732421875,230.5399932861328,234.39999389648438,234.82000732421875,228.8800048828125,224.17999267578125,224.30999755859375,223.9600067138672,225.00999450683594,218.5399932861328,217.49000549316406,217.9600067138672,218.24000549316406,218.8000030517578,222.0800018310547,218.36000061035156,219.86000061035156,209.27000427246094,207.22999572753906,209.82000732421875,213.30999755859375,216.24000549316406,217.52999877929688,221.27000427246094,221.72000122070312,224.72000122070312,226.0500030517578,225.88999938964844,226.50999450683594,226.39999389648438,224.52999877929688,226.83999633789062,227.17999267578125,228.02999877929688,226.49000549316406,229.7899932861328,229.0,222.77000427246094,220.85000610351562,222.3800048828125,220.82000732421875,220.91000366210938,220.11000061035156,222.66000366210938,222.77000427246094,222.5,216.32000732421875,216.7899932861328,220.69000244140625,228.8699951171875,228.1999969482422,226.47000122070312,227.3699951171875,226.3699951171875,227.52000427246094,227.7899932861328,233.0,226.2100067138672,226.77999877929688,225.6699981689453,226.8000030517578,221.69000244140625,225.77000427246094,229.5399932861328,229.0399932861328,227.5500030517578,231.3000030517578,233.85000610351562,231.77999877929688,232.14999389648438,235.0,236.47999572753906,235.86000061035156,230.75999450683594,230.57000732421875,231.41000366210938,233.39999389648438,233.6699981689453,230.10000610351562,225.91000366210938,222.91000366210938,222.00999450683594,223.4499969482422,222.72000122070312,227.47999572753906,226.9600067138672,224.22999572753906,224.22999572753906,225.1199951171875,228.22000122070312,225.0,228.02000427246094,228.27999877929688,229.0,228.52000427246094,229.8699951171875,232.8699951171875,235.05999755859375,234.92999267578125],\"type\":\"scatter\"},{\"name\":\"Prediction Data\",\"x\":[\"2024-05-15T00:00:00+00:00\",\"2024-05-16T00:00:00+00:00\",\"2024-05-17T00:00:00+00:00\",\"2024-05-20T00:00:00+00:00\",\"2024-05-21T00:00:00+00:00\",\"2024-05-22T00:00:00+00:00\",\"2024-05-23T00:00:00+00:00\",\"2024-05-24T00:00:00+00:00\",\"2024-05-28T00:00:00+00:00\",\"2024-05-29T00:00:00+00:00\",\"2024-05-30T00:00:00+00:00\",\"2024-05-31T00:00:00+00:00\",\"2024-06-03T00:00:00+00:00\",\"2024-06-04T00:00:00+00:00\",\"2024-06-05T00:00:00+00:00\",\"2024-06-06T00:00:00+00:00\",\"2024-06-07T00:00:00+00:00\",\"2024-06-10T00:00:00+00:00\",\"2024-06-11T00:00:00+00:00\",\"2024-06-12T00:00:00+00:00\",\"2024-06-13T00:00:00+00:00\",\"2024-06-14T00:00:00+00:00\",\"2024-06-17T00:00:00+00:00\",\"2024-06-18T00:00:00+00:00\",\"2024-06-20T00:00:00+00:00\",\"2024-06-21T00:00:00+00:00\",\"2024-06-24T00:00:00+00:00\",\"2024-06-25T00:00:00+00:00\",\"2024-06-26T00:00:00+00:00\",\"2024-06-27T00:00:00+00:00\",\"2024-06-28T00:00:00+00:00\",\"2024-07-01T00:00:00+00:00\",\"2024-07-02T00:00:00+00:00\",\"2024-07-03T00:00:00+00:00\",\"2024-07-05T00:00:00+00:00\",\"2024-07-08T00:00:00+00:00\",\"2024-07-09T00:00:00+00:00\",\"2024-07-10T00:00:00+00:00\",\"2024-07-11T00:00:00+00:00\",\"2024-07-12T00:00:00+00:00\",\"2024-07-15T00:00:00+00:00\",\"2024-07-16T00:00:00+00:00\",\"2024-07-17T00:00:00+00:00\",\"2024-07-18T00:00:00+00:00\",\"2024-07-19T00:00:00+00:00\",\"2024-07-22T00:00:00+00:00\",\"2024-07-23T00:00:00+00:00\",\"2024-07-24T00:00:00+00:00\",\"2024-07-25T00:00:00+00:00\",\"2024-07-26T00:00:00+00:00\",\"2024-07-29T00:00:00+00:00\",\"2024-07-30T00:00:00+00:00\",\"2024-07-31T00:00:00+00:00\",\"2024-08-01T00:00:00+00:00\",\"2024-08-02T00:00:00+00:00\",\"2024-08-05T00:00:00+00:00\",\"2024-08-06T00:00:00+00:00\",\"2024-08-07T00:00:00+00:00\",\"2024-08-08T00:00:00+00:00\",\"2024-08-09T00:00:00+00:00\",\"2024-08-12T00:00:00+00:00\",\"2024-08-13T00:00:00+00:00\",\"2024-08-14T00:00:00+00:00\",\"2024-08-15T00:00:00+00:00\",\"2024-08-16T00:00:00+00:00\",\"2024-08-19T00:00:00+00:00\",\"2024-08-20T00:00:00+00:00\",\"2024-08-21T00:00:00+00:00\",\"2024-08-22T00:00:00+00:00\",\"2024-08-23T00:00:00+00:00\",\"2024-08-26T00:00:00+00:00\",\"2024-08-27T00:00:00+00:00\",\"2024-08-28T00:00:00+00:00\",\"2024-08-29T00:00:00+00:00\",\"2024-08-30T00:00:00+00:00\",\"2024-09-03T00:00:00+00:00\",\"2024-09-04T00:00:00+00:00\",\"2024-09-05T00:00:00+00:00\",\"2024-09-06T00:00:00+00:00\",\"2024-09-09T00:00:00+00:00\",\"2024-09-10T00:00:00+00:00\",\"2024-09-11T00:00:00+00:00\",\"2024-09-12T00:00:00+00:00\",\"2024-09-13T00:00:00+00:00\",\"2024-09-16T00:00:00+00:00\",\"2024-09-17T00:00:00+00:00\",\"2024-09-18T00:00:00+00:00\",\"2024-09-19T00:00:00+00:00\",\"2024-09-20T00:00:00+00:00\",\"2024-09-23T00:00:00+00:00\",\"2024-09-24T00:00:00+00:00\",\"2024-09-25T00:00:00+00:00\",\"2024-09-26T00:00:00+00:00\",\"2024-09-27T00:00:00+00:00\",\"2024-09-30T00:00:00+00:00\",\"2024-10-01T00:00:00+00:00\",\"2024-10-02T00:00:00+00:00\",\"2024-10-03T00:00:00+00:00\",\"2024-10-04T00:00:00+00:00\",\"2024-10-07T00:00:00+00:00\",\"2024-10-08T00:00:00+00:00\",\"2024-10-09T00:00:00+00:00\",\"2024-10-10T00:00:00+00:00\",\"2024-10-11T00:00:00+00:00\",\"2024-10-14T00:00:00+00:00\",\"2024-10-15T00:00:00+00:00\",\"2024-10-16T00:00:00+00:00\",\"2024-10-17T00:00:00+00:00\",\"2024-10-18T00:00:00+00:00\",\"2024-10-21T00:00:00+00:00\",\"2024-10-22T00:00:00+00:00\",\"2024-10-23T00:00:00+00:00\",\"2024-10-24T00:00:00+00:00\",\"2024-10-25T00:00:00+00:00\",\"2024-10-28T00:00:00+00:00\",\"2024-10-29T00:00:00+00:00\",\"2024-10-30T00:00:00+00:00\",\"2024-10-31T00:00:00+00:00\",\"2024-11-01T00:00:00+00:00\",\"2024-11-04T00:00:00+00:00\",\"2024-11-05T00:00:00+00:00\",\"2024-11-06T00:00:00+00:00\",\"2024-11-07T00:00:00+00:00\",\"2024-11-08T00:00:00+00:00\",\"2024-11-11T00:00:00+00:00\",\"2024-11-12T00:00:00+00:00\",\"2024-11-13T00:00:00+00:00\",\"2024-11-14T00:00:00+00:00\",\"2024-11-15T00:00:00+00:00\",\"2024-11-18T00:00:00+00:00\",\"2024-11-19T00:00:00+00:00\",\"2024-11-20T00:00:00+00:00\",\"2024-11-21T00:00:00+00:00\",\"2024-11-22T00:00:00+00:00\",\"2024-11-25T00:00:00+00:00\",\"2024-11-26T00:00:00+00:00\",\"2024-11-27T00:00:00+00:00\"],\"y\":[189.28352,190.57787,191.75078,192.67665,193.52876,194.4129,194.90237,194.44958,194.19025,194.02249,193.98033,194.17657,194.61267,195.3926,196.25058,197.269,197.94409,198.77618,198.86739,201.0469,204.72261,208.6653,211.77771,214.72397,216.61331,216.89813,216.03049,214.87404,213.90405,213.8908,214.43033,214.54095,215.55397,217.36049,219.43512,222.12508,224.85623,227.28474,229.903,231.14394,232.12115,233.42114,234.6587,234.59854,233.19107,231.45917,229.78061,228.59358,226.69084,224.69261,223.07927,221.96652,221.38506,221.73459,221.78842,222.0269,220.44551,218.06403,216.15663,215.35225,215.67754,216.69107,218.51811,220.46866,222.68173,224.84088,226.56366,227.89325,228.77052,228.94408,229.17384,229.4005,229.72598,229.75542,230.24144,230.66844,229.91536,228.48561,227.25763,226.02606,225.04216,224.20299,224.03899,224.21332,224.48442,223.6874,222.69263,222.43398,223.94348,225.82053,227.28697,228.50064,229.19426,229.73392,230.12856,231.29385,231.34764,231.07326,230.46846,230.01611,228.79039,228.1981,228.59833,229.26846,229.71526,230.66988,232.09749,233.11241,233.8626,234.85155,235.99803,236.89217,236.6218,235.8857,235.18596,234.9496,234.98788,234.5218,233.21768,231.26935,229.22258,227.73254,226.60904,226.7059,227.21747,227.39117,227.42706,227.54738,228.2187,228.42944,228.97066,229.57259,230.22668,230.69899,231.24814,232.24428,233.62344],\"type\":\"scatter\"}],                        {\"template\":{\"data\":{\"histogram2dcontour\":[{\"type\":\"histogram2dcontour\",\"colorbar\":{\"outlinewidth\":0,\"ticks\":\"\"},\"colorscale\":[[0.0,\"#0d0887\"],[0.1111111111111111,\"#46039f\"],[0.2222222222222222,\"#7201a8\"],[0.3333333333333333,\"#9c179e\"],[0.4444444444444444,\"#bd3786\"],[0.5555555555555556,\"#d8576b\"],[0.6666666666666666,\"#ed7953\"],[0.7777777777777778,\"#fb9f3a\"],[0.8888888888888888,\"#fdca26\"],[1.0,\"#f0f921\"]]}],\"choropleth\":[{\"type\":\"choropleth\",\"colorbar\":{\"outlinewidth\":0,\"ticks\":\"\"}}],\"histogram2d\":[{\"type\":\"histogram2d\",\"colorbar\":{\"outlinewidth\":0,\"ticks\":\"\"},\"colorscale\":[[0.0,\"#0d0887\"],[0.1111111111111111,\"#46039f\"],[0.2222222222222222,\"#7201a8\"],[0.3333333333333333,\"#9c179e\"],[0.4444444444444444,\"#bd3786\"],[0.5555555555555556,\"#d8576b\"],[0.6666666666666666,\"#ed7953\"],[0.7777777777777778,\"#fb9f3a\"],[0.8888888888888888,\"#fdca26\"],[1.0,\"#f0f921\"]]}],\"heatmap\":[{\"type\":\"heatmap\",\"colorbar\":{\"outlinewidth\":0,\"ticks\":\"\"},\"colorscale\":[[0.0,\"#0d0887\"],[0.1111111111111111,\"#46039f\"],[0.2222222222222222,\"#7201a8\"],[0.3333333333333333,\"#9c179e\"],[0.4444444444444444,\"#bd3786\"],[0.5555555555555556,\"#d8576b\"],[0.6666666666666666,\"#ed7953\"],[0.7777777777777778,\"#fb9f3a\"],[0.8888888888888888,\"#fdca26\"],[1.0,\"#f0f921\"]]}],\"heatmapgl\":[{\"type\":\"heatmapgl\",\"colorbar\":{\"outlinewidth\":0,\"ticks\":\"\"},\"colorscale\":[[0.0,\"#0d0887\"],[0.1111111111111111,\"#46039f\"],[0.2222222222222222,\"#7201a8\"],[0.3333333333333333,\"#9c179e\"],[0.4444444444444444,\"#bd3786\"],[0.5555555555555556,\"#d8576b\"],[0.6666666666666666,\"#ed7953\"],[0.7777777777777778,\"#fb9f3a\"],[0.8888888888888888,\"#fdca26\"],[1.0,\"#f0f921\"]]}],\"contourcarpet\":[{\"type\":\"contourcarpet\",\"colorbar\":{\"outlinewidth\":0,\"ticks\":\"\"}}],\"contour\":[{\"type\":\"contour\",\"colorbar\":{\"outlinewidth\":0,\"ticks\":\"\"},\"colorscale\":[[0.0,\"#0d0887\"],[0.1111111111111111,\"#46039f\"],[0.2222222222222222,\"#7201a8\"],[0.3333333333333333,\"#9c179e\"],[0.4444444444444444,\"#bd3786\"],[0.5555555555555556,\"#d8576b\"],[0.6666666666666666,\"#ed7953\"],[0.7777777777777778,\"#fb9f3a\"],[0.8888888888888888,\"#fdca26\"],[1.0,\"#f0f921\"]]}],\"surface\":[{\"type\":\"surface\",\"colorbar\":{\"outlinewidth\":0,\"ticks\":\"\"},\"colorscale\":[[0.0,\"#0d0887\"],[0.1111111111111111,\"#46039f\"],[0.2222222222222222,\"#7201a8\"],[0.3333333333333333,\"#9c179e\"],[0.4444444444444444,\"#bd3786\"],[0.5555555555555556,\"#d8576b\"],[0.6666666666666666,\"#ed7953\"],[0.7777777777777778,\"#fb9f3a\"],[0.8888888888888888,\"#fdca26\"],[1.0,\"#f0f921\"]]}],\"mesh3d\":[{\"type\":\"mesh3d\",\"colorbar\":{\"outlinewidth\":0,\"ticks\":\"\"}}],\"scatter\":[{\"fillpattern\":{\"fillmode\":\"overlay\",\"size\":10,\"solidity\":0.2},\"type\":\"scatter\"}],\"parcoords\":[{\"type\":\"parcoords\",\"line\":{\"colorbar\":{\"outlinewidth\":0,\"ticks\":\"\"}}}],\"scatterpolargl\":[{\"type\":\"scatterpolargl\",\"marker\":{\"colorbar\":{\"outlinewidth\":0,\"ticks\":\"\"}}}],\"bar\":[{\"error_x\":{\"color\":\"#2a3f5f\"},\"error_y\":{\"color\":\"#2a3f5f\"},\"marker\":{\"line\":{\"color\":\"#E5ECF6\",\"width\":0.5},\"pattern\":{\"fillmode\":\"overlay\",\"size\":10,\"solidity\":0.2}},\"type\":\"bar\"}],\"scattergeo\":[{\"type\":\"scattergeo\",\"marker\":{\"colorbar\":{\"outlinewidth\":0,\"ticks\":\"\"}}}],\"scatterpolar\":[{\"type\":\"scatterpolar\",\"marker\":{\"colorbar\":{\"outlinewidth\":0,\"ticks\":\"\"}}}],\"histogram\":[{\"marker\":{\"pattern\":{\"fillmode\":\"overlay\",\"size\":10,\"solidity\":0.2}},\"type\":\"histogram\"}],\"scattergl\":[{\"type\":\"scattergl\",\"marker\":{\"colorbar\":{\"outlinewidth\":0,\"ticks\":\"\"}}}],\"scatter3d\":[{\"type\":\"scatter3d\",\"line\":{\"colorbar\":{\"outlinewidth\":0,\"ticks\":\"\"}},\"marker\":{\"colorbar\":{\"outlinewidth\":0,\"ticks\":\"\"}}}],\"scattermapbox\":[{\"type\":\"scattermapbox\",\"marker\":{\"colorbar\":{\"outlinewidth\":0,\"ticks\":\"\"}}}],\"scatterternary\":[{\"type\":\"scatterternary\",\"marker\":{\"colorbar\":{\"outlinewidth\":0,\"ticks\":\"\"}}}],\"scattercarpet\":[{\"type\":\"scattercarpet\",\"marker\":{\"colorbar\":{\"outlinewidth\":0,\"ticks\":\"\"}}}],\"carpet\":[{\"aaxis\":{\"endlinecolor\":\"#2a3f5f\",\"gridcolor\":\"white\",\"linecolor\":\"white\",\"minorgridcolor\":\"white\",\"startlinecolor\":\"#2a3f5f\"},\"baxis\":{\"endlinecolor\":\"#2a3f5f\",\"gridcolor\":\"white\",\"linecolor\":\"white\",\"minorgridcolor\":\"white\",\"startlinecolor\":\"#2a3f5f\"},\"type\":\"carpet\"}],\"table\":[{\"cells\":{\"fill\":{\"color\":\"#EBF0F8\"},\"line\":{\"color\":\"white\"}},\"header\":{\"fill\":{\"color\":\"#C8D4E3\"},\"line\":{\"color\":\"white\"}},\"type\":\"table\"}],\"barpolar\":[{\"marker\":{\"line\":{\"color\":\"#E5ECF6\",\"width\":0.5},\"pattern\":{\"fillmode\":\"overlay\",\"size\":10,\"solidity\":0.2}},\"type\":\"barpolar\"}],\"pie\":[{\"automargin\":true,\"type\":\"pie\"}]},\"layout\":{\"autotypenumbers\":\"strict\",\"colorway\":[\"#636efa\",\"#EF553B\",\"#00cc96\",\"#ab63fa\",\"#FFA15A\",\"#19d3f3\",\"#FF6692\",\"#B6E880\",\"#FF97FF\",\"#FECB52\"],\"font\":{\"color\":\"#2a3f5f\"},\"hovermode\":\"closest\",\"hoverlabel\":{\"align\":\"left\"},\"paper_bgcolor\":\"white\",\"plot_bgcolor\":\"#E5ECF6\",\"polar\":{\"bgcolor\":\"#E5ECF6\",\"angularaxis\":{\"gridcolor\":\"white\",\"linecolor\":\"white\",\"ticks\":\"\"},\"radialaxis\":{\"gridcolor\":\"white\",\"linecolor\":\"white\",\"ticks\":\"\"}},\"ternary\":{\"bgcolor\":\"#E5ECF6\",\"aaxis\":{\"gridcolor\":\"white\",\"linecolor\":\"white\",\"ticks\":\"\"},\"baxis\":{\"gridcolor\":\"white\",\"linecolor\":\"white\",\"ticks\":\"\"},\"caxis\":{\"gridcolor\":\"white\",\"linecolor\":\"white\",\"ticks\":\"\"}},\"coloraxis\":{\"colorbar\":{\"outlinewidth\":0,\"ticks\":\"\"}},\"colorscale\":{\"sequential\":[[0.0,\"#0d0887\"],[0.1111111111111111,\"#46039f\"],[0.2222222222222222,\"#7201a8\"],[0.3333333333333333,\"#9c179e\"],[0.4444444444444444,\"#bd3786\"],[0.5555555555555556,\"#d8576b\"],[0.6666666666666666,\"#ed7953\"],[0.7777777777777778,\"#fb9f3a\"],[0.8888888888888888,\"#fdca26\"],[1.0,\"#f0f921\"]],\"sequentialminus\":[[0.0,\"#0d0887\"],[0.1111111111111111,\"#46039f\"],[0.2222222222222222,\"#7201a8\"],[0.3333333333333333,\"#9c179e\"],[0.4444444444444444,\"#bd3786\"],[0.5555555555555556,\"#d8576b\"],[0.6666666666666666,\"#ed7953\"],[0.7777777777777778,\"#fb9f3a\"],[0.8888888888888888,\"#fdca26\"],[1.0,\"#f0f921\"]],\"diverging\":[[0,\"#8e0152\"],[0.1,\"#c51b7d\"],[0.2,\"#de77ae\"],[0.3,\"#f1b6da\"],[0.4,\"#fde0ef\"],[0.5,\"#f7f7f7\"],[0.6,\"#e6f5d0\"],[0.7,\"#b8e186\"],[0.8,\"#7fbc41\"],[0.9,\"#4d9221\"],[1,\"#276419\"]]},\"xaxis\":{\"gridcolor\":\"white\",\"linecolor\":\"white\",\"ticks\":\"\",\"title\":{\"standoff\":15},\"zerolinecolor\":\"white\",\"automargin\":true,\"zerolinewidth\":2},\"yaxis\":{\"gridcolor\":\"white\",\"linecolor\":\"white\",\"ticks\":\"\",\"title\":{\"standoff\":15},\"zerolinecolor\":\"white\",\"automargin\":true,\"zerolinewidth\":2},\"scene\":{\"xaxis\":{\"backgroundcolor\":\"#E5ECF6\",\"gridcolor\":\"white\",\"linecolor\":\"white\",\"showbackground\":true,\"ticks\":\"\",\"zerolinecolor\":\"white\",\"gridwidth\":2},\"yaxis\":{\"backgroundcolor\":\"#E5ECF6\",\"gridcolor\":\"white\",\"linecolor\":\"white\",\"showbackground\":true,\"ticks\":\"\",\"zerolinecolor\":\"white\",\"gridwidth\":2},\"zaxis\":{\"backgroundcolor\":\"#E5ECF6\",\"gridcolor\":\"white\",\"linecolor\":\"white\",\"showbackground\":true,\"ticks\":\"\",\"zerolinecolor\":\"white\",\"gridwidth\":2}},\"shapedefaults\":{\"line\":{\"color\":\"#2a3f5f\"}},\"annotationdefaults\":{\"arrowcolor\":\"#2a3f5f\",\"arrowhead\":0,\"arrowwidth\":1},\"geo\":{\"bgcolor\":\"white\",\"landcolor\":\"#E5ECF6\",\"subunitcolor\":\"white\",\"showland\":true,\"showlakes\":true,\"lakecolor\":\"white\"},\"title\":{\"x\":0.05},\"mapbox\":{\"style\":\"light\"}}},\"xaxis\":{\"anchor\":\"y\",\"domain\":[0.0,1.0],\"title\":{\"text\":\"Date\"}},\"yaxis\":{\"anchor\":\"x\",\"domain\":[0.0,1.0],\"title\":{\"text\":\"Close\"}},\"legend\":{\"tracegroupgap\":0},\"title\":{\"text\":\"Apple Stoc Price Prediction\"}},                        {\"responsive\": true}                    ).then(function(){\n",
       "                            \n",
       "var gd = document.getElementById('ef59e9a5-e698-4662-8f24-35a32cc7b9de');\n",
       "var x = new MutationObserver(function (mutations, observer) {{\n",
       "        var display = window.getComputedStyle(gd).display;\n",
       "        if (!display || display === 'none') {{\n",
       "            console.log([gd, 'removed!']);\n",
       "            Plotly.purge(gd);\n",
       "            observer.disconnect();\n",
       "        }}\n",
       "}});\n",
       "\n",
       "// Listen for the removal of the full notebook cells\n",
       "var notebookContainer = gd.closest('#notebook-container');\n",
       "if (notebookContainer) {{\n",
       "    x.observe(notebookContainer, {childList: true});\n",
       "}}\n",
       "\n",
       "// Listen for the clearing of the current output cell\n",
       "var outputEl = gd.closest('.output');\n",
       "if (outputEl) {{\n",
       "    x.observe(outputEl, {childList: true});\n",
       "}}\n",
       "\n",
       "                        })                };                            </script>        </div>\n",
       "</body>\n",
       "</html>"
      ]
     },
     "metadata": {},
     "output_type": "display_data"
    }
   ],
   "source": [
    "fig = px.line(train, x = train.index, y = \"Close\", title = \"Apple Stoc Price Prediction\")\n",
    "fig.add_scatter(x = pred_data.index, y = a, name = \"Actual Data\")\n",
    "fig.add_scatter(x = pred_data.index, y = b, name = \"Prediction Data\")\n",
    "fig.show()"
   ]
  },
  {
   "cell_type": "markdown",
   "metadata": {
    "id": "0BAao_xklp-R"
   },
   "source": [
    "* **Next 30 days predictions**"
   ]
  },
  {
   "cell_type": "code",
   "execution_count": 74,
   "metadata": {
    "colab": {
     "base_uri": "https://localhost:8080/"
    },
    "id": "zXMNnHMoklGC",
    "outputId": "df389030-e295-4399-d78d-a95e12954d04"
   },
   "outputs": [
    {
     "name": "stdout",
     "output_type": "stream",
     "text": [
      "\u001b[1m1/1\u001b[0m \u001b[32m━━━━━━━━━━━━━━━━━━━━\u001b[0m\u001b[37m\u001b[0m \u001b[1m0s\u001b[0m 27ms/step\n",
      "\u001b[1m1/1\u001b[0m \u001b[32m━━━━━━━━━━━━━━━━━━━━\u001b[0m\u001b[37m\u001b[0m \u001b[1m0s\u001b[0m 19ms/step\n",
      "\u001b[1m1/1\u001b[0m \u001b[32m━━━━━━━━━━━━━━━━━━━━\u001b[0m\u001b[37m\u001b[0m \u001b[1m0s\u001b[0m 17ms/step\n",
      "\u001b[1m1/1\u001b[0m \u001b[32m━━━━━━━━━━━━━━━━━━━━\u001b[0m\u001b[37m\u001b[0m \u001b[1m0s\u001b[0m 17ms/step\n",
      "\u001b[1m1/1\u001b[0m \u001b[32m━━━━━━━━━━━━━━━━━━━━\u001b[0m\u001b[37m\u001b[0m \u001b[1m0s\u001b[0m 18ms/step\n",
      "\u001b[1m1/1\u001b[0m \u001b[32m━━━━━━━━━━━━━━━━━━━━\u001b[0m\u001b[37m\u001b[0m \u001b[1m0s\u001b[0m 17ms/step\n",
      "\u001b[1m1/1\u001b[0m \u001b[32m━━━━━━━━━━━━━━━━━━━━\u001b[0m\u001b[37m\u001b[0m \u001b[1m0s\u001b[0m 19ms/step\n",
      "\u001b[1m1/1\u001b[0m \u001b[32m━━━━━━━━━━━━━━━━━━━━\u001b[0m\u001b[37m\u001b[0m \u001b[1m0s\u001b[0m 17ms/step\n",
      "\u001b[1m1/1\u001b[0m \u001b[32m━━━━━━━━━━━━━━━━━━━━\u001b[0m\u001b[37m\u001b[0m \u001b[1m0s\u001b[0m 17ms/step\n",
      "\u001b[1m1/1\u001b[0m \u001b[32m━━━━━━━━━━━━━━━━━━━━\u001b[0m\u001b[37m\u001b[0m \u001b[1m0s\u001b[0m 18ms/step\n",
      "\u001b[1m1/1\u001b[0m \u001b[32m━━━━━━━━━━━━━━━━━━━━\u001b[0m\u001b[37m\u001b[0m \u001b[1m0s\u001b[0m 22ms/step\n",
      "\u001b[1m1/1\u001b[0m \u001b[32m━━━━━━━━━━━━━━━━━━━━\u001b[0m\u001b[37m\u001b[0m \u001b[1m0s\u001b[0m 20ms/step\n",
      "\u001b[1m1/1\u001b[0m \u001b[32m━━━━━━━━━━━━━━━━━━━━\u001b[0m\u001b[37m\u001b[0m \u001b[1m0s\u001b[0m 17ms/step\n",
      "\u001b[1m1/1\u001b[0m \u001b[32m━━━━━━━━━━━━━━━━━━━━\u001b[0m\u001b[37m\u001b[0m \u001b[1m0s\u001b[0m 21ms/step\n",
      "\u001b[1m1/1\u001b[0m \u001b[32m━━━━━━━━━━━━━━━━━━━━\u001b[0m\u001b[37m\u001b[0m \u001b[1m0s\u001b[0m 25ms/step\n",
      "\u001b[1m1/1\u001b[0m \u001b[32m━━━━━━━━━━━━━━━━━━━━\u001b[0m\u001b[37m\u001b[0m \u001b[1m0s\u001b[0m 19ms/step\n",
      "\u001b[1m1/1\u001b[0m \u001b[32m━━━━━━━━━━━━━━━━━━━━\u001b[0m\u001b[37m\u001b[0m \u001b[1m0s\u001b[0m 19ms/step\n",
      "\u001b[1m1/1\u001b[0m \u001b[32m━━━━━━━━━━━━━━━━━━━━\u001b[0m\u001b[37m\u001b[0m \u001b[1m0s\u001b[0m 18ms/step\n",
      "\u001b[1m1/1\u001b[0m \u001b[32m━━━━━━━━━━━━━━━━━━━━\u001b[0m\u001b[37m\u001b[0m \u001b[1m0s\u001b[0m 19ms/step\n",
      "\u001b[1m1/1\u001b[0m \u001b[32m━━━━━━━━━━━━━━━━━━━━\u001b[0m\u001b[37m\u001b[0m \u001b[1m0s\u001b[0m 18ms/step\n",
      "\u001b[1m1/1\u001b[0m \u001b[32m━━━━━━━━━━━━━━━━━━━━\u001b[0m\u001b[37m\u001b[0m \u001b[1m0s\u001b[0m 16ms/step\n",
      "\u001b[1m1/1\u001b[0m \u001b[32m━━━━━━━━━━━━━━━━━━━━\u001b[0m\u001b[37m\u001b[0m \u001b[1m0s\u001b[0m 28ms/step\n",
      "\u001b[1m1/1\u001b[0m \u001b[32m━━━━━━━━━━━━━━━━━━━━\u001b[0m\u001b[37m\u001b[0m \u001b[1m0s\u001b[0m 18ms/step\n",
      "\u001b[1m1/1\u001b[0m \u001b[32m━━━━━━━━━━━━━━━━━━━━\u001b[0m\u001b[37m\u001b[0m \u001b[1m0s\u001b[0m 18ms/step\n",
      "\u001b[1m1/1\u001b[0m \u001b[32m━━━━━━━━━━━━━━━━━━━━\u001b[0m\u001b[37m\u001b[0m \u001b[1m0s\u001b[0m 18ms/step\n",
      "\u001b[1m1/1\u001b[0m \u001b[32m━━━━━━━━━━━━━━━━━━━━\u001b[0m\u001b[37m\u001b[0m \u001b[1m0s\u001b[0m 17ms/step\n",
      "\u001b[1m1/1\u001b[0m \u001b[32m━━━━━━━━━━━━━━━━━━━━\u001b[0m\u001b[37m\u001b[0m \u001b[1m0s\u001b[0m 18ms/step\n",
      "\u001b[1m1/1\u001b[0m \u001b[32m━━━━━━━━━━━━━━━━━━━━\u001b[0m\u001b[37m\u001b[0m \u001b[1m0s\u001b[0m 17ms/step\n",
      "\u001b[1m1/1\u001b[0m \u001b[32m━━━━━━━━━━━━━━━━━━━━\u001b[0m\u001b[37m\u001b[0m \u001b[1m0s\u001b[0m 17ms/step\n",
      "\u001b[1m1/1\u001b[0m \u001b[32m━━━━━━━━━━━━━━━━━━━━\u001b[0m\u001b[37m\u001b[0m \u001b[1m0s\u001b[0m 17ms/step\n"
     ]
    },
    {
     "data": {
      "text/plain": [
       "array([[234.89766],\n",
       "       [235.9046 ],\n",
       "       [236.7881 ],\n",
       "       [237.59622],\n",
       "       [238.35452],\n",
       "       [239.0767 ],\n",
       "       [239.77031],\n",
       "       [240.43991],\n",
       "       [241.08841],\n",
       "       [241.7178 ],\n",
       "       [242.32965],\n",
       "       [242.92516],\n",
       "       [243.50526],\n",
       "       [244.07083],\n",
       "       [244.62253],\n",
       "       [245.16098],\n",
       "       [245.68661],\n",
       "       [246.19984],\n",
       "       [246.70111],\n",
       "       [247.19067],\n",
       "       [247.66881],\n",
       "       [248.13574],\n",
       "       [248.59174],\n",
       "       [249.03697],\n",
       "       [249.47166],\n",
       "       [249.89597],\n",
       "       [250.3101 ],\n",
       "       [250.71419],\n",
       "       [251.10846],\n",
       "       [251.49304]], dtype=float32)"
      ]
     },
     "execution_count": 74,
     "metadata": {},
     "output_type": "execute_result"
    }
   ],
   "source": [
    "last_60_days = df_close[-60:].values\n",
    "last_60_days_scaled = scaler.transform(last_60_days)\n",
    "\n",
    "future_predictions = []\n",
    "\n",
    "for _ in range(30):\n",
    "    x_input = np.array([last_60_days_scaled])\n",
    "    x_input = np.reshape(x_input, (x_input.shape[0], x_input.shape[1], 1))\n",
    "    prediction = model.predict(x_input)\n",
    "    future_predictions.append(prediction[0, 0])  # Append the first element of the prediction prediction[0]: Selects the first (and only) batch → [0.5678]   prediction[0, 0]: Extracts the scalar value → 0.5678\n",
    "    last_60_days_scaled = np.append(last_60_days_scaled[1:], prediction)\n",
    "\n",
    "future_predictions = scaler.inverse_transform(np.array(future_predictions).reshape(-1, 1))  #Makes predictions interpretable and directly comparable to historical data.\n",
    "\n",
    "\n",
    "future_predictions"
   ]
  },
  {
   "cell_type": "code",
   "execution_count": 76,
   "metadata": {
    "colab": {
     "base_uri": "https://localhost:8080/"
    },
    "id": "fWKkwYm-lNpr",
    "outputId": "9f88c43d-b4ba-48bc-9929-5ffee0c03363"
   },
   "outputs": [
    {
     "name": "stdout",
     "output_type": "stream",
     "text": [
      "\u001b[1m1/1\u001b[0m \u001b[32m━━━━━━━━━━━━━━━━━━━━\u001b[0m\u001b[37m\u001b[0m \u001b[1m0s\u001b[0m 32ms/step\n",
      "\u001b[1m1/1\u001b[0m \u001b[32m━━━━━━━━━━━━━━━━━━━━\u001b[0m\u001b[37m\u001b[0m \u001b[1m0s\u001b[0m 28ms/step\n",
      "\u001b[1m1/1\u001b[0m \u001b[32m━━━━━━━━━━━━━━━━━━━━\u001b[0m\u001b[37m\u001b[0m \u001b[1m0s\u001b[0m 28ms/step\n",
      "\u001b[1m1/1\u001b[0m \u001b[32m━━━━━━━━━━━━━━━━━━━━\u001b[0m\u001b[37m\u001b[0m \u001b[1m0s\u001b[0m 27ms/step\n",
      "\u001b[1m1/1\u001b[0m \u001b[32m━━━━━━━━━━━━━━━━━━━━\u001b[0m\u001b[37m\u001b[0m \u001b[1m0s\u001b[0m 30ms/step\n",
      "\u001b[1m1/1\u001b[0m \u001b[32m━━━━━━━━━━━━━━━━━━━━\u001b[0m\u001b[37m\u001b[0m \u001b[1m0s\u001b[0m 28ms/step\n",
      "\u001b[1m1/1\u001b[0m \u001b[32m━━━━━━━━━━━━━━━━━━━━\u001b[0m\u001b[37m\u001b[0m \u001b[1m0s\u001b[0m 31ms/step\n",
      "\u001b[1m1/1\u001b[0m \u001b[32m━━━━━━━━━━━━━━━━━━━━\u001b[0m\u001b[37m\u001b[0m \u001b[1m0s\u001b[0m 31ms/step\n",
      "\u001b[1m1/1\u001b[0m \u001b[32m━━━━━━━━━━━━━━━━━━━━\u001b[0m\u001b[37m\u001b[0m \u001b[1m0s\u001b[0m 30ms/step\n",
      "\u001b[1m1/1\u001b[0m \u001b[32m━━━━━━━━━━━━━━━━━━━━\u001b[0m\u001b[37m\u001b[0m \u001b[1m0s\u001b[0m 54ms/step\n",
      "\u001b[1m1/1\u001b[0m \u001b[32m━━━━━━━━━━━━━━━━━━━━\u001b[0m\u001b[37m\u001b[0m \u001b[1m0s\u001b[0m 18ms/step\n",
      "\u001b[1m1/1\u001b[0m \u001b[32m━━━━━━━━━━━━━━━━━━━━\u001b[0m\u001b[37m\u001b[0m \u001b[1m0s\u001b[0m 18ms/step\n",
      "\u001b[1m1/1\u001b[0m \u001b[32m━━━━━━━━━━━━━━━━━━━━\u001b[0m\u001b[37m\u001b[0m \u001b[1m0s\u001b[0m 17ms/step\n",
      "\u001b[1m1/1\u001b[0m \u001b[32m━━━━━━━━━━━━━━━━━━━━\u001b[0m\u001b[37m\u001b[0m \u001b[1m0s\u001b[0m 18ms/step\n",
      "\u001b[1m1/1\u001b[0m \u001b[32m━━━━━━━━━━━━━━━━━━━━\u001b[0m\u001b[37m\u001b[0m \u001b[1m0s\u001b[0m 17ms/step\n",
      "\u001b[1m1/1\u001b[0m \u001b[32m━━━━━━━━━━━━━━━━━━━━\u001b[0m\u001b[37m\u001b[0m \u001b[1m0s\u001b[0m 17ms/step\n",
      "\u001b[1m1/1\u001b[0m \u001b[32m━━━━━━━━━━━━━━━━━━━━\u001b[0m\u001b[37m\u001b[0m \u001b[1m0s\u001b[0m 17ms/step\n",
      "\u001b[1m1/1\u001b[0m \u001b[32m━━━━━━━━━━━━━━━━━━━━\u001b[0m\u001b[37m\u001b[0m \u001b[1m0s\u001b[0m 17ms/step\n",
      "\u001b[1m1/1\u001b[0m \u001b[32m━━━━━━━━━━━━━━━━━━━━\u001b[0m\u001b[37m\u001b[0m \u001b[1m0s\u001b[0m 17ms/step\n",
      "\u001b[1m1/1\u001b[0m \u001b[32m━━━━━━━━━━━━━━━━━━━━\u001b[0m\u001b[37m\u001b[0m \u001b[1m0s\u001b[0m 17ms/step\n",
      "\u001b[1m1/1\u001b[0m \u001b[32m━━━━━━━━━━━━━━━━━━━━\u001b[0m\u001b[37m\u001b[0m \u001b[1m0s\u001b[0m 17ms/step\n",
      "\u001b[1m1/1\u001b[0m \u001b[32m━━━━━━━━━━━━━━━━━━━━\u001b[0m\u001b[37m\u001b[0m \u001b[1m0s\u001b[0m 22ms/step\n",
      "\u001b[1m1/1\u001b[0m \u001b[32m━━━━━━━━━━━━━━━━━━━━\u001b[0m\u001b[37m\u001b[0m \u001b[1m0s\u001b[0m 18ms/step\n",
      "\u001b[1m1/1\u001b[0m \u001b[32m━━━━━━━━━━━━━━━━━━━━\u001b[0m\u001b[37m\u001b[0m \u001b[1m0s\u001b[0m 18ms/step\n",
      "\u001b[1m1/1\u001b[0m \u001b[32m━━━━━━━━━━━━━━━━━━━━\u001b[0m\u001b[37m\u001b[0m \u001b[1m0s\u001b[0m 20ms/step\n",
      "\u001b[1m1/1\u001b[0m \u001b[32m━━━━━━━━━━━━━━━━━━━━\u001b[0m\u001b[37m\u001b[0m \u001b[1m0s\u001b[0m 20ms/step\n",
      "\u001b[1m1/1\u001b[0m \u001b[32m━━━━━━━━━━━━━━━━━━━━\u001b[0m\u001b[37m\u001b[0m \u001b[1m0s\u001b[0m 23ms/step\n",
      "\u001b[1m1/1\u001b[0m \u001b[32m━━━━━━━━━━━━━━━━━━━━\u001b[0m\u001b[37m\u001b[0m \u001b[1m0s\u001b[0m 37ms/step\n",
      "\u001b[1m1/1\u001b[0m \u001b[32m━━━━━━━━━━━━━━━━━━━━\u001b[0m\u001b[37m\u001b[0m \u001b[1m0s\u001b[0m 21ms/step\n",
      "\u001b[1m1/1\u001b[0m \u001b[32m━━━━━━━━━━━━━━━━━━━━\u001b[0m\u001b[37m\u001b[0m \u001b[1m0s\u001b[0m 18ms/step\n"
     ]
    },
    {
     "data": {
      "text/plain": [
       "array([[234.89766],\n",
       "       [235.9046 ],\n",
       "       [236.7881 ],\n",
       "       [237.59622],\n",
       "       [238.35452],\n",
       "       [239.0767 ],\n",
       "       [239.77031],\n",
       "       [240.43991],\n",
       "       [241.08841],\n",
       "       [241.7178 ],\n",
       "       [242.32965],\n",
       "       [242.92516],\n",
       "       [243.50526],\n",
       "       [244.07083],\n",
       "       [244.62253],\n",
       "       [245.16098],\n",
       "       [245.68661],\n",
       "       [246.19984],\n",
       "       [246.70111],\n",
       "       [247.19067],\n",
       "       [247.66881],\n",
       "       [248.13574],\n",
       "       [248.59174],\n",
       "       [249.03697],\n",
       "       [249.47166],\n",
       "       [249.89597],\n",
       "       [250.3101 ],\n",
       "       [250.71419],\n",
       "       [251.10846],\n",
       "       [251.49304]], dtype=float32)"
      ]
     },
     "execution_count": 76,
     "metadata": {},
     "output_type": "execute_result"
    }
   ],
   "source": [
    "# Extract the last 60 days of closing prices from the dataset\n",
    "last_60_days = df_close[-60:].values\n",
    "\n",
    "# Scale the last 60 days of data using a pre-fitted scaler (e.g., MinMaxScaler)\n",
    "last_60_days_scaled = scaler.transform(last_60_days)\n",
    "\n",
    "# Initialize an empty list to store the predicted values for the future\n",
    "future_predictions = []\n",
    "\n",
    "# Generate predictions for the next 30 days\n",
    "for _ in range(30):\n",
    "    # Create an input array from the last 60 days of scaled data\n",
    "    x_input = np.array([last_60_days_scaled])\n",
    "\n",
    "    # Reshape the input to match the model's expected input shape (samples, timesteps, features)\n",
    "    x_input = np.reshape(x_input, (x_input.shape[0], x_input.shape[1], 1))\n",
    "\n",
    "    # Use the model to predict the next value\n",
    "    prediction = model.predict(x_input)\n",
    "\n",
    "    # Append the predicted value to the list of future predictions\n",
    "    future_predictions.append(prediction[0, 0])\n",
    "\n",
    "    # Update the scaled input data by removing the oldest value and adding the new prediction\n",
    "    last_60_days_scaled = np.append(last_60_days_scaled[1:], prediction)\n",
    "\n",
    "# Transform the predicted values back to the original scale (inverse scaling)\n",
    "future_predictions = scaler.inverse_transform(np.array(future_predictions).reshape(-1, 1))\n",
    "\n",
    "# Output the list of future predictions\n",
    "future_predictions\n"
   ]
  },
  {
   "cell_type": "code",
   "execution_count": null,
   "metadata": {
    "id": "R9uqyWFsAn1u"
   },
   "outputs": [],
   "source": []
  }
 ],
 "metadata": {
  "accelerator": "GPU",
  "colab": {
   "gpuType": "T4",
   "provenance": []
  },
  "kernelspec": {
   "display_name": "Python 3 (ipykernel)",
   "language": "python",
   "name": "python3"
  },
  "language_info": {
   "codemirror_mode": {
    "name": "ipython",
    "version": 3
   },
   "file_extension": ".py",
   "mimetype": "text/x-python",
   "name": "python",
   "nbconvert_exporter": "python",
   "pygments_lexer": "ipython3",
   "version": "3.11.7"
  }
 },
 "nbformat": 4,
 "nbformat_minor": 4
}
